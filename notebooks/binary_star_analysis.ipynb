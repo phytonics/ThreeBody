{
 "cells": [
  {
   "cell_type": "markdown",
   "metadata": {},
   "source": [
    "# The Analysis of several Binary Star Configurations to find the B-Spline Signal"
   ]
  },
  {
   "cell_type": "code",
   "execution_count": 1,
   "metadata": {},
   "outputs": [],
   "source": [
    "%load_ext autoreload\n",
    "%autoreload 2\n",
    "# to ensure kernel resets when files change around it"
   ]
  },
  {
   "cell_type": "code",
   "execution_count": 2,
   "metadata": {},
   "outputs": [
    {
     "name": "stderr",
     "output_type": "stream",
     "text": [
      "c:\\users\\prannaya\\appdata\\local\\programs\\python\\python37\\lib\\site-packages\\statsmodels\\tools\\_testing.py:19: FutureWarning: pandas.util.testing is deprecated. Use the functions in the public API at pandas.testing instead.\n",
      "  import pandas.util.testing as tm\n"
     ]
    },
    {
     "name": "stdout",
     "output_type": "stream",
     "text": [
      "C:\\Users\\Prannaya\\ThreeBody\\notebooks\n",
      "C:\\Users\\Prannaya\\ThreeBody\n"
     ]
    }
   ],
   "source": [
    "import numpy as np # main library for numeric calculations\n",
    "import pandas as pd # main library for data analysis\n",
    "import matplotlib.pyplot as plt # main library for data plotting\n",
    "import seaborn as sns # Another library for data plotting with more functions\n",
    "sns.set()\n",
    "\n",
    "import scipy as scp # STEM software\n",
    "from scipy import signal\n",
    "import scipy.interpolate as interpolate\n",
    "\n",
    "from glob import glob # check files\n",
    "from IPython.display import display, Markdown\n",
    "\n",
    "import statsmodels.api as sm\n",
    "import statsmodels.formula.api as smf\n",
    "import statsmodels.tsa.api as smt\n",
    "from statsmodels.tsa.api import ExponentialSmoothing, SimpleExpSmoothing, Holt\n",
    "\n",
    "import lightkurve as lk\n",
    "import astropy\n",
    "\n",
    "import sys, os\n",
    "\n",
    "file_path = os.getcwd()\n",
    "print(file_path)\n",
    "parent_dir = \"\\\\\".join(file_path.split(\"\\\\\")[:-1])\n",
    "print(parent_dir)\n",
    "\n",
    "sys.path.append(parent_dir)\n",
    "\n",
    "from kepler import *\n",
    "\n",
    "\"\"\"\n",
    "pd.set_option('display.max_rows', None)\n",
    "pd.set_option('display.max_columns', None)\n",
    "pd.set_option('display.width', None)\n",
    "pd.set_option('display.max_colwidth', -1)\"\"\"\n",
    "\n",
    "import warnings\n",
    "warnings.filterwarnings('ignore') # literally to ignore all the warnings that don't matter\n",
    "\n",
    "\n",
    "def printf(*args, sep=\" \", end=\"\\n\"):\n",
    "    string = sep.join([str(i) for i in args])+end\n",
    "    display(Markdown(string))\n"
   ]
  },
  {
   "cell_type": "code",
   "execution_count": 3,
   "metadata": {},
   "outputs": [
    {
     "name": "stdout",
     "output_type": "stream",
     "text": [
      "Requirement already satisfied: ipympl in c:\\users\\prannaya\\appdata\\local\\programs\\python\\python37\\lib\\site-packages (0.5.8)\n",
      "Requirement already satisfied: matplotlib>=2.0.0 in c:\\users\\prannaya\\appdata\\roaming\\python\\python37\\site-packages (from ipympl) (3.4.2)\n",
      "Requirement already satisfied: ipywidgets>=7.5.0 in c:\\users\\prannaya\\appdata\\local\\programs\\python\\python37\\lib\\site-packages (from ipympl) (7.5.1)\n",
      "Requirement already satisfied: ipykernel>=4.7 in c:\\users\\prannaya\\appdata\\local\\programs\\python\\python37\\lib\\site-packages (from ipympl) (5.3.0)\n",
      "Requirement already satisfied: traitlets>=4.1.0 in c:\\users\\prannaya\\appdata\\local\\programs\\python\\python37\\lib\\site-packages (from ipykernel>=4.7->ipympl) (4.3.2)\n",
      "Requirement already satisfied: ipython>=5.0.0 in c:\\users\\prannaya\\appdata\\local\\programs\\python\\python37\\lib\\site-packages (from ipykernel>=4.7->ipympl) (7.15.0)\n",
      "Requirement already satisfied: tornado>=4.2 in c:\\users\\prannaya\\appdata\\roaming\\python\\python37\\site-packages (from ipykernel>=4.7->ipympl) (6.1)\n",
      "Requirement already satisfied: jupyter-client in c:\\users\\prannaya\\appdata\\local\\programs\\python\\python37\\lib\\site-packages (from ipykernel>=4.7->ipympl) (6.1.3)\n",
      "Requirement already satisfied: colorama in c:\\users\\prannaya\\appdata\\local\\programs\\python\\python37\\lib\\site-packages (from ipython>=5.0.0->ipykernel>=4.7->ipympl) (0.4.3)\n",
      "Requirement already satisfied: pickleshare in c:\\users\\prannaya\\appdata\\local\\programs\\python\\python37\\lib\\site-packages (from ipython>=5.0.0->ipykernel>=4.7->ipympl) (0.7.5)\n",
      "Requirement already satisfied: pygments in c:\\users\\prannaya\\appdata\\local\\programs\\python\\python37\\lib\\site-packages (from ipython>=5.0.0->ipykernel>=4.7->ipympl) (2.6.1)\n",
      "Requirement already satisfied: setuptools>=18.5 in c:\\users\\prannaya\\appdata\\roaming\\python\\python37\\site-packages (from ipython>=5.0.0->ipykernel>=4.7->ipympl) (49.2.0)\n",
      "Requirement already satisfied: backcall in c:\\users\\prannaya\\appdata\\local\\programs\\python\\python37\\lib\\site-packages (from ipython>=5.0.0->ipykernel>=4.7->ipympl) (0.1.0)\n",
      "Requirement already satisfied: jedi>=0.10 in c:\\users\\prannaya\\appdata\\local\\programs\\python\\python37\\lib\\site-packages (from ipython>=5.0.0->ipykernel>=4.7->ipympl) (0.17.0)\n",
      "Requirement already satisfied: prompt-toolkit!=3.0.0,!=3.0.1,<3.1.0,>=2.0.0 in c:\\users\\prannaya\\appdata\\local\\programs\\python\\python37\\lib\\site-packages (from ipython>=5.0.0->ipykernel>=4.7->ipympl) (3.0.19)\n",
      "Requirement already satisfied: decorator in c:\\users\\prannaya\\appdata\\local\\programs\\python\\python37\\lib\\site-packages (from ipython>=5.0.0->ipykernel>=4.7->ipympl) (4.4.2)\n",
      "Requirement already satisfied: widgetsnbextension~=3.5.0 in c:\\users\\prannaya\\appdata\\local\\programs\\python\\python37\\lib\\site-packages (from ipywidgets>=7.5.0->ipympl) (3.5.1)\n",
      "Requirement already satisfied: nbformat>=4.2.0 in c:\\users\\prannaya\\appdata\\local\\programs\\python\\python37\\lib\\site-packages (from ipywidgets>=7.5.0->ipympl) (5.0.6)\n",
      "Requirement already satisfied: parso>=0.7.0 in c:\\users\\prannaya\\appdata\\local\\programs\\python\\python37\\lib\\site-packages (from jedi>=0.10->ipython>=5.0.0->ipykernel>=4.7->ipympl) (0.7.0)\n",
      "Requirement already satisfied: pillow>=6.2.0 in c:\\users\\prannaya\\appdata\\roaming\\python\\python37\\site-packages (from matplotlib>=2.0.0->ipympl) (8.2.0)\n",
      "Requirement already satisfied: kiwisolver>=1.0.1 in c:\\users\\prannaya\\appdata\\local\\programs\\python\\python37\\lib\\site-packages (from matplotlib>=2.0.0->ipympl) (1.2.0)\n",
      "Requirement already satisfied: pyparsing>=2.2.1 in c:\\users\\prannaya\\appdata\\local\\programs\\python\\python37\\lib\\site-packages (from matplotlib>=2.0.0->ipympl) (2.4.7)\n",
      "Requirement already satisfied: numpy>=1.16 in c:\\users\\prannaya\\appdata\\roaming\\python\\python37\\site-packages (from matplotlib>=2.0.0->ipympl) (1.20.3)\n",
      "Requirement already satisfied: python-dateutil>=2.7 in c:\\users\\prannaya\\appdata\\local\\programs\\python\\python37\\lib\\site-packages (from matplotlib>=2.0.0->ipympl) (2.8.1)\n",
      "Requirement already satisfied: cycler>=0.10 in c:\\users\\prannaya\\appdata\\local\\programs\\python\\python37\\lib\\site-packages (from matplotlib>=2.0.0->ipympl) (0.10.0)\n",
      "Requirement already satisfied: six in c:\\users\\prannaya\\appdata\\local\\programs\\python\\python37\\lib\\site-packages (from cycler>=0.10->matplotlib>=2.0.0->ipympl) (1.12.0)\n",
      "Requirement already satisfied: jupyter-core in c:\\users\\prannaya\\appdata\\local\\programs\\python\\python37\\lib\\site-packages (from nbformat>=4.2.0->ipywidgets>=7.5.0->ipympl) (4.6.3)\n",
      "Requirement already satisfied: jsonschema!=2.5.0,>=2.4 in c:\\users\\prannaya\\appdata\\local\\programs\\python\\python37\\lib\\site-packages (from nbformat>=4.2.0->ipywidgets>=7.5.0->ipympl) (3.2.0)\n",
      "Requirement already satisfied: ipython-genutils in c:\\users\\prannaya\\appdata\\local\\programs\\python\\python37\\lib\\site-packages (from nbformat>=4.2.0->ipywidgets>=7.5.0->ipympl) (0.2.0)\n",
      "Requirement already satisfied: attrs>=17.4.0 in c:\\users\\prannaya\\appdata\\local\\programs\\python\\python37\\lib\\site-packages (from jsonschema!=2.5.0,>=2.4->nbformat>=4.2.0->ipywidgets>=7.5.0->ipympl) (19.3.0)\n",
      "Requirement already satisfied: pyrsistent>=0.14.0 in c:\\users\\prannaya\\appdata\\local\\programs\\python\\python37\\lib\\site-packages (from jsonschema!=2.5.0,>=2.4->nbformat>=4.2.0->ipywidgets>=7.5.0->ipympl) (0.16.0)\n",
      "Requirement already satisfied: importlib-metadata in c:\\users\\prannaya\\appdata\\local\\programs\\python\\python37\\lib\\site-packages (from jsonschema!=2.5.0,>=2.4->nbformat>=4.2.0->ipywidgets>=7.5.0->ipympl) (1.7.0)\n",
      "Requirement already satisfied: wcwidth in c:\\users\\prannaya\\appdata\\local\\programs\\python\\python37\\lib\\site-packages (from prompt-toolkit!=3.0.0,!=3.0.1,<3.1.0,>=2.0.0->ipython>=5.0.0->ipykernel>=4.7->ipympl) (0.1.7)\n",
      "Requirement already satisfied: notebook>=4.4.1 in c:\\users\\prannaya\\appdata\\local\\programs\\python\\python37\\lib\\site-packages (from widgetsnbextension~=3.5.0->ipywidgets>=7.5.0->ipympl) (6.0.3)\n",
      "Requirement already satisfied: pyzmq>=17 in c:\\users\\prannaya\\appdata\\local\\programs\\python\\python37\\lib\\site-packages (from notebook>=4.4.1->widgetsnbextension~=3.5.0->ipywidgets>=7.5.0->ipympl) (19.0.1)\n",
      "Requirement already satisfied: terminado>=0.8.1 in c:\\users\\prannaya\\appdata\\roaming\\python\\python37\\site-packages (from notebook>=4.4.1->widgetsnbextension~=3.5.0->ipywidgets>=7.5.0->ipympl) (0.10.1)\n",
      "Requirement already satisfied: jinja2 in c:\\users\\prannaya\\appdata\\local\\programs\\python\\python37\\lib\\site-packages (from notebook>=4.4.1->widgetsnbextension~=3.5.0->ipywidgets>=7.5.0->ipympl) (2.11.2)\n",
      "Requirement already satisfied: nbconvert in c:\\users\\prannaya\\appdata\\local\\programs\\python\\python37\\lib\\site-packages (from notebook>=4.4.1->widgetsnbextension~=3.5.0->ipywidgets>=7.5.0->ipympl) (5.6.1)\n",
      "Requirement already satisfied: prometheus-client in c:\\users\\prannaya\\appdata\\local\\programs\\python\\python37\\lib\\site-packages (from notebook>=4.4.1->widgetsnbextension~=3.5.0->ipywidgets>=7.5.0->ipympl) (0.8.0)\n",
      "Requirement already satisfied: Send2Trash in c:\\users\\prannaya\\appdata\\local\\programs\\python\\python37\\lib\\site-packages (from notebook>=4.4.1->widgetsnbextension~=3.5.0->ipywidgets>=7.5.0->ipympl) (1.5.0)\n",
      "Requirement already satisfied: pywin32>=1.0 in c:\\users\\prannaya\\appdata\\local\\programs\\python\\python37\\lib\\site-packages (from jupyter-core->nbformat>=4.2.0->ipywidgets>=7.5.0->ipympl) (227)\n",
      "Requirement already satisfied: pywinpty>=1.1.0 in c:\\users\\prannaya\\appdata\\roaming\\python\\python37\\site-packages (from terminado>=0.8.1->notebook>=4.4.1->widgetsnbextension~=3.5.0->ipywidgets>=7.5.0->ipympl) (1.1.3)\n",
      "Requirement already satisfied: zipp>=0.5 in c:\\users\\prannaya\\appdata\\local\\programs\\python\\python37\\lib\\site-packages (from importlib-metadata->jsonschema!=2.5.0,>=2.4->nbformat>=4.2.0->ipywidgets>=7.5.0->ipympl) (0.6.0)\n",
      "Requirement already satisfied: more-itertools in c:\\users\\prannaya\\appdata\\local\\programs\\python\\python37\\lib\\site-packages (from zipp>=0.5->importlib-metadata->jsonschema!=2.5.0,>=2.4->nbformat>=4.2.0->ipywidgets>=7.5.0->ipympl) (8.3.0)\n",
      "Requirement already satisfied: MarkupSafe>=0.23 in c:\\users\\prannaya\\appdata\\local\\programs\\python\\python37\\lib\\site-packages (from jinja2->notebook>=4.4.1->widgetsnbextension~=3.5.0->ipywidgets>=7.5.0->ipympl) (1.1.1)\n",
      "Requirement already satisfied: bleach in c:\\users\\prannaya\\appdata\\local\\programs\\python\\python37\\lib\\site-packages (from nbconvert->notebook>=4.4.1->widgetsnbextension~=3.5.0->ipywidgets>=7.5.0->ipympl) (3.1.5)\n",
      "Requirement already satisfied: entrypoints>=0.2.2 in c:\\users\\prannaya\\appdata\\local\\programs\\python\\python37\\lib\\site-packages (from nbconvert->notebook>=4.4.1->widgetsnbextension~=3.5.0->ipywidgets>=7.5.0->ipympl) (0.3)\n",
      "Requirement already satisfied: pandocfilters>=1.4.1 in c:\\users\\prannaya\\appdata\\local\\programs\\python\\python37\\lib\\site-packages (from nbconvert->notebook>=4.4.1->widgetsnbextension~=3.5.0->ipywidgets>=7.5.0->ipympl) (1.4.2)\n",
      "Requirement already satisfied: testpath in c:\\users\\prannaya\\appdata\\local\\programs\\python\\python37\\lib\\site-packages (from nbconvert->notebook>=4.4.1->widgetsnbextension~=3.5.0->ipywidgets>=7.5.0->ipympl) (0.4.2)\n",
      "Requirement already satisfied: defusedxml in c:\\users\\prannaya\\appdata\\local\\programs\\python\\python37\\lib\\site-packages (from nbconvert->notebook>=4.4.1->widgetsnbextension~=3.5.0->ipywidgets>=7.5.0->ipympl) (0.6.0)\n",
      "Requirement already satisfied: mistune<2,>=0.8.1 in c:\\users\\prannaya\\appdata\\local\\programs\\python\\python37\\lib\\site-packages (from nbconvert->notebook>=4.4.1->widgetsnbextension~=3.5.0->ipywidgets>=7.5.0->ipympl) (0.8.4)\n",
      "Requirement already satisfied: packaging in c:\\users\\prannaya\\appdata\\local\\programs\\python\\python37\\lib\\site-packages (from bleach->nbconvert->notebook>=4.4.1->widgetsnbextension~=3.5.0->ipywidgets>=7.5.0->ipympl) (20.4)\n",
      "Requirement already satisfied: webencodings in c:\\users\\prannaya\\appdata\\local\\programs\\python\\python37\\lib\\site-packages (from bleach->nbconvert->notebook>=4.4.1->widgetsnbextension~=3.5.0->ipywidgets>=7.5.0->ipympl) (0.5.1)\n"
     ]
    },
    {
     "data": {
      "application/vnd.jupyter.widget-view+json": {
       "model_id": "17bd102b95f14b5bb0bdd726b97eea47",
       "version_major": 2,
       "version_minor": 0
      },
      "text/plain": [
       "Canvas(toolbar=Toolbar(toolitems=[('Home', 'Reset original view', 'home', 'home'), ('Back', 'Back to previous …"
      ]
     },
     "metadata": {},
     "output_type": "display_data"
    }
   ],
   "source": [
    "# Enabling the `widget` backend.\n",
    "# This requires jupyter-matplotlib a.k.a. ipympl.\n",
    "# ipympl can be install via pip or conda.\n",
    "!pip install ipympl\n",
    "%matplotlib widget\n",
    "\n",
    "# Testing matplotlib interactions with a simple plot\n",
    "fig = plt.figure()\n",
    "fig.canvas.header_visible = False # Hide the Figure name at the top of the figure\n",
    "fig.canvas.toolbar_visible = True"
   ]
  },
  {
   "cell_type": "code",
   "execution_count": 4,
   "metadata": {},
   "outputs": [],
   "source": [
    "binarystars = pd.read_csv(\"../data/binarystars.csv\").rename(columns={\"KIC\": \"id\"}).set_index(\"id\")\n",
    "configs = pd.read_csv(\"../data/binaryconfigs.csv\")\n",
    "configs.columns = [\"id\", \"period\", \"duration\", \"depth\"]\n",
    "configs = configs.set_index(\"id\")"
   ]
  },
  {
   "cell_type": "markdown",
   "metadata": {},
   "source": [
    "### Kepler Eclipsing Binary Catalog"
   ]
  },
  {
   "cell_type": "code",
   "execution_count": 5,
   "metadata": {},
   "outputs": [
    {
     "data": {
      "text/html": [
       "<div>\n",
       "<style scoped>\n",
       "    .dataframe tbody tr th:only-of-type {\n",
       "        vertical-align: middle;\n",
       "    }\n",
       "\n",
       "    .dataframe tbody tr th {\n",
       "        vertical-align: top;\n",
       "    }\n",
       "\n",
       "    .dataframe thead th {\n",
       "        text-align: right;\n",
       "    }\n",
       "</style>\n",
       "<table border=\"1\" class=\"dataframe\">\n",
       "  <thead>\n",
       "    <tr style=\"text-align: right;\">\n",
       "      <th></th>\n",
       "      <th>period</th>\n",
       "      <th>period_err</th>\n",
       "      <th>bjd0</th>\n",
       "      <th>bjd0_err</th>\n",
       "      <th>morph</th>\n",
       "      <th>GLon</th>\n",
       "      <th>GLat</th>\n",
       "      <th>kmag</th>\n",
       "      <th>Teff</th>\n",
       "      <th>SC</th>\n",
       "    </tr>\n",
       "    <tr>\n",
       "      <th>id</th>\n",
       "      <th></th>\n",
       "      <th></th>\n",
       "      <th></th>\n",
       "      <th></th>\n",
       "      <th></th>\n",
       "      <th></th>\n",
       "      <th></th>\n",
       "      <th></th>\n",
       "      <th></th>\n",
       "      <th></th>\n",
       "    </tr>\n",
       "  </thead>\n",
       "  <tbody>\n",
       "    <tr>\n",
       "      <th>3863594</th>\n",
       "      <td>0.053268</td>\n",
       "      <td>0.0</td>\n",
       "      <td>55000.000000</td>\n",
       "      <td>0.004327</td>\n",
       "      <td>0.79</td>\n",
       "      <td>-1.0000</td>\n",
       "      <td>-1.0000</td>\n",
       "      <td>-1.000</td>\n",
       "      <td>-1.0</td>\n",
       "      <td>False</td>\n",
       "    </tr>\n",
       "    <tr>\n",
       "      <th>10417986</th>\n",
       "      <td>0.073731</td>\n",
       "      <td>0.0</td>\n",
       "      <td>55000.027476</td>\n",
       "      <td>0.004231</td>\n",
       "      <td>0.99</td>\n",
       "      <td>81.0390</td>\n",
       "      <td>11.0820</td>\n",
       "      <td>9.128</td>\n",
       "      <td>-1.0</td>\n",
       "      <td>True</td>\n",
       "    </tr>\n",
       "    <tr>\n",
       "      <th>8912468</th>\n",
       "      <td>0.094838</td>\n",
       "      <td>0.0</td>\n",
       "      <td>54953.576945</td>\n",
       "      <td>0.005326</td>\n",
       "      <td>0.98</td>\n",
       "      <td>80.1095</td>\n",
       "      <td>7.8882</td>\n",
       "      <td>11.751</td>\n",
       "      <td>6194.0</td>\n",
       "      <td>False</td>\n",
       "    </tr>\n",
       "    <tr>\n",
       "      <th>8758716</th>\n",
       "      <td>0.107205</td>\n",
       "      <td>0.0</td>\n",
       "      <td>54953.672989</td>\n",
       "      <td>0.006197</td>\n",
       "      <td>1.00</td>\n",
       "      <td>77.7478</td>\n",
       "      <td>11.6565</td>\n",
       "      <td>13.531</td>\n",
       "      <td>-1.0</td>\n",
       "      <td>False</td>\n",
       "    </tr>\n",
       "    <tr>\n",
       "      <th>10855535</th>\n",
       "      <td>0.112782</td>\n",
       "      <td>0.0</td>\n",
       "      <td>54964.629315</td>\n",
       "      <td>0.006374</td>\n",
       "      <td>0.99</td>\n",
       "      <td>79.3949</td>\n",
       "      <td>15.9212</td>\n",
       "      <td>13.870</td>\n",
       "      <td>7555.0</td>\n",
       "      <td>False</td>\n",
       "    </tr>\n",
       "    <tr>\n",
       "      <th>...</th>\n",
       "      <td>...</td>\n",
       "      <td>...</td>\n",
       "      <td>...</td>\n",
       "      <td>...</td>\n",
       "      <td>...</td>\n",
       "      <td>...</td>\n",
       "      <td>...</td>\n",
       "      <td>...</td>\n",
       "      <td>...</td>\n",
       "      <td>...</td>\n",
       "    </tr>\n",
       "    <tr>\n",
       "      <th>9408440</th>\n",
       "      <td>989.985000</td>\n",
       "      <td>-1.0</td>\n",
       "      <td>55346.365980</td>\n",
       "      <td>0.096130</td>\n",
       "      <td>0.00</td>\n",
       "      <td>78.5607</td>\n",
       "      <td>12.2615</td>\n",
       "      <td>13.199</td>\n",
       "      <td>5688.0</td>\n",
       "      <td>False</td>\n",
       "    </tr>\n",
       "    <tr>\n",
       "      <th>8054233</th>\n",
       "      <td>1058.000000</td>\n",
       "      <td>-1.0</td>\n",
       "      <td>54751.806288</td>\n",
       "      <td>0.968052</td>\n",
       "      <td>0.03</td>\n",
       "      <td>78.6142</td>\n",
       "      <td>7.7321</td>\n",
       "      <td>11.783</td>\n",
       "      <td>4733.0</td>\n",
       "      <td>False</td>\n",
       "    </tr>\n",
       "    <tr>\n",
       "      <th>7672940</th>\n",
       "      <td>1064.270000</td>\n",
       "      <td>-1.0</td>\n",
       "      <td>54977.092960</td>\n",
       "      <td>0.089646</td>\n",
       "      <td>0.00</td>\n",
       "      <td>74.5296</td>\n",
       "      <td>14.6136</td>\n",
       "      <td>12.328</td>\n",
       "      <td>-1.0</td>\n",
       "      <td>False</td>\n",
       "    </tr>\n",
       "    <tr>\n",
       "      <th>11961695</th>\n",
       "      <td>1082.815000</td>\n",
       "      <td>-1.0</td>\n",
       "      <td>54871.395674</td>\n",
       "      <td>0.211754</td>\n",
       "      <td>0.02</td>\n",
       "      <td>81.8628</td>\n",
       "      <td>15.9404</td>\n",
       "      <td>13.718</td>\n",
       "      <td>5768.0</td>\n",
       "      <td>False</td>\n",
       "    </tr>\n",
       "    <tr>\n",
       "      <th>4360072</th>\n",
       "      <td>1087.300000</td>\n",
       "      <td>-1.0</td>\n",
       "      <td>55165.611684</td>\n",
       "      <td>1.147790</td>\n",
       "      <td>0.05</td>\n",
       "      <td>71.5008</td>\n",
       "      <td>11.7046</td>\n",
       "      <td>11.159</td>\n",
       "      <td>4950.0</td>\n",
       "      <td>False</td>\n",
       "    </tr>\n",
       "  </tbody>\n",
       "</table>\n",
       "<p>2922 rows × 10 columns</p>\n",
       "</div>"
      ],
      "text/plain": [
       "               period  period_err          bjd0  bjd0_err  morph     GLon  \\\n",
       "id                                                                          \n",
       "3863594      0.053268         0.0  55000.000000  0.004327   0.79  -1.0000   \n",
       "10417986     0.073731         0.0  55000.027476  0.004231   0.99  81.0390   \n",
       "8912468      0.094838         0.0  54953.576945  0.005326   0.98  80.1095   \n",
       "8758716      0.107205         0.0  54953.672989  0.006197   1.00  77.7478   \n",
       "10855535     0.112782         0.0  54964.629315  0.006374   0.99  79.3949   \n",
       "...               ...         ...           ...       ...    ...      ...   \n",
       "9408440    989.985000        -1.0  55346.365980  0.096130   0.00  78.5607   \n",
       "8054233   1058.000000        -1.0  54751.806288  0.968052   0.03  78.6142   \n",
       "7672940   1064.270000        -1.0  54977.092960  0.089646   0.00  74.5296   \n",
       "11961695  1082.815000        -1.0  54871.395674  0.211754   0.02  81.8628   \n",
       "4360072   1087.300000        -1.0  55165.611684  1.147790   0.05  71.5008   \n",
       "\n",
       "             GLat    kmag    Teff     SC  \n",
       "id                                        \n",
       "3863594   -1.0000  -1.000    -1.0  False  \n",
       "10417986  11.0820   9.128    -1.0   True  \n",
       "8912468    7.8882  11.751  6194.0  False  \n",
       "8758716   11.6565  13.531    -1.0  False  \n",
       "10855535  15.9212  13.870  7555.0  False  \n",
       "...           ...     ...     ...    ...  \n",
       "9408440   12.2615  13.199  5688.0  False  \n",
       "8054233    7.7321  11.783  4733.0  False  \n",
       "7672940   14.6136  12.328    -1.0  False  \n",
       "11961695  15.9404  13.718  5768.0  False  \n",
       "4360072   11.7046  11.159  4950.0  False  \n",
       "\n",
       "[2922 rows x 10 columns]"
      ]
     },
     "execution_count": 5,
     "metadata": {},
     "output_type": "execute_result"
    }
   ],
   "source": [
    "binarystars"
   ]
  },
  {
   "cell_type": "code",
   "execution_count": 6,
   "metadata": {},
   "outputs": [
    {
     "data": {
      "text/html": [
       "<div>\n",
       "<style scoped>\n",
       "    .dataframe tbody tr th:only-of-type {\n",
       "        vertical-align: middle;\n",
       "    }\n",
       "\n",
       "    .dataframe tbody tr th {\n",
       "        vertical-align: top;\n",
       "    }\n",
       "\n",
       "    .dataframe thead th {\n",
       "        text-align: right;\n",
       "    }\n",
       "</style>\n",
       "<table border=\"1\" class=\"dataframe\">\n",
       "  <thead>\n",
       "    <tr style=\"text-align: right;\">\n",
       "      <th></th>\n",
       "      <th>period</th>\n",
       "      <th>duration</th>\n",
       "      <th>depth</th>\n",
       "    </tr>\n",
       "    <tr>\n",
       "      <th>id</th>\n",
       "      <th></th>\n",
       "      <th></th>\n",
       "      <th></th>\n",
       "    </tr>\n",
       "  </thead>\n",
       "  <tbody>\n",
       "    <tr>\n",
       "      <th>1026032</th>\n",
       "      <td>7.303493e+05</td>\n",
       "      <td>17280.0</td>\n",
       "      <td>0.003519</td>\n",
       "    </tr>\n",
       "    <tr>\n",
       "      <th>1026957</th>\n",
       "      <td>1.127302e+06</td>\n",
       "      <td>28512.0</td>\n",
       "      <td>0.001687</td>\n",
       "    </tr>\n",
       "    <tr>\n",
       "      <th>1161345</th>\n",
       "      <td>3.707062e+05</td>\n",
       "      <td>4320.0</td>\n",
       "      <td>0.000869</td>\n",
       "    </tr>\n",
       "    <tr>\n",
       "      <th>1295531</th>\n",
       "      <td>7.281519e+04</td>\n",
       "      <td>28512.0</td>\n",
       "      <td>0.007980</td>\n",
       "    </tr>\n",
       "    <tr>\n",
       "      <th>1571511</th>\n",
       "      <td>3.140644e+04</td>\n",
       "      <td>28512.0</td>\n",
       "      <td>0.000048</td>\n",
       "    </tr>\n",
       "    <tr>\n",
       "      <th>...</th>\n",
       "      <td>...</td>\n",
       "      <td>...</td>\n",
       "      <td>...</td>\n",
       "    </tr>\n",
       "    <tr>\n",
       "      <th>12598713</th>\n",
       "      <td>3.332850e+04</td>\n",
       "      <td>28512.0</td>\n",
       "      <td>0.011091</td>\n",
       "    </tr>\n",
       "    <tr>\n",
       "      <th>12599700</th>\n",
       "      <td>8.804085e+04</td>\n",
       "      <td>28512.0</td>\n",
       "      <td>0.038670</td>\n",
       "    </tr>\n",
       "    <tr>\n",
       "      <th>12644769</th>\n",
       "      <td>1.055417e+06</td>\n",
       "      <td>8640.0</td>\n",
       "      <td>0.007281</td>\n",
       "    </tr>\n",
       "    <tr>\n",
       "      <th>12645761</th>\n",
       "      <td>2.342141e+05</td>\n",
       "      <td>17280.0</td>\n",
       "      <td>0.003299</td>\n",
       "    </tr>\n",
       "    <tr>\n",
       "      <th>12785282</th>\n",
       "      <td>3.404656e+04</td>\n",
       "      <td>8640.0</td>\n",
       "      <td>0.084576</td>\n",
       "    </tr>\n",
       "  </tbody>\n",
       "</table>\n",
       "<p>2289 rows × 3 columns</p>\n",
       "</div>"
      ],
      "text/plain": [
       "                period  duration     depth\n",
       "id                                        \n",
       "1026032   7.303493e+05   17280.0  0.003519\n",
       "1026957   1.127302e+06   28512.0  0.001687\n",
       "1161345   3.707062e+05    4320.0  0.000869\n",
       "1295531   7.281519e+04   28512.0  0.007980\n",
       "1571511   3.140644e+04   28512.0  0.000048\n",
       "...                ...       ...       ...\n",
       "12598713  3.332850e+04   28512.0  0.011091\n",
       "12599700  8.804085e+04   28512.0  0.038670\n",
       "12644769  1.055417e+06    8640.0  0.007281\n",
       "12645761  2.342141e+05   17280.0  0.003299\n",
       "12785282  3.404656e+04    8640.0  0.084576\n",
       "\n",
       "[2289 rows x 3 columns]"
      ]
     },
     "execution_count": 6,
     "metadata": {},
     "output_type": "execute_result"
    }
   ],
   "source": [
    "def day2seconds(s):\n",
    "    if type(s) in [float, int]:\n",
    "        return s * 86400\n",
    "    return float(s[:-2]) * 86400\n",
    "\n",
    "configs[\"period\"] = configs.period.apply(day2seconds)\n",
    "configs[\"duration\"] = configs.duration.apply(day2seconds)\n",
    "configs = configs.dropna().sort_index()\n",
    "configs"
   ]
  },
  {
   "cell_type": "code",
   "execution_count": 7,
   "metadata": {},
   "outputs": [],
   "source": [
    "binarystars.to_csv(\"../data/kepler_binary_stars.csv\")\n",
    "configs.to_csv(\"../data/kepler_binary_configs.csv\")"
   ]
  },
  {
   "cell_type": "code",
   "execution_count": 8,
   "metadata": {},
   "outputs": [],
   "source": [
    "altogether = pd.merge(configs, binarystars, how=\"left\", on=\"id\")\n",
    "altogether.to_csv(\"../data/kepler_binary.csv\")"
   ]
  },
  {
   "cell_type": "markdown",
   "metadata": {},
   "source": [
    "## EDA\n",
    "Exploratory Data Analysis"
   ]
  },
  {
   "cell_type": "markdown",
   "metadata": {},
   "source": [
    "### Constants"
   ]
  },
  {
   "cell_type": "code",
   "execution_count": 9,
   "metadata": {},
   "outputs": [],
   "source": [
    "n = len(configs)\n",
    "bins = int(np.sqrt(n))\n",
    "\n",
    "periods = configs.period\n",
    "durations = configs.duration\n",
    "depths = configs.depth\n",
    "\n",
    "percentiles = np.array([2.5, 25, 50, 75, 97.5])"
   ]
  },
  {
   "cell_type": "markdown",
   "metadata": {},
   "source": [
    "### Summary Statistics"
   ]
  },
  {
   "cell_type": "code",
   "execution_count": 10,
   "metadata": {},
   "outputs": [],
   "source": [
    "mu_period = periods.mean()\n",
    "sigma_period = periods.std()\n",
    "var_period = np.var(periods)\n",
    "ptiles_per = np.percentile(periods, percentiles)\n",
    "\n",
    "mu_duration = durations.mean()\n",
    "sigma_duration = durations.std()\n",
    "var_duration = np.var(durations)\n",
    "ptiles_dur = np.percentile(durations, percentiles)\n",
    "\n",
    "mu_depth = depths.mean()\n",
    "sigma_duration = depths.std()\n",
    "var_depth = np.var(depths)\n",
    "ptiles_dep = np.percentile(depths, percentiles)"
   ]
  },
  {
   "cell_type": "markdown",
   "metadata": {},
   "source": [
    "### Functions"
   ]
  },
  {
   "cell_type": "code",
   "execution_count": 11,
   "metadata": {},
   "outputs": [],
   "source": [
    "def ecdf(data):\n",
    "    \"\"\"Compute ECDF for a one-dimensional array of measurements.\"\"\"\n",
    "    # Number of data points: n\n",
    "    n = len(data)\n",
    "\n",
    "    # x-data for the ECDF: x\n",
    "    x = np.sort(data)\n",
    "\n",
    "    # y-data for the ECDF: y\n",
    "    y = np.arange(1, n+1) / n\n",
    "\n",
    "    return x, y\n",
    "\n",
    "def plot_hist(data, xlabel, ylabel=\"count\", bins=bins, ax=None, **kwargs):\n",
    "    if not ax:\n",
    "        fig = plt.figure(figsize=(16, 12))\n",
    "        ax = fig.add_subplot(111)\n",
    "    \n",
    "    ax.hist(data, bins=bins, **kwargs)\n",
    "    ax.set_xlabel(xlabel)\n",
    "    ax.set_ylabel(ylabel)\n",
    "    plt.show()\n",
    "\n",
    "    \n",
    "def plot_ecdf(data, xlabel, ptiles, ylabel=\"ECDF\", ax=None, marker=\".\", linestyle=\"none\", **kwargs):\n",
    "    if not ax:\n",
    "        fig = plt.figure(figsize=(16, 12))\n",
    "        ax = fig.add_subplot(111)\n",
    "        \n",
    "    # Retrive ECDF\n",
    "    x, y = ecdf(data)\n",
    "\n",
    "    # Generate plot\n",
    "    ax.plot(x, y, marker=marker, linestyle=linestyle, **kwargs)\n",
    "\n",
    "    # Label the axes\n",
    "    ax.set_xlabel(xlabel)\n",
    "    ax.set_ylabel(ylabel)\n",
    "    \n",
    "    ax.plot(ptiles, percentiles/100, marker='D', color='red',\n",
    "         linestyle=\"none\")\n",
    "\n",
    "    # Display the plot\n",
    "    plt.show()"
   ]
  },
  {
   "cell_type": "markdown",
   "metadata": {},
   "source": [
    "### Graphical EDA\n",
    "#### Histograms"
   ]
  },
  {
   "cell_type": "code",
   "execution_count": 31,
   "metadata": {},
   "outputs": [
    {
     "data": {
      "application/vnd.jupyter.widget-view+json": {
       "model_id": "49c175309d88431a93659d04f4d756e2",
       "version_major": 2,
       "version_minor": 0
      },
      "text/plain": [
       "Canvas(toolbar=Toolbar(toolitems=[('Home', 'Reset original view', 'home', 'home'), ('Back', 'Back to previous …"
      ]
     },
     "metadata": {},
     "output_type": "display_data"
    }
   ],
   "source": [
    "plot_hist(periods, \"Period\")"
   ]
  },
  {
   "cell_type": "code",
   "execution_count": 32,
   "metadata": {},
   "outputs": [
    {
     "data": {
      "application/vnd.jupyter.widget-view+json": {
       "model_id": "b90f34d5432b47d9bd1aa8c09375875b",
       "version_major": 2,
       "version_minor": 0
      },
      "text/plain": [
       "Canvas(toolbar=Toolbar(toolitems=[('Home', 'Reset original view', 'home', 'home'), ('Back', 'Back to previous …"
      ]
     },
     "metadata": {},
     "output_type": "display_data"
    }
   ],
   "source": [
    "plot_hist(durations, \"Duration\")"
   ]
  },
  {
   "cell_type": "code",
   "execution_count": 33,
   "metadata": {},
   "outputs": [
    {
     "data": {
      "application/vnd.jupyter.widget-view+json": {
       "model_id": "f857e1c898fb4a54b82fd5edd22931d8",
       "version_major": 2,
       "version_minor": 0
      },
      "text/plain": [
       "Canvas(toolbar=Toolbar(toolitems=[('Home', 'Reset original view', 'home', 'home'), ('Back', 'Back to previous …"
      ]
     },
     "metadata": {},
     "output_type": "display_data"
    }
   ],
   "source": [
    "plot_hist(depths, \"Depth\")"
   ]
  },
  {
   "cell_type": "markdown",
   "metadata": {},
   "source": [
    "#### ECDF"
   ]
  },
  {
   "cell_type": "code",
   "execution_count": 34,
   "metadata": {},
   "outputs": [
    {
     "data": {
      "application/vnd.jupyter.widget-view+json": {
       "model_id": "289631ee7f64441786e86564d6de2fef",
       "version_major": 2,
       "version_minor": 0
      },
      "text/plain": [
       "Canvas(toolbar=Toolbar(toolitems=[('Home', 'Reset original view', 'home', 'home'), ('Back', 'Back to previous …"
      ]
     },
     "metadata": {},
     "output_type": "display_data"
    }
   ],
   "source": [
    "plot_ecdf(periods, \"Period\", ptiles_per)"
   ]
  },
  {
   "cell_type": "code",
   "execution_count": 35,
   "metadata": {},
   "outputs": [
    {
     "data": {
      "application/vnd.jupyter.widget-view+json": {
       "model_id": "0edee4154b124490a1e7e45342f07180",
       "version_major": 2,
       "version_minor": 0
      },
      "text/plain": [
       "Canvas(toolbar=Toolbar(toolitems=[('Home', 'Reset original view', 'home', 'home'), ('Back', 'Back to previous …"
      ]
     },
     "metadata": {},
     "output_type": "display_data"
    }
   ],
   "source": [
    "plot_ecdf(durations, \"Duration\", ptiles_dur)"
   ]
  },
  {
   "cell_type": "code",
   "execution_count": 36,
   "metadata": {},
   "outputs": [
    {
     "data": {
      "application/vnd.jupyter.widget-view+json": {
       "model_id": "694245325d284ef09d213db4cedf9b22",
       "version_major": 2,
       "version_minor": 0
      },
      "text/plain": [
       "Canvas(toolbar=Toolbar(toolitems=[('Home', 'Reset original view', 'home', 'home'), ('Back', 'Back to previous …"
      ]
     },
     "metadata": {},
     "output_type": "display_data"
    }
   ],
   "source": [
    "plot_ecdf(depths, \"Depth\", ptiles_dep)"
   ]
  },
  {
   "cell_type": "markdown",
   "metadata": {},
   "source": [
    "### Quantitative EDA"
   ]
  },
  {
   "cell_type": "markdown",
   "metadata": {},
   "source": [
    "#### Covariance"
   ]
  },
  {
   "cell_type": "code",
   "execution_count": 18,
   "metadata": {},
   "outputs": [],
   "source": [
    "cov_perdur = np.cov(periods, durations)\n",
    "cov_perdep = np.cov(periods, depths)\n",
    "cov_durdep = np.cov(durations, depths)"
   ]
  },
  {
   "cell_type": "markdown",
   "metadata": {},
   "source": [
    "#### Correlation"
   ]
  },
  {
   "cell_type": "code",
   "execution_count": 19,
   "metadata": {},
   "outputs": [
    {
     "data": {
      "text/html": [
       "<div>\n",
       "<style scoped>\n",
       "    .dataframe tbody tr th:only-of-type {\n",
       "        vertical-align: middle;\n",
       "    }\n",
       "\n",
       "    .dataframe tbody tr th {\n",
       "        vertical-align: top;\n",
       "    }\n",
       "\n",
       "    .dataframe thead th {\n",
       "        text-align: right;\n",
       "    }\n",
       "</style>\n",
       "<table border=\"1\" class=\"dataframe\">\n",
       "  <thead>\n",
       "    <tr style=\"text-align: right;\">\n",
       "      <th></th>\n",
       "      <th>period</th>\n",
       "      <th>duration</th>\n",
       "      <th>depth</th>\n",
       "    </tr>\n",
       "  </thead>\n",
       "  <tbody>\n",
       "    <tr>\n",
       "      <th>period</th>\n",
       "      <td>1.000000</td>\n",
       "      <td>-0.288703</td>\n",
       "      <td>-0.099790</td>\n",
       "    </tr>\n",
       "    <tr>\n",
       "      <th>duration</th>\n",
       "      <td>-0.288703</td>\n",
       "      <td>1.000000</td>\n",
       "      <td>-0.173623</td>\n",
       "    </tr>\n",
       "    <tr>\n",
       "      <th>depth</th>\n",
       "      <td>-0.099790</td>\n",
       "      <td>-0.173623</td>\n",
       "      <td>1.000000</td>\n",
       "    </tr>\n",
       "  </tbody>\n",
       "</table>\n",
       "</div>"
      ],
      "text/plain": [
       "            period  duration     depth\n",
       "period    1.000000 -0.288703 -0.099790\n",
       "duration -0.288703  1.000000 -0.173623\n",
       "depth    -0.099790 -0.173623  1.000000"
      ]
     },
     "execution_count": 19,
     "metadata": {},
     "output_type": "execute_result"
    }
   ],
   "source": [
    "configs.corr()"
   ]
  },
  {
   "cell_type": "code",
   "execution_count": 37,
   "metadata": {},
   "outputs": [
    {
     "data": {
      "application/vnd.jupyter.widget-view+json": {
       "model_id": "fbd47eb104744f75ada7e998bae49b95",
       "version_major": 2,
       "version_minor": 0
      },
      "text/plain": [
       "Canvas(toolbar=Toolbar(toolitems=[('Home', 'Reset original view', 'home', 'home'), ('Back', 'Back to previous …"
      ]
     },
     "metadata": {},
     "output_type": "display_data"
    }
   ],
   "source": [
    "plt.figure(figsize=(16, 12))\n",
    "heatmap = sns.heatmap(configs.corr(), vmin=-1, vmax=1, annot=True)\n",
    "heatmap.set_title('Correlation Heatmap', fontdict={'fontsize':18}, pad=12)\n",
    "plt.show()"
   ]
  },
  {
   "cell_type": "markdown",
   "metadata": {},
   "source": [
    "#### Pearson Coefficient"
   ]
  },
  {
   "cell_type": "code",
   "execution_count": 21,
   "metadata": {},
   "outputs": [],
   "source": [
    "def pearson_r(x, y):\n",
    "    \"\"\"Compute Pearson correlation coefficient between two arrays.\"\"\"\n",
    "    corr_mat = np.corrcoef(x, y)\n",
    "    return corr_mat[0,1]\n",
    "\n",
    "pearson_perdur = pearson_r(periods, durations)\n",
    "pearson_perdep = pearson_r(periods, depths)\n",
    "pearson_durdep = pearson_r(durations, depths)"
   ]
  },
  {
   "cell_type": "markdown",
   "metadata": {},
   "source": [
    "## Signal Processing"
   ]
  },
  {
   "cell_type": "code",
   "execution_count": 48,
   "metadata": {},
   "outputs": [],
   "source": [
    "def evaluateAndProcessData(x, y):\n",
    "    t, c, k = interpolate.splrep(x, y, s=0, k=4)\n",
    "    xx = np.linspace(x.min(), x.max(), 100)\n",
    "    spline = interpolate.BSpline(t, c, k, extrapolate=False)\n",
    "    \n",
    "    plt.figure(figsize=(16,6))\n",
    "    plt.plot(x, y, \"bo\", linestyle=\"none\", label='Original points')\n",
    "    plt.plot(x, y)\n",
    "    plt.plot(xx, spline(xx), 'r', label='BSpline')\n",
    "    plt.grid()\n",
    "    plt.legend(loc='best')\n",
    "    plt.show()\n",
    "    \n",
    "# Retrieving all the important details\n",
    "def getData(id):\n",
    "    try:\n",
    "        return retrieveKeplerLightCurve(id)\n",
    "    except:\n",
    "        return None\n"
   ]
  },
  {
   "cell_type": "code",
   "execution_count": 23,
   "metadata": {},
   "outputs": [
    {
     "data": {
      "text/plain": [
       "11911561"
      ]
     },
     "execution_count": 23,
     "metadata": {},
     "output_type": "execute_result"
    }
   ],
   "source": [
    "ids = list(configs.index)\n",
    "id2 = np.random.choice(ids)\n",
    "id2"
   ]
  },
  {
   "cell_type": "markdown",
   "metadata": {},
   "source": [
    "## Analysis of KIC 12055255"
   ]
  },
  {
   "cell_type": "code",
   "execution_count": 24,
   "metadata": {},
   "outputs": [
    {
     "data": {
      "text/html": [
       "<i>KeplerLightCurve length=30546 LABEL=&quot;KIC 11911561&quot; QUARTER=17 AUTHOR=Kepler</i>\n",
       "<table id=\"table1998023834144\" class=\"table-striped table-bordered table-condensed\">\n",
       "<thead><tr><th>time</th><th>flux</th><th>flux_err</th><th>quality</th><th>timecorr</th><th>centroid_col</th><th>centroid_row</th><th>cadenceno</th><th>sap_flux</th><th>sap_flux_err</th><th>sap_bkg</th><th>sap_bkg_err</th><th>pdcsap_flux</th><th>pdcsap_flux_err</th><th>sap_quality</th><th>psf_centr1</th><th>psf_centr1_err</th><th>psf_centr2</th><th>psf_centr2_err</th><th>mom_centr1</th><th>mom_centr1_err</th><th>mom_centr2</th><th>mom_centr2_err</th><th>pos_corr1</th><th>pos_corr2</th></tr></thead>\n",
       "<thead><tr><th></th><th></th><th></th><th></th><th>d</th><th>pix</th><th>pix</th><th></th><th>electron / s</th><th>electron / s</th><th>electron / s</th><th>electron / s</th><th>electron / s</th><th>electron / s</th><th></th><th>pix</th><th>pix</th><th>pix</th><th>pix</th><th>pix</th><th>pix</th><th>pix</th><th>pix</th><th>pix</th><th>pix</th></tr></thead>\n",
       "<thead><tr><th>object</th><th>float32</th><th>float32</th><th>int32</th><th>float32</th><th>float64</th><th>float64</th><th>int32</th><th>float32</th><th>float32</th><th>float32</th><th>float32</th><th>float32</th><th>float32</th><th>int32</th><th>float64</th><th>float32</th><th>float64</th><th>float32</th><th>float64</th><th>float32</th><th>float64</th><th>float32</th><th>float32</th><th>float32</th></tr></thead>\n",
       "<tr><td>131.5120753032097</td><td>1.0034571e+00</td><td>1.3995304e-04</td><td>0</td><td>1.081483e-03</td><td>1105.95749</td><td>428.96503</td><td>1105</td><td>5.7671352e+04</td><td>7.8041878e+00</td><td>1.6655184e+03</td><td>1.1924736e+00</td><td>6.3417262e+04</td><td>8.8448610e+00</td><td>0</td><td>nan</td><td>nan</td><td>nan</td><td>nan</td><td>1105.95749</td><td>1.7055465e-04</td><td>428.96503</td><td>2.1096232e-04</td><td>-6.2993299e-03</td><td>-9.5218485e-03</td></tr>\n",
       "<tr><td>131.532509650242</td><td>1.0031319e+00</td><td>1.4011889e-04</td><td>0</td><td>1.082130e-03</td><td>1105.95728</td><td>428.96541</td><td>1106</td><td>5.7686992e+04</td><td>7.8046913e+00</td><td>1.6645474e+03</td><td>1.1898097e+00</td><td>6.3396711e+04</td><td>8.8553429e+00</td><td>0</td><td>nan</td><td>nan</td><td>nan</td><td>nan</td><td>1105.95728</td><td>1.7054168e-04</td><td>428.96541</td><td>2.1091948e-04</td><td>-6.1914125e-03</td><td>-9.5051955e-03</td></tr>\n",
       "<tr><td>131.55294389728078</td><td>1.0029383e+00</td><td>1.4010265e-04</td><td>10000000</td><td>1.082777e-03</td><td>1105.95768</td><td>428.96588</td><td>1107</td><td>5.7675977e+04</td><td>7.8041663e+00</td><td>1.6614071e+03</td><td>1.1905518e+00</td><td>6.3384469e+04</td><td>8.8543167e+00</td><td>10000000</td><td>nan</td><td>nan</td><td>nan</td><td>nan</td><td>1105.95768</td><td>1.7053074e-04</td><td>428.96588</td><td>2.1093430e-04</td><td>-6.4320331e-03</td><td>-9.5977271e-03</td></tr>\n",
       "<tr><td>131.57337804431154</td><td>1.0028213e+00</td><td>1.3971077e-04</td><td>0</td><td>1.083424e-03</td><td>1105.95741</td><td>428.96498</td><td>1108</td><td>5.7649395e+04</td><td>7.8033581e+00</td><td>1.6664121e+03</td><td>1.1921685e+00</td><td>6.3377082e+04</td><td>8.8295498e+00</td><td>0</td><td>nan</td><td>nan</td><td>nan</td><td>nan</td><td>1105.95741</td><td>1.7063208e-04</td><td>428.96498</td><td>2.1101865e-04</td><td>-6.3965851e-03</td><td>-9.7460225e-03</td></tr>\n",
       "<tr><td>131.59381229135033</td><td>1.0029490e+00</td><td>1.4010523e-04</td><td>0</td><td>1.084071e-03</td><td>1105.95753</td><td>428.96565</td><td>1109</td><td>5.7669672e+04</td><td>7.8036747e+00</td><td>1.6634181e+03</td><td>1.1897849e+00</td><td>6.3385152e+04</td><td>8.8544788e+00</td><td>0</td><td>nan</td><td>nan</td><td>nan</td><td>nan</td><td>1105.95753</td><td>1.7057412e-04</td><td>428.96565</td><td>2.1095198e-04</td><td>-6.1917030e-03</td><td>-9.1767255e-03</td></tr>\n",
       "<tr><td>131.61424663827347</td><td>1.0026515e+00</td><td>1.3985326e-04</td><td>10000000000000</td><td>1.084718e-03</td><td>1105.95736</td><td>428.96569</td><td>1110</td><td>5.7639848e+04</td><td>7.8026161e+00</td><td>1.6613070e+03</td><td>1.1901866e+00</td><td>6.3366344e+04</td><td>8.8385553e+00</td><td>10000000000000</td><td>nan</td><td>nan</td><td>nan</td><td>nan</td><td>1105.95736</td><td>1.7064271e-04</td><td>428.96569</td><td>2.1107127e-04</td><td>-6.0807974e-03</td><td>-9.1536036e-03</td></tr>\n",
       "<tr><td>131.6346807851951</td><td>1.0027076e+00</td><td>1.4003170e-04</td><td>0</td><td>1.085365e-03</td><td>1105.95799</td><td>428.96581</td><td>1111</td><td>5.7629082e+04</td><td>7.8027639e+00</td><td>1.6646047e+03</td><td>1.1944673e+00</td><td>6.3369891e+04</td><td>8.8498325e+00</td><td>0</td><td>nan</td><td>nan</td><td>nan</td><td>nan</td><td>1105.95799</td><td>1.7063013e-04</td><td>428.96581</td><td>2.1100669e-04</td><td>-6.0842247e-03</td><td>-9.1629969e-03</td></tr>\n",
       "<tr><td>131.6551150321102</td><td>1.0024370e+00</td><td>1.4006178e-04</td><td>0</td><td>1.086012e-03</td><td>1105.95764</td><td>428.96544</td><td>1112</td><td>5.7615367e+04</td><td>7.8019924e+00</td><td>1.6641255e+03</td><td>1.1928916e+00</td><td>6.3352793e+04</td><td>8.8517332e+00</td><td>0</td><td>nan</td><td>nan</td><td>nan</td><td>nan</td><td>1105.95764</td><td>1.7068215e-04</td><td>428.96544</td><td>2.1112173e-04</td><td>-5.8741630e-03</td><td>-8.9911846e-03</td></tr>\n",
       "<tr><td>131.6755493789169</td><td>1.0030605e+00</td><td>1.4010430e-04</td><td>0</td><td>1.086659e-03</td><td>1105.95744</td><td>428.96571</td><td>1113</td><td>5.7647199e+04</td><td>7.8033886e+00</td><td>1.6666895e+03</td><td>1.1931021e+00</td><td>6.3392191e+04</td><td>8.8544207e+00</td><td>0</td><td>nan</td><td>nan</td><td>nan</td><td>nan</td><td>1105.95744</td><td>1.7066045e-04</td><td>428.96571</td><td>2.1103519e-04</td><td>-6.0511068e-03</td><td>-9.0471925e-03</td></tr>\n",
       "<tr><td>...</td><td>...</td><td>...</td><td>...</td><td>...</td><td>...</td><td>...</td><td>...</td><td>...</td><td>...</td><td>...</td><td>...</td><td>...</td><td>...</td><td>...</td><td>...</td><td>...</td><td>...</td><td>...</td><td>...</td><td>...</td><td>...</td><td>...</td><td>...</td><td>...</td></tr>\n",
       "<tr><td>1590.817486589236</td><td>1.0018357e+00</td><td>1.4255753e-04</td><td>0</td><td>2.368692e-04</td><td>1105.96895</td><td>428.95541</td><td>72522</td><td>5.6531949e+04</td><td>7.8867450e+00</td><td>2.0019668e+03</td><td>1.2455471e+00</td><td>6.1455512e+04</td><td>8.7448931e+00</td><td>0</td><td>nan</td><td>nan</td><td>nan</td><td>nan</td><td>1105.96895</td><td>1.7750075e-04</td><td>428.95541</td><td>2.1976895e-04</td><td>-5.0306604e-03</td><td>-1.8973252e-02</td></tr>\n",
       "<tr><td>1590.8379209183186</td><td>1.0018344e+00</td><td>1.4243044e-04</td><td>0</td><td>2.374983e-04</td><td>1105.96926</td><td>428.95535</td><td>72523</td><td>5.6531902e+04</td><td>7.8869967e+00</td><td>2.0067635e+03</td><td>1.2458630e+00</td><td>6.1455434e+04</td><td>8.7370968e+00</td><td>0</td><td>nan</td><td>nan</td><td>nan</td><td>nan</td><td>1105.96926</td><td>1.7750599e-04</td><td>428.95535</td><td>2.1981267e-04</td><td>-5.0632036e-03</td><td>-1.8905191e-02</td></tr>\n",
       "<tr><td>1590.8583550474796</td><td>1.0016021e+00</td><td>1.4243685e-04</td><td>0</td><td>2.381275e-04</td><td>1105.96906</td><td>428.95519</td><td>72524</td><td>5.6514441e+04</td><td>7.8862581e+00</td><td>2.0006193e+03</td><td>1.2467703e+00</td><td>6.1441184e+04</td><td>8.7374907e+00</td><td>0</td><td>nan</td><td>nan</td><td>nan</td><td>nan</td><td>1105.96906</td><td>1.7752095e-04</td><td>428.95519</td><td>2.1980458e-04</td><td>-5.1486488e-03</td><td>-1.8924832e-02</td></tr>\n",
       "<tr><td>1590.8787892766777</td><td>1.0013925e+00</td><td>1.4247814e-04</td><td>0</td><td>2.387567e-04</td><td>1105.96918</td><td>428.95552</td><td>72525</td><td>5.6508438e+04</td><td>7.8858252e+00</td><td>2.0012368e+03</td><td>1.2452320e+00</td><td>6.1428328e+04</td><td>8.7400227e+00</td><td>0</td><td>nan</td><td>nan</td><td>nan</td><td>nan</td><td>1105.96918</td><td>1.7752004e-04</td><td>428.95552</td><td>2.1982894e-04</td><td>-5.0621144e-03</td><td>-1.8938608e-02</td></tr>\n",
       "<tr><td>1590.899223605964</td><td>1.0014297e+00</td><td>1.4249381e-04</td><td>0</td><td>2.393860e-04</td><td>1105.96920</td><td>428.95568</td><td>72526</td><td>5.6506223e+04</td><td>7.8859396e+00</td><td>2.0001827e+03</td><td>1.2469124e+00</td><td>6.1430605e+04</td><td>8.7409840e+00</td><td>0</td><td>nan</td><td>nan</td><td>nan</td><td>nan</td><td>1105.96920</td><td>1.7754117e-04</td><td>428.95568</td><td>2.1985997e-04</td><td>-5.0576576e-03</td><td>-1.8876748e-02</td></tr>\n",
       "<tr><td>1590.9196577352704</td><td>1.0012732e+00</td><td>1.4242514e-04</td><td>0</td><td>2.400153e-04</td><td>1105.96904</td><td>428.95535</td><td>72527</td><td>5.6499230e+04</td><td>7.8861327e+00</td><td>1.9971248e+03</td><td>1.2493325e+00</td><td>6.1421004e+04</td><td>8.7367716e+00</td><td>0</td><td>nan</td><td>nan</td><td>nan</td><td>nan</td><td>1105.96904</td><td>1.7759281e-04</td><td>428.95535</td><td>2.1990357e-04</td><td>-5.2022729e-03</td><td>-1.9012831e-02</td></tr>\n",
       "<tr><td>1590.940092064673</td><td>1.0010673e+00</td><td>1.4247870e-04</td><td>0</td><td>2.406447e-04</td><td>1105.96942</td><td>428.95561</td><td>72528</td><td>5.6490781e+04</td><td>7.8851190e+00</td><td>1.9990331e+03</td><td>1.2456721e+00</td><td>6.1408375e+04</td><td>8.7400579e+00</td><td>0</td><td>nan</td><td>nan</td><td>nan</td><td>nan</td><td>1105.96942</td><td>1.7760893e-04</td><td>428.95561</td><td>2.1993376e-04</td><td>-5.0864583e-03</td><td>-1.8948345e-02</td></tr>\n",
       "<tr><td>1590.9605262941332</td><td>1.0008568e+00</td><td>1.4255286e-04</td><td>0</td><td>2.412741e-04</td><td>1105.96895</td><td>428.95542</td><td>72529</td><td>5.6472609e+04</td><td>7.8848195e+00</td><td>1.9991052e+03</td><td>1.2492406e+00</td><td>6.1395461e+04</td><td>8.7446070e+00</td><td>0</td><td>nan</td><td>nan</td><td>nan</td><td>nan</td><td>1105.96895</td><td>1.7762600e-04</td><td>428.95542</td><td>2.1993984e-04</td><td>-5.1647630e-03</td><td>-1.8961638e-02</td></tr>\n",
       "<tr><td>1590.9809604236434</td><td>1.0005193e+00</td><td>1.4225808e-04</td><td>0</td><td>2.419036e-04</td><td>1105.97009</td><td>428.95614</td><td>72530</td><td>5.6451051e+04</td><td>7.8836699e+00</td><td>2.0032599e+03</td><td>1.2458167e+00</td><td>6.1374758e+04</td><td>8.7265244e+00</td><td>0</td><td>nan</td><td>nan</td><td>nan</td><td>nan</td><td>1105.97009</td><td>1.7768257e-04</td><td>428.95614</td><td>2.2002360e-04</td><td>-4.1346592e-03</td><td>-1.8312160e-02</td></tr>\n",
       "<tr><td>1591.0013947532207</td><td>1.0004778e+00</td><td>1.4257728e-04</td><td>0</td><td>2.425332e-04</td><td>1105.96931</td><td>428.95510</td><td>72531</td><td>5.6448738e+04</td><td>7.8836937e+00</td><td>2.0011659e+03</td><td>1.2473029e+00</td><td>6.1372219e+04</td><td>8.7461042e+00</td><td>0</td><td>nan</td><td>nan</td><td>nan</td><td>nan</td><td>1105.96931</td><td>1.7769120e-04</td><td>428.95510</td><td>2.2002131e-04</td><td>-4.9826619e-03</td><td>-1.8857196e-02</td></tr>\n",
       "</table>"
      ],
      "text/plain": [
       "<KeplerLightCurve length=30546 LABEL=\"KIC 11911561\" QUARTER=17 AUTHOR=Kepler>\n",
       "       time             flux      ...   pos_corr1      pos_corr2   \n",
       "                                  ...      pix            pix      \n",
       "      object          float32     ...    float32        float32    \n",
       "------------------ -------------- ... -------------- --------------\n",
       " 131.5120753032097  1.0034571e+00 ... -6.2993299e-03 -9.5218485e-03\n",
       "  131.532509650242  1.0031319e+00 ... -6.1914125e-03 -9.5051955e-03\n",
       "131.55294389728078  1.0029383e+00 ... -6.4320331e-03 -9.5977271e-03\n",
       "131.57337804431154  1.0028213e+00 ... -6.3965851e-03 -9.7460225e-03\n",
       "131.59381229135033  1.0029490e+00 ... -6.1917030e-03 -9.1767255e-03\n",
       "131.61424663827347  1.0026515e+00 ... -6.0807974e-03 -9.1536036e-03\n",
       " 131.6346807851951  1.0027076e+00 ... -6.0842247e-03 -9.1629969e-03\n",
       " 131.6551150321102  1.0024370e+00 ... -5.8741630e-03 -8.9911846e-03\n",
       " 131.6755493789169  1.0030605e+00 ... -6.0511068e-03 -9.0471925e-03\n",
       "               ...            ... ...            ...            ...\n",
       " 1590.817486589236  1.0018357e+00 ... -5.0306604e-03 -1.8973252e-02\n",
       "1590.8379209183186  1.0018344e+00 ... -5.0632036e-03 -1.8905191e-02\n",
       "1590.8583550474796  1.0016021e+00 ... -5.1486488e-03 -1.8924832e-02\n",
       "1590.8787892766777  1.0013925e+00 ... -5.0621144e-03 -1.8938608e-02\n",
       " 1590.899223605964  1.0014297e+00 ... -5.0576576e-03 -1.8876748e-02\n",
       "1590.9196577352704  1.0012732e+00 ... -5.2022729e-03 -1.9012831e-02\n",
       " 1590.940092064673  1.0010673e+00 ... -5.0864583e-03 -1.8948345e-02\n",
       "1590.9605262941332  1.0008568e+00 ... -5.1647630e-03 -1.8961638e-02\n",
       "1590.9809604236434  1.0005193e+00 ... -4.1346592e-03 -1.8312160e-02\n",
       "1591.0013947532207  1.0004778e+00 ... -4.9826619e-03 -1.8857196e-02"
      ]
     },
     "execution_count": 24,
     "metadata": {},
     "output_type": "execute_result"
    }
   ],
   "source": [
    "lc = getData(id2)\n",
    "lc"
   ]
  },
  {
   "cell_type": "code",
   "execution_count": 38,
   "metadata": {
    "scrolled": true
   },
   "outputs": [
    {
     "data": {
      "application/vnd.jupyter.widget-view+json": {
       "model_id": "f51e8d02a3df4ebfa1a2b3c7efbcb193",
       "version_major": 2,
       "version_minor": 0
      },
      "text/plain": [
       "Canvas(toolbar=Toolbar(toolitems=[('Home', 'Reset original view', 'home', 'home'), ('Back', 'Back to previous …"
      ]
     },
     "metadata": {},
     "output_type": "display_data"
    }
   ],
   "source": [
    "plotKeplerLightCurve(lc)\n",
    "plt.show()"
   ]
  },
  {
   "cell_type": "code",
   "execution_count": 39,
   "metadata": {},
   "outputs": [
    {
     "data": {
      "application/vnd.jupyter.widget-view+json": {
       "model_id": "300df00d6a8f45b69bdf41c5f6a31e57",
       "version_major": 2,
       "version_minor": 0
      },
      "text/plain": [
       "Canvas(toolbar=Toolbar(toolitems=[('Home', 'Reset original view', 'home', 'home'), ('Back', 'Back to previous …"
      ]
     },
     "metadata": {},
     "output_type": "display_data"
    }
   ],
   "source": [
    "plotKeplerSAPLightCurve(lc)\n",
    "plt.show()"
   ]
  },
  {
   "cell_type": "code",
   "execution_count": 27,
   "metadata": {},
   "outputs": [
    {
     "data": {
      "application/vnd.jupyter.widget-view+json": {
       "model_id": "a341dff352ff42e6b3cae2d6eef45620",
       "version_major": 2,
       "version_minor": 0
      },
      "text/plain": [
       "Canvas(toolbar=Toolbar(toolitems=[('Home', 'Reset original view', 'home', 'home'), ('Back', 'Back to previous …"
      ]
     },
     "metadata": {},
     "output_type": "display_data"
    }
   ],
   "source": [
    "plotKeplerPDCSAPLightCurve(lc)\n",
    "plt.show()"
   ]
  },
  {
   "cell_type": "code",
   "execution_count": 28,
   "metadata": {},
   "outputs": [
    {
     "data": {
      "text/plain": [
       "array([ 131.5120753 ,  131.53250965,  131.5529439 , ..., 1590.96052629,\n",
       "       1590.98096042, 1591.00139475])"
      ]
     },
     "execution_count": 28,
     "metadata": {},
     "output_type": "execute_result"
    }
   ],
   "source": [
    "time = np.array(list(map(lambda time: time.value, list(lc.time))))\n",
    "time"
   ]
  },
  {
   "cell_type": "code",
   "execution_count": 29,
   "metadata": {},
   "outputs": [
    {
     "data": {
      "text/plain": [
       "array([1.0034571, 1.0031319, 1.0029383, ..., 1.0008568, 1.0005193,\n",
       "       1.0004778], dtype=float32)"
      ]
     },
     "execution_count": 29,
     "metadata": {},
     "output_type": "execute_result"
    }
   ],
   "source": [
    "flux = np.array(list(map(lambda flux: flux.value, list(lc.flux))))\n",
    "flux"
   ]
  },
  {
   "cell_type": "code",
   "execution_count": 55,
   "metadata": {},
   "outputs": [
    {
     "data": {
      "application/vnd.jupyter.widget-view+json": {
       "model_id": "523844cc57b245a1b50d95829c9d1827",
       "version_major": 2,
       "version_minor": 0
      },
      "text/plain": [
       "Canvas(toolbar=Toolbar(toolitems=[('Home', 'Reset original view', 'home', 'home'), ('Back', 'Back to previous …"
      ]
     },
     "metadata": {},
     "output_type": "display_data"
    }
   ],
   "source": [
    "def evaluateAndProcessData(x, y):\n",
    "    t, c, k = interpolate.splrep(x, y, s=0, k=4)\n",
    "    xx = np.linspace(x.min(), x.max(), 100)\n",
    "    spline = interpolate.BSpline(t, c, k, extrapolate=False)\n",
    "    \n",
    "    plt.figure(figsize=(30,6))\n",
    "    plt.plot(x, y, linestyle=\"none\", label='Original points')\n",
    "    plt.plot(x, y)\n",
    "    plt.plot(xx, spline(xx), 'r', label='BSpline')\n",
    "    plt.grid()\n",
    "    plt.legend(loc='best')\n",
    "    plt.show()\n",
    "    \n",
    "evaluateAndProcessData(time, flux)"
   ]
  }
 ],
 "metadata": {
  "kernelspec": {
   "display_name": "Python 3 (ipykernel)",
   "language": "python",
   "name": "python3"
  },
  "language_info": {
   "codemirror_mode": {
    "name": "ipython",
    "version": 3
   },
   "file_extension": ".py",
   "mimetype": "text/x-python",
   "name": "python",
   "nbconvert_exporter": "python",
   "pygments_lexer": "ipython3",
   "version": "3.8.12"
  },
  "varInspector": {
   "cols": {
    "lenName": 16,
    "lenType": 16,
    "lenVar": 40
   },
   "kernels_config": {
    "python": {
     "delete_cmd_postfix": "",
     "delete_cmd_prefix": "del ",
     "library": "var_list.py",
     "varRefreshCmd": "print(var_dic_list())"
    },
    "r": {
     "delete_cmd_postfix": ") ",
     "delete_cmd_prefix": "rm(",
     "library": "var_list.r",
     "varRefreshCmd": "cat(var_dic_list()) "
    }
   },
   "types_to_exclude": [
    "module",
    "function",
    "builtin_function_or_method",
    "instance",
    "_Feature"
   ],
   "window_display": false
  },
  "widgets": {
   "application/vnd.jupyter.widget-state+json": {
    "state": {},
    "version_major": 2,
    "version_minor": 0
   }
  }
 },
 "nbformat": 4,
 "nbformat_minor": 4
}
