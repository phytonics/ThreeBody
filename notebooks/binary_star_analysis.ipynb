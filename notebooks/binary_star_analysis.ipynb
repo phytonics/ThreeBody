{
 "cells": [
  {
   "cell_type": "markdown",
   "metadata": {},
   "source": [
    "# The Analysis of several Binary Star Configurations to find the B-Spline Signal"
   ]
  },
  {
   "cell_type": "code",
   "execution_count": 1,
   "metadata": {},
   "outputs": [],
   "source": [
    "%load_ext autoreload\n",
    "%autoreload 2\n",
    "# to ensure kernel resets when files change around it"
   ]
  },
  {
   "cell_type": "code",
   "execution_count": 2,
   "metadata": {},
   "outputs": [
    {
     "name": "stderr",
     "output_type": "stream",
     "text": [
      "c:\\users\\prannaya\\appdata\\local\\programs\\python\\python37\\lib\\site-packages\\statsmodels\\tools\\_testing.py:19: FutureWarning: pandas.util.testing is deprecated. Use the functions in the public API at pandas.testing instead.\n",
      "  import pandas.util.testing as tm\n"
     ]
    },
    {
     "name": "stdout",
     "output_type": "stream",
     "text": [
      "C:\\Users\\Prannaya\\ThreeBody\\notebooks\n",
      "C:\\Users\\Prannaya\\ThreeBody\n"
     ]
    }
   ],
   "source": [
    "import numpy as np # main library for numeric calculations\n",
    "import pandas as pd # main library for data analysis\n",
    "import matplotlib.pyplot as plt # main library for data plotting\n",
    "import seaborn as sns # Another library for data plotting with more functions\n",
    "sns.set()\n",
    "\n",
    "import scipy as scp # STEM software\n",
    "from scipy import signal\n",
    "import scipy.interpolate as interpolate\n",
    "\n",
    "from glob import glob # check files\n",
    "from IPython.display import display, Markdown\n",
    "\n",
    "import statsmodels.api as sm\n",
    "import statsmodels.formula.api as smf\n",
    "import statsmodels.tsa.api as smt\n",
    "from statsmodels.tsa.api import ExponentialSmoothing, SimpleExpSmoothing, Holt\n",
    "\n",
    "import lightkurve as lk\n",
    "import astropy\n",
    "\n",
    "import sys, os\n",
    "\n",
    "file_path = os.getcwd()\n",
    "print(file_path)\n",
    "parent_dir = \"\\\\\".join(file_path.split(\"\\\\\")[:-1])\n",
    "print(parent_dir)\n",
    "\n",
    "sys.path.append(parent_dir)\n",
    "\n",
    "from kepler import *\n",
    "\n",
    "\"\"\"\n",
    "pd.set_option('display.max_rows', None)\n",
    "pd.set_option('display.max_columns', None)\n",
    "pd.set_option('display.width', None)\n",
    "pd.set_option('display.max_colwidth', -1)\"\"\"\n",
    "\n",
    "import warnings\n",
    "warnings.filterwarnings('ignore') # literally to ignore all the warnings that don't matter\n",
    "\n",
    "\n",
    "def printf(*args, sep=\" \", end=\"\\n\"):\n",
    "    string = sep.join([str(i) for i in args])+end\n",
    "    display(Markdown(string))\n"
   ]
  },
  {
   "cell_type": "code",
   "execution_count": 3,
   "metadata": {},
   "outputs": [
    {
     "name": "stdout",
     "output_type": "stream",
     "text": [
      "Requirement already satisfied: ipympl in c:\\users\\prannaya\\appdata\\local\\programs\\python\\python37\\lib\\site-packages (0.5.8)\n",
      "Requirement already satisfied: ipykernel>=4.7 in c:\\users\\prannaya\\appdata\\local\\programs\\python\\python37\\lib\\site-packages (from ipympl) (5.3.0)\n",
      "Requirement already satisfied: matplotlib>=2.0.0 in c:\\users\\prannaya\\appdata\\roaming\\python\\python37\\site-packages (from ipympl) (3.4.2)\n",
      "Requirement already satisfied: ipywidgets>=7.5.0 in c:\\users\\prannaya\\appdata\\local\\programs\\python\\python37\\lib\\site-packages (from ipympl) (7.5.1)\n",
      "Requirement already satisfied: jupyter-client in c:\\users\\prannaya\\appdata\\local\\programs\\python\\python37\\lib\\site-packages (from ipykernel>=4.7->ipympl) (6.1.3)\n",
      "Requirement already satisfied: tornado>=4.2 in c:\\users\\prannaya\\appdata\\roaming\\python\\python37\\site-packages (from ipykernel>=4.7->ipympl) (6.1)\n",
      "Requirement already satisfied: ipython>=5.0.0 in c:\\users\\prannaya\\appdata\\local\\programs\\python\\python37\\lib\\site-packages (from ipykernel>=4.7->ipympl) (7.15.0)\n",
      "Requirement already satisfied: traitlets>=4.1.0 in c:\\users\\prannaya\\appdata\\local\\programs\\python\\python37\\lib\\site-packages (from ipykernel>=4.7->ipympl) (4.3.2)\n",
      "Requirement already satisfied: backcall in c:\\users\\prannaya\\appdata\\local\\programs\\python\\python37\\lib\\site-packages (from ipython>=5.0.0->ipykernel>=4.7->ipympl) (0.1.0)\n",
      "Requirement already satisfied: pickleshare in c:\\users\\prannaya\\appdata\\local\\programs\\python\\python37\\lib\\site-packages (from ipython>=5.0.0->ipykernel>=4.7->ipympl) (0.7.5)\n",
      "Requirement already satisfied: prompt-toolkit!=3.0.0,!=3.0.1,<3.1.0,>=2.0.0 in c:\\users\\prannaya\\appdata\\local\\programs\\python\\python37\\lib\\site-packages (from ipython>=5.0.0->ipykernel>=4.7->ipympl) (3.0.19)\n",
      "Requirement already satisfied: colorama in c:\\users\\prannaya\\appdata\\local\\programs\\python\\python37\\lib\\site-packages (from ipython>=5.0.0->ipykernel>=4.7->ipympl) (0.4.3)\n",
      "Requirement already satisfied: pygments in c:\\users\\prannaya\\appdata\\local\\programs\\python\\python37\\lib\\site-packages (from ipython>=5.0.0->ipykernel>=4.7->ipympl) (2.6.1)\n",
      "Requirement already satisfied: decorator in c:\\users\\prannaya\\appdata\\local\\programs\\python\\python37\\lib\\site-packages (from ipython>=5.0.0->ipykernel>=4.7->ipympl) (4.4.2)\n",
      "Requirement already satisfied: setuptools>=18.5 in c:\\users\\prannaya\\appdata\\roaming\\python\\python37\\site-packages (from ipython>=5.0.0->ipykernel>=4.7->ipympl) (49.2.0)\n",
      "Requirement already satisfied: jedi>=0.10 in c:\\users\\prannaya\\appdata\\local\\programs\\python\\python37\\lib\\site-packages (from ipython>=5.0.0->ipykernel>=4.7->ipympl) (0.17.0)\n",
      "Requirement already satisfied: nbformat>=4.2.0 in c:\\users\\prannaya\\appdata\\local\\programs\\python\\python37\\lib\\site-packages (from ipywidgets>=7.5.0->ipympl) (5.0.6)\n",
      "Requirement already satisfied: widgetsnbextension~=3.5.0 in c:\\users\\prannaya\\appdata\\local\\programs\\python\\python37\\lib\\site-packages (from ipywidgets>=7.5.0->ipympl) (3.5.1)\n",
      "Requirement already satisfied: parso>=0.7.0 in c:\\users\\prannaya\\appdata\\local\\programs\\python\\python37\\lib\\site-packages (from jedi>=0.10->ipython>=5.0.0->ipykernel>=4.7->ipympl) (0.7.0)\n",
      "Requirement already satisfied: pyparsing>=2.2.1 in c:\\users\\prannaya\\appdata\\local\\programs\\python\\python37\\lib\\site-packages (from matplotlib>=2.0.0->ipympl) (2.4.7)\n",
      "Requirement already satisfied: cycler>=0.10 in c:\\users\\prannaya\\appdata\\local\\programs\\python\\python37\\lib\\site-packages (from matplotlib>=2.0.0->ipympl) (0.10.0)\n",
      "Requirement already satisfied: numpy>=1.16 in c:\\users\\prannaya\\appdata\\roaming\\python\\python37\\site-packages (from matplotlib>=2.0.0->ipympl) (1.20.3)\n",
      "Requirement already satisfied: kiwisolver>=1.0.1 in c:\\users\\prannaya\\appdata\\local\\programs\\python\\python37\\lib\\site-packages (from matplotlib>=2.0.0->ipympl) (1.2.0)\n",
      "Requirement already satisfied: pillow>=6.2.0 in c:\\users\\prannaya\\appdata\\roaming\\python\\python37\\site-packages (from matplotlib>=2.0.0->ipympl) (8.2.0)\n",
      "Requirement already satisfied: python-dateutil>=2.7 in c:\\users\\prannaya\\appdata\\local\\programs\\python\\python37\\lib\\site-packages (from matplotlib>=2.0.0->ipympl) (2.8.1)\n",
      "Requirement already satisfied: six in c:\\users\\prannaya\\appdata\\local\\programs\\python\\python37\\lib\\site-packages (from cycler>=0.10->matplotlib>=2.0.0->ipympl) (1.12.0)\n",
      "Requirement already satisfied: ipython-genutils in c:\\users\\prannaya\\appdata\\local\\programs\\python\\python37\\lib\\site-packages (from nbformat>=4.2.0->ipywidgets>=7.5.0->ipympl) (0.2.0)\n",
      "Requirement already satisfied: jupyter-core in c:\\users\\prannaya\\appdata\\local\\programs\\python\\python37\\lib\\site-packages (from nbformat>=4.2.0->ipywidgets>=7.5.0->ipympl) (4.6.3)\n",
      "Requirement already satisfied: jsonschema!=2.5.0,>=2.4 in c:\\users\\prannaya\\appdata\\local\\programs\\python\\python37\\lib\\site-packages (from nbformat>=4.2.0->ipywidgets>=7.5.0->ipympl) (3.2.0)\n",
      "Requirement already satisfied: pyrsistent>=0.14.0 in c:\\users\\prannaya\\appdata\\local\\programs\\python\\python37\\lib\\site-packages (from jsonschema!=2.5.0,>=2.4->nbformat>=4.2.0->ipywidgets>=7.5.0->ipympl) (0.16.0)\n",
      "Requirement already satisfied: attrs>=17.4.0 in c:\\users\\prannaya\\appdata\\local\\programs\\python\\python37\\lib\\site-packages (from jsonschema!=2.5.0,>=2.4->nbformat>=4.2.0->ipywidgets>=7.5.0->ipympl) (19.3.0)\n",
      "Requirement already satisfied: importlib-metadata in c:\\users\\prannaya\\appdata\\local\\programs\\python\\python37\\lib\\site-packages (from jsonschema!=2.5.0,>=2.4->nbformat>=4.2.0->ipywidgets>=7.5.0->ipympl) (1.7.0)\n",
      "Requirement already satisfied: wcwidth in c:\\users\\prannaya\\appdata\\local\\programs\\python\\python37\\lib\\site-packages (from prompt-toolkit!=3.0.0,!=3.0.1,<3.1.0,>=2.0.0->ipython>=5.0.0->ipykernel>=4.7->ipympl) (0.1.7)\n",
      "Requirement already satisfied: notebook>=4.4.1 in c:\\users\\prannaya\\appdata\\local\\programs\\python\\python37\\lib\\site-packages (from widgetsnbextension~=3.5.0->ipywidgets>=7.5.0->ipympl) (6.0.3)\n",
      "Requirement already satisfied: pyzmq>=17 in c:\\users\\prannaya\\appdata\\local\\programs\\python\\python37\\lib\\site-packages (from notebook>=4.4.1->widgetsnbextension~=3.5.0->ipywidgets>=7.5.0->ipympl) (19.0.1)\n",
      "Requirement already satisfied: Send2Trash in c:\\users\\prannaya\\appdata\\local\\programs\\python\\python37\\lib\\site-packages (from notebook>=4.4.1->widgetsnbextension~=3.5.0->ipywidgets>=7.5.0->ipympl) (1.5.0)\n",
      "Requirement already satisfied: prometheus-client in c:\\users\\prannaya\\appdata\\local\\programs\\python\\python37\\lib\\site-packages (from notebook>=4.4.1->widgetsnbextension~=3.5.0->ipywidgets>=7.5.0->ipympl) (0.8.0)\n",
      "Requirement already satisfied: jinja2 in c:\\users\\prannaya\\appdata\\local\\programs\\python\\python37\\lib\\site-packages (from notebook>=4.4.1->widgetsnbextension~=3.5.0->ipywidgets>=7.5.0->ipympl) (2.11.2)\n",
      "Requirement already satisfied: nbconvert in c:\\users\\prannaya\\appdata\\local\\programs\\python\\python37\\lib\\site-packages (from notebook>=4.4.1->widgetsnbextension~=3.5.0->ipywidgets>=7.5.0->ipympl) (5.6.1)\n",
      "Requirement already satisfied: terminado>=0.8.1 in c:\\users\\prannaya\\appdata\\roaming\\python\\python37\\site-packages (from notebook>=4.4.1->widgetsnbextension~=3.5.0->ipywidgets>=7.5.0->ipympl) (0.10.1)\n",
      "Requirement already satisfied: pywin32>=1.0 in c:\\users\\prannaya\\appdata\\local\\programs\\python\\python37\\lib\\site-packages (from jupyter-core->nbformat>=4.2.0->ipywidgets>=7.5.0->ipympl) (227)\n",
      "Requirement already satisfied: pywinpty>=1.1.0 in c:\\users\\prannaya\\appdata\\roaming\\python\\python37\\site-packages (from terminado>=0.8.1->notebook>=4.4.1->widgetsnbextension~=3.5.0->ipywidgets>=7.5.0->ipympl) (1.1.3)\n",
      "Requirement already satisfied: zipp>=0.5 in c:\\users\\prannaya\\appdata\\local\\programs\\python\\python37\\lib\\site-packages (from importlib-metadata->jsonschema!=2.5.0,>=2.4->nbformat>=4.2.0->ipywidgets>=7.5.0->ipympl) (0.6.0)\n",
      "Requirement already satisfied: more-itertools in c:\\users\\prannaya\\appdata\\local\\programs\\python\\python37\\lib\\site-packages (from zipp>=0.5->importlib-metadata->jsonschema!=2.5.0,>=2.4->nbformat>=4.2.0->ipywidgets>=7.5.0->ipympl) (8.3.0)\n",
      "Requirement already satisfied: MarkupSafe>=0.23 in c:\\users\\prannaya\\appdata\\local\\programs\\python\\python37\\lib\\site-packages (from jinja2->notebook>=4.4.1->widgetsnbextension~=3.5.0->ipywidgets>=7.5.0->ipympl) (1.1.1)\n",
      "Requirement already satisfied: pandocfilters>=1.4.1 in c:\\users\\prannaya\\appdata\\local\\programs\\python\\python37\\lib\\site-packages (from nbconvert->notebook>=4.4.1->widgetsnbextension~=3.5.0->ipywidgets>=7.5.0->ipympl) (1.4.2)\n",
      "Requirement already satisfied: testpath in c:\\users\\prannaya\\appdata\\local\\programs\\python\\python37\\lib\\site-packages (from nbconvert->notebook>=4.4.1->widgetsnbextension~=3.5.0->ipywidgets>=7.5.0->ipympl) (0.4.2)\n",
      "Requirement already satisfied: defusedxml in c:\\users\\prannaya\\appdata\\local\\programs\\python\\python37\\lib\\site-packages (from nbconvert->notebook>=4.4.1->widgetsnbextension~=3.5.0->ipywidgets>=7.5.0->ipympl) (0.6.0)\n",
      "Requirement already satisfied: mistune<2,>=0.8.1 in c:\\users\\prannaya\\appdata\\local\\programs\\python\\python37\\lib\\site-packages (from nbconvert->notebook>=4.4.1->widgetsnbextension~=3.5.0->ipywidgets>=7.5.0->ipympl) (0.8.4)\n",
      "Requirement already satisfied: bleach in c:\\users\\prannaya\\appdata\\local\\programs\\python\\python37\\lib\\site-packages (from nbconvert->notebook>=4.4.1->widgetsnbextension~=3.5.0->ipywidgets>=7.5.0->ipympl) (3.1.5)\n",
      "Requirement already satisfied: entrypoints>=0.2.2 in c:\\users\\prannaya\\appdata\\local\\programs\\python\\python37\\lib\\site-packages (from nbconvert->notebook>=4.4.1->widgetsnbextension~=3.5.0->ipywidgets>=7.5.0->ipympl) (0.3)\n",
      "Requirement already satisfied: packaging in c:\\users\\prannaya\\appdata\\local\\programs\\python\\python37\\lib\\site-packages (from bleach->nbconvert->notebook>=4.4.1->widgetsnbextension~=3.5.0->ipywidgets>=7.5.0->ipympl) (20.4)\n",
      "Requirement already satisfied: webencodings in c:\\users\\prannaya\\appdata\\local\\programs\\python\\python37\\lib\\site-packages (from bleach->nbconvert->notebook>=4.4.1->widgetsnbextension~=3.5.0->ipywidgets>=7.5.0->ipympl) (0.5.1)\n"
     ]
    },
    {
     "data": {
      "application/vnd.jupyter.widget-view+json": {
       "model_id": "e7d4b0540f9d402bb5c9b2b8a13c6d06",
       "version_major": 2,
       "version_minor": 0
      },
      "text/plain": [
       "Canvas(toolbar=Toolbar(toolitems=[('Home', 'Reset original view', 'home', 'home'), ('Back', 'Back to previous …"
      ]
     },
     "metadata": {},
     "output_type": "display_data"
    }
   ],
   "source": [
    "# Enabling the `widget` backend.\n",
    "# This requires jupyter-matplotlib a.k.a. ipympl.\n",
    "# ipympl can be install via pip or conda.\n",
    "!pip install ipympl\n",
    "%matplotlib widget\n",
    "\n",
    "# Testing matplotlib interactions with a simple plot\n",
    "fig = plt.figure()\n",
    "fig.canvas.header_visible = False # Hide the Figure name at the top of the figure\n",
    "fig.canvas.toolbar_visible = True"
   ]
  },
  {
   "cell_type": "code",
   "execution_count": 4,
   "metadata": {},
   "outputs": [],
   "source": [
    "binarystars = pd.read_csv(\"../data/binarystars.csv\").rename(columns={\"KIC\": \"id\"}).set_index(\"id\")\n",
    "configs = pd.read_csv(\"../data/binaryconfigs.csv\")\n",
    "configs.columns = [\"id\", \"period\", \"duration\", \"depth\"]\n",
    "configs = configs.set_index(\"id\")"
   ]
  },
  {
   "cell_type": "markdown",
   "metadata": {},
   "source": [
    "### Kepler Eclipsing Binary Catalog"
   ]
  },
  {
   "cell_type": "code",
   "execution_count": 5,
   "metadata": {},
   "outputs": [
    {
     "data": {
      "text/html": [
       "<div>\n",
       "<style scoped>\n",
       "    .dataframe tbody tr th:only-of-type {\n",
       "        vertical-align: middle;\n",
       "    }\n",
       "\n",
       "    .dataframe tbody tr th {\n",
       "        vertical-align: top;\n",
       "    }\n",
       "\n",
       "    .dataframe thead th {\n",
       "        text-align: right;\n",
       "    }\n",
       "</style>\n",
       "<table border=\"1\" class=\"dataframe\">\n",
       "  <thead>\n",
       "    <tr style=\"text-align: right;\">\n",
       "      <th></th>\n",
       "      <th>period</th>\n",
       "      <th>period_err</th>\n",
       "      <th>bjd0</th>\n",
       "      <th>bjd0_err</th>\n",
       "      <th>morph</th>\n",
       "      <th>GLon</th>\n",
       "      <th>GLat</th>\n",
       "      <th>kmag</th>\n",
       "      <th>Teff</th>\n",
       "      <th>SC</th>\n",
       "    </tr>\n",
       "    <tr>\n",
       "      <th>id</th>\n",
       "      <th></th>\n",
       "      <th></th>\n",
       "      <th></th>\n",
       "      <th></th>\n",
       "      <th></th>\n",
       "      <th></th>\n",
       "      <th></th>\n",
       "      <th></th>\n",
       "      <th></th>\n",
       "      <th></th>\n",
       "    </tr>\n",
       "  </thead>\n",
       "  <tbody>\n",
       "    <tr>\n",
       "      <th>3863594</th>\n",
       "      <td>0.053268</td>\n",
       "      <td>0.0</td>\n",
       "      <td>55000.000000</td>\n",
       "      <td>0.004327</td>\n",
       "      <td>0.79</td>\n",
       "      <td>-1.0000</td>\n",
       "      <td>-1.0000</td>\n",
       "      <td>-1.000</td>\n",
       "      <td>-1.0</td>\n",
       "      <td>False</td>\n",
       "    </tr>\n",
       "    <tr>\n",
       "      <th>10417986</th>\n",
       "      <td>0.073731</td>\n",
       "      <td>0.0</td>\n",
       "      <td>55000.027476</td>\n",
       "      <td>0.004231</td>\n",
       "      <td>0.99</td>\n",
       "      <td>81.0390</td>\n",
       "      <td>11.0820</td>\n",
       "      <td>9.128</td>\n",
       "      <td>-1.0</td>\n",
       "      <td>True</td>\n",
       "    </tr>\n",
       "    <tr>\n",
       "      <th>8912468</th>\n",
       "      <td>0.094838</td>\n",
       "      <td>0.0</td>\n",
       "      <td>54953.576945</td>\n",
       "      <td>0.005326</td>\n",
       "      <td>0.98</td>\n",
       "      <td>80.1095</td>\n",
       "      <td>7.8882</td>\n",
       "      <td>11.751</td>\n",
       "      <td>6194.0</td>\n",
       "      <td>False</td>\n",
       "    </tr>\n",
       "    <tr>\n",
       "      <th>8758716</th>\n",
       "      <td>0.107205</td>\n",
       "      <td>0.0</td>\n",
       "      <td>54953.672989</td>\n",
       "      <td>0.006197</td>\n",
       "      <td>1.00</td>\n",
       "      <td>77.7478</td>\n",
       "      <td>11.6565</td>\n",
       "      <td>13.531</td>\n",
       "      <td>-1.0</td>\n",
       "      <td>False</td>\n",
       "    </tr>\n",
       "    <tr>\n",
       "      <th>10855535</th>\n",
       "      <td>0.112782</td>\n",
       "      <td>0.0</td>\n",
       "      <td>54964.629315</td>\n",
       "      <td>0.006374</td>\n",
       "      <td>0.99</td>\n",
       "      <td>79.3949</td>\n",
       "      <td>15.9212</td>\n",
       "      <td>13.870</td>\n",
       "      <td>7555.0</td>\n",
       "      <td>False</td>\n",
       "    </tr>\n",
       "    <tr>\n",
       "      <th>...</th>\n",
       "      <td>...</td>\n",
       "      <td>...</td>\n",
       "      <td>...</td>\n",
       "      <td>...</td>\n",
       "      <td>...</td>\n",
       "      <td>...</td>\n",
       "      <td>...</td>\n",
       "      <td>...</td>\n",
       "      <td>...</td>\n",
       "      <td>...</td>\n",
       "    </tr>\n",
       "    <tr>\n",
       "      <th>9408440</th>\n",
       "      <td>989.985000</td>\n",
       "      <td>-1.0</td>\n",
       "      <td>55346.365980</td>\n",
       "      <td>0.096130</td>\n",
       "      <td>0.00</td>\n",
       "      <td>78.5607</td>\n",
       "      <td>12.2615</td>\n",
       "      <td>13.199</td>\n",
       "      <td>5688.0</td>\n",
       "      <td>False</td>\n",
       "    </tr>\n",
       "    <tr>\n",
       "      <th>8054233</th>\n",
       "      <td>1058.000000</td>\n",
       "      <td>-1.0</td>\n",
       "      <td>54751.806288</td>\n",
       "      <td>0.968052</td>\n",
       "      <td>0.03</td>\n",
       "      <td>78.6142</td>\n",
       "      <td>7.7321</td>\n",
       "      <td>11.783</td>\n",
       "      <td>4733.0</td>\n",
       "      <td>False</td>\n",
       "    </tr>\n",
       "    <tr>\n",
       "      <th>7672940</th>\n",
       "      <td>1064.270000</td>\n",
       "      <td>-1.0</td>\n",
       "      <td>54977.092960</td>\n",
       "      <td>0.089646</td>\n",
       "      <td>0.00</td>\n",
       "      <td>74.5296</td>\n",
       "      <td>14.6136</td>\n",
       "      <td>12.328</td>\n",
       "      <td>-1.0</td>\n",
       "      <td>False</td>\n",
       "    </tr>\n",
       "    <tr>\n",
       "      <th>11961695</th>\n",
       "      <td>1082.815000</td>\n",
       "      <td>-1.0</td>\n",
       "      <td>54871.395674</td>\n",
       "      <td>0.211754</td>\n",
       "      <td>0.02</td>\n",
       "      <td>81.8628</td>\n",
       "      <td>15.9404</td>\n",
       "      <td>13.718</td>\n",
       "      <td>5768.0</td>\n",
       "      <td>False</td>\n",
       "    </tr>\n",
       "    <tr>\n",
       "      <th>4360072</th>\n",
       "      <td>1087.300000</td>\n",
       "      <td>-1.0</td>\n",
       "      <td>55165.611684</td>\n",
       "      <td>1.147790</td>\n",
       "      <td>0.05</td>\n",
       "      <td>71.5008</td>\n",
       "      <td>11.7046</td>\n",
       "      <td>11.159</td>\n",
       "      <td>4950.0</td>\n",
       "      <td>False</td>\n",
       "    </tr>\n",
       "  </tbody>\n",
       "</table>\n",
       "<p>2922 rows × 10 columns</p>\n",
       "</div>"
      ],
      "text/plain": [
       "               period  period_err          bjd0  bjd0_err  morph     GLon  \\\n",
       "id                                                                          \n",
       "3863594      0.053268         0.0  55000.000000  0.004327   0.79  -1.0000   \n",
       "10417986     0.073731         0.0  55000.027476  0.004231   0.99  81.0390   \n",
       "8912468      0.094838         0.0  54953.576945  0.005326   0.98  80.1095   \n",
       "8758716      0.107205         0.0  54953.672989  0.006197   1.00  77.7478   \n",
       "10855535     0.112782         0.0  54964.629315  0.006374   0.99  79.3949   \n",
       "...               ...         ...           ...       ...    ...      ...   \n",
       "9408440    989.985000        -1.0  55346.365980  0.096130   0.00  78.5607   \n",
       "8054233   1058.000000        -1.0  54751.806288  0.968052   0.03  78.6142   \n",
       "7672940   1064.270000        -1.0  54977.092960  0.089646   0.00  74.5296   \n",
       "11961695  1082.815000        -1.0  54871.395674  0.211754   0.02  81.8628   \n",
       "4360072   1087.300000        -1.0  55165.611684  1.147790   0.05  71.5008   \n",
       "\n",
       "             GLat    kmag    Teff     SC  \n",
       "id                                        \n",
       "3863594   -1.0000  -1.000    -1.0  False  \n",
       "10417986  11.0820   9.128    -1.0   True  \n",
       "8912468    7.8882  11.751  6194.0  False  \n",
       "8758716   11.6565  13.531    -1.0  False  \n",
       "10855535  15.9212  13.870  7555.0  False  \n",
       "...           ...     ...     ...    ...  \n",
       "9408440   12.2615  13.199  5688.0  False  \n",
       "8054233    7.7321  11.783  4733.0  False  \n",
       "7672940   14.6136  12.328    -1.0  False  \n",
       "11961695  15.9404  13.718  5768.0  False  \n",
       "4360072   11.7046  11.159  4950.0  False  \n",
       "\n",
       "[2922 rows x 10 columns]"
      ]
     },
     "execution_count": 5,
     "metadata": {},
     "output_type": "execute_result"
    }
   ],
   "source": [
    "binarystars"
   ]
  },
  {
   "cell_type": "code",
   "execution_count": 6,
   "metadata": {},
   "outputs": [
    {
     "data": {
      "text/html": [
       "<div>\n",
       "<style scoped>\n",
       "    .dataframe tbody tr th:only-of-type {\n",
       "        vertical-align: middle;\n",
       "    }\n",
       "\n",
       "    .dataframe tbody tr th {\n",
       "        vertical-align: top;\n",
       "    }\n",
       "\n",
       "    .dataframe thead th {\n",
       "        text-align: right;\n",
       "    }\n",
       "</style>\n",
       "<table border=\"1\" class=\"dataframe\">\n",
       "  <thead>\n",
       "    <tr style=\"text-align: right;\">\n",
       "      <th></th>\n",
       "      <th>period</th>\n",
       "      <th>duration</th>\n",
       "      <th>depth</th>\n",
       "    </tr>\n",
       "    <tr>\n",
       "      <th>id</th>\n",
       "      <th></th>\n",
       "      <th></th>\n",
       "      <th></th>\n",
       "    </tr>\n",
       "  </thead>\n",
       "  <tbody>\n",
       "    <tr>\n",
       "      <th>1026032</th>\n",
       "      <td>7.303493e+05</td>\n",
       "      <td>17280.0</td>\n",
       "      <td>0.003519</td>\n",
       "    </tr>\n",
       "    <tr>\n",
       "      <th>1026957</th>\n",
       "      <td>1.127302e+06</td>\n",
       "      <td>28512.0</td>\n",
       "      <td>0.001687</td>\n",
       "    </tr>\n",
       "    <tr>\n",
       "      <th>1161345</th>\n",
       "      <td>3.707062e+05</td>\n",
       "      <td>4320.0</td>\n",
       "      <td>0.000869</td>\n",
       "    </tr>\n",
       "    <tr>\n",
       "      <th>1295531</th>\n",
       "      <td>7.281519e+04</td>\n",
       "      <td>28512.0</td>\n",
       "      <td>0.007980</td>\n",
       "    </tr>\n",
       "    <tr>\n",
       "      <th>1571511</th>\n",
       "      <td>3.140644e+04</td>\n",
       "      <td>28512.0</td>\n",
       "      <td>0.000048</td>\n",
       "    </tr>\n",
       "    <tr>\n",
       "      <th>...</th>\n",
       "      <td>...</td>\n",
       "      <td>...</td>\n",
       "      <td>...</td>\n",
       "    </tr>\n",
       "    <tr>\n",
       "      <th>12598713</th>\n",
       "      <td>3.332850e+04</td>\n",
       "      <td>28512.0</td>\n",
       "      <td>0.011091</td>\n",
       "    </tr>\n",
       "    <tr>\n",
       "      <th>12599700</th>\n",
       "      <td>8.804085e+04</td>\n",
       "      <td>28512.0</td>\n",
       "      <td>0.038670</td>\n",
       "    </tr>\n",
       "    <tr>\n",
       "      <th>12644769</th>\n",
       "      <td>1.055417e+06</td>\n",
       "      <td>8640.0</td>\n",
       "      <td>0.007281</td>\n",
       "    </tr>\n",
       "    <tr>\n",
       "      <th>12645761</th>\n",
       "      <td>2.342141e+05</td>\n",
       "      <td>17280.0</td>\n",
       "      <td>0.003299</td>\n",
       "    </tr>\n",
       "    <tr>\n",
       "      <th>12785282</th>\n",
       "      <td>3.404656e+04</td>\n",
       "      <td>8640.0</td>\n",
       "      <td>0.084576</td>\n",
       "    </tr>\n",
       "  </tbody>\n",
       "</table>\n",
       "<p>2289 rows × 3 columns</p>\n",
       "</div>"
      ],
      "text/plain": [
       "                period  duration     depth\n",
       "id                                        \n",
       "1026032   7.303493e+05   17280.0  0.003519\n",
       "1026957   1.127302e+06   28512.0  0.001687\n",
       "1161345   3.707062e+05    4320.0  0.000869\n",
       "1295531   7.281519e+04   28512.0  0.007980\n",
       "1571511   3.140644e+04   28512.0  0.000048\n",
       "...                ...       ...       ...\n",
       "12598713  3.332850e+04   28512.0  0.011091\n",
       "12599700  8.804085e+04   28512.0  0.038670\n",
       "12644769  1.055417e+06    8640.0  0.007281\n",
       "12645761  2.342141e+05   17280.0  0.003299\n",
       "12785282  3.404656e+04    8640.0  0.084576\n",
       "\n",
       "[2289 rows x 3 columns]"
      ]
     },
     "execution_count": 6,
     "metadata": {},
     "output_type": "execute_result"
    }
   ],
   "source": [
    "def day2seconds(s):\n",
    "    if type(s) in [float, int]:\n",
    "        return s * 86400\n",
    "    return float(s[:-2]) * 86400\n",
    "\n",
    "configs[\"period\"] = configs.period.apply(day2seconds)\n",
    "configs[\"duration\"] = configs.duration.apply(day2seconds)\n",
    "configs = configs.dropna().sort_index()\n",
    "configs"
   ]
  },
  {
   "cell_type": "code",
   "execution_count": 31,
   "metadata": {},
   "outputs": [],
   "source": [
    "binarystars.to_csv(\"../data/kepler_binary_stars.csv\")\n",
    "configs.to_csv(\"../data/kepler_binary_configs.csv\")"
   ]
  },
  {
   "cell_type": "code",
   "execution_count": 40,
   "metadata": {},
   "outputs": [],
   "source": [
    "altogether = pd.merge(configs, binarystars, how=\"left\", on=\"id\")\n",
    "altogether.to_csv(\"../data/kepler_binary.csv\")"
   ]
  },
  {
   "cell_type": "markdown",
   "metadata": {},
   "source": [
    "## EDA\n",
    "Exploratory Data Analysis"
   ]
  },
  {
   "cell_type": "markdown",
   "metadata": {},
   "source": [
    "### Constants"
   ]
  },
  {
   "cell_type": "code",
   "execution_count": 7,
   "metadata": {},
   "outputs": [],
   "source": [
    "n = len(configs)\n",
    "bins = int(np.sqrt(n))\n",
    "\n",
    "periods = configs.period\n",
    "durations = configs.duration\n",
    "depths = configs.depth\n",
    "\n",
    "percentiles = np.array([2.5, 25, 50, 75, 97.5])"
   ]
  },
  {
   "cell_type": "markdown",
   "metadata": {},
   "source": [
    "### Summary Statistics"
   ]
  },
  {
   "cell_type": "code",
   "execution_count": 41,
   "metadata": {},
   "outputs": [],
   "source": [
    "mu_period = periods.mean()\n",
    "sigma_period = periods.std()\n",
    "var_period = np.var(periods)\n",
    "ptiles_per = np.percentile(periods, percentiles)\n",
    "\n",
    "mu_duration = durations.mean()\n",
    "sigma_duration = durations.std()\n",
    "var_duration = np.var(durations)\n",
    "ptiles_dur = np.percentile(durations, percentiles)\n",
    "\n",
    "mu_depth = depths.mean()\n",
    "sigma_duration = depths.std()\n",
    "var_depth = np.var(depths)\n",
    "ptiles_dep = np.percentile(depths, percentiles)"
   ]
  },
  {
   "cell_type": "markdown",
   "metadata": {},
   "source": [
    "### Functions"
   ]
  },
  {
   "cell_type": "code",
   "execution_count": 9,
   "metadata": {},
   "outputs": [],
   "source": [
    "def ecdf(data):\n",
    "    \"\"\"Compute ECDF for a one-dimensional array of measurements.\"\"\"\n",
    "    # Number of data points: n\n",
    "    n = len(data)\n",
    "\n",
    "    # x-data for the ECDF: x\n",
    "    x = np.sort(data)\n",
    "\n",
    "    # y-data for the ECDF: y\n",
    "    y = np.arange(1, n+1) / n\n",
    "\n",
    "    return x, y\n",
    "\n",
    "def plot_hist(data, xlabel, ylabel=\"count\", bins=bins, ax=None, **kwargs):\n",
    "    if not ax:\n",
    "        fig = plt.figure(figsize=(16, 12))\n",
    "        ax = fig.add_subplot(111)\n",
    "    \n",
    "    ax.hist(data, bins=bins, **kwargs)\n",
    "    ax.set_xlabel(xlabel)\n",
    "    ax.set_ylabel(ylabel)\n",
    "    plt.show()\n",
    "\n",
    "    \n",
    "def plot_ecdf(data, xlabel, ptiles, ylabel=\"ECDF\", ax=None, marker=\".\", linestyle=\"none\", **kwargs):\n",
    "    if not ax:\n",
    "        fig = plt.figure(figsize=(16, 12))\n",
    "        ax = fig.add_subplot(111)\n",
    "        \n",
    "    # Retrive ECDF\n",
    "    x, y = ecdf(data)\n",
    "\n",
    "    # Generate plot\n",
    "    ax.plot(x, y, marker=marker, linestyle=linestyle, **kwargs)\n",
    "\n",
    "    # Label the axes\n",
    "    ax.set_xlabel(xlabel)\n",
    "    ax.set_ylabel(ylabel)\n",
    "    \n",
    "    ax.plot(ptiles, percentiles/100, marker='D', color='red',\n",
    "         linestyle=\"none\")\n",
    "\n",
    "    # Display the plot\n",
    "    plt.show()"
   ]
  },
  {
   "cell_type": "markdown",
   "metadata": {},
   "source": [
    "### Graphical EDA\n",
    "#### Histograms"
   ]
  },
  {
   "cell_type": "code",
   "execution_count": 43,
   "metadata": {},
   "outputs": [
    {
     "data": {
      "application/vnd.jupyter.widget-view+json": {
       "model_id": "5e85bd5eace0477893a1295921144998",
       "version_major": 2,
       "version_minor": 0
      },
      "text/plain": [
       "Canvas(toolbar=Toolbar(toolitems=[('Home', 'Reset original view', 'home', 'home'), ('Back', 'Back to previous …"
      ]
     },
     "metadata": {},
     "output_type": "display_data"
    }
   ],
   "source": [
    "plot_hist(periods, \"Period\")"
   ]
  },
  {
   "cell_type": "code",
   "execution_count": 11,
   "metadata": {},
   "outputs": [
    {
     "data": {
      "application/vnd.jupyter.widget-view+json": {
       "model_id": "f199c799d979430fac026f17c3d83099",
       "version_major": 2,
       "version_minor": 0
      },
      "text/plain": [
       "Canvas(toolbar=Toolbar(toolitems=[('Home', 'Reset original view', 'home', 'home'), ('Back', 'Back to previous …"
      ]
     },
     "metadata": {},
     "output_type": "display_data"
    }
   ],
   "source": [
    "plot_hist(durations, \"Duration\")"
   ]
  },
  {
   "cell_type": "code",
   "execution_count": 12,
   "metadata": {},
   "outputs": [
    {
     "data": {
      "application/vnd.jupyter.widget-view+json": {
       "model_id": "341688a94c6c46768b5eb79b0fd8027c",
       "version_major": 2,
       "version_minor": 0
      },
      "text/plain": [
       "Canvas(toolbar=Toolbar(toolitems=[('Home', 'Reset original view', 'home', 'home'), ('Back', 'Back to previous …"
      ]
     },
     "metadata": {},
     "output_type": "display_data"
    }
   ],
   "source": [
    "plot_hist(depths, \"Depth\")"
   ]
  },
  {
   "cell_type": "markdown",
   "metadata": {},
   "source": [
    "#### ECDF"
   ]
  },
  {
   "cell_type": "code",
   "execution_count": 13,
   "metadata": {},
   "outputs": [
    {
     "data": {
      "application/vnd.jupyter.widget-view+json": {
       "model_id": "6ff987fe12324b08bb49fc53bdc20015",
       "version_major": 2,
       "version_minor": 0
      },
      "text/plain": [
       "Canvas(toolbar=Toolbar(toolitems=[('Home', 'Reset original view', 'home', 'home'), ('Back', 'Back to previous …"
      ]
     },
     "metadata": {},
     "output_type": "display_data"
    }
   ],
   "source": [
    "plot_ecdf(periods, \"Period\", ptiles_per)"
   ]
  },
  {
   "cell_type": "code",
   "execution_count": 14,
   "metadata": {},
   "outputs": [
    {
     "data": {
      "application/vnd.jupyter.widget-view+json": {
       "model_id": "c8b30d29ba6d42989104686b0ffde89f",
       "version_major": 2,
       "version_minor": 0
      },
      "text/plain": [
       "Canvas(toolbar=Toolbar(toolitems=[('Home', 'Reset original view', 'home', 'home'), ('Back', 'Back to previous …"
      ]
     },
     "metadata": {},
     "output_type": "display_data"
    }
   ],
   "source": [
    "plot_ecdf(durations, \"Duration\", ptiles_dur)"
   ]
  },
  {
   "cell_type": "code",
   "execution_count": 15,
   "metadata": {},
   "outputs": [
    {
     "data": {
      "application/vnd.jupyter.widget-view+json": {
       "model_id": "79596f66cd8d42a7abee4e35082bcf54",
       "version_major": 2,
       "version_minor": 0
      },
      "text/plain": [
       "Canvas(toolbar=Toolbar(toolitems=[('Home', 'Reset original view', 'home', 'home'), ('Back', 'Back to previous …"
      ]
     },
     "metadata": {},
     "output_type": "display_data"
    }
   ],
   "source": [
    "plot_ecdf(depths, \"Depth\", ptiles_dep)"
   ]
  },
  {
   "cell_type": "markdown",
   "metadata": {},
   "source": [
    "### Quantitative EDA"
   ]
  },
  {
   "cell_type": "markdown",
   "metadata": {},
   "source": [
    "#### Covariance"
   ]
  },
  {
   "cell_type": "code",
   "execution_count": 16,
   "metadata": {},
   "outputs": [],
   "source": [
    "cov_perdur = np.cov(periods, durations)\n",
    "cov_perdep = np.cov(periods, depths)\n",
    "cov_durdep = np.cov(durations, depths)"
   ]
  },
  {
   "cell_type": "markdown",
   "metadata": {},
   "source": [
    "#### Correlation"
   ]
  },
  {
   "cell_type": "code",
   "execution_count": 17,
   "metadata": {},
   "outputs": [
    {
     "data": {
      "text/html": [
       "<div>\n",
       "<style scoped>\n",
       "    .dataframe tbody tr th:only-of-type {\n",
       "        vertical-align: middle;\n",
       "    }\n",
       "\n",
       "    .dataframe tbody tr th {\n",
       "        vertical-align: top;\n",
       "    }\n",
       "\n",
       "    .dataframe thead th {\n",
       "        text-align: right;\n",
       "    }\n",
       "</style>\n",
       "<table border=\"1\" class=\"dataframe\">\n",
       "  <thead>\n",
       "    <tr style=\"text-align: right;\">\n",
       "      <th></th>\n",
       "      <th>period</th>\n",
       "      <th>duration</th>\n",
       "      <th>depth</th>\n",
       "    </tr>\n",
       "  </thead>\n",
       "  <tbody>\n",
       "    <tr>\n",
       "      <th>period</th>\n",
       "      <td>1.000000</td>\n",
       "      <td>-0.288703</td>\n",
       "      <td>-0.099790</td>\n",
       "    </tr>\n",
       "    <tr>\n",
       "      <th>duration</th>\n",
       "      <td>-0.288703</td>\n",
       "      <td>1.000000</td>\n",
       "      <td>-0.173623</td>\n",
       "    </tr>\n",
       "    <tr>\n",
       "      <th>depth</th>\n",
       "      <td>-0.099790</td>\n",
       "      <td>-0.173623</td>\n",
       "      <td>1.000000</td>\n",
       "    </tr>\n",
       "  </tbody>\n",
       "</table>\n",
       "</div>"
      ],
      "text/plain": [
       "            period  duration     depth\n",
       "period    1.000000 -0.288703 -0.099790\n",
       "duration -0.288703  1.000000 -0.173623\n",
       "depth    -0.099790 -0.173623  1.000000"
      ]
     },
     "execution_count": 17,
     "metadata": {},
     "output_type": "execute_result"
    }
   ],
   "source": [
    "configs.corr()"
   ]
  },
  {
   "cell_type": "code",
   "execution_count": 18,
   "metadata": {},
   "outputs": [
    {
     "data": {
      "application/vnd.jupyter.widget-view+json": {
       "model_id": "28df03dd5c9242468e0e99d647044e00",
       "version_major": 2,
       "version_minor": 0
      },
      "text/plain": [
       "Canvas(toolbar=Toolbar(toolitems=[('Home', 'Reset original view', 'home', 'home'), ('Back', 'Back to previous …"
      ]
     },
     "metadata": {},
     "output_type": "display_data"
    }
   ],
   "source": [
    "plt.figure(figsize=(16, 12))\n",
    "heatmap = sns.heatmap(configs.corr(), vmin=-1, vmax=1, annot=True)\n",
    "heatmap.set_title('Correlation Heatmap', fontdict={'fontsize':18}, pad=12)\n",
    "plt.show()"
   ]
  },
  {
   "cell_type": "markdown",
   "metadata": {},
   "source": [
    "#### Pearson Coefficient"
   ]
  },
  {
   "cell_type": "code",
   "execution_count": 19,
   "metadata": {},
   "outputs": [],
   "source": [
    "def pearson_r(x, y):\n",
    "    \"\"\"Compute Pearson correlation coefficient between two arrays.\"\"\"\n",
    "    corr_mat = np.corrcoef(x, y)\n",
    "    return corr_mat[0,1]\n",
    "\n",
    "pearson_perdur = pearson_r(periods, durations)\n",
    "pearson_perdep = pearson_r(periods, depths)\n",
    "pearson_durdep = pearson_r(durations, depths)"
   ]
  },
  {
   "cell_type": "markdown",
   "metadata": {},
   "source": [
    "## Signal Processing"
   ]
  },
  {
   "cell_type": "code",
   "execution_count": 20,
   "metadata": {},
   "outputs": [],
   "source": [
    "def evaluateAndProcessData(x, y):\n",
    "    t, c, k = interpolate.splrep(x, y, s=0, k=4)\n",
    "    xx = np.linspace(x.min(), x.max(), 100)\n",
    "    spline = interpolate.BSpline(t, c, k, extrapolate=False)\n",
    "    \n",
    "    plt.figure(figsize=(16,6))\n",
    "    plt.plot(x, y, 'bo', label='Original points')\n",
    "    plt.plot(x, y)\n",
    "    plt.plot(xx, spline(xx), 'r', label='BSpline')\n",
    "    plt.grid()\n",
    "    plt.legend(loc='best')\n",
    "    plt.show()\n",
    "    \n",
    "# Retrieving all the important details\n",
    "def getData(id):\n",
    "    try:\n",
    "        return retrieveKeplerLightCurve(id)\n",
    "    except:\n",
    "        return None\n"
   ]
  },
  {
   "cell_type": "code",
   "execution_count": 29,
   "metadata": {},
   "outputs": [
    {
     "data": {
      "text/plain": [
       "4350454"
      ]
     },
     "execution_count": 29,
     "metadata": {},
     "output_type": "execute_result"
    }
   ],
   "source": [
    "ids = list(configs.index)\n",
    "id2 = np.random.choice(ids)\n",
    "id2"
   ]
  },
  {
   "cell_type": "markdown",
   "metadata": {},
   "source": [
    "## Analysis of KIC 12055255"
   ]
  },
  {
   "cell_type": "code",
   "execution_count": 22,
   "metadata": {},
   "outputs": [
    {
     "data": {
      "text/html": [
       "<i>KeplerLightCurve length=64797 LABEL=&quot;KIC 12055255&quot; QUARTER=17 AUTHOR=Kepler</i>\n",
       "<table id=\"table1755854268792\" class=\"table-striped table-bordered table-condensed\">\n",
       "<thead><tr><th>time</th><th>flux</th><th>flux_err</th><th>quality</th><th>timecorr</th><th>centroid_col</th><th>centroid_row</th><th>cadenceno</th><th>sap_flux</th><th>sap_flux_err</th><th>sap_bkg</th><th>sap_bkg_err</th><th>pdcsap_flux</th><th>pdcsap_flux_err</th><th>sap_quality</th><th>psf_centr1</th><th>psf_centr1_err</th><th>psf_centr2</th><th>psf_centr2_err</th><th>mom_centr1</th><th>mom_centr1_err</th><th>mom_centr2</th><th>mom_centr2_err</th><th>pos_corr1</th><th>pos_corr2</th></tr></thead>\n",
       "<thead><tr><th></th><th></th><th></th><th></th><th>d</th><th>pix</th><th>pix</th><th></th><th>electron / s</th><th>electron / s</th><th>electron / s</th><th>electron / s</th><th>electron / s</th><th>electron / s</th><th></th><th>pix</th><th>pix</th><th>pix</th><th>pix</th><th>pix</th><th>pix</th><th>pix</th><th>pix</th><th>pix</th><th>pix</th></tr></thead>\n",
       "<thead><tr><th>object</th><th>float32</th><th>float32</th><th>int32</th><th>float32</th><th>float64</th><th>float64</th><th>int32</th><th>float32</th><th>float32</th><th>float32</th><th>float32</th><th>float32</th><th>float32</th><th>int32</th><th>float64</th><th>float32</th><th>float64</th><th>float32</th><th>float64</th><th>float32</th><th>float64</th><th>float32</th><th>float32</th><th>float32</th></tr></thead>\n",
       "<tr><td>131.51219531564857</td><td>9.5549995e-01</td><td>8.5038057e-04</td><td>0</td><td>1.201496e-03</td><td>85.59066</td><td>708.31774</td><td>1105</td><td>7.5554502e+03</td><td>4.5662069e+00</td><td>1.6199392e+03</td><td>7.3718590e-01</td><td>6.0997803e+03</td><td>5.4287124e+00</td><td>0</td><td>nan</td><td>nan</td><td>nan</td><td>nan</td><td>85.59066</td><td>9.1063807e-04</td><td>708.31774</td><td>9.6375920e-04</td><td>-1.0769945e-02</td><td>2.8466804e-02</td></tr>\n",
       "<tr><td>131.5326296267085</td><td>9.1290057e-01</td><td>8.4968633e-04</td><td>0</td><td>1.202107e-03</td><td>85.59039</td><td>708.31152</td><td>1106</td><td>7.4945859e+03</td><td>4.5622525e+00</td><td>1.6163114e+03</td><td>7.3891795e-01</td><td>5.8278315e+03</td><td>5.4242806e+00</td><td>0</td><td>nan</td><td>nan</td><td>nan</td><td>nan</td><td>85.59039</td><td>9.1825414e-04</td><td>708.31152</td><td>9.7315677e-04</td><td>-1.0800323e-02</td><td>2.8523881e-02</td></tr>\n",
       "<tr><td>131.55306383777497</td><td>9.5164818e-01</td><td>8.5255754e-04</td><td>0</td><td>1.202718e-03</td><td>85.59732</td><td>708.32186</td><td>1107</td><td>7.7014619e+03</td><td>4.5777564e+00</td><td>1.6162489e+03</td><td>7.3888350e-01</td><td>6.0751909e+03</td><td>5.4426098e+00</td><td>0</td><td>nan</td><td>nan</td><td>nan</td><td>nan</td><td>85.59732</td><td>8.9510053e-04</td><td>708.32186</td><td>9.4749569e-04</td><td>-1.0927333e-02</td><td>2.8716728e-02</td></tr>\n",
       "<tr><td>131.57349794871698</td><td>1.0011353e+00</td><td>8.5619063e-04</td><td>0</td><td>1.203329e-03</td><td>85.60837</td><td>708.33262</td><td>1108</td><td>7.9500029e+03</td><td>4.5984235e+00</td><td>1.6191105e+03</td><td>7.3777473e-01</td><td>6.3911104e+03</td><td>5.4658031e+00</td><td>0</td><td>nan</td><td>nan</td><td>nan</td><td>nan</td><td>85.60837</td><td>8.7010994e-04</td><td>708.33262</td><td>9.2017808e-04</td><td>-1.0860695e-02</td><td>2.8451622e-02</td></tr>\n",
       "<tr><td>131.59393215966702</td><td>1.0095477e+00</td><td>8.5672532e-04</td><td>0</td><td>1.203940e-03</td><td>85.60750</td><td>708.33273</td><td>1109</td><td>7.9784233e+03</td><td>4.6001711e+00</td><td>1.6163134e+03</td><td>7.3863536e-01</td><td>6.4448135e+03</td><td>5.4692163e+00</td><td>0</td><td>nan</td><td>nan</td><td>nan</td><td>nan</td><td>85.60750</td><td>8.6735451e-04</td><td>708.33273</td><td>9.1718580e-04</td><td>-1.0759398e-02</td><td>2.8272571e-02</td></tr>\n",
       "<tr><td>131.61436647061782</td><td>9.7349161e-01</td><td>8.5402047e-04</td><td>10000000000000</td><td>1.204551e-03</td><td>85.60018</td><td>708.32474</td><td>1110</td><td>7.7549326e+03</td><td>4.5826530e+00</td><td>1.6172587e+03</td><td>7.3834467e-01</td><td>6.2146362e+03</td><td>5.4519491e+00</td><td>10000000000000</td><td>nan</td><td>nan</td><td>nan</td><td>nan</td><td>85.60018</td><td>8.8958058e-04</td><td>708.32474</td><td>9.4137952e-04</td><td>-1.0664177e-02</td><td>2.8054871e-02</td></tr>\n",
       "<tr><td>131.6348005814507</td><td>9.4427717e-01</td><td>8.5081661e-04</td><td>10000010000000</td><td>1.205161e-03</td><td>85.59344</td><td>708.31441</td><td>1111</td><td>7.5538955e+03</td><td>4.5668297e+00</td><td>1.6193079e+03</td><td>7.3761410e-01</td><td>6.0281353e+03</td><td>5.4314961e+00</td><td>10000010000000</td><td>nan</td><td>nan</td><td>nan</td><td>nan</td><td>85.59344</td><td>9.1181020e-04</td><td>708.31441</td><td>9.6608087e-04</td><td>-1.0520628e-02</td><td>2.7945507e-02</td></tr>\n",
       "<tr><td>131.65523479216063</td><td>9.6751630e-01</td><td>8.5185817e-04</td><td>0</td><td>1.205772e-03</td><td>85.59510</td><td>708.31704</td><td>1112</td><td>7.6254341e+03</td><td>4.5722513e+00</td><td>1.6188052e+03</td><td>7.3782492e-01</td><td>6.1764907e+03</td><td>5.4381452e+00</td><td>0</td><td>nan</td><td>nan</td><td>nan</td><td>nan</td><td>85.59510</td><td>9.0381951e-04</td><td>708.31704</td><td>9.5738674e-04</td><td>-1.0358448e-02</td><td>2.7873931e-02</td></tr>\n",
       "<tr><td>131.67566910299502</td><td>1.0067080e+00</td><td>8.5451861e-04</td><td>0</td><td>1.206383e-03</td><td>85.60247</td><td>708.32717</td><td>1113</td><td>7.8346270e+03</td><td>4.5890985e+00</td><td>1.6181670e+03</td><td>7.3780310e-01</td><td>6.4266855e+03</td><td>5.4551291e+00</td><td>0</td><td>nan</td><td>nan</td><td>nan</td><td>nan</td><td>85.60247</td><td>8.8182098e-04</td><td>708.32717</td><td>9.3302905e-04</td><td>-1.0526414e-02</td><td>2.7919291e-02</td></tr>\n",
       "<tr><td>...</td><td>...</td><td>...</td><td>...</td><td>...</td><td>...</td><td>...</td><td>...</td><td>...</td><td>...</td><td>...</td><td>...</td><td>...</td><td>...</td><td>...</td><td>...</td><td>...</td><td>...</td><td>...</td><td>...</td><td>...</td><td>...</td><td>...</td><td>...</td><td>...</td></tr>\n",
       "<tr><td>1590.817641892485</td><td>9.9129659e-01</td><td>8.1309950e-04</td><td>0</td><td>3.921725e-04</td><td>85.61562</td><td>708.30756</td><td>72522</td><td>5.4441460e+03</td><td>3.7007062e+00</td><td>1.1489320e+03</td><td>4.6811086e-01</td><td>6.1985869e+03</td><td>5.0843186e+00</td><td>0</td><td>nan</td><td>nan</td><td>nan</td><td>nan</td><td>85.61562</td><td>9.1540453e-04</td><td>708.30756</td><td>9.3793438e-04</td><td>2.5607713e-03</td><td>2.5919570e-02</td></tr>\n",
       "<tr><td>1590.838076206579</td><td>9.5431638e-01</td><td>8.1035361e-04</td><td>0</td><td>3.927866e-04</td><td>85.61179</td><td>708.29764</td><td>72523</td><td>5.2744727e+03</td><td>3.6861444e+00</td><td>1.1483861e+03</td><td>4.6839374e-01</td><td>5.9673491e+03</td><td>5.0671487e+00</td><td>0</td><td>nan</td><td>nan</td><td>nan</td><td>nan</td><td>85.61179</td><td>9.3726290e-04</td><td>708.29764</td><td>9.6151727e-04</td><td>2.5507098e-03</td><td>2.5822904e-02</td></tr>\n",
       "<tr><td>1590.8585103206933</td><td>9.7238410e-01</td><td>8.1110001e-04</td><td>0</td><td>3.934007e-04</td><td>85.61791</td><td>708.30485</td><td>72524</td><td>5.3603027e+03</td><td>3.6933782e+00</td><td>1.1470862e+03</td><td>4.6850908e-01</td><td>6.0803267e+03</td><td>5.0718160e+00</td><td>0</td><td>nan</td><td>nan</td><td>nan</td><td>nan</td><td>85.61791</td><td>9.2448696e-04</td><td>708.30485</td><td>9.4810966e-04</td><td>2.5886605e-03</td><td>2.5765553e-02</td></tr>\n",
       "<tr><td>1590.8789445348739</td><td>1.0210807e+00</td><td>8.1645884e-04</td><td>0</td><td>3.940149e-04</td><td>85.62522</td><td>708.31621</td><td>72525</td><td>5.5918325e+03</td><td>3.7148476e+00</td><td>1.1469728e+03</td><td>4.6900722e-01</td><td>6.3848271e+03</td><td>5.1053247e+00</td><td>0</td><td>nan</td><td>nan</td><td>nan</td><td>nan</td><td>85.62522</td><td>8.9523447e-04</td><td>708.31621</td><td>9.1725454e-04</td><td>2.7608122e-03</td><td>2.5861114e-02</td></tr>\n",
       "<tr><td>1590.8993788490843</td><td>1.0466059e+00</td><td>8.1898778e-04</td><td>0</td><td>3.946291e-04</td><td>85.63167</td><td>708.32230</td><td>72526</td><td>5.7140771e+03</td><td>3.7255962e+00</td><td>1.1505935e+03</td><td>4.6807653e-01</td><td>6.5444365e+03</td><td>5.1211381e+00</td><td>0</td><td>nan</td><td>nan</td><td>nan</td><td>nan</td><td>85.63167</td><td>8.8075933e-04</td><td>708.32230</td><td>9.0228143e-04</td><td>2.6799247e-03</td><td>2.5784310e-02</td></tr>\n",
       "<tr><td>1590.9198129633442</td><td>1.0217142e+00</td><td>8.1642269e-04</td><td>0</td><td>3.952433e-04</td><td>85.62809</td><td>708.31745</td><td>72527</td><td>5.6072808e+03</td><td>3.7162731e+00</td><td>1.1482477e+03</td><td>4.6784776e-01</td><td>6.3887881e+03</td><td>5.1050987e+00</td><td>0</td><td>nan</td><td>nan</td><td>nan</td><td>nan</td><td>85.62809</td><td>8.9334819e-04</td><td>708.31745</td><td>9.1543881e-04</td><td>2.5085052e-03</td><td>2.5916783e-02</td></tr>\n",
       "<tr><td>1590.940247277642</td><td>9.8083258e-01</td><td>8.1297010e-04</td><td>0</td><td>3.958576e-04</td><td>85.61928</td><td>708.30817</td><td>72528</td><td>5.4171455e+03</td><td>3.6982443e+00</td><td>1.1487434e+03</td><td>4.6794769e-01</td><td>6.1331553e+03</td><td>5.0835094e+00</td><td>0</td><td>nan</td><td>nan</td><td>nan</td><td>nan</td><td>85.61928</td><td>9.1802771e-04</td><td>708.30817</td><td>9.4107655e-04</td><td>2.6601495e-03</td><td>2.6026400e-02</td></tr>\n",
       "<tr><td>1590.960681491997</td><td>9.7924763e-01</td><td>8.1173400e-04</td><td>0</td><td>3.964720e-04</td><td>85.61711</td><td>708.30616</td><td>72529</td><td>5.3894570e+03</td><td>3.6957994e+00</td><td>1.1462495e+03</td><td>4.6842298e-01</td><td>6.1232446e+03</td><td>5.0757804e+00</td><td>0</td><td>nan</td><td>nan</td><td>nan</td><td>nan</td><td>85.61711</td><td>9.2117657e-04</td><td>708.30616</td><td>9.4434444e-04</td><td>2.6641700e-03</td><td>2.5827283e-02</td></tr>\n",
       "<tr><td>1590.9811156063734</td><td>1.0175403e+00</td><td>8.1388053e-04</td><td>0</td><td>3.970864e-04</td><td>85.62375</td><td>708.31352</td><td>72530</td><td>5.5462603e+03</td><td>3.7093763e+00</td><td>1.1483521e+03</td><td>4.6836662e-01</td><td>6.3626890e+03</td><td>5.0892024e+00</td><td>0</td><td>nan</td><td>nan</td><td>nan</td><td>nan</td><td>85.62375</td><td>9.0027525e-04</td><td>708.31352</td><td>9.2274480e-04</td><td>3.5919948e-03</td><td>2.5252823e-02</td></tr>\n",
       "<tr><td>1591.0015499208166</td><td>1.0432092e+00</td><td>8.1787922e-04</td><td>0</td><td>3.977008e-04</td><td>85.62967</td><td>708.32096</td><td>72531</td><td>5.6881309e+03</td><td>3.7231805e+00</td><td>1.1480651e+03</td><td>4.6768600e-01</td><td>6.5231968e+03</td><td>5.1142063e+00</td><td>0</td><td>nan</td><td>nan</td><td>nan</td><td>nan</td><td>85.62967</td><td>8.8389253e-04</td><td>708.32096</td><td>9.0551795e-04</td><td>2.7088495e-03</td><td>2.5896870e-02</td></tr>\n",
       "</table>"
      ],
      "text/plain": [
       "<KeplerLightCurve length=64797 LABEL=\"KIC 12055255\" QUARTER=17 AUTHOR=Kepler>\n",
       "       time             flux      ...   pos_corr1      pos_corr2   \n",
       "                                  ...      pix            pix      \n",
       "      object          float32     ...    float32        float32    \n",
       "------------------ -------------- ... -------------- --------------\n",
       "131.51219531564857  9.5549995e-01 ... -1.0769945e-02  2.8466804e-02\n",
       " 131.5326296267085  9.1290057e-01 ... -1.0800323e-02  2.8523881e-02\n",
       "131.55306383777497  9.5164818e-01 ... -1.0927333e-02  2.8716728e-02\n",
       "131.57349794871698  1.0011353e+00 ... -1.0860695e-02  2.8451622e-02\n",
       "131.59393215966702  1.0095477e+00 ... -1.0759398e-02  2.8272571e-02\n",
       "131.61436647061782  9.7349161e-01 ... -1.0664177e-02  2.8054871e-02\n",
       " 131.6348005814507  9.4427717e-01 ... -1.0520628e-02  2.7945507e-02\n",
       "131.65523479216063  9.6751630e-01 ... -1.0358448e-02  2.7873931e-02\n",
       "131.67566910299502  1.0067080e+00 ... -1.0526414e-02  2.7919291e-02\n",
       "               ...            ... ...            ...            ...\n",
       " 1590.817641892485  9.9129659e-01 ...  2.5607713e-03  2.5919570e-02\n",
       " 1590.838076206579  9.5431638e-01 ...  2.5507098e-03  2.5822904e-02\n",
       "1590.8585103206933  9.7238410e-01 ...  2.5886605e-03  2.5765553e-02\n",
       "1590.8789445348739  1.0210807e+00 ...  2.7608122e-03  2.5861114e-02\n",
       "1590.8993788490843  1.0466059e+00 ...  2.6799247e-03  2.5784310e-02\n",
       "1590.9198129633442  1.0217142e+00 ...  2.5085052e-03  2.5916783e-02\n",
       " 1590.940247277642  9.8083258e-01 ...  2.6601495e-03  2.6026400e-02\n",
       " 1590.960681491997  9.7924763e-01 ...  2.6641700e-03  2.5827283e-02\n",
       "1590.9811156063734  1.0175403e+00 ...  3.5919948e-03  2.5252823e-02\n",
       "1591.0015499208166  1.0432092e+00 ...  2.7088495e-03  2.5896870e-02"
      ]
     },
     "execution_count": 22,
     "metadata": {},
     "output_type": "execute_result"
    }
   ],
   "source": [
    "lc = getData(id2)\n",
    "lc"
   ]
  },
  {
   "cell_type": "code",
   "execution_count": 23,
   "metadata": {},
   "outputs": [
    {
     "data": {
      "application/vnd.jupyter.widget-view+json": {
       "model_id": "09bf03d87a9d4f018dd3f94d019e90a6",
       "version_major": 2,
       "version_minor": 0
      },
      "text/plain": [
       "Canvas(toolbar=Toolbar(toolitems=[('Home', 'Reset original view', 'home', 'home'), ('Back', 'Back to previous …"
      ]
     },
     "metadata": {},
     "output_type": "display_data"
    }
   ],
   "source": [
    "plotKeplerLightCurve(lc)\n",
    "plt.show()"
   ]
  },
  {
   "cell_type": "code",
   "execution_count": 24,
   "metadata": {},
   "outputs": [
    {
     "data": {
      "application/vnd.jupyter.widget-view+json": {
       "model_id": "03d69fe0b6da41b884366d0ca5646230",
       "version_major": 2,
       "version_minor": 0
      },
      "text/plain": [
       "Canvas(toolbar=Toolbar(toolitems=[('Home', 'Reset original view', 'home', 'home'), ('Back', 'Back to previous …"
      ]
     },
     "metadata": {},
     "output_type": "display_data"
    }
   ],
   "source": [
    "plotKeplerSAPLightCurve(lc)\n",
    "plt.show()"
   ]
  },
  {
   "cell_type": "code",
   "execution_count": 25,
   "metadata": {},
   "outputs": [
    {
     "data": {
      "application/vnd.jupyter.widget-view+json": {
       "model_id": "a241752c7b2c47be9dc9886d9d75bf6a",
       "version_major": 2,
       "version_minor": 0
      },
      "text/plain": [
       "Canvas(toolbar=Toolbar(toolitems=[('Home', 'Reset original view', 'home', 'home'), ('Back', 'Back to previous …"
      ]
     },
     "metadata": {},
     "output_type": "display_data"
    }
   ],
   "source": [
    "plotKeplerPDCSAPLightCurve(lc)\n",
    "plt.show()"
   ]
  },
  {
   "cell_type": "code",
   "execution_count": 26,
   "metadata": {},
   "outputs": [
    {
     "data": {
      "text/plain": [
       "array([ 131.51219532,  131.53262963,  131.55306384, ..., 1590.96068149,\n",
       "       1590.98111561, 1591.00154992])"
      ]
     },
     "execution_count": 26,
     "metadata": {},
     "output_type": "execute_result"
    }
   ],
   "source": [
    "time = np.array(list(map(lambda time: time.value, list(lc.time))))\n",
    "time"
   ]
  },
  {
   "cell_type": "code",
   "execution_count": 27,
   "metadata": {},
   "outputs": [
    {
     "data": {
      "text/plain": [
       "array([0.95549995, 0.91290057, 0.9516482 , ..., 0.9792476 , 1.0175403 ,\n",
       "       1.0432092 ], dtype=float32)"
      ]
     },
     "execution_count": 27,
     "metadata": {},
     "output_type": "execute_result"
    }
   ],
   "source": [
    "flux = np.array(list(map(lambda flux: flux.value, list(lc.flux))))\n",
    "flux"
   ]
  },
  {
   "cell_type": "code",
   "execution_count": 28,
   "metadata": {},
   "outputs": [
    {
     "data": {
      "application/vnd.jupyter.widget-view+json": {
       "model_id": "ba34799a0d794d1496e91bbc8c0f774b",
       "version_major": 2,
       "version_minor": 0
      },
      "text/plain": [
       "Canvas(toolbar=Toolbar(toolitems=[('Home', 'Reset original view', 'home', 'home'), ('Back', 'Back to previous …"
      ]
     },
     "metadata": {},
     "output_type": "display_data"
    }
   ],
   "source": [
    "evaluateAndProcessData(time, flux)"
   ]
  }
 ],
 "metadata": {
  "kernelspec": {
   "display_name": "Python 3",
   "language": "python",
   "name": "python3"
  },
  "language_info": {
   "codemirror_mode": {
    "name": "ipython",
    "version": 3
   },
   "file_extension": ".py",
   "mimetype": "text/x-python",
   "name": "python",
   "nbconvert_exporter": "python",
   "pygments_lexer": "ipython3",
   "version": "3.7.2"
  },
  "varInspector": {
   "cols": {
    "lenName": 16,
    "lenType": 16,
    "lenVar": 40
   },
   "kernels_config": {
    "python": {
     "delete_cmd_postfix": "",
     "delete_cmd_prefix": "del ",
     "library": "var_list.py",
     "varRefreshCmd": "print(var_dic_list())"
    },
    "r": {
     "delete_cmd_postfix": ") ",
     "delete_cmd_prefix": "rm(",
     "library": "var_list.r",
     "varRefreshCmd": "cat(var_dic_list()) "
    }
   },
   "types_to_exclude": [
    "module",
    "function",
    "builtin_function_or_method",
    "instance",
    "_Feature"
   ],
   "window_display": false
  },
  "widgets": {
   "application/vnd.jupyter.widget-state+json": {
    "state": {},
    "version_major": 2,
    "version_minor": 0
   }
  }
 },
 "nbformat": 4,
 "nbformat_minor": 4
}
