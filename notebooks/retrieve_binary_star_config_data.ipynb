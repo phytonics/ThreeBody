{
 "cells": [
  {
   "cell_type": "code",
   "execution_count": 1,
   "metadata": {},
   "outputs": [],
   "source": [
    "%load_ext autoreload\n",
    "%autoreload 2\n",
    "# to ensure kernel resets when files change around it"
   ]
  },
  {
   "cell_type": "code",
   "execution_count": 2,
   "metadata": {},
   "outputs": [],
   "source": [
    "import lightkurve as lk\n",
    "import pandas as pd # main library for data analysis\n",
    "\n",
    "import warnings\n",
    "warnings.filterwarnings('ignore') # literally to ignore all the warnings that don't matter"
   ]
  },
  {
   "cell_type": "code",
   "execution_count": 3,
   "metadata": {},
   "outputs": [],
   "source": [
    "#Gets all the ids\n",
    "\n",
    "df = pd.read_csv(\"data/binarystars.csv\")\n",
    "ids = list(df.KIC)"
   ]
  },
  {
   "cell_type": "code",
   "execution_count": 4,
   "metadata": {},
   "outputs": [],
   "source": [
    "# Retrieving all the important details\n",
    "def getData(id):\n",
    "    try: \n",
    "        lc = lk.search_lightcurve(f\"KIC {id}\", quarter = [0, 1]).download_all().stitch().remove_outliers().flatten()\n",
    "    except: \n",
    "        try: \n",
    "            lc = lk.search_lightcurve(f\"EPIC {id}\", quarter = [0, 1]).download_all().stitch().remove_outliers().flatten()\n",
    "        except:\n",
    "            lc = lk.search_lightcurve(f\"KOI {id}\", quarter = [0, 1]).download_all().stitch().remove_outliers().flatten()\n",
    "\n",
    "    bls = lc.to_periodogram(\"bls\")\n",
    "    return bls.period_at_max_power, bls.duration_at_max_power, bls.depth_at_max_power"
   ]
  },
  {
   "cell_type": "code",
   "execution_count": null,
   "metadata": {},
   "outputs": [
    {
     "name": "stdout",
     "output_type": "stream",
     "text": [
      "3863594 10417986 8912468 8758716 10855535 "
     ]
    },
    {
     "name": "stderr",
     "output_type": "stream",
     "text": [
      "Could not resolve EPIC 9472174 to a sky position.\n",
      "Could not resolve KOI 9472174 to a sky position.\n"
     ]
    },
    {
     "name": "stdout",
     "output_type": "stream",
     "text": [
      "9612468 6613627 5302006 9898401 7375612 5872696 7767774 12350008 10684673 "
     ]
    },
    {
     "name": "stderr",
     "output_type": "stream",
     "text": [
      "Could not resolve EPIC 9532219 to a sky position.\n",
      "Could not resolve KOI 9532219 to a sky position.\n"
     ]
    },
    {
     "name": "stdout",
     "output_type": "stream",
     "text": [
      "6699679 6287172 11825204 4921906 "
     ]
    },
    {
     "name": "stderr",
     "output_type": "stream",
     "text": [
      "Could not resolve EPIC 6387887 to a sky position.\n",
      "Could not resolve KOI 6387887 to a sky position.\n"
     ]
    },
    {
     "name": "stdout",
     "output_type": "stream",
     "text": [
      "8288741 12055255 11013201 8108785 1572353 10288502 "
     ]
    },
    {
     "name": "stderr",
     "output_type": "stream",
     "text": [
      "Could not resolve EPIC 10453521 to a sky position.\n",
      "Could not resolve KOI 10453521 to a sky position.\n",
      "Could not resolve EPIC 9238207 to a sky position.\n",
      "Could not resolve KOI 9238207 to a sky position.\n"
     ]
    },
    {
     "name": "stdout",
     "output_type": "stream",
     "text": [
      "5166136 8555795 6144827 10030943 10965091 2715417 "
     ]
    },
    {
     "name": "stderr",
     "output_type": "stream",
     "text": [
      "Could not resolve EPIC 11413213 to a sky position.\n",
      "Could not resolve KOI 11413213 to a sky position.\n"
     ]
    },
    {
     "name": "stdout",
     "output_type": "stream",
     "text": [
      "9077796 6050116 "
     ]
    },
    {
     "name": "stderr",
     "output_type": "stream",
     "text": [
      "Could not resolve EPIC 12458797 to a sky position.\n",
      "Could not resolve KOI 12458797 to a sky position.\n"
     ]
    },
    {
     "name": "stdout",
     "output_type": "stream",
     "text": [
      "6350020 7198474 7546791 7871200 "
     ]
    },
    {
     "name": "stderr",
     "output_type": "stream",
     "text": [
      "Could not resolve EPIC 7959612 to a sky position.\n",
      "Could not resolve KOI 7959612 to a sky position.\n"
     ]
    },
    {
     "name": "stdout",
     "output_type": "stream",
     "text": [
      "3972629 9345163 8816790 12216817 11494583 4738426 8122124 9032671 5960283 "
     ]
    },
    {
     "name": "stderr",
     "output_type": "stream",
     "text": [
      "Could not resolve EPIC 9412114 to a sky position.\n",
      "Could not resolve KOI 9412114 to a sky position.\n"
     ]
    },
    {
     "name": "stdout",
     "output_type": "stream",
     "text": [
      "9004380 4857282 "
     ]
    },
    {
     "name": "stderr",
     "output_type": "stream",
     "text": [
      "Could not resolve EPIC 12602985 to a sky position.\n",
      "Could not resolve KOI 12602985 to a sky position.\n"
     ]
    },
    {
     "name": "stdout",
     "output_type": "stream",
     "text": [
      "11336707 12104285 8367007 11769739 4138301 9478836 12508348 5685072 3839964 12598713 9700154 "
     ]
    },
    {
     "name": "stderr",
     "output_type": "stream",
     "text": [
      "Could not resolve EPIC 9662581 to a sky position.\n",
      "Could not resolve KOI 9662581 to a sky position.\n",
      "Could not resolve EPIC 9777987 to a sky position.\n",
      "Could not resolve KOI 9777987 to a sky position.\n"
     ]
    },
    {
     "name": "stdout",
     "output_type": "stream",
     "text": [
      "2856960 "
     ]
    },
    {
     "name": "stderr",
     "output_type": "stream",
     "text": [
      "Could not resolve EPIC 5611561 to a sky position.\n",
      "Could not resolve KOI 5611561 to a sky position.\n"
     ]
    },
    {
     "name": "stdout",
     "output_type": "stream",
     "text": [
      "7339345 9288175 "
     ]
    },
    {
     "name": "stderr",
     "output_type": "stream",
     "text": [
      "Could not resolve EPIC 9392331 to a sky position.\n",
      "Could not resolve KOI 9392331 to a sky position.\n"
     ]
    },
    {
     "name": "stdout",
     "output_type": "stream",
     "text": [
      "9239684 12004834 11284547 8045121 6106771 10557008 "
     ]
    },
    {
     "name": "stderr",
     "output_type": "stream",
     "text": [
      "Could not resolve EPIC 5785551 to a sky position.\n",
      "Could not resolve KOI 5785551 to a sky position.\n",
      "Could not resolve EPIC 9388303 to a sky position.\n",
      "Could not resolve KOI 9388303 to a sky position.\n",
      "Could not resolve EPIC 5773205 to a sky position.\n",
      "Could not resolve KOI 5773205 to a sky position.\n"
     ]
    },
    {
     "name": "stdout",
     "output_type": "stream",
     "text": [
      "2437038 7269843 6072578 "
     ]
    },
    {
     "name": "stderr",
     "output_type": "stream",
     "text": [
      "Could not resolve EPIC 8028158 to a sky position.\n",
      "Could not resolve KOI 8028158 to a sky position.\n"
     ]
    },
    {
     "name": "stdout",
     "output_type": "stream",
     "text": [
      "2435971 9026766 "
     ]
    },
    {
     "name": "stderr",
     "output_type": "stream",
     "text": [
      "Could not resolve EPIC 10802917 to a sky position.\n",
      "Could not resolve KOI 10802917 to a sky position.\n"
     ]
    },
    {
     "name": "stdout",
     "output_type": "stream",
     "text": [
      "3832382 7697065 9760531 "
     ]
    },
    {
     "name": "stderr",
     "output_type": "stream",
     "text": [
      "Could not resolve EPIC 5956588 to a sky position.\n",
      "Could not resolve KOI 5956588 to a sky position.\n",
      "Could not resolve EPIC 9137819 to a sky position.\n",
      "Could not resolve KOI 9137819 to a sky position.\n"
     ]
    },
    {
     "name": "stdout",
     "output_type": "stream",
     "text": [
      "3743834 9935311 11704155 "
     ]
    },
    {
     "name": "stderr",
     "output_type": "stream",
     "text": [
      "Could not resolve EPIC 2448320 to a sky position.\n",
      "Could not resolve KOI 2448320 to a sky position.\n",
      "Could not resolve EPIC 7335517 to a sky position.\n",
      "Could not resolve KOI 7335517 to a sky position.\n",
      "Could not resolve EPIC 8739802 to a sky position.\n",
      "Could not resolve KOI 8739802 to a sky position.\n"
     ]
    },
    {
     "name": "stdout",
     "output_type": "stream",
     "text": [
      "4385109 4563150 5104097 9772642 "
     ]
    },
    {
     "name": "stderr",
     "output_type": "stream",
     "text": [
      "Could not resolve EPIC 8624778 to a sky position.\n",
      "Could not resolve KOI 8624778 to a sky position.\n"
     ]
    },
    {
     "name": "stdout",
     "output_type": "stream",
     "text": [
      "7680593 3853259 11566174 3354616 "
     ]
    },
    {
     "name": "stderr",
     "output_type": "stream",
     "text": [
      "Could not resolve EPIC 10074939 to a sky position.\n",
      "Could not resolve KOI 10074939 to a sky position.\n"
     ]
    },
    {
     "name": "stdout",
     "output_type": "stream",
     "text": [
      "2570289 11246163 "
     ]
    },
    {
     "name": "stderr",
     "output_type": "stream",
     "text": [
      "Could not resolve EPIC 4476900 to a sky position.\n",
      "Could not resolve KOI 4476900 to a sky position.\n"
     ]
    },
    {
     "name": "stdout",
     "output_type": "stream",
     "text": [
      "9508052 "
     ]
    },
    {
     "name": "stderr",
     "output_type": "stream",
     "text": [
      "Could not resolve EPIC 9357030 to a sky position.\n",
      "Could not resolve KOI 9357030 to a sky position.\n",
      "Could not resolve EPIC 11352791 to a sky position.\n",
      "Could not resolve KOI 11352791 to a sky position.\n",
      "Could not resolve EPIC 5786545 to a sky position.\n",
      "Could not resolve KOI 5786545 to a sky position.\n"
     ]
    },
    {
     "name": "stdout",
     "output_type": "stream",
     "text": [
      "9272276 "
     ]
    },
    {
     "name": "stderr",
     "output_type": "stream",
     "text": [
      "Could not resolve EPIC 9527167 to a sky position.\n",
      "Could not resolve KOI 9527167 to a sky position.\n"
     ]
    },
    {
     "name": "stdout",
     "output_type": "stream",
     "text": [
      "9179806 7272739 10600319 5218385 7269797 5891963 7199353 10350225 "
     ]
    },
    {
     "name": "stderr",
     "output_type": "stream",
     "text": [
      "Could not resolve EPIC 8626039 to a sky position.\n",
      "Could not resolve KOI 8626039 to a sky position.\n",
      "Could not resolve EPIC 6267702 to a sky position.\n",
      "Could not resolve KOI 6267702 to a sky position.\n",
      "Could not resolve EPIC 1433410 to a sky position.\n",
      "Could not resolve KOI 1433410 to a sky position.\n"
     ]
    },
    {
     "name": "stdout",
     "output_type": "stream",
     "text": [
      "8242493 "
     ]
    },
    {
     "name": "stderr",
     "output_type": "stream",
     "text": [
      "Could not resolve EPIC 6929869 to a sky position.\n",
      "Could not resolve KOI 6929869 to a sky position.\n",
      "Could not resolve EPIC 7440742 to a sky position.\n",
      "Could not resolve KOI 7440742 to a sky position.\n",
      "Could not resolve EPIC 9533706 to a sky position.\n",
      "Could not resolve KOI 9533706 to a sky position.\n",
      "Could not resolve EPIC 4241946 to a sky position.\n",
      "Could not resolve KOI 4241946 to a sky position.\n"
     ]
    },
    {
     "name": "stdout",
     "output_type": "stream",
     "text": [
      "11405559 "
     ]
    },
    {
     "name": "stderr",
     "output_type": "stream",
     "text": [
      "Could not resolve EPIC 8677949 to a sky position.\n",
      "Could not resolve KOI 8677949 to a sky position.\n"
     ]
    },
    {
     "name": "stdout",
     "output_type": "stream",
     "text": [
      "11036301 7367833 5459373 11444780 8280135 4073678 11341950 5699617 6467389 9882280 4758092 "
     ]
    },
    {
     "name": "stderr",
     "output_type": "stream",
     "text": [
      "Could not resolve EPIC 9664382 to a sky position.\n",
      "Could not resolve KOI 9664382 to a sky position.\n"
     ]
    },
    {
     "name": "stdout",
     "output_type": "stream",
     "text": [
      "11295026 10322582 6128248 5008287 11135978 4661397 9995981 10847118 3730067 3454864 9145846 12153332 2302092 4950505 "
     ]
    },
    {
     "name": "stderr",
     "output_type": "stream",
     "text": [
      "Could not resolve EPIC 5543482 to a sky position.\n",
      "Could not resolve KOI 5543482 to a sky position.\n"
     ]
    },
    {
     "name": "stdout",
     "output_type": "stream",
     "text": [
      "10123627 "
     ]
    },
    {
     "name": "stderr",
     "output_type": "stream",
     "text": [
      "Could not resolve EPIC 9665086 to a sky position.\n",
      "Could not resolve KOI 9665086 to a sky position.\n"
     ]
    },
    {
     "name": "stdout",
     "output_type": "stream",
     "text": [
      "11244501 7884426 "
     ]
    },
    {
     "name": "stderr",
     "output_type": "stream",
     "text": [
      "Could not resolve EPIC 7740566 to a sky position.\n",
      "Could not resolve KOI 7740566 to a sky position.\n"
     ]
    },
    {
     "name": "stdout",
     "output_type": "stream",
     "text": [
      "2715007 6471048 6046061 7130044 5557368 7941050 10149237 10880490 "
     ]
    },
    {
     "name": "stderr",
     "output_type": "stream",
     "text": [
      "Could not resolve EPIC 4651526 to a sky position.\n",
      "Could not resolve KOI 4651526 to a sky position.\n",
      "Could not resolve EPIC 5617953 to a sky position.\n",
      "Could not resolve KOI 5617953 to a sky position.\n"
     ]
    },
    {
     "name": "stdout",
     "output_type": "stream",
     "text": [
      "11604958 5961327 11127048 8309175 11496078 "
     ]
    },
    {
     "name": "stderr",
     "output_type": "stream",
     "text": [
      "Could not resolve EPIC 4036687 to a sky position.\n",
      "Could not resolve KOI 4036687 to a sky position.\n",
      "Could not resolve EPIC 5881838 to a sky position.\n",
      "Could not resolve KOI 5881838 to a sky position.\n",
      "Could not resolve EPIC 2996347 to a sky position.\n",
      "Could not resolve KOI 2996347 to a sky position.\n"
     ]
    },
    {
     "name": "stdout",
     "output_type": "stream",
     "text": [
      "7597095 11716688 9274472 4074708 8394040 "
     ]
    },
    {
     "name": "stderr",
     "output_type": "stream",
     "text": [
      "Could not resolve EPIC 8625469 to a sky position.\n",
      "Could not resolve KOI 8625469 to a sky position.\n",
      "Could not resolve EPIC 9161428 to a sky position.\n",
      "Could not resolve KOI 9161428 to a sky position.\n"
     ]
    },
    {
     "name": "stdout",
     "output_type": "stream",
     "text": [
      "8298344 9948201 4941060 10355671 7877062 9470175 3745184 "
     ]
    },
    {
     "name": "stderr",
     "output_type": "stream",
     "text": [
      "Could not resolve EPIC 7273033 to a sky position.\n",
      "Could not resolve KOI 7273033 to a sky position.\n"
     ]
    },
    {
     "name": "stdout",
     "output_type": "stream",
     "text": [
      "10084115 10395202 11498689 11395117 6504095 11245381 7773380 10723143 5563814 "
     ]
    },
    {
     "name": "stderr",
     "output_type": "stream",
     "text": [
      "Could not resolve EPIC 10285661 to a sky position.\n",
      "Could not resolve KOI 10285661 to a sky position.\n"
     ]
    },
    {
     "name": "stdout",
     "output_type": "stream",
     "text": [
      "9245929 5307780 11305087 7035139 "
     ]
    },
    {
     "name": "stderr",
     "output_type": "stream",
     "text": [
      "Could not resolve EPIC 4168013 to a sky position.\n",
      "Could not resolve KOI 4168013 to a sky position.\n"
     ]
    },
    {
     "name": "stdout",
     "output_type": "stream",
     "text": [
      "11151970 11084647 6265720 11442348 10801703 6966265 11137143 "
     ]
    },
    {
     "name": "stderr",
     "output_type": "stream",
     "text": [
      "Could not resolve EPIC 8029708 to a sky position.\n",
      "Could not resolve KOI 8029708 to a sky position.\n"
     ]
    },
    {
     "name": "stdout",
     "output_type": "stream",
     "text": [
      "4569923 12071741 5283266 7821450 10322296 8545456 5283839 "
     ]
    },
    {
     "name": "stderr",
     "output_type": "stream",
     "text": [
      "Could not resolve EPIC 3353233 to a sky position.\n",
      "Could not resolve KOI 3353233 to a sky position.\n"
     ]
    },
    {
     "name": "stdout",
     "output_type": "stream",
     "text": [
      "4249218 6431545 7533807 7953796 3545476 9994475 9347868 "
     ]
    },
    {
     "name": "stderr",
     "output_type": "stream",
     "text": [
      "Could not resolve EPIC 9005043 to a sky position.\n",
      "Could not resolve KOI 9005043 to a sky position.\n"
     ]
    },
    {
     "name": "stdout",
     "output_type": "stream",
     "text": [
      "11722816 10032935 9145707 11303416 2571439 9181877 "
     ]
    },
    {
     "name": "stderr",
     "output_type": "stream",
     "text": [
      "Could not resolve EPIC 5983351 to a sky position.\n",
      "Could not resolve KOI 5983351 to a sky position.\n"
     ]
    },
    {
     "name": "stdout",
     "output_type": "stream",
     "text": [
      "9713664 7118656 8330092 2854432 9991887 6061139 4474193 5984000 "
     ]
    },
    {
     "name": "stderr",
     "output_type": "stream",
     "text": [
      "Could not resolve EPIC 7627059 to a sky position.\n",
      "Could not resolve KOI 7627059 to a sky position.\n",
      "Could not resolve EPIC 7199183 to a sky position.\n",
      "Could not resolve KOI 7199183 to a sky position.\n"
     ]
    },
    {
     "name": "stdout",
     "output_type": "stream",
     "text": [
      "5195137 7280704 8956957 6264091 "
     ]
    },
    {
     "name": "stderr",
     "output_type": "stream",
     "text": [
      "Could not resolve EPIC 3439180 to a sky position.\n",
      "Could not resolve KOI 3439180 to a sky position.\n",
      "Could not resolve EPIC 7685689 to a sky position.\n",
      "Could not resolve KOI 7685689 to a sky position.\n",
      "Could not resolve EPIC 5791886 to a sky position.\n",
      "Could not resolve KOI 5791886 to a sky position.\n"
     ]
    },
    {
     "name": "stdout",
     "output_type": "stream",
     "text": [
      "8555573 2694741 8481574 6507541 11972387 3956545 "
     ]
    },
    {
     "name": "stderr",
     "output_type": "stream",
     "text": [
      "Could not resolve EPIC 11289003 to a sky position.\n",
      "Could not resolve KOI 11289003 to a sky position.\n",
      "Could not resolve EPIC 8245326 to a sky position.\n",
      "Could not resolve KOI 8245326 to a sky position.\n"
     ]
    },
    {
     "name": "stdout",
     "output_type": "stream",
     "text": [
      "9519590 2141697 "
     ]
    },
    {
     "name": "stderr",
     "output_type": "stream",
     "text": [
      "Could not resolve EPIC 7696778 to a sky position.\n",
      "Could not resolve KOI 7696778 to a sky position.\n"
     ]
    },
    {
     "name": "stdout",
     "output_type": "stream",
     "text": [
      "11751847 "
     ]
    },
    {
     "name": "stderr",
     "output_type": "stream",
     "text": [
      "Could not resolve EPIC 8097902 to a sky position.\n",
      "Could not resolve KOI 8097902 to a sky position.\n"
     ]
    },
    {
     "name": "stdout",
     "output_type": "stream",
     "text": [
      "9237755 7204041 11672319 12458133 8190613 "
     ]
    },
    {
     "name": "stderr",
     "output_type": "stream",
     "text": [
      "Could not resolve EPIC 9786165 to a sky position.\n",
      "Could not resolve KOI 9786165 to a sky position.\n"
     ]
    },
    {
     "name": "stdout",
     "output_type": "stream",
     "text": [
      "5620981 11502581 9097798 4945857 10255110 9110213 "
     ]
    },
    {
     "name": "stderr",
     "output_type": "stream",
     "text": [
      "Could not resolve EPIC 8211618 to a sky position.\n",
      "Could not resolve KOI 8211618 to a sky position.\n"
     ]
    },
    {
     "name": "stdout",
     "output_type": "stream",
     "text": [
      "10447902 7362751 8563964 6368316 5615528 6615041 9094335 4244929 7889628 11083888 6843507 6286402 10388897 8004839 9639491 "
     ]
    },
    {
     "name": "stderr",
     "output_type": "stream",
     "text": [
      "Could not resolve EPIC 11704101 to a sky position.\n",
      "Could not resolve KOI 11704101 to a sky position.\n",
      "Could not resolve EPIC 7890379 to a sky position.\n",
      "Could not resolve KOI 7890379 to a sky position.\n"
     ]
    },
    {
     "name": "stdout",
     "output_type": "stream",
     "text": [
      "8230815 11572643 "
     ]
    },
    {
     "name": "stderr",
     "output_type": "stream",
     "text": [
      "Could not resolve EPIC 10020247 to a sky position.\n",
      "Could not resolve KOI 10020247 to a sky position.\n"
     ]
    },
    {
     "name": "stdout",
     "output_type": "stream",
     "text": [
      "6593575 "
     ]
    },
    {
     "name": "stderr",
     "output_type": "stream",
     "text": [
      "Could not resolve EPIC 3560212 to a sky position.\n",
      "Could not resolve KOI 3560212 to a sky position.\n",
      "Could not resolve EPIC 10848807 to a sky position.\n",
      "Could not resolve KOI 10848807 to a sky position.\n"
     ]
    },
    {
     "name": "stdout",
     "output_type": "stream",
     "text": [
      "10148799 7973882 7282128 7339123 "
     ]
    },
    {
     "name": "stderr",
     "output_type": "stream",
     "text": [
      "Could not resolve EPIC 3549994 to a sky position.\n",
      "Could not resolve KOI 3549994 to a sky position.\n"
     ]
    },
    {
     "name": "stdout",
     "output_type": "stream",
     "text": [
      "8957887 10128961 11910076 7691553 "
     ]
    },
    {
     "name": "stderr",
     "output_type": "stream",
     "text": [
      "Could not resolve EPIC 8842170 to a sky position.\n",
      "Could not resolve KOI 8842170 to a sky position.\n"
     ]
    },
    {
     "name": "stdout",
     "output_type": "stream",
     "text": [
      "9821923 10680475 9389122 7529123 "
     ]
    },
    {
     "name": "stderr",
     "output_type": "stream",
     "text": [
      "Could not resolve EPIC 10544976 to a sky position.\n",
      "Could not resolve KOI 10544976 to a sky position.\n",
      "Could not resolve EPIC 5174346 to a sky position.\n",
      "Could not resolve KOI 5174346 to a sky position.\n"
     ]
    },
    {
     "name": "stdout",
     "output_type": "stream",
     "text": [
      "8431389 "
     ]
    },
    {
     "name": "stderr",
     "output_type": "stream",
     "text": [
      "Could not resolve EPIC 8432859 to a sky position.\n",
      "Could not resolve KOI 8432859 to a sky position.\n"
     ]
    },
    {
     "name": "stdout",
     "output_type": "stream",
     "text": [
      "11404758 5468295 "
     ]
    },
    {
     "name": "stderr",
     "output_type": "stream",
     "text": [
      "Could not resolve EPIC 7546429 to a sky position.\n",
      "Could not resolve KOI 7546429 to a sky position.\n"
     ]
    },
    {
     "name": "stdout",
     "output_type": "stream",
     "text": [
      "9934052 9466316 "
     ]
    },
    {
     "name": "stderr",
     "output_type": "stream",
     "text": [
      "Could not resolve EPIC 8682849 to a sky position.\n",
      "Could not resolve KOI 8682849 to a sky position.\n"
     ]
    },
    {
     "name": "stdout",
     "output_type": "stream",
     "text": [
      "7506446 12418274 "
     ]
    },
    {
     "name": "stderr",
     "output_type": "stream",
     "text": [
      "Could not resolve EPIC 3935319 to a sky position.\n",
      "Could not resolve KOI 3935319 to a sky position.\n"
     ]
    },
    {
     "name": "stdout",
     "output_type": "stream",
     "text": [
      "4074532 10727655 3443519 8241252 4936334 12019674 "
     ]
    },
    {
     "name": "stderr",
     "output_type": "stream",
     "text": [
      "Could not resolve EPIC 5878836 to a sky position.\n",
      "Could not resolve KOI 5878836 to a sky position.\n"
     ]
    },
    {
     "name": "stdout",
     "output_type": "stream",
     "text": [
      "8143757 9283826 "
     ]
    },
    {
     "name": "stderr",
     "output_type": "stream",
     "text": [
      "Could not resolve EPIC 7521682 to a sky position.\n",
      "Could not resolve KOI 7521682 to a sky position.\n"
     ]
    },
    {
     "name": "stdout",
     "output_type": "stream",
     "text": [
      "10711938 7176440 9532591 "
     ]
    },
    {
     "name": "stderr",
     "output_type": "stream",
     "text": [
      "Could not resolve EPIC 6633929 to a sky position.\n",
      "Could not resolve KOI 6633929 to a sky position.\n",
      "Could not resolve EPIC 11036692 to a sky position.\n",
      "Could not resolve KOI 11036692 to a sky position.\n",
      "Could not resolve EPIC 9085955 to a sky position.\n",
      "Could not resolve KOI 9085955 to a sky position.\n",
      "Could not resolve EPIC 7117153 to a sky position.\n",
      "Could not resolve KOI 7117153 to a sky position.\n"
     ]
    },
    {
     "name": "stdout",
     "output_type": "stream",
     "text": [
      "10155563 4991959 "
     ]
    },
    {
     "name": "stderr",
     "output_type": "stream",
     "text": [
      "Could not resolve EPIC 5611763 to a sky position.\n",
      "Could not resolve KOI 5611763 to a sky position.\n"
     ]
    },
    {
     "name": "stdout",
     "output_type": "stream",
     "text": [
      "12305537 9451598 "
     ]
    },
    {
     "name": "stderr",
     "output_type": "stream",
     "text": [
      "Could not resolve EPIC 4066203 to a sky position.\n",
      "Could not resolve KOI 4066203 to a sky position.\n"
     ]
    },
    {
     "name": "stdout",
     "output_type": "stream",
     "text": [
      "3437800 5015926 9956124 9947924 9290838 6281103 9450883 7700181 6118779 10395609 8934111 8878719 6223646 10737574 12404615 7119876 10799558 6034812 11012801 8587792 "
     ]
    },
    {
     "name": "stderr",
     "output_type": "stream",
     "text": [
      "Could not resolve EPIC 5353653 to a sky position.\n",
      "Could not resolve KOI 5353653 to a sky position.\n"
     ]
    },
    {
     "name": "stdout",
     "output_type": "stream",
     "text": [
      "3936357 7118621 "
     ]
    },
    {
     "name": "stderr",
     "output_type": "stream",
     "text": [
      "Could not resolve EPIC 8694926 to a sky position.\n",
      "Could not resolve KOI 8694926 to a sky position.\n"
     ]
    },
    {
     "name": "stdout",
     "output_type": "stream",
     "text": [
      "9649493 7368451 8059303 "
     ]
    },
    {
     "name": "stderr",
     "output_type": "stream",
     "text": [
      "Could not resolve EPIC 9533508 to a sky position.\n",
      "Could not resolve KOI 9533508 to a sky position.\n"
     ]
    },
    {
     "name": "stdout",
     "output_type": "stream",
     "text": [
      "2159783 7878402 9957411 11717798 "
     ]
    },
    {
     "name": "stderr",
     "output_type": "stream",
     "text": [
      "Could not resolve EPIC 10253375 to a sky position.\n",
      "Could not resolve KOI 10253375 to a sky position.\n"
     ]
    },
    {
     "name": "stdout",
     "output_type": "stream",
     "text": [
      "10924462 10854621 "
     ]
    },
    {
     "name": "stderr",
     "output_type": "stream",
     "text": [
      "Could not resolve EPIC 6436038 to a sky position.\n",
      "Could not resolve KOI 6436038 to a sky position.\n",
      "Could not resolve EPIC 2831097 to a sky position.\n",
      "Could not resolve KOI 2831097 to a sky position.\n"
     ]
    },
    {
     "name": "stdout",
     "output_type": "stream",
     "text": [
      "5296877 5425950 4999260 4669592 2305277 3756730 5033682 4672934 11559864 5790912 9020289 10280990 7259917 11091082 9071104 "
     ]
    },
    {
     "name": "stderr",
     "output_type": "stream",
     "text": [
      "Could not resolve EPIC 4859432 to a sky position.\n",
      "Could not resolve KOI 4859432 to a sky position.\n"
     ]
    },
    {
     "name": "stdout",
     "output_type": "stream",
     "text": [
      "6424124 7936219 12055421 11460346 11875706 2012362 9151972 "
     ]
    },
    {
     "name": "stderr",
     "output_type": "stream",
     "text": [
      "Could not resolve EPIC 5357882 to a sky position.\n",
      "Could not resolve KOI 5357882 to a sky position.\n"
     ]
    },
    {
     "name": "stdout",
     "output_type": "stream",
     "text": [
      "4843222 9481674 8053107 4904304 2444187 11042923 7542091 10275197 10032392 8097553 10135584 8696274 5770431 7879399 9833806 5353374 3342425 3557421 "
     ]
    },
    {
     "name": "stderr",
     "output_type": "stream",
     "text": [
      "Could not resolve EPIC 11247386 to a sky position.\n",
      "Could not resolve KOI 11247386 to a sky position.\n"
     ]
    },
    {
     "name": "stdout",
     "output_type": "stream",
     "text": [
      "2717141 4909422 "
     ]
    },
    {
     "name": "stderr",
     "output_type": "stream",
     "text": [
      "Could not resolve EPIC 2983113 to a sky position.\n",
      "Could not resolve KOI 2983113 to a sky position.\n"
     ]
    },
    {
     "name": "stdout",
     "output_type": "stream",
     "text": [
      "11805235 "
     ]
    },
    {
     "name": "stderr",
     "output_type": "stream",
     "text": [
      "Could not resolve EPIC 9717924 to a sky position.\n",
      "Could not resolve KOI 9717924 to a sky position.\n"
     ]
    },
    {
     "name": "stdout",
     "output_type": "stream",
     "text": [
      "3732732 9654476 10389809 "
     ]
    },
    {
     "name": "stderr",
     "output_type": "stream",
     "text": [
      "Could not resolve EPIC 5966237 to a sky position.\n",
      "Could not resolve KOI 5966237 to a sky position.\n",
      "Could not resolve EPIC 5737474 to a sky position.\n",
      "Could not resolve KOI 5737474 to a sky position.\n"
     ]
    },
    {
     "name": "stdout",
     "output_type": "stream",
     "text": [
      "8183850 7744173 10528299 8703528 6964796 11198068 7348206 5783676 9030509 "
     ]
    },
    {
     "name": "stderr",
     "output_type": "stream",
     "text": [
      "Could not resolve EPIC 11403776 to a sky position.\n",
      "Could not resolve KOI 11403776 to a sky position.\n"
     ]
    },
    {
     "name": "stdout",
     "output_type": "stream",
     "text": [
      "7173910 9051723 7975824 11190836 8715667 6359771 5389616 7217866 "
     ]
    },
    {
     "name": "stderr",
     "output_type": "stream",
     "text": [
      "Could not resolve EPIC 4547067 to a sky position.\n",
      "Could not resolve KOI 4547067 to a sky position.\n",
      "Could not resolve EPIC 7432479 to a sky position.\n",
      "Could not resolve KOI 7432479 to a sky position.\n",
      "Could not resolve EPIC 6344429 to a sky position.\n",
      "Could not resolve KOI 6344429 to a sky position.\n"
     ]
    },
    {
     "name": "stdout",
     "output_type": "stream",
     "text": [
      "8690104 7709086 3969362 10154189 3848042 6880727 11652545 "
     ]
    },
    {
     "name": "stderr",
     "output_type": "stream",
     "text": [
      "Could not resolve EPIC 5980800 to a sky position.\n",
      "Could not resolve KOI 5980800 to a sky position.\n"
     ]
    },
    {
     "name": "stdout",
     "output_type": "stream",
     "text": [
      "8982514 8982501 6024572 "
     ]
    },
    {
     "name": "stderr",
     "output_type": "stream",
     "text": [
      "Could not resolve EPIC 9703626 to a sky position.\n",
      "Could not resolve KOI 9703626 to a sky position.\n"
     ]
    },
    {
     "name": "stdout",
     "output_type": "stream",
     "text": [
      "11402381 9722737 9995660 10916675 2556127 "
     ]
    },
    {
     "name": "stderr",
     "output_type": "stream",
     "text": [
      "Could not resolve EPIC 7905209 to a sky position.\n",
      "Could not resolve KOI 7905209 to a sky position.\n"
     ]
    },
    {
     "name": "stdout",
     "output_type": "stream",
     "text": [
      "5374883 9071373 5005570 3232823 7512381 5450322 "
     ]
    },
    {
     "name": "stderr",
     "output_type": "stream",
     "text": [
      "Could not resolve EPIC 10468514 to a sky position.\n",
      "Could not resolve KOI 10468514 to a sky position.\n"
     ]
    },
    {
     "name": "stdout",
     "output_type": "stream",
     "text": [
      "9897710 9268105 "
     ]
    },
    {
     "name": "stderr",
     "output_type": "stream",
     "text": [
      "Could not resolve EPIC 6853229 to a sky position.\n",
      "Could not resolve KOI 6853229 to a sky position.\n"
     ]
    },
    {
     "name": "stdout",
     "output_type": "stream",
     "text": [
      "9021397 12218858 10253421 11410485 4937217 10267044 "
     ]
    },
    {
     "name": "stderr",
     "output_type": "stream",
     "text": [
      "Could not resolve EPIC 3765708 to a sky position.\n",
      "Could not resolve KOI 3765708 to a sky position.\n"
     ]
    },
    {
     "name": "stdout",
     "output_type": "stream",
     "text": [
      "3833859 5951553 5394544 10797126 8823666 10794878 8192840 4464999 8564672 9838047 2858322 "
     ]
    },
    {
     "name": "stderr",
     "output_type": "stream",
     "text": [
      "Could not resolve EPIC 2453212 to a sky position.\n",
      "Could not resolve KOI 2453212 to a sky position.\n"
     ]
    },
    {
     "name": "stdout",
     "output_type": "stream",
     "text": [
      "10877703 8496820 10618253 11284227 5369419 5259926 5809868 "
     ]
    },
    {
     "name": "stderr",
     "output_type": "stream",
     "text": [
      "Could not resolve EPIC 3119295 to a sky position.\n",
      "Could not resolve KOI 3119295 to a sky position.\n"
     ]
    },
    {
     "name": "stdout",
     "output_type": "stream",
     "text": [
      "6766325 5310387 5022573 10481912 "
     ]
    },
    {
     "name": "stderr",
     "output_type": "stream",
     "text": [
      "Could not resolve EPIC 9843451 to a sky position.\n",
      "Could not resolve KOI 9843451 to a sky position.\n"
     ]
    },
    {
     "name": "stdout",
     "output_type": "stream",
     "text": [
      "10753751 10389982 6446219 11924311 10485069 10485137 9786798 9087918 11230837 6067735 10809970 6390205 8222945 "
     ]
    },
    {
     "name": "stderr",
     "output_type": "stream",
     "text": [
      "Could not resolve EPIC 6442207 to a sky position.\n",
      "Could not resolve KOI 6442207 to a sky position.\n"
     ]
    },
    {
     "name": "stdout",
     "output_type": "stream",
     "text": [
      "4946584 11612091 6370361 9414905 "
     ]
    },
    {
     "name": "stderr",
     "output_type": "stream",
     "text": [
      "Could not resolve EPIC 9591358 to a sky position.\n",
      "Could not resolve KOI 9591358 to a sky position.\n",
      "Could not resolve EPIC 5041843 to a sky position.\n",
      "Could not resolve KOI 5041843 to a sky position.\n"
     ]
    },
    {
     "name": "stdout",
     "output_type": "stream",
     "text": [
      "8804824 7610486 5374999 9832227 8872737 5785586 3837677 10919564 "
     ]
    },
    {
     "name": "stderr",
     "output_type": "stream",
     "text": [
      "Could not resolve EPIC 12553806 to a sky position.\n",
      "Could not resolve KOI 12553806 to a sky position.\n"
     ]
    },
    {
     "name": "stdout",
     "output_type": "stream",
     "text": [
      "5535061 "
     ]
    },
    {
     "name": "stderr",
     "output_type": "stream",
     "text": [
      "Could not resolve EPIC 5199489 to a sky position.\n",
      "Could not resolve KOI 5199489 to a sky position.\n",
      "Could not resolve EPIC 7383021 to a sky position.\n",
      "Could not resolve KOI 7383021 to a sky position.\n"
     ]
    },
    {
     "name": "stdout",
     "output_type": "stream",
     "text": [
      "7518816 11920266 "
     ]
    },
    {
     "name": "stderr",
     "output_type": "stream",
     "text": [
      "Could not resolve EPIC 8428136 to a sky position.\n",
      "Could not resolve KOI 8428136 to a sky position.\n",
      "Could not resolve EPIC 10596883 to a sky position.\n",
      "Could not resolve KOI 10596883 to a sky position.\n",
      "Could not resolve EPIC 10141087 to a sky position.\n",
      "Could not resolve KOI 10141087 to a sky position.\n"
     ]
    },
    {
     "name": "stdout",
     "output_type": "stream",
     "text": [
      "2854752 6671698 12059158 10861842 9536053 3221207 7657914 "
     ]
    },
    {
     "name": "stderr",
     "output_type": "stream",
     "text": [
      "Could not resolve EPIC 7590728 to a sky position.\n",
      "Could not resolve KOI 7590728 to a sky position.\n",
      "Could not resolve EPIC 8736072 to a sky position.\n",
      "Could not resolve KOI 8736072 to a sky position.\n"
     ]
    },
    {
     "name": "stdout",
     "output_type": "stream",
     "text": [
      "6462057 9091810 "
     ]
    },
    {
     "name": "stderr",
     "output_type": "stream",
     "text": [
      "Could not resolve EPIC 8087649 to a sky position.\n",
      "Could not resolve KOI 8087649 to a sky position.\n"
     ]
    },
    {
     "name": "stdout",
     "output_type": "stream",
     "text": [
      "9002076 5478466 "
     ]
    },
    {
     "name": "stderr",
     "output_type": "stream",
     "text": [
      "Could not resolve EPIC 4466691 to a sky position.\n",
      "Could not resolve KOI 4466691 to a sky position.\n"
     ]
    },
    {
     "name": "stdout",
     "output_type": "stream",
     "text": [
      "5440746 6057829 4843592 8360184 10796477 "
     ]
    },
    {
     "name": "stderr",
     "output_type": "stream",
     "text": [
      "Could not resolve EPIC 7601767 to a sky position.\n",
      "Could not resolve KOI 7601767 to a sky position.\n"
     ]
    },
    {
     "name": "stdout",
     "output_type": "stream",
     "text": [
      "6836140 10357852 9592145 7516345 3953981 "
     ]
    },
    {
     "name": "stderr",
     "output_type": "stream",
     "text": [
      "Could not resolve EPIC 9957351 to a sky position.\n",
      "Could not resolve KOI 9957351 to a sky position.\n"
     ]
    },
    {
     "name": "stdout",
     "output_type": "stream",
     "text": [
      "5282464 "
     ]
    },
    {
     "name": "stderr",
     "output_type": "stream",
     "text": [
      "Could not resolve EPIC 11395645 to a sky position.\n",
      "Could not resolve KOI 11395645 to a sky position.\n"
     ]
    },
    {
     "name": "stdout",
     "output_type": "stream",
     "text": [
      "4947528 12055014 9702641 "
     ]
    },
    {
     "name": "stderr",
     "output_type": "stream",
     "text": [
      "Could not resolve EPIC 2972514 to a sky position.\n",
      "Could not resolve KOI 2972514 to a sky position.\n"
     ]
    },
    {
     "name": "stdout",
     "output_type": "stream",
     "text": [
      "10619506 5376552 9027841 4069063 "
     ]
    },
    {
     "name": "stderr",
     "output_type": "stream",
     "text": [
      "Could not resolve EPIC 9813678 to a sky position.\n",
      "Could not resolve KOI 9813678 to a sky position.\n"
     ]
    },
    {
     "name": "stdout",
     "output_type": "stream",
     "text": [
      "9642018 10920314 5128972 9639265 5201619 "
     ]
    },
    {
     "name": "stderr",
     "output_type": "stream",
     "text": [
      "Could not resolve EPIC 5088735 to a sky position.\n",
      "Could not resolve KOI 5088735 to a sky position.\n",
      "Could not resolve EPIC 5461570 to a sky position.\n",
      "Could not resolve KOI 5461570 to a sky position.\n"
     ]
    },
    {
     "name": "stdout",
     "output_type": "stream",
     "text": [
      "11495781 6353203 4349483 "
     ]
    },
    {
     "name": "stderr",
     "output_type": "stream",
     "text": [
      "Could not resolve EPIC 9075704 to a sky position.\n",
      "Could not resolve KOI 9075704 to a sky position.\n"
     ]
    },
    {
     "name": "stdout",
     "output_type": "stream",
     "text": [
      "3448245 8257903 8263940 "
     ]
    },
    {
     "name": "stderr",
     "output_type": "stream",
     "text": [
      "Could not resolve EPIC 11774383 to a sky position.\n",
      "Could not resolve KOI 11774383 to a sky position.\n"
     ]
    },
    {
     "name": "stdout",
     "output_type": "stream",
     "text": [
      "6677225 9237149 11560447 6791604 11154110 4458989 "
     ]
    },
    {
     "name": "stderr",
     "output_type": "stream",
     "text": [
      "Could not resolve EPIC 6153219 to a sky position.\n",
      "Could not resolve KOI 6153219 to a sky position.\n"
     ]
    },
    {
     "name": "stdout",
     "output_type": "stream",
     "text": [
      "12109575 6044543 "
     ]
    },
    {
     "name": "stderr",
     "output_type": "stream",
     "text": [
      "Could not resolve EPIC 11825057 to a sky position.\n",
      "Could not resolve KOI 11825057 to a sky position.\n"
     ]
    },
    {
     "name": "stdout",
     "output_type": "stream",
     "text": [
      "11180361 10586874 "
     ]
    },
    {
     "name": "stderr",
     "output_type": "stream",
     "text": [
      "Could not resolve EPIC 5358200 to a sky position.\n",
      "Could not resolve KOI 5358200 to a sky position.\n",
      "Could not resolve EPIC 6224853 to a sky position.\n",
      "Could not resolve KOI 6224853 to a sky position.\n"
     ]
    },
    {
     "name": "stdout",
     "output_type": "stream",
     "text": [
      "8074045 9541127 7373555 6042031 "
     ]
    },
    {
     "name": "stderr",
     "output_type": "stream",
     "text": [
      "Could not resolve EPIC 7668283 to a sky position.\n",
      "Could not resolve KOI 7668283 to a sky position.\n",
      "Could not resolve EPIC 9776718 to a sky position.\n",
      "Could not resolve KOI 9776718 to a sky position.\n"
     ]
    },
    {
     "name": "stdout",
     "output_type": "stream",
     "text": [
      "12267718 11038312 "
     ]
    },
    {
     "name": "stderr",
     "output_type": "stream",
     "text": [
      "Could not resolve EPIC 2558370 to a sky position.\n",
      "Could not resolve KOI 2558370 to a sky position.\n",
      "Could not resolve EPIC 5390351 to a sky position.\n",
      "Could not resolve KOI 5390351 to a sky position.\n",
      "Could not resolve EPIC 8814635 to a sky position.\n",
      "Could not resolve KOI 8814635 to a sky position.\n"
     ]
    },
    {
     "name": "stdout",
     "output_type": "stream",
     "text": [
      "8397675 7506164 "
     ]
    },
    {
     "name": "stderr",
     "output_type": "stream",
     "text": [
      "Could not resolve EPIC 9307423 to a sky position.\n",
      "Could not resolve KOI 9307423 to a sky position.\n"
     ]
    },
    {
     "name": "stdout",
     "output_type": "stream",
     "text": [
      "10292413 "
     ]
    },
    {
     "name": "stderr",
     "output_type": "stream",
     "text": [
      "Could not resolve EPIC 6213131 to a sky position.\n",
      "Could not resolve KOI 6213131 to a sky position.\n"
     ]
    },
    {
     "name": "stdout",
     "output_type": "stream",
     "text": [
      "11153627 8285970 4660997 8145477 7749504 9030447 7886329 "
     ]
    },
    {
     "name": "stderr",
     "output_type": "stream",
     "text": [
      "Could not resolve EPIC 5956776 to a sky position.\n",
      "Could not resolve KOI 5956776 to a sky position.\n"
     ]
    },
    {
     "name": "stdout",
     "output_type": "stream",
     "text": [
      "7431703 7816201 8112324 8616873 4547308 12157987 7037319 8311255 7938870 "
     ]
    },
    {
     "name": "stderr",
     "output_type": "stream",
     "text": [
      "Could not resolve EPIC 8587078 to a sky position.\n",
      "Could not resolve KOI 8587078 to a sky position.\n"
     ]
    },
    {
     "name": "stdout",
     "output_type": "stream",
     "text": [
      "5567438 1868650 9644680 11084782 "
     ]
    },
    {
     "name": "stderr",
     "output_type": "stream",
     "text": [
      "Could not resolve EPIC 8507080 to a sky position.\n",
      "Could not resolve KOI 8507080 to a sky position.\n"
     ]
    },
    {
     "name": "stdout",
     "output_type": "stream",
     "text": [
      "9142964 11404698 "
     ]
    },
    {
     "name": "stderr",
     "output_type": "stream",
     "text": [
      "Could not resolve EPIC 5878081 to a sky position.\n",
      "Could not resolve KOI 5878081 to a sky position.\n"
     ]
    },
    {
     "name": "stdout",
     "output_type": "stream",
     "text": [
      "9084778 "
     ]
    },
    {
     "name": "stderr",
     "output_type": "stream",
     "text": [
      "Could not resolve EPIC 8248967 to a sky position.\n",
      "Could not resolve KOI 8248967 to a sky position.\n"
     ]
    },
    {
     "name": "stdout",
     "output_type": "stream",
     "text": [
      "9356753 "
     ]
    },
    {
     "name": "stderr",
     "output_type": "stream",
     "text": [
      "Could not resolve EPIC 3954227 to a sky position.\n",
      "Could not resolve KOI 3954227 to a sky position.\n"
     ]
    },
    {
     "name": "stdout",
     "output_type": "stream",
     "text": [
      "7698650 12170648 5792093 5887316 "
     ]
    },
    {
     "name": "stderr",
     "output_type": "stream",
     "text": [
      "Could not resolve EPIC 8949316 to a sky position.\n",
      "Could not resolve KOI 8949316 to a sky position.\n"
     ]
    },
    {
     "name": "stdout",
     "output_type": "stream",
     "text": [
      "11703960 10216186 5018787 "
     ]
    },
    {
     "name": "stderr",
     "output_type": "stream",
     "text": [
      "Could not resolve EPIC 9514070 to a sky position.\n",
      "Could not resolve KOI 9514070 to a sky position.\n"
     ]
    },
    {
     "name": "stdout",
     "output_type": "stream",
     "text": [
      "5978521 8554005 7769072 "
     ]
    },
    {
     "name": "stderr",
     "output_type": "stream",
     "text": [
      "Could not resolve EPIC 12055517 to a sky position.\n",
      "Could not resolve KOI 12055517 to a sky position.\n"
     ]
    },
    {
     "name": "stdout",
     "output_type": "stream",
     "text": [
      "9944907 9706078 7818448 "
     ]
    },
    {
     "name": "stderr",
     "output_type": "stream",
     "text": [
      "Could not resolve EPIC 5290305 to a sky position.\n",
      "Could not resolve KOI 5290305 to a sky position.\n"
     ]
    },
    {
     "name": "stdout",
     "output_type": "stream",
     "text": [
      "7584826 3958488 "
     ]
    },
    {
     "name": "stderr",
     "output_type": "stream",
     "text": [
      "Could not resolve EPIC 9837083 to a sky position.\n",
      "Could not resolve KOI 9837083 to a sky position.\n",
      "Could not resolve EPIC 10844279 to a sky position.\n",
      "Could not resolve KOI 10844279 to a sky position.\n",
      "Could not resolve EPIC 12023089 to a sky position.\n",
      "Could not resolve KOI 12023089 to a sky position.\n",
      "Could not resolve EPIC 7378178 to a sky position.\n",
      "Could not resolve KOI 7378178 to a sky position.\n"
     ]
    },
    {
     "name": "stdout",
     "output_type": "stream",
     "text": [
      "8971432 "
     ]
    },
    {
     "name": "stderr",
     "output_type": "stream",
     "text": [
      "Could not resolve EPIC 5524325 to a sky position.\n",
      "Could not resolve KOI 5524325 to a sky position.\n"
     ]
    },
    {
     "name": "stdout",
     "output_type": "stream",
     "text": [
      "7304911 11193447 7038831 10229723 11904038 11509282 10351767 "
     ]
    },
    {
     "name": "stderr",
     "output_type": "stream",
     "text": [
      "Could not resolve EPIC 4037163 to a sky position.\n",
      "Could not resolve KOI 4037163 to a sky position.\n",
      "Could not resolve EPIC 3437778 to a sky position.\n",
      "Could not resolve KOI 3437778 to a sky position.\n",
      "Could not resolve EPIC 5022908 to a sky position.\n",
      "Could not resolve KOI 5022908 to a sky position.\n"
     ]
    },
    {
     "name": "stdout",
     "output_type": "stream",
     "text": [
      "5716763 7013934 8539850 11144556 5696909 6103049 3853673 9328852 7284688 10007533 "
     ]
    },
    {
     "name": "stderr",
     "output_type": "stream",
     "text": [
      "Could not resolve EPIC 3344427 to a sky position.\n",
      "Could not resolve KOI 3344427 to a sky position.\n"
     ]
    },
    {
     "name": "stdout",
     "output_type": "stream",
     "text": [
      "8977390 5820209 7836330 7458285 10226388 "
     ]
    },
    {
     "name": "stderr",
     "output_type": "stream",
     "text": [
      "Could not resolve EPIC 8579812 to a sky position.\n",
      "Could not resolve KOI 8579812 to a sky position.\n"
     ]
    },
    {
     "name": "stdout",
     "output_type": "stream",
     "text": [
      "2447893 10275747 7835348 6302051 "
     ]
    },
    {
     "name": "stderr",
     "output_type": "stream",
     "text": [
      "Could not resolve EPIC 4936680 to a sky position.\n",
      "Could not resolve KOI 4936680 to a sky position.\n"
     ]
    },
    {
     "name": "stdout",
     "output_type": "stream",
     "text": [
      "8285349 "
     ]
    },
    {
     "name": "stderr",
     "output_type": "stream",
     "text": [
      "Could not resolve EPIC 4954113 to a sky position.\n",
      "Could not resolve KOI 4954113 to a sky position.\n"
     ]
    },
    {
     "name": "stdout",
     "output_type": "stream",
     "text": [
      "3127873 "
     ]
    },
    {
     "name": "stderr",
     "output_type": "stream",
     "text": [
      "Could not resolve EPIC 5615815 to a sky position.\n",
      "Could not resolve KOI 5615815 to a sky position.\n"
     ]
    },
    {
     "name": "stdout",
     "output_type": "stream",
     "text": [
      "6692340 "
     ]
    },
    {
     "name": "stderr",
     "output_type": "stream",
     "text": [
      "Could not resolve EPIC 4571536 to a sky position.\n",
      "Could not resolve KOI 4571536 to a sky position.\n"
     ]
    },
    {
     "name": "stdout",
     "output_type": "stream",
     "text": [
      "6531485 "
     ]
    },
    {
     "name": "stderr",
     "output_type": "stream",
     "text": [
      "Could not resolve EPIC 10095469 to a sky position.\n",
      "Could not resolve KOI 10095469 to a sky position.\n"
     ]
    },
    {
     "name": "stdout",
     "output_type": "stream",
     "text": [
      "7051984 11027722 10972830 7620664 "
     ]
    },
    {
     "name": "stderr",
     "output_type": "stream",
     "text": [
      "Could not resolve EPIC 8183540 to a sky position.\n",
      "Could not resolve KOI 8183540 to a sky position.\n"
     ]
    },
    {
     "name": "stdout",
     "output_type": "stream",
     "text": [
      "12554536 11618883 8248812 2970804 "
     ]
    },
    {
     "name": "stderr",
     "output_type": "stream",
     "text": [
      "Could not resolve EPIC 9692336 to a sky position.\n",
      "Could not resolve KOI 9692336 to a sky position.\n"
     ]
    },
    {
     "name": "stdout",
     "output_type": "stream",
     "text": [
      "4077442 "
     ]
    },
    {
     "name": "stderr",
     "output_type": "stream",
     "text": [
      "Could not resolve EPIC 8182360 to a sky position.\n",
      "Could not resolve KOI 8182360 to a sky position.\n",
      "Could not resolve EPIC 8435247 to a sky position.\n",
      "Could not resolve KOI 8435247 to a sky position.\n"
     ]
    },
    {
     "name": "stdout",
     "output_type": "stream",
     "text": [
      "5077994 3956881 6665064 11197853 11076176 7433513 9149789 12108333 8094140 10259530 5123176 9475663 11017077 8231231 9551200 9767437 "
     ]
    },
    {
     "name": "stderr",
     "output_type": "stream",
     "text": [
      "Could not resolve EPIC 2988984 to a sky position.\n",
      "Could not resolve KOI 2988984 to a sky position.\n",
      "Could not resolve EPIC 6469946 to a sky position.\n",
      "Could not resolve KOI 6469946 to a sky position.\n"
     ]
    },
    {
     "name": "stdout",
     "output_type": "stream",
     "text": [
      "9752973 "
     ]
    },
    {
     "name": "stderr",
     "output_type": "stream",
     "text": [
      "Could not resolve EPIC 5357682 to a sky position.\n",
      "Could not resolve KOI 5357682 to a sky position.\n"
     ]
    },
    {
     "name": "stdout",
     "output_type": "stream",
     "text": [
      "8155368 9453192 11303526 7839027 9944201 "
     ]
    },
    {
     "name": "stderr",
     "output_type": "stream",
     "text": [
      "Could not resolve EPIC 12352712 to a sky position.\n",
      "Could not resolve KOI 12352712 to a sky position.\n"
     ]
    },
    {
     "name": "stdout",
     "output_type": "stream",
     "text": [
      "9350889 6865626 "
     ]
    },
    {
     "name": "stderr",
     "output_type": "stream",
     "text": [
      "Could not resolve EPIC 3228824 to a sky position.\n",
      "Could not resolve KOI 3228824 to a sky position.\n"
     ]
    },
    {
     "name": "stdout",
     "output_type": "stream",
     "text": [
      "3228863 5703230 6669809 10383620 4451148 4762887 10119517 5770860 10711646 "
     ]
    },
    {
     "name": "stderr",
     "output_type": "stream",
     "text": [
      "Could not resolve EPIC 2449084 to a sky position.\n",
      "Could not resolve KOI 2449084 to a sky position.\n"
     ]
    },
    {
     "name": "stdout",
     "output_type": "stream",
     "text": [
      "8590527 3848972 "
     ]
    },
    {
     "name": "stderr",
     "output_type": "stream",
     "text": [
      "Could not resolve EPIC 4554004 to a sky position.\n",
      "Could not resolve KOI 4554004 to a sky position.\n"
     ]
    },
    {
     "name": "stdout",
     "output_type": "stream",
     "text": [
      "7119757 "
     ]
    },
    {
     "name": "stderr",
     "output_type": "stream",
     "text": [
      "Could not resolve EPIC 2719436 to a sky position.\n",
      "Could not resolve KOI 2719436 to a sky position.\n"
     ]
    },
    {
     "name": "stdout",
     "output_type": "stream",
     "text": [
      "8539720 10724533 11408810 10905804 "
     ]
    },
    {
     "name": "stderr",
     "output_type": "stream",
     "text": [
      "Could not resolve EPIC 7220320 to a sky position.\n",
      "Could not resolve KOI 7220320 to a sky position.\n",
      "Could not resolve EPIC 7707742 to a sky position.\n",
      "Could not resolve KOI 7707742 to a sky position.\n"
     ]
    },
    {
     "name": "stdout",
     "output_type": "stream",
     "text": [
      "5529643 7941635 "
     ]
    },
    {
     "name": "stderr",
     "output_type": "stream",
     "text": [
      "Could not resolve EPIC 8429634 to a sky position.\n",
      "Could not resolve KOI 8429634 to a sky position.\n"
     ]
    },
    {
     "name": "stdout",
     "output_type": "stream",
     "text": [
      "6549491 "
     ]
    },
    {
     "name": "stderr",
     "output_type": "stream",
     "text": [
      "Could not resolve EPIC 4455763 to a sky position.\n",
      "Could not resolve KOI 4455763 to a sky position.\n",
      "Could not resolve EPIC 6283224 to a sky position.\n",
      "Could not resolve KOI 6283224 to a sky position.\n"
     ]
    },
    {
     "name": "stdout",
     "output_type": "stream",
     "text": [
      "8479107 6432059 3218683 7733540 7023917 9637239 7457163 10789421 6443392 8190491 8265951 "
     ]
    },
    {
     "name": "stderr",
     "output_type": "stream",
     "text": [
      "Could not resolve EPIC 8620561 to a sky position.\n",
      "Could not resolve KOI 8620561 to a sky position.\n"
     ]
    },
    {
     "name": "stdout",
     "output_type": "stream",
     "text": [
      "8953296 "
     ]
    },
    {
     "name": "stderr",
     "output_type": "stream",
     "text": [
      "Could not resolve EPIC 9935245 to a sky position.\n",
      "Could not resolve KOI 9935245 to a sky position.\n"
     ]
    },
    {
     "name": "stdout",
     "output_type": "stream",
     "text": [
      "7690843 10934755 8579707 12785282 "
     ]
    },
    {
     "name": "stderr",
     "output_type": "stream",
     "text": [
      "Could not resolve EPIC 11179657 to a sky position.\n",
      "Could not resolve KOI 11179657 to a sky position.\n"
     ]
    },
    {
     "name": "stdout",
     "output_type": "stream",
     "text": [
      "6187893 10186945 5439790 "
     ]
    },
    {
     "name": "stderr",
     "output_type": "stream",
     "text": [
      "Could not resolve EPIC 3556229 to a sky position.\n",
      "Could not resolve KOI 3556229 to a sky position.\n",
      "Could not resolve EPIC 9784230 to a sky position.\n",
      "Could not resolve KOI 9784230 to a sky position.\n",
      "Could not resolve EPIC 8166095 to a sky position.\n",
      "Could not resolve KOI 8166095 to a sky position.\n"
     ]
    },
    {
     "name": "stdout",
     "output_type": "stream",
     "text": [
      "5647008 6805779 6279974 "
     ]
    },
    {
     "name": "stderr",
     "output_type": "stream",
     "text": [
      "Could not resolve EPIC 3633901 to a sky position.\n",
      "Could not resolve KOI 3633901 to a sky position.\n"
     ]
    },
    {
     "name": "stdout",
     "output_type": "stream",
     "text": [
      "5991936 7091476 8685306 "
     ]
    },
    {
     "name": "stderr",
     "output_type": "stream",
     "text": [
      "Could not resolve EPIC 7107567 to a sky position.\n",
      "Could not resolve KOI 7107567 to a sky position.\n",
      "Could not resolve EPIC 10024144 to a sky position.\n",
      "Could not resolve KOI 10024144 to a sky position.\n",
      "Could not resolve EPIC 10743600 to a sky position.\n",
      "Could not resolve KOI 10743600 to a sky position.\n",
      "Could not resolve EPIC 8386048 to a sky position.\n",
      "Could not resolve KOI 8386048 to a sky position.\n"
     ]
    },
    {
     "name": "stdout",
     "output_type": "stream",
     "text": [
      "11255667 6029214 9790965 8848104 7950962 7950964 10454725 5198934 7766185 "
     ]
    },
    {
     "name": "stderr",
     "output_type": "stream",
     "text": [
      "Could not resolve EPIC 8211824 to a sky position.\n",
      "Could not resolve KOI 8211824 to a sky position.\n"
     ]
    },
    {
     "name": "stdout",
     "output_type": "stream",
     "text": [
      "3339563 6464285 6028860 6311681 10129482 6293266 3104113 6365321 "
     ]
    },
    {
     "name": "stderr",
     "output_type": "stream",
     "text": [
      "Could not resolve EPIC 8822555 to a sky position.\n",
      "Could not resolve KOI 8822555 to a sky position.\n"
     ]
    },
    {
     "name": "stdout",
     "output_type": "stream",
     "text": [
      "2835289 10257903 "
     ]
    },
    {
     "name": "stderr",
     "output_type": "stream",
     "text": [
      "Could not resolve EPIC 5606644 to a sky position.\n",
      "Could not resolve KOI 5606644 to a sky position.\n"
     ]
    },
    {
     "name": "stdout",
     "output_type": "stream",
     "text": [
      "7366145 "
     ]
    },
    {
     "name": "stderr",
     "output_type": "stream",
     "text": [
      "Could not resolve EPIC 12109845 to a sky position.\n",
      "Could not resolve KOI 12109845 to a sky position.\n"
     ]
    },
    {
     "name": "stdout",
     "output_type": "stream",
     "text": [
      "8904448 "
     ]
    },
    {
     "name": "stderr",
     "output_type": "stream",
     "text": [
      "Could not resolve EPIC 5560831 to a sky position.\n",
      "Could not resolve KOI 5560831 to a sky position.\n",
      "Could not resolve EPIC 4929299 to a sky position.\n",
      "Could not resolve KOI 4929299 to a sky position.\n"
     ]
    },
    {
     "name": "stdout",
     "output_type": "stream",
     "text": [
      "2577756 9480977 9346655 "
     ]
    },
    {
     "name": "stderr",
     "output_type": "stream",
     "text": [
      "Could not resolve EPIC 9394601 to a sky position.\n",
      "Could not resolve KOI 9394601 to a sky position.\n",
      "Could not resolve EPIC 8314879 to a sky position.\n",
      "Could not resolve KOI 8314879 to a sky position.\n"
     ]
    },
    {
     "name": "stdout",
     "output_type": "stream",
     "text": [
      "9840412 8523194 "
     ]
    },
    {
     "name": "stderr",
     "output_type": "stream",
     "text": [
      "Could not resolve EPIC 8696327 to a sky position.\n",
      "Could not resolve KOI 8696327 to a sky position.\n"
     ]
    },
    {
     "name": "stdout",
     "output_type": "stream",
     "text": [
      "11338865 8800998 5474733 7777443 7630690 11295347 "
     ]
    },
    {
     "name": "stderr",
     "output_type": "stream",
     "text": [
      "Could not resolve EPIC 3114667 to a sky position.\n",
      "Could not resolve KOI 3114667 to a sky position.\n"
     ]
    },
    {
     "name": "stdout",
     "output_type": "stream",
     "text": [
      "5386810 2851100 10815379 "
     ]
    },
    {
     "name": "stderr",
     "output_type": "stream",
     "text": [
      "Could not resolve EPIC 7296094 to a sky position.\n",
      "Could not resolve KOI 7296094 to a sky position.\n"
     ]
    },
    {
     "name": "stdout",
     "output_type": "stream",
     "text": [
      "3458919 7501230 9392682 3659940 "
     ]
    },
    {
     "name": "stderr",
     "output_type": "stream",
     "text": [
      "Could not resolve EPIC 8240861 to a sky position.\n",
      "Could not resolve KOI 8240861 to a sky position.\n",
      "Could not resolve EPIC 4739791 to a sky position.\n",
      "Could not resolve KOI 4739791 to a sky position.\n"
     ]
    },
    {
     "name": "stdout",
     "output_type": "stream",
     "text": [
      "7811211 7812455 7258889 8687088 5952403 2162283 10735519 6045264 7584739 9020426 "
     ]
    },
    {
     "name": "stderr",
     "output_type": "stream",
     "text": [
      "Could not resolve EPIC 6516874 to a sky position.\n",
      "Could not resolve KOI 6516874 to a sky position.\n"
     ]
    },
    {
     "name": "stdout",
     "output_type": "stream",
     "text": [
      "9083523 3954798 4949214 10979669 7977261 "
     ]
    },
    {
     "name": "stderr",
     "output_type": "stream",
     "text": [
      "Could not resolve EPIC 8087799 to a sky position.\n",
      "Could not resolve KOI 8087799 to a sky position.\n"
     ]
    },
    {
     "name": "stdout",
     "output_type": "stream",
     "text": [
      "12400729 6370665 "
     ]
    },
    {
     "name": "stderr",
     "output_type": "stream",
     "text": [
      "Could not resolve EPIC 5636642 to a sky position.\n",
      "Could not resolve KOI 5636642 to a sky position.\n",
      "Could not resolve EPIC 10407221 to a sky position.\n",
      "Could not resolve KOI 10407221 to a sky position.\n"
     ]
    },
    {
     "name": "stdout",
     "output_type": "stream",
     "text": [
      "10363300 10599397 5621294 3662635 "
     ]
    },
    {
     "name": "stderr",
     "output_type": "stream",
     "text": [
      "Could not resolve EPIC 8937663 to a sky position.\n",
      "Could not resolve KOI 8937663 to a sky position.\n"
     ]
    },
    {
     "name": "stdout",
     "output_type": "stream",
     "text": [
      "6778050 "
     ]
    },
    {
     "name": "stderr",
     "output_type": "stream",
     "text": [
      "Could not resolve EPIC 3124420 to a sky position.\n",
      "Could not resolve KOI 3124420 to a sky position.\n"
     ]
    },
    {
     "name": "stdout",
     "output_type": "stream",
     "text": [
      "8608310 4358206 10794405 10858720 7881722 9596187 5269407 4729553 "
     ]
    },
    {
     "name": "stderr",
     "output_type": "stream",
     "text": [
      "Could not resolve EPIC 7681230 to a sky position.\n",
      "Could not resolve KOI 7681230 to a sky position.\n"
     ]
    },
    {
     "name": "stdout",
     "output_type": "stream",
     "text": [
      "5471619 9788457 4350454 "
     ]
    },
    {
     "name": "stderr",
     "output_type": "stream",
     "text": [
      "Could not resolve EPIC 2854948 to a sky position.\n",
      "Could not resolve KOI 2854948 to a sky position.\n"
     ]
    },
    {
     "name": "stdout",
     "output_type": "stream",
     "text": [
      "10991989 3957477 9220600 9574614 9365025 "
     ]
    },
    {
     "name": "stderr",
     "output_type": "stream",
     "text": [
      "Could not resolve EPIC 6187341 to a sky position.\n",
      "Could not resolve KOI 6187341 to a sky position.\n"
     ]
    },
    {
     "name": "stdout",
     "output_type": "stream",
     "text": [
      "11358392 "
     ]
    },
    {
     "name": "stderr",
     "output_type": "stream",
     "text": [
      "Could not resolve EPIC 5642620 to a sky position.\n",
      "Could not resolve KOI 5642620 to a sky position.\n"
     ]
    },
    {
     "name": "stdout",
     "output_type": "stream",
     "text": [
      "4999357 3122985 3113266 6262882 3965242 3834322 8758161 12255382 11097678 8669092 5955731 12356746 10014536 10063044 "
     ]
    },
    {
     "name": "stderr",
     "output_type": "stream",
     "text": [
      "Could not resolve EPIC 8565912 to a sky position.\n",
      "Could not resolve KOI 8565912 to a sky position.\n",
      "Could not resolve EPIC 8294484 to a sky position.\n",
      "Could not resolve KOI 8294484 to a sky position.\n"
     ]
    },
    {
     "name": "stdout",
     "output_type": "stream",
     "text": [
      "10189523 3431321 12599700 8913061 "
     ]
    },
    {
     "name": "stderr",
     "output_type": "stream",
     "text": [
      "Could not resolve EPIC 9832545 to a sky position.\n",
      "Could not resolve KOI 9832545 to a sky position.\n",
      "Could not resolve EPIC 8647309 to a sky position.\n",
      "Could not resolve KOI 8647309 to a sky position.\n"
     ]
    },
    {
     "name": "stdout",
     "output_type": "stream",
     "text": [
      "12016304 9474485 5534702 "
     ]
    },
    {
     "name": "stderr",
     "output_type": "stream",
     "text": [
      "Could not resolve EPIC 4679687 to a sky position.\n",
      "Could not resolve KOI 4679687 to a sky position.\n",
      "Could not resolve EPIC 10676927 to a sky position.\n",
      "Could not resolve KOI 10676927 to a sky position.\n"
     ]
    },
    {
     "name": "stdout",
     "output_type": "stream",
     "text": [
      "6191574 10264202 4649324 "
     ]
    },
    {
     "name": "stderr",
     "output_type": "stream",
     "text": [
      "Could not resolve EPIC 11968513 to a sky position.\n",
      "Could not resolve KOI 11968513 to a sky position.\n"
     ]
    },
    {
     "name": "stdout",
     "output_type": "stream",
     "text": [
      "6047498 5078879 4551328 9345838 3848919 "
     ]
    },
    {
     "name": "stderr",
     "output_type": "stream",
     "text": [
      "Could not resolve EPIC 5876360 to a sky position.\n",
      "Could not resolve KOI 5876360 to a sky position.\n"
     ]
    },
    {
     "name": "stdout",
     "output_type": "stream",
     "text": [
      "9419603 11455795 8552540 4647652 3749508 "
     ]
    },
    {
     "name": "stderr",
     "output_type": "stream",
     "text": [
      "Could not resolve EPIC 5475624 to a sky position.\n",
      "Could not resolve KOI 5475624 to a sky position.\n"
     ]
    },
    {
     "name": "stdout",
     "output_type": "stream",
     "text": [
      "10616829 9402652 "
     ]
    },
    {
     "name": "stderr",
     "output_type": "stream",
     "text": [
      "Could not resolve EPIC 9651155 to a sky position.\n",
      "Could not resolve KOI 9651155 to a sky position.\n"
     ]
    },
    {
     "name": "stdout",
     "output_type": "stream",
     "text": [
      "11968490 6844489 3351945 8608490 11391667 8894630 5802834 12066630 "
     ]
    },
    {
     "name": "stderr",
     "output_type": "stream",
     "text": [
      "Could not resolve EPIC 9508954 to a sky position.\n",
      "Could not resolve KOI 9508954 to a sky position.\n",
      "Could not resolve EPIC 10268903 to a sky position.\n",
      "Could not resolve KOI 10268903 to a sky position.\n"
     ]
    },
    {
     "name": "stdout",
     "output_type": "stream",
     "text": [
      "10736223 6695889 6803335 9164694 5377349 4570326 "
     ]
    },
    {
     "name": "stderr",
     "output_type": "stream",
     "text": [
      "Could not resolve EPIC 9343862 to a sky position.\n",
      "Could not resolve KOI 9343862 to a sky position.\n"
     ]
    },
    {
     "name": "stdout",
     "output_type": "stream",
     "text": [
      "9725155 6025466 4945588 2997455 "
     ]
    },
    {
     "name": "stderr",
     "output_type": "stream",
     "text": [
      "Could not resolve EPIC 6058875 to a sky position.\n",
      "Could not resolve KOI 6058875 to a sky position.\n"
     ]
    },
    {
     "name": "stdout",
     "output_type": "stream",
     "text": [
      "5623774 5975712 3832716 4484356 7449844 7740302 "
     ]
    },
    {
     "name": "stderr",
     "output_type": "stream",
     "text": [
      "Could not resolve EPIC 7770471 to a sky position.\n",
      "Could not resolve KOI 7770471 to a sky position.\n"
     ]
    },
    {
     "name": "stdout",
     "output_type": "stream",
     "text": [
      "6447430 8548416 3849155 9108579 4169521 9724080 4945035 10613718 8444552 8218274 5371109 8452840 10417135 "
     ]
    },
    {
     "name": "stderr",
     "output_type": "stream",
     "text": [
      "Could not resolve EPIC 3547111 to a sky position.\n",
      "Could not resolve KOI 3547111 to a sky position.\n",
      "Could not resolve EPIC 5623923 to a sky position.\n",
      "Could not resolve KOI 5623923 to a sky position.\n"
     ]
    },
    {
     "name": "stdout",
     "output_type": "stream",
     "text": [
      "7976783 10191070 5963222 "
     ]
    },
    {
     "name": "stderr",
     "output_type": "stream",
     "text": [
      "Could not resolve EPIC 9366988 to a sky position.\n",
      "Could not resolve KOI 9366988 to a sky position.\n"
     ]
    },
    {
     "name": "stdout",
     "output_type": "stream",
     "text": [
      "9592855 4273411 "
     ]
    },
    {
     "name": "stderr",
     "output_type": "stream",
     "text": [
      "Could not resolve EPIC 9205993 to a sky position.\n",
      "Could not resolve KOI 9205993 to a sky position.\n"
     ]
    },
    {
     "name": "stdout",
     "output_type": "stream",
     "text": [
      "5809827 7676610 "
     ]
    },
    {
     "name": "stderr",
     "output_type": "stream",
     "text": [
      "Could not resolve EPIC 4454219 to a sky position.\n",
      "Could not resolve KOI 4454219 to a sky position.\n"
     ]
    },
    {
     "name": "stdout",
     "output_type": "stream",
     "text": [
      "10661783 8177958 "
     ]
    },
    {
     "name": "stderr",
     "output_type": "stream",
     "text": [
      "Could not resolve EPIC 3851320 to a sky position.\n",
      "Could not resolve KOI 3851320 to a sky position.\n"
     ]
    },
    {
     "name": "stdout",
     "output_type": "stream",
     "text": [
      "6206751 4739194 7456992 9451096 "
     ]
    },
    {
     "name": "stderr",
     "output_type": "stream",
     "text": [
      "Could not resolve EPIC 10556578 to a sky position.\n",
      "Could not resolve KOI 10556578 to a sky position.\n"
     ]
    },
    {
     "name": "stdout",
     "output_type": "stream",
     "text": [
      "8386865 8382182 11134079 12365000 6209824 9164561 6962018 6689368 8111387 "
     ]
    },
    {
     "name": "stderr",
     "output_type": "stream",
     "text": [
      "Could not resolve EPIC 9053086 to a sky position.\n",
      "Could not resolve KOI 9053086 to a sky position.\n",
      "Could not resolve EPIC 10083623 to a sky position.\n",
      "Could not resolve KOI 10083623 to a sky position.\n",
      "Could not resolve EPIC 4372705 to a sky position.\n",
      "Could not resolve KOI 4372705 to a sky position.\n"
     ]
    },
    {
     "name": "stdout",
     "output_type": "stream",
     "text": [
      "5300878 9909497 "
     ]
    },
    {
     "name": "stderr",
     "output_type": "stream",
     "text": [
      "Could not resolve EPIC 3547315 to a sky position.\n",
      "Could not resolve KOI 3547315 to a sky position.\n"
     ]
    },
    {
     "name": "stdout",
     "output_type": "stream",
     "text": [
      "5097446 11182260 5598639 2557430 4743626 9945280 "
     ]
    },
    {
     "name": "stderr",
     "output_type": "stream",
     "text": [
      "Could not resolve EPIC 6066379 to a sky position.\n",
      "Could not resolve KOI 6066379 to a sky position.\n"
     ]
    },
    {
     "name": "stdout",
     "output_type": "stream",
     "text": [
      "4574310 "
     ]
    },
    {
     "name": "stderr",
     "output_type": "stream",
     "text": [
      "Could not resolve EPIC 5215700 to a sky position.\n",
      "Could not resolve KOI 5215700 to a sky position.\n"
     ]
    },
    {
     "name": "stdout",
     "output_type": "stream",
     "text": [
      "7884842 "
     ]
    },
    {
     "name": "stderr",
     "output_type": "stream",
     "text": [
      "Could not resolve EPIC 6220497 to a sky position.\n",
      "Could not resolve KOI 6220497 to a sky position.\n"
     ]
    },
    {
     "name": "stdout",
     "output_type": "stream",
     "text": [
      "5716244 9899181 9899416 "
     ]
    },
    {
     "name": "stderr",
     "output_type": "stream",
     "text": [
      "Could not resolve EPIC 9899345 to a sky position.\n",
      "Could not resolve KOI 9899345 to a sky position.\n",
      "Could not resolve EPIC 10879213 to a sky position.\n",
      "Could not resolve KOI 10879213 to a sky position.\n",
      "Could not resolve EPIC 9954225 to a sky position.\n",
      "Could not resolve KOI 9954225 to a sky position.\n"
     ]
    },
    {
     "name": "stdout",
     "output_type": "stream",
     "text": [
      "4853067 3851193 10232123 3966491 8429415 10292465 3558822 6143826 6370120 12418319 8409588 8652599 "
     ]
    },
    {
     "name": "stderr",
     "output_type": "stream",
     "text": [
      "Could not resolve EPIC 2305543 to a sky position.\n",
      "Could not resolve KOI 2305543 to a sky position.\n"
     ]
    },
    {
     "name": "stdout",
     "output_type": "stream",
     "text": [
      "10818544 6452742 "
     ]
    },
    {
     "name": "stderr",
     "output_type": "stream",
     "text": [
      "Could not resolve EPIC 5309353 to a sky position.\n",
      "Could not resolve KOI 5309353 to a sky position.\n"
     ]
    },
    {
     "name": "stdout",
     "output_type": "stream",
     "text": [
      "8846978 9953894 9761199 7985167 11304987 7177892 10028352 9007918 3973549 9051716 10422852 10000490 2305372 "
     ]
    },
    {
     "name": "stderr",
     "output_type": "stream",
     "text": [
      "Could not resolve EPIC 5428668 to a sky position.\n",
      "Could not resolve KOI 5428668 to a sky position.\n"
     ]
    },
    {
     "name": "stdout",
     "output_type": "stream",
     "text": [
      "11706658 9833618 7671594 8264534 7382250 8397460 10225800 4480676 10551346 9480516 3442058 "
     ]
    },
    {
     "name": "stderr",
     "output_type": "stream",
     "text": [
      "Could not resolve EPIC 6314173 to a sky position.\n",
      "Could not resolve KOI 6314173 to a sky position.\n"
     ]
    },
    {
     "name": "stdout",
     "output_type": "stream",
     "text": [
      "2440757 6697716 9602542 10601549 11560037 3442006 11873166 9137992 "
     ]
    },
    {
     "name": "stderr",
     "output_type": "stream",
     "text": [
      "Could not resolve EPIC 12216706 to a sky position.\n",
      "Could not resolve KOI 12216706 to a sky position.\n"
     ]
    },
    {
     "name": "stdout",
     "output_type": "stream",
     "text": [
      "11076279 9470054 9569866 10535807 9353234 8081389 3245776 11447953 "
     ]
    },
    {
     "name": "stderr",
     "output_type": "stream",
     "text": [
      "Could not resolve EPIC 4456622 to a sky position.\n",
      "Could not resolve KOI 4456622 to a sky position.\n"
     ]
    },
    {
     "name": "stdout",
     "output_type": "stream",
     "text": [
      "11463211 8823397 "
     ]
    },
    {
     "name": "stderr",
     "output_type": "stream",
     "text": [
      "Could not resolve EPIC 7700578 to a sky position.\n",
      "Could not resolve KOI 7700578 to a sky position.\n"
     ]
    },
    {
     "name": "stdout",
     "output_type": "stream",
     "text": [
      "8288719 8195877 5513861 11350389 5216727 8451777 "
     ]
    },
    {
     "name": "stderr",
     "output_type": "stream",
     "text": [
      "Could not resolve EPIC 7610340 to a sky position.\n",
      "Could not resolve KOI 7610340 to a sky position.\n",
      "Could not resolve EPIC 7108433 to a sky position.\n",
      "Could not resolve KOI 7108433 to a sky position.\n"
     ]
    },
    {
     "name": "stdout",
     "output_type": "stream",
     "text": [
      "5444392 12418816 4150611 "
     ]
    },
    {
     "name": "stderr",
     "output_type": "stream",
     "text": [
      "Could not resolve EPIC 2569494 to a sky position.\n",
      "Could not resolve KOI 2569494 to a sky position.\n"
     ]
    },
    {
     "name": "stdout",
     "output_type": "stream",
     "text": [
      "3836522 3836439 "
     ]
    },
    {
     "name": "stderr",
     "output_type": "stream",
     "text": [
      "Could not resolve EPIC 6948815 to a sky position.\n",
      "Could not resolve KOI 6948815 to a sky position.\n",
      "Could not resolve EPIC 9163674 to a sky position.\n",
      "Could not resolve KOI 9163674 to a sky position.\n"
     ]
    },
    {
     "name": "stdout",
     "output_type": "stream",
     "text": [
      "5733384 5774375 11724091 8043961 "
     ]
    },
    {
     "name": "stderr",
     "output_type": "stream",
     "text": [
      "Could not resolve EPIC 6048106 to a sky position.\n",
      "Could not resolve KOI 6048106 to a sky position.\n"
     ]
    },
    {
     "name": "stdout",
     "output_type": "stream",
     "text": [
      "4949770 9228778 4550750 6934587 4677321 9597411 10666230 6302592 5977736 "
     ]
    },
    {
     "name": "stderr",
     "output_type": "stream",
     "text": [
      "Could not resolve EPIC 5962514 to a sky position.\n",
      "Could not resolve KOI 5962514 to a sky position.\n",
      "Could not resolve EPIC 7117541 to a sky position.\n",
      "Could not resolve KOI 7117541 to a sky position.\n"
     ]
    },
    {
     "name": "stdout",
     "output_type": "stream",
     "text": [
      "11234677 9357275 "
     ]
    },
    {
     "name": "stderr",
     "output_type": "stream",
     "text": [
      "Could not resolve EPIC 1433980 to a sky position.\n",
      "Could not resolve KOI 1433980 to a sky position.\n"
     ]
    },
    {
     "name": "stdout",
     "output_type": "stream",
     "text": [
      "8553788 7174617 8262223 6794131 5112567 6311637 5127005 4070376 7385478 9210828 "
     ]
    },
    {
     "name": "stderr",
     "output_type": "stream",
     "text": [
      "Could not resolve EPIC 9101400 to a sky position.\n",
      "Could not resolve KOI 9101400 to a sky position.\n"
     ]
    },
    {
     "name": "stdout",
     "output_type": "stream",
     "text": [
      "5211385 6197319 3443790 8145789 4071600 "
     ]
    },
    {
     "name": "stderr",
     "output_type": "stream",
     "text": [
      "Could not resolve EPIC 10735564 to a sky position.\n",
      "Could not resolve KOI 10735564 to a sky position.\n"
     ]
    },
    {
     "name": "stdout",
     "output_type": "stream",
     "text": [
      "5801571 8841616 "
     ]
    },
    {
     "name": "stderr",
     "output_type": "stream",
     "text": [
      "Could not resolve EPIC 9282687 to a sky position.\n",
      "Could not resolve KOI 9282687 to a sky position.\n",
      "Could not resolve EPIC 9843435 to a sky position.\n",
      "Could not resolve KOI 9843435 to a sky position.\n"
     ]
    },
    {
     "name": "stdout",
     "output_type": "stream",
     "text": [
      "9906590 1295531 3241619 11568428 9711751 4365442 11616200 7885570 "
     ]
    },
    {
     "name": "stderr",
     "output_type": "stream",
     "text": [
      "Could not resolve EPIC 6058614 to a sky position.\n",
      "Could not resolve KOI 6058614 to a sky position.\n"
     ]
    },
    {
     "name": "stdout",
     "output_type": "stream",
     "text": [
      "7798259 7748113 10848459 6670812 9288786 4380283 "
     ]
    },
    {
     "name": "stderr",
     "output_type": "stream",
     "text": [
      "Could not resolve EPIC 11564013 to a sky position.\n",
      "Could not resolve KOI 11564013 to a sky position.\n"
     ]
    },
    {
     "name": "stdout",
     "output_type": "stream",
     "text": [
      "4902030 5736537 10274218 9426970 7968880 4850874 "
     ]
    },
    {
     "name": "stderr",
     "output_type": "stream",
     "text": [
      "Could not resolve EPIC 6148271 to a sky position.\n",
      "Could not resolve KOI 6148271 to a sky position.\n"
     ]
    },
    {
     "name": "stdout",
     "output_type": "stream",
     "text": [
      "8112013 "
     ]
    },
    {
     "name": "stderr",
     "output_type": "stream",
     "text": [
      "Could not resolve EPIC 9110346 to a sky position.\n",
      "Could not resolve KOI 9110346 to a sky position.\n"
     ]
    },
    {
     "name": "stdout",
     "output_type": "stream",
     "text": [
      "8039225 8892722 5479973 8411947 "
     ]
    },
    {
     "name": "stderr",
     "output_type": "stream",
     "text": [
      "Could not resolve EPIC 10581918 to a sky position.\n",
      "Could not resolve KOI 10581918 to a sky position.\n"
     ]
    },
    {
     "name": "stdout",
     "output_type": "stream",
     "text": [
      "5962716 9101279 9285587 9716456 "
     ]
    },
    {
     "name": "stderr",
     "output_type": "stream",
     "text": [
      "Could not resolve EPIC 6363494 to a sky position.\n",
      "Could not resolve KOI 6363494 to a sky position.\n"
     ]
    },
    {
     "name": "stdout",
     "output_type": "stream",
     "text": [
      "9895709 4681152 2309587 2450566 6956014 12367464 9637265 "
     ]
    },
    {
     "name": "stderr",
     "output_type": "stream",
     "text": [
      "Could not resolve EPIC 5783368 to a sky position.\n",
      "Could not resolve KOI 5783368 to a sky position.\n"
     ]
    },
    {
     "name": "stdout",
     "output_type": "stream",
     "text": [
      "10342041 10341913 9237533 10514770 6128141 "
     ]
    },
    {
     "name": "stderr",
     "output_type": "stream",
     "text": [
      "Could not resolve EPIC 3338660 to a sky position.\n",
      "Could not resolve KOI 3338660 to a sky position.\n"
     ]
    },
    {
     "name": "stdout",
     "output_type": "stream",
     "text": [
      "4678875 9637299 "
     ]
    },
    {
     "name": "stderr",
     "output_type": "stream",
     "text": [
      "Could not resolve EPIC 9593528 to a sky position.\n",
      "Could not resolve KOI 9593528 to a sky position.\n"
     ]
    },
    {
     "name": "stdout",
     "output_type": "stream",
     "text": [
      "9912977 2708156 5296276 4832197 "
     ]
    },
    {
     "name": "stderr",
     "output_type": "stream",
     "text": [
      "Could not resolve EPIC 8099615 to a sky position.\n",
      "Could not resolve KOI 8099615 to a sky position.\n",
      "Could not resolve EPIC 11819135 to a sky position.\n",
      "Could not resolve KOI 11819135 to a sky position.\n"
     ]
    },
    {
     "name": "stdout",
     "output_type": "stream",
     "text": [
      "12470954 5264818 7269493 5196301 8330575 4840263 10735988 7967100 5821050 11967004 7842610 "
     ]
    },
    {
     "name": "stderr",
     "output_type": "stream",
     "text": [
      "Could not resolve EPIC 3530668 to a sky position.\n",
      "Could not resolve KOI 3530668 to a sky position.\n",
      "Could not resolve EPIC 10096864 to a sky position.\n",
      "Could not resolve KOI 10096864 to a sky position.\n"
     ]
    },
    {
     "name": "stdout",
     "output_type": "stream",
     "text": [
      "12353720 7549265 3735597 8430210 8019043 "
     ]
    },
    {
     "name": "stderr",
     "output_type": "stream",
     "text": [
      "Could not resolve EPIC 6863161 to a sky position.\n",
      "Could not resolve KOI 6863161 to a sky position.\n"
     ]
    },
    {
     "name": "stdout",
     "output_type": "stream",
     "text": [
      "6863229 7552344 4670267 9207508 10068030 5306862 9030817 7830321 "
     ]
    },
    {
     "name": "stderr",
     "output_type": "stream",
     "text": [
      "Could not resolve EPIC 8380743 to a sky position.\n",
      "Could not resolve KOI 8380743 to a sky position.\n"
     ]
    },
    {
     "name": "stdout",
     "output_type": "stream",
     "text": [
      "10291683 10619109 "
     ]
    },
    {
     "name": "stderr",
     "output_type": "stream",
     "text": [
      "Could not resolve EPIC 8127648 to a sky position.\n",
      "Could not resolve KOI 8127648 to a sky position.\n"
     ]
    },
    {
     "name": "stdout",
     "output_type": "stream",
     "text": [
      "7970629 10857519 "
     ]
    },
    {
     "name": "stderr",
     "output_type": "stream",
     "text": [
      "Could not resolve EPIC 7732791 to a sky position.\n",
      "Could not resolve KOI 7732791 to a sky position.\n"
     ]
    },
    {
     "name": "stdout",
     "output_type": "stream",
     "text": [
      "9788113 "
     ]
    },
    {
     "name": "stderr",
     "output_type": "stream",
     "text": [
      "Could not resolve EPIC 9479460 to a sky position.\n",
      "Could not resolve KOI 9479460 to a sky position.\n",
      "Could not resolve EPIC 6470516 to a sky position.\n",
      "Could not resolve KOI 6470516 to a sky position.\n"
     ]
    },
    {
     "name": "stdout",
     "output_type": "stream",
     "text": [
      "4357272 "
     ]
    },
    {
     "name": "stderr",
     "output_type": "stream",
     "text": [
      "Could not resolve EPIC 4743508 to a sky position.\n",
      "Could not resolve KOI 4743508 to a sky position.\n"
     ]
    },
    {
     "name": "stdout",
     "output_type": "stream",
     "text": [
      "3641446 6526545 6606282 "
     ]
    },
    {
     "name": "stderr",
     "output_type": "stream",
     "text": [
      "Could not resolve EPIC 4579321 to a sky position.\n",
      "Could not resolve KOI 4579321 to a sky position.\n"
     ]
    },
    {
     "name": "stdout",
     "output_type": "stream",
     "text": [
      "10556068 "
     ]
    },
    {
     "name": "stderr",
     "output_type": "stream",
     "text": [
      "Could not resolve EPIC 5020034 to a sky position.\n",
      "Could not resolve KOI 5020034 to a sky position.\n"
     ]
    },
    {
     "name": "stdout",
     "output_type": "stream",
     "text": [
      "5036538 "
     ]
    },
    {
     "name": "stderr",
     "output_type": "stream",
     "text": [
      "Could not resolve EPIC 5872506 to a sky position.\n",
      "Could not resolve KOI 5872506 to a sky position.\n",
      "Could not resolve EPIC 9827149 to a sky position.\n",
      "Could not resolve KOI 9827149 to a sky position.\n",
      "Could not resolve EPIC 6209347 to a sky position.\n",
      "Could not resolve KOI 6209347 to a sky position.\n"
     ]
    },
    {
     "name": "stdout",
     "output_type": "stream",
     "text": [
      "9657096 7532973 "
     ]
    },
    {
     "name": "stderr",
     "output_type": "stream",
     "text": [
      "Could not resolve EPIC 5802486 to a sky position.\n",
      "Could not resolve KOI 5802486 to a sky position.\n",
      "Could not resolve EPIC 7025540 to a sky position.\n",
      "Could not resolve KOI 7025540 to a sky position.\n",
      "Could not resolve EPIC 7630658 to a sky position.\n",
      "Could not resolve KOI 7630658 to a sky position.\n"
     ]
    },
    {
     "name": "stdout",
     "output_type": "stream",
     "text": [
      "5039441 9540450 9827122 9651298 6421483 11825198 "
     ]
    },
    {
     "name": "stderr",
     "output_type": "stream",
     "text": [
      "Could not resolve EPIC 11401845 to a sky position.\n",
      "Could not resolve KOI 11401845 to a sky position.\n"
     ]
    },
    {
     "name": "stdout",
     "output_type": "stream",
     "text": [
      "10816107 9851944 9851943 3832716 5025261 6852488 6695510 10228240 "
     ]
    },
    {
     "name": "stderr",
     "output_type": "stream",
     "text": [
      "Could not resolve EPIC 9108058 to a sky position.\n",
      "Could not resolve KOI 9108058 to a sky position.\n",
      "Could not resolve EPIC 9641255 to a sky position.\n",
      "Could not resolve KOI 9641255 to a sky position.\n"
     ]
    },
    {
     "name": "stdout",
     "output_type": "stream",
     "text": [
      "9640985 9641031 9641018 7368103 "
     ]
    },
    {
     "name": "stderr",
     "output_type": "stream",
     "text": [
      "Could not resolve EPIC 8244173 to a sky position.\n",
      "Could not resolve KOI 8244173 to a sky position.\n"
     ]
    },
    {
     "name": "stdout",
     "output_type": "stream",
     "text": [
      "4544587 11175495 11546211 7097571 "
     ]
    },
    {
     "name": "stderr",
     "output_type": "stream",
     "text": [
      "Could not resolve EPIC 9119652 to a sky position.\n",
      "Could not resolve KOI 9119652 to a sky position.\n"
     ]
    },
    {
     "name": "stdout",
     "output_type": "stream",
     "text": [
      "2308957 8111381 6758917 "
     ]
    },
    {
     "name": "stderr",
     "output_type": "stream",
     "text": [
      "Could not resolve EPIC 8495415 to a sky position.\n",
      "Could not resolve KOI 8495415 to a sky position.\n"
     ]
    },
    {
     "name": "stdout",
     "output_type": "stream",
     "text": [
      "9098590 7203179 7833144 4665989 9895004 "
     ]
    },
    {
     "name": "stderr",
     "output_type": "stream",
     "text": [
      "Could not resolve EPIC 1575690 to a sky position.\n",
      "Could not resolve KOI 1575690 to a sky position.\n"
     ]
    },
    {
     "name": "stdout",
     "output_type": "stream",
     "text": [
      "11250867 7137798 10547209 9544350 6629588 11811454 9143254 4242692 6026204 7622486 "
     ]
    },
    {
     "name": "stderr",
     "output_type": "stream",
     "text": [
      "Could not resolve EPIC 2161623 to a sky position.\n",
      "Could not resolve KOI 2161623 to a sky position.\n"
     ]
    },
    {
     "name": "stdout",
     "output_type": "stream",
     "text": [
      "6466939 10090246 5823121 11457191 8240109 4909707 8189196 10989032 "
     ]
    },
    {
     "name": "stderr",
     "output_type": "stream",
     "text": [
      "Could not resolve EPIC 10727668 to a sky position.\n",
      "Could not resolve KOI 10727668 to a sky position.\n"
     ]
    },
    {
     "name": "stdout",
     "output_type": "stream",
     "text": [
      "6060580 7212722 "
     ]
    },
    {
     "name": "stderr",
     "output_type": "stream",
     "text": [
      "Could not resolve EPIC 11236035 to a sky position.\n",
      "Could not resolve KOI 11236035 to a sky position.\n",
      "Could not resolve EPIC 5903301 to a sky position.\n",
      "Could not resolve KOI 5903301 to a sky position.\n"
     ]
    },
    {
     "name": "stdout",
     "output_type": "stream",
     "text": [
      "5017058 "
     ]
    },
    {
     "name": "stderr",
     "output_type": "stream",
     "text": [
      "Could not resolve EPIC 9613070 to a sky position.\n",
      "Could not resolve KOI 9613070 to a sky position.\n",
      "Could not resolve EPIC 9911112 to a sky position.\n",
      "Could not resolve KOI 9911112 to a sky position.\n"
     ]
    },
    {
     "name": "stdout",
     "output_type": "stream",
     "text": [
      "8906039 5015913 4757331 "
     ]
    },
    {
     "name": "stderr",
     "output_type": "stream",
     "text": [
      "Could not resolve EPIC 11285136 to a sky position.\n",
      "Could not resolve KOI 11285136 to a sky position.\n"
     ]
    },
    {
     "name": "stdout",
     "output_type": "stream",
     "text": [
      "11099351 9552668 8365739 6543674 "
     ]
    },
    {
     "name": "stderr",
     "output_type": "stream",
     "text": [
      "Could not resolve EPIC 4367544 to a sky position.\n",
      "Could not resolve KOI 4367544 to a sky position.\n"
     ]
    },
    {
     "name": "stdout",
     "output_type": "stream",
     "text": [
      "7255336 4852055 "
     ]
    },
    {
     "name": "stderr",
     "output_type": "stream",
     "text": [
      "Could not resolve EPIC 5649956 to a sky position.\n",
      "Could not resolve KOI 5649956 to a sky position.\n",
      "Could not resolve EPIC 10857342 to a sky position.\n",
      "Could not resolve KOI 10857342 to a sky position.\n"
     ]
    },
    {
     "name": "stdout",
     "output_type": "stream",
     "text": [
      "5802285 8958670 10191056 12506351 4851217 4826439 9705459 11200773 9140402 "
     ]
    },
    {
     "name": "stderr",
     "output_type": "stream",
     "text": [
      "Could not resolve EPIC 9593759 to a sky position.\n",
      "Could not resolve KOI 9593759 to a sky position.\n"
     ]
    },
    {
     "name": "stdout",
     "output_type": "stream",
     "text": [
      "11517719 8878681 "
     ]
    },
    {
     "name": "stderr",
     "output_type": "stream",
     "text": [
      "Could not resolve EPIC 5287983 to a sky position.\n",
      "Could not resolve KOI 5287983 to a sky position.\n"
     ]
    },
    {
     "name": "stdout",
     "output_type": "stream",
     "text": [
      "8197406 7947631 7686918 8453324 "
     ]
    },
    {
     "name": "stderr",
     "output_type": "stream",
     "text": [
      "Could not resolve EPIC 7365447 to a sky position.\n",
      "Could not resolve KOI 7365447 to a sky position.\n"
     ]
    },
    {
     "name": "stdout",
     "output_type": "stream",
     "text": [
      "7060333 5215999 6706287 "
     ]
    },
    {
     "name": "stderr",
     "output_type": "stream",
     "text": [
      "Could not resolve EPIC 5041569 to a sky position.\n",
      "Could not resolve KOI 5041569 to a sky position.\n"
     ]
    },
    {
     "name": "stdout",
     "output_type": "stream",
     "text": [
      "9236858 "
     ]
    },
    {
     "name": "stderr",
     "output_type": "stream",
     "text": [
      "Could not resolve EPIC 9656543 to a sky position.\n",
      "Could not resolve KOI 9656543 to a sky position.\n",
      "Could not resolve EPIC 5944240 to a sky position.\n",
      "Could not resolve KOI 5944240 to a sky position.\n"
     ]
    },
    {
     "name": "stdout",
     "output_type": "stream",
     "text": [
      "9839081 "
     ]
    },
    {
     "name": "stderr",
     "output_type": "stream",
     "text": [
      "Could not resolve EPIC 8167938 to a sky position.\n",
      "Could not resolve KOI 8167938 to a sky position.\n"
     ]
    },
    {
     "name": "stdout",
     "output_type": "stream",
     "text": [
      "10937609 2831632 9092303 7387296 8386198 12010534 8113154 10389596 8231877 12257908 10686876 8193315 "
     ]
    },
    {
     "name": "stderr",
     "output_type": "stream",
     "text": [
      "Could not resolve EPIC 12164751 to a sky position.\n",
      "Could not resolve KOI 12164751 to a sky position.\n",
      "Could not resolve EPIC 9592575 to a sky position.\n",
      "Could not resolve KOI 9592575 to a sky position.\n"
     ]
    },
    {
     "name": "stdout",
     "output_type": "stream",
     "text": [
      "6268722 "
     ]
    },
    {
     "name": "stderr",
     "output_type": "stream",
     "text": [
      "Could not resolve EPIC 2167890 to a sky position.\n",
      "Could not resolve KOI 2167890 to a sky position.\n"
     ]
    },
    {
     "name": "stdout",
     "output_type": "stream",
     "text": [
      "4990977 3766353 "
     ]
    },
    {
     "name": "stderr",
     "output_type": "stream",
     "text": [
      "Could not resolve EPIC 3248019 to a sky position.\n",
      "Could not resolve KOI 3248019 to a sky position.\n"
     ]
    },
    {
     "name": "stdout",
     "output_type": "stream",
     "text": [
      "11189127 "
     ]
    },
    {
     "name": "stderr",
     "output_type": "stream",
     "text": [
      "Could not resolve EPIC 11125936 to a sky position.\n",
      "Could not resolve KOI 11125936 to a sky position.\n"
     ]
    },
    {
     "name": "stdout",
     "output_type": "stream",
     "text": [
      "6595662 10583180 10583225 10583181 6606653 8429450 10905824 "
     ]
    },
    {
     "name": "stderr",
     "output_type": "stream",
     "text": [
      "Could not resolve EPIC 7374746 to a sky position.\n",
      "Could not resolve KOI 7374746 to a sky position.\n"
     ]
    },
    {
     "name": "stdout",
     "output_type": "stream",
     "text": [
      "8801343 "
     ]
    },
    {
     "name": "stderr",
     "output_type": "stream",
     "text": [
      "Could not resolve EPIC 8561192 to a sky position.\n",
      "Could not resolve KOI 8561192 to a sky position.\n"
     ]
    },
    {
     "name": "stdout",
     "output_type": "stream",
     "text": [
      "9655129 9597095 9850387 12418662 4075067 4078693 11548140 8279765 7660607 2851474 10547685 6072195 10198097 "
     ]
    },
    {
     "name": "stderr",
     "output_type": "stream",
     "text": [
      "Could not resolve EPIC 7831363 to a sky position.\n",
      "Could not resolve KOI 7831363 to a sky position.\n"
     ]
    },
    {
     "name": "stdout",
     "output_type": "stream",
     "text": [
      "5213466 8081482 2720354 4377638 "
     ]
    },
    {
     "name": "stderr",
     "output_type": "stream",
     "text": [
      "Could not resolve EPIC 5957123 to a sky position.\n",
      "Could not resolve KOI 5957123 to a sky position.\n",
      "Could not resolve EPIC 5565486 to a sky position.\n",
      "Could not resolve KOI 5565486 to a sky position.\n"
     ]
    },
    {
     "name": "stdout",
     "output_type": "stream",
     "text": [
      "9700181 2711114 "
     ]
    },
    {
     "name": "stderr",
     "output_type": "stream",
     "text": [
      "Could not resolve EPIC 6862603 to a sky position.\n",
      "Could not resolve KOI 6862603 to a sky position.\n"
     ]
    },
    {
     "name": "stdout",
     "output_type": "stream",
     "text": [
      "8176653 4035675 10384962 3440230 8456774 "
     ]
    },
    {
     "name": "stderr",
     "output_type": "stream",
     "text": [
      "Could not resolve EPIC 8264097 to a sky position.\n",
      "Could not resolve KOI 8264097 to a sky position.\n"
     ]
    },
    {
     "name": "stdout",
     "output_type": "stream",
     "text": [
      "8088354 "
     ]
    },
    {
     "name": "stderr",
     "output_type": "stream",
     "text": [
      "Could not resolve EPIC 8177798 to a sky position.\n",
      "Could not resolve KOI 8177798 to a sky position.\n",
      "Could not resolve EPIC 4386047 to a sky position.\n",
      "Could not resolve KOI 4386047 to a sky position.\n"
     ]
    },
    {
     "name": "stdout",
     "output_type": "stream",
     "text": [
      "3834364 "
     ]
    },
    {
     "name": "stderr",
     "output_type": "stream",
     "text": [
      "Could not resolve EPIC 9767392 to a sky position.\n",
      "Could not resolve KOI 9767392 to a sky position.\n",
      "Could not resolve EPIC 12062660 to a sky position.\n",
      "Could not resolve KOI 12062660 to a sky position.\n"
     ]
    },
    {
     "name": "stdout",
     "output_type": "stream",
     "text": [
      "8097825 7684873 5041975 "
     ]
    },
    {
     "name": "stderr",
     "output_type": "stream",
     "text": [
      "Could not resolve EPIC 8455359 to a sky position.\n",
      "Could not resolve KOI 8455359 to a sky position.\n"
     ]
    },
    {
     "name": "stdout",
     "output_type": "stream",
     "text": [
      "9674608 "
     ]
    },
    {
     "name": "stderr",
     "output_type": "stream",
     "text": [
      "Could not resolve EPIC 7174349 to a sky position.\n",
      "Could not resolve KOI 7174349 to a sky position.\n"
     ]
    },
    {
     "name": "stdout",
     "output_type": "stream",
     "text": [
      "3438975 11228612 3558981 5475712 "
     ]
    },
    {
     "name": "stderr",
     "output_type": "stream",
     "text": [
      "Could not resolve EPIC 9886224 to a sky position.\n",
      "Could not resolve KOI 9886224 to a sky position.\n"
     ]
    },
    {
     "name": "stdout",
     "output_type": "stream",
     "text": [
      "9178185 "
     ]
    },
    {
     "name": "stderr",
     "output_type": "stream",
     "text": [
      "Could not resolve EPIC 8009467 to a sky position.\n",
      "Could not resolve KOI 8009467 to a sky position.\n",
      "Could not resolve EPIC 4848423 to a sky position.\n",
      "Could not resolve KOI 4848423 to a sky position.\n",
      "Could not resolve EPIC 3964545 to a sky position.\n",
      "Could not resolve KOI 3964545 to a sky position.\n",
      "Could not resolve EPIC 6312521 to a sky position.\n",
      "Could not resolve KOI 6312521 to a sky position.\n"
     ]
    },
    {
     "name": "stdout",
     "output_type": "stream",
     "text": [
      "6614926 10014830 9180282 8654097 9159301 "
     ]
    },
    {
     "name": "stderr",
     "output_type": "stream",
     "text": [
      "Could not resolve EPIC 5024450 to a sky position.\n",
      "Could not resolve KOI 5024450 to a sky position.\n"
     ]
    },
    {
     "name": "stdout",
     "output_type": "stream",
     "text": [
      "5122112 "
     ]
    },
    {
     "name": "stderr",
     "output_type": "stream",
     "text": [
      "Could not resolve EPIC 11858979 to a sky position.\n",
      "Could not resolve KOI 11858979 to a sky position.\n",
      "Could not resolve EPIC 10960995 to a sky position.\n",
      "Could not resolve KOI 10960995 to a sky position.\n"
     ]
    },
    {
     "name": "stdout",
     "output_type": "stream",
     "text": [
      "4908495 10904857 7523733 11147276 3459199 8719897 8940961 5014753 "
     ]
    },
    {
     "name": "stderr",
     "output_type": "stream",
     "text": [
      "Could not resolve EPIC 8016211 to a sky position.\n",
      "Could not resolve KOI 8016211 to a sky position.\n"
     ]
    },
    {
     "name": "stdout",
     "output_type": "stream",
     "text": [
      "8016214 "
     ]
    },
    {
     "name": "stderr",
     "output_type": "stream",
     "text": [
      "Could not resolve EPIC 5527172 to a sky position.\n",
      "Could not resolve KOI 5527172 to a sky position.\n",
      "Could not resolve EPIC 5113053 to a sky position.\n",
      "Could not resolve KOI 5113053 to a sky position.\n",
      "Could not resolve EPIC 2437060 to a sky position.\n",
      "Could not resolve KOI 2437060 to a sky position.\n"
     ]
    },
    {
     "name": "stdout",
     "output_type": "stream",
     "text": [
      "8977179 7765894 3449540 10920086 8953257 "
     ]
    },
    {
     "name": "stderr",
     "output_type": "stream",
     "text": [
      "Could not resolve EPIC 10489521 to a sky position.\n",
      "Could not resolve KOI 10489521 to a sky position.\n"
     ]
    },
    {
     "name": "stdout",
     "output_type": "stream",
     "text": [
      "9512958 9834719 11021252 10657664 10991769 "
     ]
    },
    {
     "name": "stderr",
     "output_type": "stream",
     "text": [
      "Could not resolve EPIC 1873513 to a sky position.\n",
      "Could not resolve KOI 1873513 to a sky position.\n"
     ]
    },
    {
     "name": "stdout",
     "output_type": "stream",
     "text": [
      "9784371 "
     ]
    },
    {
     "name": "stderr",
     "output_type": "stream",
     "text": [
      "Could not resolve EPIC 3547091 to a sky position.\n",
      "Could not resolve KOI 3547091 to a sky position.\n",
      "Could not resolve EPIC 2438490 to a sky position.\n",
      "Could not resolve KOI 2438490 to a sky position.\n"
     ]
    },
    {
     "name": "stdout",
     "output_type": "stream",
     "text": [
      "9664215 "
     ]
    },
    {
     "name": "stderr",
     "output_type": "stream",
     "text": [
      "Could not resolve EPIC 7605600 to a sky position.\n",
      "Could not resolve KOI 7605600 to a sky position.\n",
      "Could not resolve EPIC 9719636 to a sky position.\n",
      "Could not resolve KOI 9719636 to a sky position.\n"
     ]
    },
    {
     "name": "stdout",
     "output_type": "stream",
     "text": [
      "9278021 4761060 6153672 "
     ]
    },
    {
     "name": "stderr",
     "output_type": "stream",
     "text": [
      "Could not resolve EPIC 10728219 to a sky position.\n",
      "Could not resolve KOI 10728219 to a sky position.\n",
      "Could not resolve EPIC 11303811 to a sky position.\n",
      "Could not resolve KOI 11303811 to a sky position.\n"
     ]
    },
    {
     "name": "stdout",
     "output_type": "stream",
     "text": [
      "2445975 7830460 11240948 10091257 11515292 6525196 6620003 4365461 10162999 8879915 "
     ]
    },
    {
     "name": "stderr",
     "output_type": "stream",
     "text": [
      "Could not resolve EPIC 12022517 to a sky position.\n",
      "Could not resolve KOI 12022517 to a sky position.\n"
     ]
    },
    {
     "name": "stdout",
     "output_type": "stream",
     "text": [
      "4740676 11347875 5288543 8912911 5376836 8581658 "
     ]
    },
    {
     "name": "stderr",
     "output_type": "stream",
     "text": [
      "Could not resolve EPIC 4935914 to a sky position.\n",
      "Could not resolve KOI 4935914 to a sky position.\n"
     ]
    },
    {
     "name": "stdout",
     "output_type": "stream",
     "text": [
      "3352751 6891512 5458880 11922782 11975363 8243263 8458207 "
     ]
    },
    {
     "name": "stderr",
     "output_type": "stream",
     "text": [
      "Could not resolve EPIC 12405950 to a sky position.\n",
      "Could not resolve KOI 12405950 to a sky position.\n",
      "Could not resolve EPIC 7593110 to a sky position.\n",
      "Could not resolve KOI 7593110 to a sky position.\n"
     ]
    },
    {
     "name": "stdout",
     "output_type": "stream",
     "text": [
      "9602595 1573836 "
     ]
    },
    {
     "name": "stderr",
     "output_type": "stream",
     "text": [
      "Could not resolve EPIC 7295570 to a sky position.\n",
      "Could not resolve KOI 7295570 to a sky position.\n"
     ]
    },
    {
     "name": "stdout",
     "output_type": "stream",
     "text": [
      "5369827 "
     ]
    },
    {
     "name": "stderr",
     "output_type": "stream",
     "text": [
      "Could not resolve EPIC 8153568 to a sky position.\n",
      "Could not resolve KOI 8153568 to a sky position.\n"
     ]
    },
    {
     "name": "stdout",
     "output_type": "stream",
     "text": [
      "5218441 2695740 8378656 5000179 5198315 "
     ]
    },
    {
     "name": "stderr",
     "output_type": "stream",
     "text": [
      "Could not resolve EPIC 5023948 to a sky position.\n",
      "Could not resolve KOI 5023948 to a sky position.\n"
     ]
    },
    {
     "name": "stdout",
     "output_type": "stream",
     "text": [
      "8784288 8939650 6387450 3656322 "
     ]
    },
    {
     "name": "stderr",
     "output_type": "stream",
     "text": [
      "Could not resolve EPIC 6182019 to a sky position.\n",
      "Could not resolve KOI 6182019 to a sky position.\n"
     ]
    },
    {
     "name": "stdout",
     "output_type": "stream",
     "text": [
      "8196180 10395543 3115480 5022440 9753154 10294608 "
     ]
    },
    {
     "name": "stderr",
     "output_type": "stream",
     "text": [
      "Could not resolve EPIC 4276114 to a sky position.\n",
      "Could not resolve KOI 4276114 to a sky position.\n"
     ]
    },
    {
     "name": "stdout",
     "output_type": "stream",
     "text": [
      "6205460 "
     ]
    },
    {
     "name": "stderr",
     "output_type": "stream",
     "text": [
      "Could not resolve EPIC 6200709 to a sky position.\n",
      "Could not resolve KOI 6200709 to a sky position.\n"
     ]
    },
    {
     "name": "stdout",
     "output_type": "stream",
     "text": [
      "10863286 5294739 11913071 11913012 4758368 "
     ]
    },
    {
     "name": "stderr",
     "output_type": "stream",
     "text": [
      "Could not resolve EPIC 11774013 to a sky position.\n",
      "Could not resolve KOI 11774013 to a sky position.\n"
     ]
    },
    {
     "name": "stdout",
     "output_type": "stream",
     "text": [
      "6367628 9005854 5802470 "
     ]
    },
    {
     "name": "stderr",
     "output_type": "stream",
     "text": [
      "Could not resolve EPIC 9291368 to a sky position.\n",
      "Could not resolve KOI 9291368 to a sky position.\n"
     ]
    },
    {
     "name": "stdout",
     "output_type": "stream",
     "text": [
      "6628237 "
     ]
    },
    {
     "name": "stderr",
     "output_type": "stream",
     "text": [
      "Could not resolve EPIC 7212066 to a sky position.\n",
      "Could not resolve KOI 7212066 to a sky position.\n"
     ]
    },
    {
     "name": "stdout",
     "output_type": "stream",
     "text": [
      "4067110 9411943 "
     ]
    },
    {
     "name": "stderr",
     "output_type": "stream",
     "text": [
      "Could not resolve EPIC 3544694 to a sky position.\n",
      "Could not resolve KOI 3544694 to a sky position.\n"
     ]
    },
    {
     "name": "stdout",
     "output_type": "stream",
     "text": [
      "3861595 6863840 9166862 "
     ]
    },
    {
     "name": "stderr",
     "output_type": "stream",
     "text": [
      "Could not resolve EPIC 4815612 to a sky position.\n",
      "Could not resolve KOI 4815612 to a sky position.\n"
     ]
    },
    {
     "name": "stdout",
     "output_type": "stream",
     "text": [
      "9028024 10155080 "
     ]
    },
    {
     "name": "stderr",
     "output_type": "stream",
     "text": [
      "Could not resolve EPIC 4474637 to a sky position.\n",
      "Could not resolve KOI 4474637 to a sky position.\n"
     ]
    },
    {
     "name": "stdout",
     "output_type": "stream",
     "text": [
      "4174507 5285607 "
     ]
    },
    {
     "name": "stderr",
     "output_type": "stream",
     "text": [
      "Could not resolve EPIC 3231120 to a sky position.\n",
      "Could not resolve KOI 3231120 to a sky position.\n"
     ]
    },
    {
     "name": "stdout",
     "output_type": "stream",
     "text": [
      "5370302 7940533 9392702 3241344 7377033 2969628 "
     ]
    },
    {
     "name": "stderr",
     "output_type": "stream",
     "text": [
      "Could not resolve EPIC 11867071 to a sky position.\n",
      "Could not resolve KOI 11867071 to a sky position.\n"
     ]
    },
    {
     "name": "stdout",
     "output_type": "stream",
     "text": [
      "3973002 10346522 6545018 7041856 8504570 3427776 8242681 8234477 "
     ]
    },
    {
     "name": "stderr",
     "output_type": "stream",
     "text": [
      "Could not resolve EPIC 3097352 to a sky position.\n",
      "Could not resolve KOI 3097352 to a sky position.\n"
     ]
    },
    {
     "name": "stdout",
     "output_type": "stream",
     "text": [
      "7695093 9835416 "
     ]
    },
    {
     "name": "stderr",
     "output_type": "stream",
     "text": [
      "Could not resolve EPIC 5021174 to a sky position.\n",
      "Could not resolve KOI 5021174 to a sky position.\n"
     ]
    },
    {
     "name": "stdout",
     "output_type": "stream",
     "text": [
      "4247791 "
     ]
    },
    {
     "name": "stderr",
     "output_type": "stream",
     "text": [
      "Could not resolve EPIC 11403216 to a sky position.\n",
      "Could not resolve KOI 11403216 to a sky position.\n"
     ]
    },
    {
     "name": "stdout",
     "output_type": "stream",
     "text": [
      "10149845 9881258 4059656 8621026 10480952 8230809 4247791 2162994 11147460 10935310 5610698 11029877 10031409 5080652 11231334 3543270 "
     ]
    },
    {
     "name": "stderr",
     "output_type": "stream",
     "text": [
      "Could not resolve EPIC 5858519 to a sky position.\n",
      "Could not resolve KOI 5858519 to a sky position.\n"
     ]
    },
    {
     "name": "stdout",
     "output_type": "stream",
     "text": [
      "8972908 "
     ]
    },
    {
     "name": "stderr",
     "output_type": "stream",
     "text": [
      "Could not resolve EPIC 9446824 to a sky position.\n",
      "Could not resolve KOI 9446824 to a sky position.\n"
     ]
    },
    {
     "name": "stdout",
     "output_type": "stream",
     "text": [
      "10924853 8095099 7919653 "
     ]
    },
    {
     "name": "stderr",
     "output_type": "stream",
     "text": [
      "Could not resolve EPIC 10091110 to a sky position.\n",
      "Could not resolve KOI 10091110 to a sky position.\n"
     ]
    },
    {
     "name": "stdout",
     "output_type": "stream",
     "text": [
      "6849046 7838639 3327980 6939670 8893936 4037428 9520700 9940565 "
     ]
    },
    {
     "name": "stderr",
     "output_type": "stream",
     "text": [
      "Could not resolve EPIC 7287391 to a sky position.\n",
      "Could not resolve KOI 7287391 to a sky position.\n"
     ]
    },
    {
     "name": "stdout",
     "output_type": "stream",
     "text": [
      "1161345 "
     ]
    },
    {
     "name": "stderr",
     "output_type": "stream",
     "text": [
      "Could not resolve EPIC 5024292 to a sky position.\n",
      "Could not resolve KOI 5024292 to a sky position.\n"
     ]
    },
    {
     "name": "stdout",
     "output_type": "stream",
     "text": [
      "8098300 "
     ]
    },
    {
     "name": "stderr",
     "output_type": "stream",
     "text": [
      "Could not resolve EPIC 11046124 to a sky position.\n",
      "Could not resolve KOI 11046124 to a sky position.\n",
      "Could not resolve EPIC 9532421 to a sky position.\n",
      "Could not resolve KOI 9532421 to a sky position.\n"
     ]
    },
    {
     "name": "stdout",
     "output_type": "stream",
     "text": [
      "6629332 "
     ]
    },
    {
     "name": "stderr",
     "output_type": "stream",
     "text": [
      "Could not resolve EPIC 3973504 to a sky position.\n",
      "Could not resolve KOI 3973504 to a sky position.\n",
      "Could not resolve EPIC 4149684 to a sky position.\n",
      "Could not resolve KOI 4149684 to a sky position.\n"
     ]
    },
    {
     "name": "stdout",
     "output_type": "stream",
     "text": [
      "10534155 3127817 5343976 "
     ]
    },
    {
     "name": "stderr",
     "output_type": "stream",
     "text": [
      "Could not resolve EPIC 4275739 to a sky position.\n",
      "Could not resolve KOI 4275739 to a sky position.\n"
     ]
    },
    {
     "name": "stdout",
     "output_type": "stream",
     "text": [
      "7907688 8328376 5648449 9002237 "
     ]
    },
    {
     "name": "stderr",
     "output_type": "stream",
     "text": [
      "Could not resolve EPIC 5181804 to a sky position.\n",
      "Could not resolve KOI 5181804 to a sky position.\n"
     ]
    },
    {
     "name": "stdout",
     "output_type": "stream",
     "text": [
      "8957954 "
     ]
    },
    {
     "name": "stderr",
     "output_type": "stream",
     "text": [
      "Could not resolve EPIC 10275074 to a sky position.\n",
      "Could not resolve KOI 10275074 to a sky position.\n",
      "Could not resolve EPIC 2441161 to a sky position.\n",
      "Could not resolve KOI 2441161 to a sky position.\n"
     ]
    },
    {
     "name": "stdout",
     "output_type": "stream",
     "text": [
      "5768927 7033748 5608566 10491031 7767559 9655187 12268220 6521542 4547480 8301013 8868650 8868649 "
     ]
    },
    {
     "name": "stderr",
     "output_type": "stream",
     "text": [
      "Could not resolve EPIC 5816806 to a sky position.\n",
      "Could not resolve KOI 5816806 to a sky position.\n",
      "Could not resolve EPIC 10614158 to a sky position.\n",
      "Could not resolve KOI 10614158 to a sky position.\n",
      "Could not resolve EPIC 11252617 to a sky position.\n"
     ]
    }
   ],
   "source": [
    "with open(\"data/binaryconfigs.csv\", \"w+\") as outfile:\n",
    "    outfile.write(\"id,period,duration,depth\\n\")\n",
    "    for id in ids:\n",
    "        try:\n",
    "            print(id, *getData(id), file=outfile, sep=\",\")\n",
    "            print(id, end=\" \")\n",
    "        except: pass\n",
    "\n",
    "print(\"Done\")\n"
   ]
  },
  {
   "cell_type": "code",
   "execution_count": null,
   "metadata": {},
   "outputs": [],
   "source": []
  }
 ],
 "metadata": {
  "interpreter": {
   "hash": "4141817a3220a511d0e1190d2d221bdc61c43b8cb7bbdb4b77cea7b78108a975"
  },
  "kernelspec": {
   "display_name": "Python 3",
   "language": "python",
   "name": "python3"
  },
  "language_info": {
   "codemirror_mode": {
    "name": "ipython",
    "version": 3
   },
   "file_extension": ".py",
   "mimetype": "text/x-python",
   "name": "python",
   "nbconvert_exporter": "python",
   "pygments_lexer": "ipython3",
   "version": "3.7.2"
  }
 },
 "nbformat": 4,
 "nbformat_minor": 2
}
