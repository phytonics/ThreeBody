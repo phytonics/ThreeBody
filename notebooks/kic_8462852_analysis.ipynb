{
 "cells": [
  {
   "cell_type": "markdown",
   "metadata": {},
   "source": [
    "# KIC 8462852 Century Long Data Analysis\n",
    "\n",
    "## Context\n",
    "\n",
    "KIC 8462852 is an enigmatic star (Boyajian et al. 2015).\n",
    "\n",
    "\n",
    "## Content\n",
    "\n",
    "- Data from the DASCH project: APASS input catalog, Kepler input catalog and GSC 2.3 catalog.\n",
    "- Sonneberg and Sternberg observatory data provided by Michael Hippke.\n",
    "- Maria Mitchell observatory data provided by Michael Castelaz.\n",
    "\n",
    "\n",
    "## References\n",
    "\n",
    "1. Boyajian, et al. (2015). Planet Hunters X. KIC 8462852 - Where's the Flux? arXiv:1509.03622\n",
    "2. Castelaz and Barker (2018). KIC 8462852: Maria Mitchell Observatory Photographic Photometry 1922 to 1991. arXiv:1803.01943\n",
    "3. Hippke et al. (2017). Sonneberg plate photometry for Boyajian's Star in two passbands. arXiv:1609.09290\n"
   ]
  },
  {
   "cell_type": "code",
   "execution_count": 1,
   "metadata": {},
   "outputs": [],
   "source": [
    "%load_ext autoreload\n",
    "%autoreload 2\n",
    "# to ensure kernel resets when files change around it"
   ]
  },
  {
   "cell_type": "code",
   "execution_count": 2,
   "metadata": {},
   "outputs": [
    {
     "name": "stderr",
     "output_type": "stream",
     "text": [
      "c:\\users\\prannaya\\appdata\\local\\programs\\python\\python37\\lib\\site-packages\\statsmodels\\tools\\_testing.py:19: FutureWarning: pandas.util.testing is deprecated. Use the functions in the public API at pandas.testing instead.\n",
      "  import pandas.util.testing as tm\n"
     ]
    },
    {
     "name": "stdout",
     "output_type": "stream",
     "text": [
      "C:\\Users\\Prannaya\\ThreeBody\\notebooks\n",
      "C:\\Users\\Prannaya\\ThreeBody\n"
     ]
    }
   ],
   "source": [
    "import numpy as np # main library for numeric calculations\n",
    "import pandas as pd # main library for data analysis\n",
    "import matplotlib.pyplot as plt # main library for data plotting\n",
    "import seaborn as sns # Another library for data plotting with more functions\n",
    "sns.set()\n",
    "\n",
    "import scipy as scp # STEM software\n",
    "from scipy import signal\n",
    "import scipy.interpolate as interpolate\n",
    "\n",
    "from glob import glob # check files\n",
    "from IPython.display import display, Markdown\n",
    "\n",
    "import statsmodels.api as sm\n",
    "import statsmodels.formula.api as smf\n",
    "import statsmodels.tsa.api as smt\n",
    "from statsmodels.tsa.api import ExponentialSmoothing, SimpleExpSmoothing, Holt\n",
    "\n",
    "import lightkurve as lk\n",
    "import astropy\n",
    "\n",
    "import sys, os\n",
    "\n",
    "file_path = os.getcwd()\n",
    "print(file_path)\n",
    "parent_dir = \"\\\\\".join(file_path.split(\"\\\\\")[:-1])\n",
    "print(parent_dir)\n",
    "\n",
    "sys.path.append(parent_dir)\n",
    "\n",
    "from kepler import *\n",
    "\n",
    "\"\"\"\n",
    "pd.set_option('display.max_rows', None)\n",
    "pd.set_option('display.max_columns', None)\n",
    "pd.set_option('display.width', None)\n",
    "pd.set_option('display.max_colwidth', -1)\"\"\"\n",
    "\n",
    "import warnings\n",
    "warnings.filterwarnings('ignore') # literally to ignore all the warnings that don't matter\n",
    "\n",
    "\n",
    "def printf(*args, sep=\" \", end=\"\\n\"):\n",
    "    string = sep.join([str(i) for i in args])+end\n",
    "    display(Markdown(string))\n",
    "\n",
    "\n",
    "def evaluateAndProcessData(x, y):\n",
    "    t, c, k = interpolate.splrep(x, y, s=0, k=4)\n",
    "    xx = np.linspace(x.min(), x.max(), 100)\n",
    "    spline = interpolate.BSpline(t, c, k, extrapolate=False)\n",
    "    \n",
    "    plt.figure(figsize=(16,6))\n",
    "    plt.plot(x, y, 'bo', label='Original points')\n",
    "    plt.plot(x, y)\n",
    "    plt.plot(xx, spline(xx), 'r', label='BSpline')\n",
    "    plt.grid()\n",
    "    plt.legend(loc='best')\n",
    "    plt.show()\n"
   ]
  },
  {
   "cell_type": "code",
   "execution_count": 3,
   "metadata": {},
   "outputs": [
    {
     "name": "stdout",
     "output_type": "stream",
     "text": [
      "Requirement already satisfied: ipympl in c:\\users\\prannaya\\appdata\\local\\programs\\python\\python37\\lib\\site-packages (0.5.8)\n",
      "Requirement already satisfied: ipykernel>=4.7 in c:\\users\\prannaya\\appdata\\local\\programs\\python\\python37\\lib\\site-packages (from ipympl) (5.3.0)\n",
      "Requirement already satisfied: ipywidgets>=7.5.0 in c:\\users\\prannaya\\appdata\\local\\programs\\python\\python37\\lib\\site-packages (from ipympl) (7.5.1)\n",
      "Requirement already satisfied: matplotlib>=2.0.0 in c:\\users\\prannaya\\appdata\\roaming\\python\\python37\\site-packages (from ipympl) (3.4.2)\n",
      "Requirement already satisfied: ipython>=5.0.0 in c:\\users\\prannaya\\appdata\\local\\programs\\python\\python37\\lib\\site-packages (from ipykernel>=4.7->ipympl) (7.15.0)\n",
      "Requirement already satisfied: traitlets>=4.1.0 in c:\\users\\prannaya\\appdata\\local\\programs\\python\\python37\\lib\\site-packages (from ipykernel>=4.7->ipympl) (4.3.2)\n",
      "Requirement already satisfied: jupyter-client in c:\\users\\prannaya\\appdata\\local\\programs\\python\\python37\\lib\\site-packages (from ipykernel>=4.7->ipympl) (6.1.3)\n",
      "Requirement already satisfied: tornado>=4.2 in c:\\users\\prannaya\\appdata\\roaming\\python\\python37\\site-packages (from ipykernel>=4.7->ipympl) (6.1)\n",
      "Requirement already satisfied: colorama in c:\\users\\prannaya\\appdata\\local\\programs\\python\\python37\\lib\\site-packages (from ipython>=5.0.0->ipykernel>=4.7->ipympl) (0.4.3)\n",
      "Requirement already satisfied: pickleshare in c:\\users\\prannaya\\appdata\\local\\programs\\python\\python37\\lib\\site-packages (from ipython>=5.0.0->ipykernel>=4.7->ipympl) (0.7.5)\n",
      "Requirement already satisfied: setuptools>=18.5 in c:\\users\\prannaya\\appdata\\roaming\\python\\python37\\site-packages (from ipython>=5.0.0->ipykernel>=4.7->ipympl) (49.2.0)\n",
      "Requirement already satisfied: pygments in c:\\users\\prannaya\\appdata\\local\\programs\\python\\python37\\lib\\site-packages (from ipython>=5.0.0->ipykernel>=4.7->ipympl) (2.6.1)\n",
      "Requirement already satisfied: prompt-toolkit!=3.0.0,!=3.0.1,<3.1.0,>=2.0.0 in c:\\users\\prannaya\\appdata\\local\\programs\\python\\python37\\lib\\site-packages (from ipython>=5.0.0->ipykernel>=4.7->ipympl) (3.0.19)\n",
      "Requirement already satisfied: decorator in c:\\users\\prannaya\\appdata\\local\\programs\\python\\python37\\lib\\site-packages (from ipython>=5.0.0->ipykernel>=4.7->ipympl) (4.4.2)\n",
      "Requirement already satisfied: jedi>=0.10 in c:\\users\\prannaya\\appdata\\local\\programs\\python\\python37\\lib\\site-packages (from ipython>=5.0.0->ipykernel>=4.7->ipympl) (0.17.0)\n",
      "Requirement already satisfied: backcall in c:\\users\\prannaya\\appdata\\local\\programs\\python\\python37\\lib\\site-packages (from ipython>=5.0.0->ipykernel>=4.7->ipympl) (0.1.0)\n",
      "Requirement already satisfied: nbformat>=4.2.0 in c:\\users\\prannaya\\appdata\\local\\programs\\python\\python37\\lib\\site-packages (from ipywidgets>=7.5.0->ipympl) (5.0.6)\n",
      "Requirement already satisfied: widgetsnbextension~=3.5.0 in c:\\users\\prannaya\\appdata\\local\\programs\\python\\python37\\lib\\site-packages (from ipywidgets>=7.5.0->ipympl) (3.5.1)\n",
      "Requirement already satisfied: parso>=0.7.0 in c:\\users\\prannaya\\appdata\\local\\programs\\python\\python37\\lib\\site-packages (from jedi>=0.10->ipython>=5.0.0->ipykernel>=4.7->ipympl) (0.7.0)\n",
      "Requirement already satisfied: cycler>=0.10 in c:\\users\\prannaya\\appdata\\local\\programs\\python\\python37\\lib\\site-packages (from matplotlib>=2.0.0->ipympl) (0.10.0)\n",
      "Requirement already satisfied: kiwisolver>=1.0.1 in c:\\users\\prannaya\\appdata\\local\\programs\\python\\python37\\lib\\site-packages (from matplotlib>=2.0.0->ipympl) (1.2.0)\n",
      "Requirement already satisfied: numpy>=1.16 in c:\\users\\prannaya\\appdata\\roaming\\python\\python37\\site-packages (from matplotlib>=2.0.0->ipympl) (1.20.3)\n",
      "Requirement already satisfied: pyparsing>=2.2.1 in c:\\users\\prannaya\\appdata\\local\\programs\\python\\python37\\lib\\site-packages (from matplotlib>=2.0.0->ipympl) (2.4.7)\n",
      "Requirement already satisfied: python-dateutil>=2.7 in c:\\users\\prannaya\\appdata\\local\\programs\\python\\python37\\lib\\site-packages (from matplotlib>=2.0.0->ipympl) (2.8.1)\n",
      "Requirement already satisfied: pillow>=6.2.0 in c:\\users\\prannaya\\appdata\\roaming\\python\\python37\\site-packages (from matplotlib>=2.0.0->ipympl) (8.2.0)\n",
      "Requirement already satisfied: six in c:\\users\\prannaya\\appdata\\local\\programs\\python\\python37\\lib\\site-packages (from cycler>=0.10->matplotlib>=2.0.0->ipympl) (1.12.0)\n",
      "Requirement already satisfied: jupyter-core in c:\\users\\prannaya\\appdata\\local\\programs\\python\\python37\\lib\\site-packages (from nbformat>=4.2.0->ipywidgets>=7.5.0->ipympl) (4.6.3)\n",
      "Requirement already satisfied: ipython-genutils in c:\\users\\prannaya\\appdata\\local\\programs\\python\\python37\\lib\\site-packages (from nbformat>=4.2.0->ipywidgets>=7.5.0->ipympl) (0.2.0)\n",
      "Requirement already satisfied: jsonschema!=2.5.0,>=2.4 in c:\\users\\prannaya\\appdata\\local\\programs\\python\\python37\\lib\\site-packages (from nbformat>=4.2.0->ipywidgets>=7.5.0->ipympl) (3.2.0)\n",
      "Requirement already satisfied: pyrsistent>=0.14.0 in c:\\users\\prannaya\\appdata\\local\\programs\\python\\python37\\lib\\site-packages (from jsonschema!=2.5.0,>=2.4->nbformat>=4.2.0->ipywidgets>=7.5.0->ipympl) (0.16.0)\n",
      "Requirement already satisfied: importlib-metadata in c:\\users\\prannaya\\appdata\\local\\programs\\python\\python37\\lib\\site-packages (from jsonschema!=2.5.0,>=2.4->nbformat>=4.2.0->ipywidgets>=7.5.0->ipympl) (1.7.0)\n",
      "Requirement already satisfied: attrs>=17.4.0 in c:\\users\\prannaya\\appdata\\local\\programs\\python\\python37\\lib\\site-packages (from jsonschema!=2.5.0,>=2.4->nbformat>=4.2.0->ipywidgets>=7.5.0->ipympl) (19.3.0)\n",
      "Requirement already satisfied: wcwidth in c:\\users\\prannaya\\appdata\\local\\programs\\python\\python37\\lib\\site-packages (from prompt-toolkit!=3.0.0,!=3.0.1,<3.1.0,>=2.0.0->ipython>=5.0.0->ipykernel>=4.7->ipympl) (0.1.7)\n",
      "Requirement already satisfied: notebook>=4.4.1 in c:\\users\\prannaya\\appdata\\local\\programs\\python\\python37\\lib\\site-packages (from widgetsnbextension~=3.5.0->ipywidgets>=7.5.0->ipympl) (6.0.3)\n",
      "Requirement already satisfied: Send2Trash in c:\\users\\prannaya\\appdata\\local\\programs\\python\\python37\\lib\\site-packages (from notebook>=4.4.1->widgetsnbextension~=3.5.0->ipywidgets>=7.5.0->ipympl) (1.5.0)\n",
      "Requirement already satisfied: terminado>=0.8.1 in c:\\users\\prannaya\\appdata\\roaming\\python\\python37\\site-packages (from notebook>=4.4.1->widgetsnbextension~=3.5.0->ipywidgets>=7.5.0->ipympl) (0.10.1)\n",
      "Requirement already satisfied: prometheus-client in c:\\users\\prannaya\\appdata\\local\\programs\\python\\python37\\lib\\site-packages (from notebook>=4.4.1->widgetsnbextension~=3.5.0->ipywidgets>=7.5.0->ipympl) (0.8.0)\n",
      "Requirement already satisfied: pyzmq>=17 in c:\\users\\prannaya\\appdata\\local\\programs\\python\\python37\\lib\\site-packages (from notebook>=4.4.1->widgetsnbextension~=3.5.0->ipywidgets>=7.5.0->ipympl) (19.0.1)\n",
      "Requirement already satisfied: nbconvert in c:\\users\\prannaya\\appdata\\local\\programs\\python\\python37\\lib\\site-packages (from notebook>=4.4.1->widgetsnbextension~=3.5.0->ipywidgets>=7.5.0->ipympl) (5.6.1)\n",
      "Requirement already satisfied: jinja2 in c:\\users\\prannaya\\appdata\\local\\programs\\python\\python37\\lib\\site-packages (from notebook>=4.4.1->widgetsnbextension~=3.5.0->ipywidgets>=7.5.0->ipympl) (2.11.2)\n",
      "Requirement already satisfied: pywin32>=1.0 in c:\\users\\prannaya\\appdata\\local\\programs\\python\\python37\\lib\\site-packages (from jupyter-core->nbformat>=4.2.0->ipywidgets>=7.5.0->ipympl) (227)\n",
      "Requirement already satisfied: pywinpty>=1.1.0 in c:\\users\\prannaya\\appdata\\roaming\\python\\python37\\site-packages (from terminado>=0.8.1->notebook>=4.4.1->widgetsnbextension~=3.5.0->ipywidgets>=7.5.0->ipympl) (1.1.3)\n",
      "Requirement already satisfied: zipp>=0.5 in c:\\users\\prannaya\\appdata\\local\\programs\\python\\python37\\lib\\site-packages (from importlib-metadata->jsonschema!=2.5.0,>=2.4->nbformat>=4.2.0->ipywidgets>=7.5.0->ipympl) (0.6.0)\n",
      "Requirement already satisfied: more-itertools in c:\\users\\prannaya\\appdata\\local\\programs\\python\\python37\\lib\\site-packages (from zipp>=0.5->importlib-metadata->jsonschema!=2.5.0,>=2.4->nbformat>=4.2.0->ipywidgets>=7.5.0->ipympl) (8.3.0)\n",
      "Requirement already satisfied: MarkupSafe>=0.23 in c:\\users\\prannaya\\appdata\\local\\programs\\python\\python37\\lib\\site-packages (from jinja2->notebook>=4.4.1->widgetsnbextension~=3.5.0->ipywidgets>=7.5.0->ipympl) (1.1.1)\n",
      "Requirement already satisfied: entrypoints>=0.2.2 in c:\\users\\prannaya\\appdata\\local\\programs\\python\\python37\\lib\\site-packages (from nbconvert->notebook>=4.4.1->widgetsnbextension~=3.5.0->ipywidgets>=7.5.0->ipympl) (0.3)\n",
      "Requirement already satisfied: testpath in c:\\users\\prannaya\\appdata\\local\\programs\\python\\python37\\lib\\site-packages (from nbconvert->notebook>=4.4.1->widgetsnbextension~=3.5.0->ipywidgets>=7.5.0->ipympl) (0.4.2)\n",
      "Requirement already satisfied: pandocfilters>=1.4.1 in c:\\users\\prannaya\\appdata\\local\\programs\\python\\python37\\lib\\site-packages (from nbconvert->notebook>=4.4.1->widgetsnbextension~=3.5.0->ipywidgets>=7.5.0->ipympl) (1.4.2)\n",
      "Requirement already satisfied: defusedxml in c:\\users\\prannaya\\appdata\\local\\programs\\python\\python37\\lib\\site-packages (from nbconvert->notebook>=4.4.1->widgetsnbextension~=3.5.0->ipywidgets>=7.5.0->ipympl) (0.6.0)\n",
      "Requirement already satisfied: mistune<2,>=0.8.1 in c:\\users\\prannaya\\appdata\\local\\programs\\python\\python37\\lib\\site-packages (from nbconvert->notebook>=4.4.1->widgetsnbextension~=3.5.0->ipywidgets>=7.5.0->ipympl) (0.8.4)\n",
      "Requirement already satisfied: bleach in c:\\users\\prannaya\\appdata\\local\\programs\\python\\python37\\lib\\site-packages (from nbconvert->notebook>=4.4.1->widgetsnbextension~=3.5.0->ipywidgets>=7.5.0->ipympl) (3.1.5)\n",
      "Requirement already satisfied: packaging in c:\\users\\prannaya\\appdata\\local\\programs\\python\\python37\\lib\\site-packages (from bleach->nbconvert->notebook>=4.4.1->widgetsnbextension~=3.5.0->ipywidgets>=7.5.0->ipympl) (20.4)\n",
      "Requirement already satisfied: webencodings in c:\\users\\prannaya\\appdata\\local\\programs\\python\\python37\\lib\\site-packages (from bleach->nbconvert->notebook>=4.4.1->widgetsnbextension~=3.5.0->ipywidgets>=7.5.0->ipympl) (0.5.1)\n"
     ]
    },
    {
     "data": {
      "application/vnd.jupyter.widget-view+json": {
       "model_id": "3429b13b4df14551b6a92befd8ff2a79",
       "version_major": 2,
       "version_minor": 0
      },
      "text/plain": [
       "Canvas(toolbar=Toolbar(toolitems=[('Home', 'Reset original view', 'home', 'home'), ('Back', 'Back to previous …"
      ]
     },
     "metadata": {},
     "output_type": "display_data"
    }
   ],
   "source": [
    "# Enabling the `widget` backend.\n",
    "# This requires jupyter-matplotlib a.k.a. ipympl.\n",
    "# ipympl can be install via pip or conda.\n",
    "!pip install ipympl\n",
    "%matplotlib widget\n",
    "\n",
    "# Testing matplotlib interactions with a simple plot\n",
    "fig = plt.figure()\n",
    "fig.canvas.header_visible = False # Hide the Figure name at the top of the figure\n",
    "fig.canvas.toolbar_visible = True"
   ]
  },
  {
   "cell_type": "code",
   "execution_count": null,
   "metadata": {},
   "outputs": [],
   "source": [
    "id = 8462852\n",
    "# Retrieving all the important details\n",
    "lc = retrieveKeplerLightCurve(id)\n",
    "lc"
   ]
  },
  {
   "cell_type": "code",
   "execution_count": null,
   "metadata": {},
   "outputs": [],
   "source": [
    "plotKeplerLightCurve(lc)\n",
    "plt.show()"
   ]
  },
  {
   "cell_type": "code",
   "execution_count": null,
   "metadata": {},
   "outputs": [],
   "source": [
    "plotKeplerSAPLightCurve(lc)\n",
    "plt.show()"
   ]
  },
  {
   "cell_type": "code",
   "execution_count": null,
   "metadata": {},
   "outputs": [],
   "source": [
    "plotKeplerPDCSAPLightCurve(lc)\n",
    "plt.show()"
   ]
  },
  {
   "cell_type": "code",
   "execution_count": null,
   "metadata": {},
   "outputs": [],
   "source": [
    "time = np.array(list(map(lambda time: time.value, list(lc.time))))\n",
    "time"
   ]
  },
  {
   "cell_type": "code",
   "execution_count": null,
   "metadata": {},
   "outputs": [],
   "source": [
    "flux = np.array(list(map(lambda flux: flux.value, list(lc.flux))))\n",
    "flux"
   ]
  },
  {
   "cell_type": "code",
   "execution_count": null,
   "metadata": {},
   "outputs": [],
   "source": [
    "evaluateAndProcessData(time, flux)"
   ]
  }
 ],
 "metadata": {
  "kernelspec": {
   "display_name": "Python 3",
   "language": "python",
   "name": "python3"
  },
  "language_info": {
   "codemirror_mode": {
    "name": "ipython",
    "version": 3
   },
   "file_extension": ".py",
   "mimetype": "text/x-python",
   "name": "python",
   "nbconvert_exporter": "python",
   "pygments_lexer": "ipython3",
   "version": "3.7.2"
  },
  "varInspector": {
   "cols": {
    "lenName": 16,
    "lenType": 16,
    "lenVar": 40
   },
   "kernels_config": {
    "python": {
     "delete_cmd_postfix": "",
     "delete_cmd_prefix": "del ",
     "library": "var_list.py",
     "varRefreshCmd": "print(var_dic_list())"
    },
    "r": {
     "delete_cmd_postfix": ") ",
     "delete_cmd_prefix": "rm(",
     "library": "var_list.r",
     "varRefreshCmd": "cat(var_dic_list()) "
    }
   },
   "types_to_exclude": [
    "module",
    "function",
    "builtin_function_or_method",
    "instance",
    "_Feature"
   ],
   "window_display": false
  }
 },
 "nbformat": 4,
 "nbformat_minor": 4
}
