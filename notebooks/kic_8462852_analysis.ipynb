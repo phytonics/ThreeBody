{
 "cells": [
  {
   "cell_type": "markdown",
   "metadata": {},
   "source": [
    "# KIC 8462852 Century Long Data Analysis\n",
    "\n",
    "## Context\n",
    "\n",
    "KIC 8462852 is an enigmatic star (Boyajian et al. 2015).\n",
    "\n",
    "\n",
    "## Content\n",
    "\n",
    "- Data from the DASCH project: APASS input catalog, Kepler input catalog and GSC 2.3 catalog.\n",
    "- Sonneberg and Sternberg observatory data provided by Michael Hippke.\n",
    "- Maria Mitchell observatory data provided by Michael Castelaz.\n",
    "\n",
    "\n",
    "## References\n",
    "\n",
    "1. Boyajian, et al. (2015). Planet Hunters X. KIC 8462852 - Where's the Flux? arXiv:1509.03622\n",
    "2. Castelaz and Barker (2018). KIC 8462852: Maria Mitchell Observatory Photographic Photometry 1922 to 1991. arXiv:1803.01943\n",
    "3. Hippke et al. (2017). Sonneberg plate photometry for Boyajian's Star in two passbands. arXiv:1609.09290\n"
   ]
  },
  {
   "cell_type": "code",
   "execution_count": 1,
   "metadata": {},
   "outputs": [],
   "source": [
    "%load_ext autoreload\n",
    "%autoreload 2\n",
    "# to ensure kernel resets when files change around it"
   ]
  },
  {
   "cell_type": "code",
   "execution_count": 2,
   "metadata": {},
   "outputs": [
    {
     "name": "stderr",
     "output_type": "stream",
     "text": [
      "c:\\users\\prannaya\\appdata\\local\\programs\\python\\python37\\lib\\site-packages\\statsmodels\\tools\\_testing.py:19: FutureWarning: pandas.util.testing is deprecated. Use the functions in the public API at pandas.testing instead.\n",
      "  import pandas.util.testing as tm\n"
     ]
    },
    {
     "name": "stdout",
     "output_type": "stream",
     "text": [
      "C:\\Users\\Prannaya\\ThreeBody\\notebooks\n",
      "C:\\Users\\Prannaya\\ThreeBody\n"
     ]
    }
   ],
   "source": [
    "import numpy as np # main library for numeric calculations\n",
    "import pandas as pd # main library for data analysis\n",
    "import matplotlib.pyplot as plt # main library for data plotting\n",
    "import seaborn as sns # Another library for data plotting with more functions\n",
    "sns.set()\n",
    "\n",
    "import scipy as scp # STEM software\n",
    "from scipy import signal\n",
    "import scipy.interpolate as interpolate\n",
    "\n",
    "from glob import glob # check files\n",
    "from IPython.display import display, Markdown\n",
    "\n",
    "import statsmodels.api as sm\n",
    "import statsmodels.formula.api as smf\n",
    "import statsmodels.tsa.api as smt\n",
    "from statsmodels.tsa.api import ExponentialSmoothing, SimpleExpSmoothing, Holt\n",
    "\n",
    "import lightkurve as lk\n",
    "import astropy\n",
    "\n",
    "import sys, os\n",
    "\n",
    "file_path = os.getcwd()\n",
    "print(file_path)\n",
    "parent_dir = \"\\\\\".join(file_path.split(\"\\\\\")[:-1])\n",
    "print(parent_dir)\n",
    "\n",
    "sys.path.append(parent_dir)\n",
    "\n",
    "from kepler import *\n",
    "\n",
    "\"\"\"\n",
    "pd.set_option('display.max_rows', None)\n",
    "pd.set_option('display.max_columns', None)\n",
    "pd.set_option('display.width', None)\n",
    "pd.set_option('display.max_colwidth', -1)\"\"\"\n",
    "\n",
    "import warnings\n",
    "warnings.filterwarnings('ignore') # literally to ignore all the warnings that don't matter\n",
    "\n",
    "\n",
    "def printf(*args, sep=\" \", end=\"\\n\"):\n",
    "    string = sep.join([str(i) for i in args])+end\n",
    "    display(Markdown(string))\n",
    "\n",
    "\n",
    "def evaluateAndProcessData(x, y):\n",
    "    t, c, k = interpolate.splrep(x, y, s=0, k=4)\n",
    "    xx = np.linspace(x.min(), x.max(), 100)\n",
    "    spline = interpolate.BSpline(t, c, k, extrapolate=False)\n",
    "    \n",
    "    plt.figure(figsize=(16,6))\n",
    "    plt.plot(x, y, 'bo', label='Original points')\n",
    "    plt.plot(x, y)\n",
    "    plt.plot(xx, spline(xx), 'r', label='BSpline')\n",
    "    plt.grid()\n",
    "    plt.legend(loc='best')\n",
    "    plt.show()\n"
   ]
  },
  {
   "cell_type": "code",
   "execution_count": 3,
   "metadata": {},
   "outputs": [
    {
     "name": "stdout",
     "output_type": "stream",
     "text": [
      "Requirement already satisfied: ipympl in c:\\users\\prannaya\\appdata\\local\\programs\\python\\python37\\lib\\site-packages (0.5.8)\n",
      "Requirement already satisfied: ipykernel>=4.7 in c:\\users\\prannaya\\appdata\\local\\programs\\python\\python37\\lib\\site-packages (from ipympl) (5.3.0)\n",
      "Requirement already satisfied: ipywidgets>=7.5.0 in c:\\users\\prannaya\\appdata\\local\\programs\\python\\python37\\lib\\site-packages (from ipympl) (7.5.1)\n",
      "Requirement already satisfied: matplotlib>=2.0.0 in c:\\users\\prannaya\\appdata\\roaming\\python\\python37\\site-packages (from ipympl) (3.4.2)\n",
      "Requirement already satisfied: ipython>=5.0.0 in c:\\users\\prannaya\\appdata\\local\\programs\\python\\python37\\lib\\site-packages (from ipykernel>=4.7->ipympl) (7.15.0)\n",
      "Requirement already satisfied: traitlets>=4.1.0 in c:\\users\\prannaya\\appdata\\local\\programs\\python\\python37\\lib\\site-packages (from ipykernel>=4.7->ipympl) (4.3.2)\n",
      "Requirement already satisfied: jupyter-client in c:\\users\\prannaya\\appdata\\local\\programs\\python\\python37\\lib\\site-packages (from ipykernel>=4.7->ipympl) (6.1.3)\n",
      "Requirement already satisfied: tornado>=4.2 in c:\\users\\prannaya\\appdata\\roaming\\python\\python37\\site-packages (from ipykernel>=4.7->ipympl) (6.1)\n",
      "Requirement already satisfied: colorama in c:\\users\\prannaya\\appdata\\local\\programs\\python\\python37\\lib\\site-packages (from ipython>=5.0.0->ipykernel>=4.7->ipympl) (0.4.3)\n",
      "Requirement already satisfied: pickleshare in c:\\users\\prannaya\\appdata\\local\\programs\\python\\python37\\lib\\site-packages (from ipython>=5.0.0->ipykernel>=4.7->ipympl) (0.7.5)\n",
      "Requirement already satisfied: setuptools>=18.5 in c:\\users\\prannaya\\appdata\\roaming\\python\\python37\\site-packages (from ipython>=5.0.0->ipykernel>=4.7->ipympl) (49.2.0)\n",
      "Requirement already satisfied: pygments in c:\\users\\prannaya\\appdata\\local\\programs\\python\\python37\\lib\\site-packages (from ipython>=5.0.0->ipykernel>=4.7->ipympl) (2.6.1)\n",
      "Requirement already satisfied: prompt-toolkit!=3.0.0,!=3.0.1,<3.1.0,>=2.0.0 in c:\\users\\prannaya\\appdata\\local\\programs\\python\\python37\\lib\\site-packages (from ipython>=5.0.0->ipykernel>=4.7->ipympl) (3.0.19)\n",
      "Requirement already satisfied: decorator in c:\\users\\prannaya\\appdata\\local\\programs\\python\\python37\\lib\\site-packages (from ipython>=5.0.0->ipykernel>=4.7->ipympl) (4.4.2)\n",
      "Requirement already satisfied: jedi>=0.10 in c:\\users\\prannaya\\appdata\\local\\programs\\python\\python37\\lib\\site-packages (from ipython>=5.0.0->ipykernel>=4.7->ipympl) (0.17.0)\n",
      "Requirement already satisfied: backcall in c:\\users\\prannaya\\appdata\\local\\programs\\python\\python37\\lib\\site-packages (from ipython>=5.0.0->ipykernel>=4.7->ipympl) (0.1.0)\n",
      "Requirement already satisfied: nbformat>=4.2.0 in c:\\users\\prannaya\\appdata\\local\\programs\\python\\python37\\lib\\site-packages (from ipywidgets>=7.5.0->ipympl) (5.0.6)\n",
      "Requirement already satisfied: widgetsnbextension~=3.5.0 in c:\\users\\prannaya\\appdata\\local\\programs\\python\\python37\\lib\\site-packages (from ipywidgets>=7.5.0->ipympl) (3.5.1)\n",
      "Requirement already satisfied: parso>=0.7.0 in c:\\users\\prannaya\\appdata\\local\\programs\\python\\python37\\lib\\site-packages (from jedi>=0.10->ipython>=5.0.0->ipykernel>=4.7->ipympl) (0.7.0)\n",
      "Requirement already satisfied: cycler>=0.10 in c:\\users\\prannaya\\appdata\\local\\programs\\python\\python37\\lib\\site-packages (from matplotlib>=2.0.0->ipympl) (0.10.0)\n",
      "Requirement already satisfied: kiwisolver>=1.0.1 in c:\\users\\prannaya\\appdata\\local\\programs\\python\\python37\\lib\\site-packages (from matplotlib>=2.0.0->ipympl) (1.2.0)\n",
      "Requirement already satisfied: numpy>=1.16 in c:\\users\\prannaya\\appdata\\roaming\\python\\python37\\site-packages (from matplotlib>=2.0.0->ipympl) (1.20.3)\n",
      "Requirement already satisfied: pyparsing>=2.2.1 in c:\\users\\prannaya\\appdata\\local\\programs\\python\\python37\\lib\\site-packages (from matplotlib>=2.0.0->ipympl) (2.4.7)\n",
      "Requirement already satisfied: python-dateutil>=2.7 in c:\\users\\prannaya\\appdata\\local\\programs\\python\\python37\\lib\\site-packages (from matplotlib>=2.0.0->ipympl) (2.8.1)\n",
      "Requirement already satisfied: pillow>=6.2.0 in c:\\users\\prannaya\\appdata\\roaming\\python\\python37\\site-packages (from matplotlib>=2.0.0->ipympl) (8.2.0)\n",
      "Requirement already satisfied: six in c:\\users\\prannaya\\appdata\\local\\programs\\python\\python37\\lib\\site-packages (from cycler>=0.10->matplotlib>=2.0.0->ipympl) (1.12.0)\n",
      "Requirement already satisfied: jupyter-core in c:\\users\\prannaya\\appdata\\local\\programs\\python\\python37\\lib\\site-packages (from nbformat>=4.2.0->ipywidgets>=7.5.0->ipympl) (4.6.3)\n",
      "Requirement already satisfied: ipython-genutils in c:\\users\\prannaya\\appdata\\local\\programs\\python\\python37\\lib\\site-packages (from nbformat>=4.2.0->ipywidgets>=7.5.0->ipympl) (0.2.0)\n",
      "Requirement already satisfied: jsonschema!=2.5.0,>=2.4 in c:\\users\\prannaya\\appdata\\local\\programs\\python\\python37\\lib\\site-packages (from nbformat>=4.2.0->ipywidgets>=7.5.0->ipympl) (3.2.0)\n",
      "Requirement already satisfied: pyrsistent>=0.14.0 in c:\\users\\prannaya\\appdata\\local\\programs\\python\\python37\\lib\\site-packages (from jsonschema!=2.5.0,>=2.4->nbformat>=4.2.0->ipywidgets>=7.5.0->ipympl) (0.16.0)\n",
      "Requirement already satisfied: importlib-metadata in c:\\users\\prannaya\\appdata\\local\\programs\\python\\python37\\lib\\site-packages (from jsonschema!=2.5.0,>=2.4->nbformat>=4.2.0->ipywidgets>=7.5.0->ipympl) (1.7.0)\n",
      "Requirement already satisfied: attrs>=17.4.0 in c:\\users\\prannaya\\appdata\\local\\programs\\python\\python37\\lib\\site-packages (from jsonschema!=2.5.0,>=2.4->nbformat>=4.2.0->ipywidgets>=7.5.0->ipympl) (19.3.0)\n",
      "Requirement already satisfied: wcwidth in c:\\users\\prannaya\\appdata\\local\\programs\\python\\python37\\lib\\site-packages (from prompt-toolkit!=3.0.0,!=3.0.1,<3.1.0,>=2.0.0->ipython>=5.0.0->ipykernel>=4.7->ipympl) (0.1.7)\n",
      "Requirement already satisfied: notebook>=4.4.1 in c:\\users\\prannaya\\appdata\\local\\programs\\python\\python37\\lib\\site-packages (from widgetsnbextension~=3.5.0->ipywidgets>=7.5.0->ipympl) (6.0.3)\n",
      "Requirement already satisfied: Send2Trash in c:\\users\\prannaya\\appdata\\local\\programs\\python\\python37\\lib\\site-packages (from notebook>=4.4.1->widgetsnbextension~=3.5.0->ipywidgets>=7.5.0->ipympl) (1.5.0)\n",
      "Requirement already satisfied: terminado>=0.8.1 in c:\\users\\prannaya\\appdata\\roaming\\python\\python37\\site-packages (from notebook>=4.4.1->widgetsnbextension~=3.5.0->ipywidgets>=7.5.0->ipympl) (0.10.1)\n",
      "Requirement already satisfied: prometheus-client in c:\\users\\prannaya\\appdata\\local\\programs\\python\\python37\\lib\\site-packages (from notebook>=4.4.1->widgetsnbextension~=3.5.0->ipywidgets>=7.5.0->ipympl) (0.8.0)\n",
      "Requirement already satisfied: pyzmq>=17 in c:\\users\\prannaya\\appdata\\local\\programs\\python\\python37\\lib\\site-packages (from notebook>=4.4.1->widgetsnbextension~=3.5.0->ipywidgets>=7.5.0->ipympl) (19.0.1)\n",
      "Requirement already satisfied: nbconvert in c:\\users\\prannaya\\appdata\\local\\programs\\python\\python37\\lib\\site-packages (from notebook>=4.4.1->widgetsnbextension~=3.5.0->ipywidgets>=7.5.0->ipympl) (5.6.1)\n",
      "Requirement already satisfied: jinja2 in c:\\users\\prannaya\\appdata\\local\\programs\\python\\python37\\lib\\site-packages (from notebook>=4.4.1->widgetsnbextension~=3.5.0->ipywidgets>=7.5.0->ipympl) (2.11.2)\n",
      "Requirement already satisfied: pywin32>=1.0 in c:\\users\\prannaya\\appdata\\local\\programs\\python\\python37\\lib\\site-packages (from jupyter-core->nbformat>=4.2.0->ipywidgets>=7.5.0->ipympl) (227)\n",
      "Requirement already satisfied: pywinpty>=1.1.0 in c:\\users\\prannaya\\appdata\\roaming\\python\\python37\\site-packages (from terminado>=0.8.1->notebook>=4.4.1->widgetsnbextension~=3.5.0->ipywidgets>=7.5.0->ipympl) (1.1.3)\n",
      "Requirement already satisfied: zipp>=0.5 in c:\\users\\prannaya\\appdata\\local\\programs\\python\\python37\\lib\\site-packages (from importlib-metadata->jsonschema!=2.5.0,>=2.4->nbformat>=4.2.0->ipywidgets>=7.5.0->ipympl) (0.6.0)\n",
      "Requirement already satisfied: more-itertools in c:\\users\\prannaya\\appdata\\local\\programs\\python\\python37\\lib\\site-packages (from zipp>=0.5->importlib-metadata->jsonschema!=2.5.0,>=2.4->nbformat>=4.2.0->ipywidgets>=7.5.0->ipympl) (8.3.0)\n",
      "Requirement already satisfied: MarkupSafe>=0.23 in c:\\users\\prannaya\\appdata\\local\\programs\\python\\python37\\lib\\site-packages (from jinja2->notebook>=4.4.1->widgetsnbextension~=3.5.0->ipywidgets>=7.5.0->ipympl) (1.1.1)\n",
      "Requirement already satisfied: entrypoints>=0.2.2 in c:\\users\\prannaya\\appdata\\local\\programs\\python\\python37\\lib\\site-packages (from nbconvert->notebook>=4.4.1->widgetsnbextension~=3.5.0->ipywidgets>=7.5.0->ipympl) (0.3)\n",
      "Requirement already satisfied: testpath in c:\\users\\prannaya\\appdata\\local\\programs\\python\\python37\\lib\\site-packages (from nbconvert->notebook>=4.4.1->widgetsnbextension~=3.5.0->ipywidgets>=7.5.0->ipympl) (0.4.2)\n",
      "Requirement already satisfied: pandocfilters>=1.4.1 in c:\\users\\prannaya\\appdata\\local\\programs\\python\\python37\\lib\\site-packages (from nbconvert->notebook>=4.4.1->widgetsnbextension~=3.5.0->ipywidgets>=7.5.0->ipympl) (1.4.2)\n",
      "Requirement already satisfied: defusedxml in c:\\users\\prannaya\\appdata\\local\\programs\\python\\python37\\lib\\site-packages (from nbconvert->notebook>=4.4.1->widgetsnbextension~=3.5.0->ipywidgets>=7.5.0->ipympl) (0.6.0)\n",
      "Requirement already satisfied: mistune<2,>=0.8.1 in c:\\users\\prannaya\\appdata\\local\\programs\\python\\python37\\lib\\site-packages (from nbconvert->notebook>=4.4.1->widgetsnbextension~=3.5.0->ipywidgets>=7.5.0->ipympl) (0.8.4)\n",
      "Requirement already satisfied: bleach in c:\\users\\prannaya\\appdata\\local\\programs\\python\\python37\\lib\\site-packages (from nbconvert->notebook>=4.4.1->widgetsnbextension~=3.5.0->ipywidgets>=7.5.0->ipympl) (3.1.5)\n",
      "Requirement already satisfied: packaging in c:\\users\\prannaya\\appdata\\local\\programs\\python\\python37\\lib\\site-packages (from bleach->nbconvert->notebook>=4.4.1->widgetsnbextension~=3.5.0->ipywidgets>=7.5.0->ipympl) (20.4)\n",
      "Requirement already satisfied: webencodings in c:\\users\\prannaya\\appdata\\local\\programs\\python\\python37\\lib\\site-packages (from bleach->nbconvert->notebook>=4.4.1->widgetsnbextension~=3.5.0->ipywidgets>=7.5.0->ipympl) (0.5.1)\n"
     ]
    },
    {
     "data": {
      "application/vnd.jupyter.widget-view+json": {
       "model_id": "3429b13b4df14551b6a92befd8ff2a79",
       "version_major": 2,
       "version_minor": 0
      },
      "text/plain": [
       "Canvas(toolbar=Toolbar(toolitems=[('Home', 'Reset original view', 'home', 'home'), ('Back', 'Back to previous …"
      ]
     },
     "metadata": {},
     "output_type": "display_data"
    }
   ],
   "source": [
    "# Enabling the `widget` backend.\n",
    "# This requires jupyter-matplotlib a.k.a. ipympl.\n",
    "# ipympl can be install via pip or conda.\n",
    "!pip install ipympl\n",
    "%matplotlib widget\n",
    "\n",
    "# Testing matplotlib interactions with a simple plot\n",
    "fig = plt.figure()\n",
    "fig.canvas.header_visible = False # Hide the Figure name at the top of the figure\n",
    "fig.canvas.toolbar_visible = True"
   ]
  },
  {
   "cell_type": "code",
   "execution_count": 4,
   "metadata": {},
   "outputs": [
    {
     "data": {
      "text/html": [
       "<i>KeplerLightCurve length=62658 LABEL=&quot;KIC 8462852&quot; QUARTER=17 AUTHOR=Kepler</i>\n",
       "<table id=\"table1401031410240\" class=\"table-striped table-bordered table-condensed\">\n",
       "<thead><tr><th>time</th><th>flux</th><th>flux_err</th><th>quality</th><th>timecorr</th><th>centroid_col</th><th>centroid_row</th><th>cadenceno</th><th>sap_flux</th><th>sap_flux_err</th><th>sap_bkg</th><th>sap_bkg_err</th><th>pdcsap_flux</th><th>pdcsap_flux_err</th><th>sap_quality</th><th>psf_centr1</th><th>psf_centr1_err</th><th>psf_centr2</th><th>psf_centr2_err</th><th>mom_centr1</th><th>mom_centr1_err</th><th>mom_centr2</th><th>mom_centr2_err</th><th>pos_corr1</th><th>pos_corr2</th></tr></thead>\n",
       "<thead><tr><th></th><th></th><th></th><th></th><th>d</th><th>pix</th><th>pix</th><th></th><th>electron / s</th><th>electron / s</th><th>electron / s</th><th>electron / s</th><th>electron / s</th><th>electron / s</th><th></th><th>pix</th><th>pix</th><th>pix</th><th>pix</th><th>pix</th><th>pix</th><th>pix</th><th>pix</th><th>pix</th><th>pix</th></tr></thead>\n",
       "<thead><tr><th>object</th><th>float32</th><th>float32</th><th>int32</th><th>float32</th><th>float64</th><th>float64</th><th>int32</th><th>float32</th><th>float32</th><th>float32</th><th>float32</th><th>float32</th><th>float32</th><th>int32</th><th>float64</th><th>float32</th><th>float64</th><th>float32</th><th>float64</th><th>float32</th><th>float64</th><th>float32</th><th>float32</th><th>float32</th></tr></thead>\n",
       "<tr><td>120.53828917000646</td><td>1.0000743e+00</td><td>5.9970185e-05</td><td>0</td><td>1.367500e-04</td><td>228.97501</td><td>133.83864</td><td>568</td><td>2.3099570e+05</td><td>1.4130052e+01</td><td>3.1327478e+03</td><td>8.4403068e-01</td><td>2.6217838e+05</td><td>1.5721718e+01</td><td>0</td><td>nan</td><td>nan</td><td>nan</td><td>nan</td><td>228.97501</td><td>6.7526351e-05</td><td>133.83864</td><td>7.8045901e-05</td><td>-2.0522515e-03</td><td>-4.5541444e-04</td></tr>\n",
       "<tr><td>120.55872366725089</td><td>9.9995077e-01</td><td>6.0095972e-05</td><td>0</td><td>1.376473e-04</td><td>228.97466</td><td>133.83869</td><td>569</td><td>2.3098145e+05</td><td>1.4129755e+01</td><td>3.1327727e+03</td><td>8.4375399e-01</td><td>2.6214600e+05</td><td>1.5754694e+01</td><td>0</td><td>nan</td><td>nan</td><td>nan</td><td>nan</td><td>228.97466</td><td>6.7529007e-05</td><td>133.83869</td><td>7.8055600e-05</td><td>-2.3125913e-03</td><td>-3.7136092e-04</td></tr>\n",
       "<tr><td>120.57915806455276</td><td>9.9985057e-01</td><td>6.0064165e-05</td><td>0</td><td>1.385446e-04</td><td>228.97505</td><td>133.83897</td><td>570</td><td>2.3095938e+05</td><td>1.4129274e+01</td><td>3.1300862e+03</td><td>8.4481192e-01</td><td>2.6211973e+05</td><td>1.5746356e+01</td><td>0</td><td>nan</td><td>nan</td><td>nan</td><td>nan</td><td>228.97505</td><td>6.7525820e-05</td><td>133.83897</td><td>7.8053832e-05</td><td>-1.9923537e-03</td><td>-1.7199344e-04</td></tr>\n",
       "<tr><td>120.59959266192163</td><td>1.0000644e+00</td><td>6.0178041e-05</td><td>0</td><td>1.394419e-04</td><td>228.97438</td><td>133.83980</td><td>571</td><td>2.3100961e+05</td><td>1.4130323e+01</td><td>3.1338765e+03</td><td>8.4415454e-01</td><td>2.6217578e+05</td><td>1.5776210e+01</td><td>0</td><td>nan</td><td>nan</td><td>nan</td><td>nan</td><td>228.97438</td><td>6.7522087e-05</td><td>133.83980</td><td>7.8038640e-05</td><td>-2.5378668e-03</td><td>6.2205142e-04</td></tr>\n",
       "<tr><td>120.62002715936978</td><td>1.0000470e+00</td><td>6.0189719e-05</td><td>0</td><td>1.403394e-04</td><td>228.97517</td><td>133.83969</td><td>572</td><td>2.3100167e+05</td><td>1.4130178e+01</td><td>3.1342488e+03</td><td>8.4349722e-01</td><td>2.6217122e+05</td><td>1.5779271e+01</td><td>0</td><td>nan</td><td>nan</td><td>nan</td><td>nan</td><td>228.97517</td><td>6.7518362e-05</td><td>133.83969</td><td>7.8040648e-05</td><td>-2.0599102e-03</td><td>7.1742840e-04</td></tr>\n",
       "<tr><td>120.64046155686083</td><td>1.0001690e+00</td><td>6.0252100e-05</td><td>0</td><td>1.412369e-04</td><td>228.97498</td><td>133.84041</td><td>573</td><td>2.3102112e+05</td><td>1.4130572e+01</td><td>3.1325715e+03</td><td>8.4332711e-01</td><td>2.6220322e+05</td><td>1.5795625e+01</td><td>0</td><td>nan</td><td>nan</td><td>nan</td><td>nan</td><td>228.97498</td><td>6.7512126e-05</td><td>133.84041</td><td>7.8033889e-05</td><td>-2.1526029e-03</td><td>1.3295606e-03</td></tr>\n",
       "<tr><td>120.66089605443267</td><td>1.0000749e+00</td><td>6.0253733e-05</td><td>0</td><td>1.421344e-04</td><td>228.97489</td><td>133.84050</td><td>574</td><td>2.3099327e+05</td><td>1.4129962e+01</td><td>3.1344553e+03</td><td>8.4404898e-01</td><td>2.6217853e+05</td><td>1.5796053e+01</td><td>0</td><td>nan</td><td>nan</td><td>nan</td><td>nan</td><td>228.97489</td><td>6.7515219e-05</td><td>133.84050</td><td>7.8037207e-05</td><td>-2.1869289e-03</td><td>1.2708127e-03</td></tr>\n",
       "<tr><td>120.6813306520562</td><td>1.0002058e+00</td><td>6.0214785e-05</td><td>0</td><td>1.430321e-04</td><td>228.97501</td><td>133.84040</td><td>575</td><td>2.3101480e+05</td><td>1.4130332e+01</td><td>3.1294685e+03</td><td>8.4399694e-01</td><td>2.6221284e+05</td><td>1.5785842e+01</td><td>0</td><td>nan</td><td>nan</td><td>nan</td><td>nan</td><td>228.97501</td><td>6.7511253e-05</td><td>133.84040</td><td>7.8026918e-05</td><td>-2.0245574e-03</td><td>1.2980951e-03</td></tr>\n",
       "<tr><td>120.70176504976553</td><td>1.0000389e+00</td><td>6.0237689e-05</td><td>0</td><td>1.439298e-04</td><td>228.97486</td><td>133.84034</td><td>576</td><td>2.3097116e+05</td><td>1.4129534e+01</td><td>3.1315547e+03</td><td>8.4413201e-01</td><td>2.6216909e+05</td><td>1.5791847e+01</td><td>0</td><td>nan</td><td>nan</td><td>nan</td><td>nan</td><td>228.97486</td><td>6.7523652e-05</td><td>133.84034</td><td>7.8041448e-05</td><td>-2.1332130e-03</td><td>1.2658440e-03</td></tr>\n",
       "<tr><td>...</td><td>...</td><td>...</td><td>...</td><td>...</td><td>...</td><td>...</td><td>...</td><td>...</td><td>...</td><td>...</td><td>...</td><td>...</td><td>...</td><td>...</td><td>...</td><td>...</td><td>...</td><td>...</td><td>...</td><td>...</td><td>...</td><td>...</td><td>...</td><td>...</td></tr>\n",
       "<tr><td>1587.3633084832982</td><td>9.9631822e-01</td><td>6.2078419e-05</td><td>0</td><td>-6.619367e-04</td><td>228.98976</td><td>133.87532</td><td>72353</td><td>2.4083830e+05</td><td>1.5113836e+01</td><td>6.0262661e+03</td><td>1.4824764e+00</td><td>2.5038595e+05</td><td>1.5601004e+01</td><td>0</td><td>nan</td><td>nan</td><td>nan</td><td>nan</td><td>228.98976</td><td>8.7857974e-05</td><td>133.87532</td><td>1.0177728e-04</td><td>2.0294502e-02</td><td>4.2778172e-02</td></tr>\n",
       "<tr><td>1587.3837429677005</td><td>9.9640960e-01</td><td>6.2103267e-05</td><td>0</td><td>-6.611523e-04</td><td>228.98986</td><td>133.87501</td><td>72354</td><td>2.4084739e+05</td><td>1.5113916e+01</td><td>6.0215703e+03</td><td>1.4811258e+00</td><td>2.5040891e+05</td><td>1.5607248e+01</td><td>0</td><td>nan</td><td>nan</td><td>nan</td><td>nan</td><td>228.98986</td><td>8.7851615e-05</td><td>133.87501</td><td>1.0177431e-04</td><td>2.0515671e-02</td><td>4.2690024e-02</td></tr>\n",
       "<tr><td>1587.4041772522833</td><td>9.9629098e-01</td><td>6.2103667e-05</td><td>0</td><td>-6.603677e-04</td><td>228.98977</td><td>133.87535</td><td>72355</td><td>2.4082281e+05</td><td>1.5113714e+01</td><td>6.0280854e+03</td><td>1.4825512e+00</td><td>2.5037909e+05</td><td>1.5607348e+01</td><td>0</td><td>nan</td><td>nan</td><td>nan</td><td>nan</td><td>228.98977</td><td>8.7863598e-05</td><td>133.87535</td><td>1.0178900e-04</td><td>2.0255534e-02</td><td>4.2796377e-02</td></tr>\n",
       "<tr><td>1587.4246116370414</td><td>9.9626446e-01</td><td>6.2086379e-05</td><td>0</td><td>-6.595830e-04</td><td>228.98988</td><td>133.87526</td><td>72356</td><td>2.4081381e+05</td><td>1.5113320e+01</td><td>6.0263589e+03</td><td>1.4816556e+00</td><td>2.5037244e+05</td><td>1.5603004e+01</td><td>0</td><td>nan</td><td>nan</td><td>nan</td><td>nan</td><td>228.98988</td><td>8.7861685e-05</td><td>133.87526</td><td>1.0179531e-04</td><td>2.0367794e-02</td><td>4.2385984e-02</td></tr>\n",
       "<tr><td>1587.4450461219094</td><td>9.9621654e-01</td><td>6.2143772e-05</td><td>0</td><td>-6.587981e-04</td><td>228.98989</td><td>133.87540</td><td>72357</td><td>2.4079144e+05</td><td>1.5112868e+01</td><td>6.0246836e+03</td><td>1.4822482e+00</td><td>2.5036039e+05</td><td>1.5617428e+01</td><td>0</td><td>nan</td><td>nan</td><td>nan</td><td>nan</td><td>228.98989</td><td>8.7864144e-05</td><td>133.87540</td><td>1.0179726e-04</td><td>2.0393392e-02</td><td>4.2656232e-02</td></tr>\n",
       "<tr><td>1587.5063492776317</td><td>9.9637645e-01</td><td>6.2150866e-05</td><td>0</td><td>-6.564424e-04</td><td>228.98965</td><td>133.87509</td><td>72360</td><td>2.4082581e+05</td><td>1.5113477e+01</td><td>6.0266968e+03</td><td>1.4811993e+00</td><td>2.5040058e+05</td><td>1.5619210e+01</td><td>0</td><td>nan</td><td>nan</td><td>nan</td><td>nan</td><td>228.98965</td><td>8.7851273e-05</td><td>133.87509</td><td>1.0178396e-04</td><td>2.0393668e-02</td><td>4.2111389e-02</td></tr>\n",
       "<tr><td>1587.5267835631457</td><td>9.9629444e-01</td><td>6.2155043e-05</td><td>0</td><td>-6.556569e-04</td><td>228.98967</td><td>133.87482</td><td>72361</td><td>2.4080528e+05</td><td>1.5113218e+01</td><td>6.0180776e+03</td><td>1.4828724e+00</td><td>2.5037997e+05</td><td>1.5620260e+01</td><td>0</td><td>nan</td><td>nan</td><td>nan</td><td>nan</td><td>228.98967</td><td>8.7856795e-05</td><td>133.87482</td><td>1.0179596e-04</td><td>2.0418581e-02</td><td>4.1812863e-02</td></tr>\n",
       "<tr><td>1587.5472180488869</td><td>9.9623156e-01</td><td>6.2128958e-05</td><td>0</td><td>-6.548711e-04</td><td>228.98990</td><td>133.87495</td><td>72362</td><td>2.4078666e+05</td><td>1.5112956e+01</td><td>6.0258647e+03</td><td>1.4823616e+00</td><td>2.5036417e+05</td><td>1.5613704e+01</td><td>0</td><td>nan</td><td>nan</td><td>nan</td><td>nan</td><td>228.98990</td><td>8.7865599e-05</td><td>133.87495</td><td>1.0180415e-04</td><td>2.0566199e-02</td><td>4.1912630e-02</td></tr>\n",
       "<tr><td>1587.567652434751</td><td>9.9620128e-01</td><td>6.2171581e-05</td><td>0</td><td>-6.540852e-04</td><td>228.98975</td><td>133.87507</td><td>72363</td><td>2.4077920e+05</td><td>1.5112532e+01</td><td>6.0291675e+03</td><td>1.4815629e+00</td><td>2.5035656e+05</td><td>1.5624415e+01</td><td>0</td><td>nan</td><td>nan</td><td>nan</td><td>nan</td><td>228.98975</td><td>8.7857865e-05</td><td>133.87507</td><td>1.0180342e-04</td><td>2.0588277e-02</td><td>4.1701112e-02</td></tr>\n",
       "<tr><td>1587.5880868207896</td><td>9.9630266e-01</td><td>6.2169725e-05</td><td>0</td><td>-6.532992e-04</td><td>228.98978</td><td>133.87473</td><td>72364</td><td>2.4080352e+05</td><td>1.5113029e+01</td><td>6.0220791e+03</td><td>1.4820466e+00</td><td>2.5038203e+05</td><td>1.5623949e+01</td><td>0</td><td>nan</td><td>nan</td><td>nan</td><td>nan</td><td>228.98978</td><td>8.7850385e-05</td><td>133.87473</td><td>1.0179338e-04</td><td>2.0562891e-02</td><td>4.1601989e-02</td></tr>\n",
       "</table>"
      ],
      "text/plain": [
       "<KeplerLightCurve length=62658 LABEL=\"KIC 8462852\" QUARTER=17 AUTHOR=Kepler>\n",
       "       time             flux      ...   pos_corr1      pos_corr2   \n",
       "                                  ...      pix            pix      \n",
       "      object          float32     ...    float32        float32    \n",
       "------------------ -------------- ... -------------- --------------\n",
       "120.53828917000646  1.0000743e+00 ... -2.0522515e-03 -4.5541444e-04\n",
       "120.55872366725089  9.9995077e-01 ... -2.3125913e-03 -3.7136092e-04\n",
       "120.57915806455276  9.9985057e-01 ... -1.9923537e-03 -1.7199344e-04\n",
       "120.59959266192163  1.0000644e+00 ... -2.5378668e-03  6.2205142e-04\n",
       "120.62002715936978  1.0000470e+00 ... -2.0599102e-03  7.1742840e-04\n",
       "120.64046155686083  1.0001690e+00 ... -2.1526029e-03  1.3295606e-03\n",
       "120.66089605443267  1.0000749e+00 ... -2.1869289e-03  1.2708127e-03\n",
       " 120.6813306520562  1.0002058e+00 ... -2.0245574e-03  1.2980951e-03\n",
       "120.70176504976553  1.0000389e+00 ... -2.1332130e-03  1.2658440e-03\n",
       "               ...            ... ...            ...            ...\n",
       "1587.3633084832982  9.9631822e-01 ...  2.0294502e-02  4.2778172e-02\n",
       "1587.3837429677005  9.9640960e-01 ...  2.0515671e-02  4.2690024e-02\n",
       "1587.4041772522833  9.9629098e-01 ...  2.0255534e-02  4.2796377e-02\n",
       "1587.4246116370414  9.9626446e-01 ...  2.0367794e-02  4.2385984e-02\n",
       "1587.4450461219094  9.9621654e-01 ...  2.0393392e-02  4.2656232e-02\n",
       "1587.5063492776317  9.9637645e-01 ...  2.0393668e-02  4.2111389e-02\n",
       "1587.5267835631457  9.9629444e-01 ...  2.0418581e-02  4.1812863e-02\n",
       "1587.5472180488869  9.9623156e-01 ...  2.0566199e-02  4.1912630e-02\n",
       " 1587.567652434751  9.9620128e-01 ...  2.0588277e-02  4.1701112e-02\n",
       "1587.5880868207896  9.9630266e-01 ...  2.0562891e-02  4.1601989e-02"
      ]
     },
     "execution_count": 4,
     "metadata": {},
     "output_type": "execute_result"
    }
   ],
   "source": [
    "id = 8462852\n",
    "# Retrieving all the important details\n",
    "lc = retrieveKeplerLightCurve(id)\n",
    "lc"
   ]
  },
  {
   "cell_type": "code",
   "execution_count": 5,
   "metadata": {},
   "outputs": [
    {
     "data": {
      "application/vnd.jupyter.widget-view+json": {
       "model_id": "c2497db6e91146fc837648f696ebce4f",
       "version_major": 2,
       "version_minor": 0
      },
      "text/plain": [
       "Canvas(toolbar=Toolbar(toolitems=[('Home', 'Reset original view', 'home', 'home'), ('Back', 'Back to previous …"
      ]
     },
     "metadata": {},
     "output_type": "display_data"
    }
   ],
   "source": [
    "plotKeplerLightCurve(lc)\n",
    "plt.show()"
   ]
  },
  {
   "cell_type": "code",
   "execution_count": 6,
   "metadata": {},
   "outputs": [
    {
     "data": {
      "application/vnd.jupyter.widget-view+json": {
       "model_id": "042dd4f51cbb4e51b72e7f42846b82a2",
       "version_major": 2,
       "version_minor": 0
      },
      "text/plain": [
       "Canvas(toolbar=Toolbar(toolitems=[('Home', 'Reset original view', 'home', 'home'), ('Back', 'Back to previous …"
      ]
     },
     "metadata": {},
     "output_type": "display_data"
    }
   ],
   "source": [
    "plotKeplerSAPLightCurve(lc)\n",
    "plt.show()"
   ]
  },
  {
   "cell_type": "code",
   "execution_count": 7,
   "metadata": {},
   "outputs": [
    {
     "data": {
      "application/vnd.jupyter.widget-view+json": {
       "model_id": "955a8f9a33b84b869a58b10f33c8a983",
       "version_major": 2,
       "version_minor": 0
      },
      "text/plain": [
       "Canvas(toolbar=Toolbar(toolitems=[('Home', 'Reset original view', 'home', 'home'), ('Back', 'Back to previous …"
      ]
     },
     "metadata": {},
     "output_type": "display_data"
    }
   ],
   "source": [
    "plotKeplerPDCSAPLightCurve(lc)\n",
    "plt.show()"
   ]
  },
  {
   "cell_type": "code",
   "execution_count": 8,
   "metadata": {},
   "outputs": [
    {
     "data": {
      "text/plain": [
       "array([ 120.53828917,  120.55872367,  120.57915806, ..., 1587.54721805,\n",
       "       1587.56765243, 1587.58808682])"
      ]
     },
     "execution_count": 8,
     "metadata": {},
     "output_type": "execute_result"
    }
   ],
   "source": [
    "time = np.array(list(map(lambda time: time.value, list(lc.time))))\n",
    "time"
   ]
  },
  {
   "cell_type": "code",
   "execution_count": 11,
   "metadata": {},
   "outputs": [
    {
     "data": {
      "text/plain": [
       "array([262178.38, 262146.  , 262119.73, ..., 250364.17, 250356.56,\n",
       "       250382.03], dtype=float32)"
      ]
     },
     "execution_count": 11,
     "metadata": {},
     "output_type": "execute_result"
    }
   ],
   "source": [
    "flux = np.array(list(map(lambda flux: flux.value, list(lc.pdcsap_flux))))\n",
    "flux"
   ]
  },
  {
   "cell_type": "code",
   "execution_count": 12,
   "metadata": {},
   "outputs": [
    {
     "data": {
      "application/vnd.jupyter.widget-view+json": {
       "model_id": "3653966c0a37407d8ca12961226a0a03",
       "version_major": 2,
       "version_minor": 0
      },
      "text/plain": [
       "Canvas(toolbar=Toolbar(toolitems=[('Home', 'Reset original view', 'home', 'home'), ('Back', 'Back to previous …"
      ]
     },
     "metadata": {},
     "output_type": "display_data"
    }
   ],
   "source": [
    "evaluateAndProcessData(time, flux)"
   ]
  }
 ],
 "metadata": {
  "kernelspec": {
   "display_name": "Python 3",
   "language": "python",
   "name": "python3"
  },
  "language_info": {
   "codemirror_mode": {
    "name": "ipython",
    "version": 3
   },
   "file_extension": ".py",
   "mimetype": "text/x-python",
   "name": "python",
   "nbconvert_exporter": "python",
   "pygments_lexer": "ipython3",
   "version": "3.7.2"
  },
  "varInspector": {
   "cols": {
    "lenName": 16,
    "lenType": 16,
    "lenVar": 40
   },
   "kernels_config": {
    "python": {
     "delete_cmd_postfix": "",
     "delete_cmd_prefix": "del ",
     "library": "var_list.py",
     "varRefreshCmd": "print(var_dic_list())"
    },
    "r": {
     "delete_cmd_postfix": ") ",
     "delete_cmd_prefix": "rm(",
     "library": "var_list.r",
     "varRefreshCmd": "cat(var_dic_list()) "
    }
   },
   "types_to_exclude": [
    "module",
    "function",
    "builtin_function_or_method",
    "instance",
    "_Feature"
   ],
   "window_display": false
  }
 },
 "nbformat": 4,
 "nbformat_minor": 4
}
