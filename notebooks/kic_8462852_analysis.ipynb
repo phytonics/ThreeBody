{
 "cells": [
  {
   "cell_type": "markdown",
   "metadata": {},
   "source": [
    "# KIC 8462852 Century Long Data Analysis\n",
    "\n",
    "## Context\n",
    "\n",
    "KIC 8462852 is an enigmatic star (Boyajian et al. 2015).\n",
    "\n",
    "\n",
    "## Content\n",
    "\n",
    "- Data from the DASCH project: APASS input catalog, Kepler input catalog and GSC 2.3 catalog.\n",
    "- Sonneberg and Sternberg observatory data provided by Michael Hippke.\n",
    "- Maria Mitchell observatory data provided by Michael Castelaz.\n",
    "\n",
    "\n",
    "## References\n",
    "\n",
    "1. Boyajian, et al. (2015). Planet Hunters X. KIC 8462852 - Where's the Flux? arXiv:1509.03622\n",
    "2. Castelaz and Barker (2018). KIC 8462852: Maria Mitchell Observatory Photographic Photometry 1922 to 1991. arXiv:1803.01943\n",
    "3. Hippke et al. (2017). Sonneberg plate photometry for Boyajian's Star in two passbands. arXiv:1609.09290\n"
   ]
  },
  {
   "cell_type": "code",
   "execution_count": null,
   "metadata": {},
   "outputs": [],
   "source": []
  }
 ],
 "metadata": {
  "kernelspec": {
   "display_name": "Python 3",
   "language": "python",
   "name": "python3"
  },
  "language_info": {
   "codemirror_mode": {
    "name": "ipython",
    "version": 3
   },
   "file_extension": ".py",
   "mimetype": "text/x-python",
   "name": "python",
   "nbconvert_exporter": "python",
   "pygments_lexer": "ipython3",
   "version": "3.7.2"
  },
  "varInspector": {
   "cols": {
    "lenName": 16,
    "lenType": 16,
    "lenVar": 40
   },
   "kernels_config": {
    "python": {
     "delete_cmd_postfix": "",
     "delete_cmd_prefix": "del ",
     "library": "var_list.py",
     "varRefreshCmd": "print(var_dic_list())"
    },
    "r": {
     "delete_cmd_postfix": ") ",
     "delete_cmd_prefix": "rm(",
     "library": "var_list.r",
     "varRefreshCmd": "cat(var_dic_list()) "
    }
   },
   "types_to_exclude": [
    "module",
    "function",
    "builtin_function_or_method",
    "instance",
    "_Feature"
   ],
   "window_display": false
  }
 },
 "nbformat": 4,
 "nbformat_minor": 4
}
