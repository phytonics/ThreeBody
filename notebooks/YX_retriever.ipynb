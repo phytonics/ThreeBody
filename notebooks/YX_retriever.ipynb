{
 "cells": [
  {
   "cell_type": "code",
   "execution_count": 1,
   "source": [
    "import lightkurve as lk"
   ],
   "outputs": [],
   "metadata": {}
  },
  {
   "cell_type": "code",
   "execution_count": 2,
   "source": [
    "#Gets all the ids\r\n",
    "\r\n",
    "ids_file = open(\"data/binarystars.csv\")\r\n",
    "\r\n",
    "ids = []\r\n",
    "for line in ids_file.readlines():\r\n",
    "    if line[0] == '#': continue\r\n",
    "    ids.append(line.split(',')[0])"
   ],
   "outputs": [],
   "metadata": {}
  },
  {
   "cell_type": "code",
   "execution_count": 3,
   "source": [
    "# Retrieving all the important details\r\n",
    "def getData(id):\r\n",
    "\r\n",
    "    try: \r\n",
    "        lc = lk.search_lightcurve(f\"KIC {id}\", quarter = [0, 1]).download_all().stitch().remove_outliers().flatten()\r\n",
    "    except: \r\n",
    "        try: \r\n",
    "            lc = lk.search_lightcurve(f\"EPIC {id}\", quarter = [0, 1]).download_all().stitch().remove_outliers().flatten()\r\n",
    "        except: \r\n",
    "            lc = lk.search_lightcurve(f\"KOI {id}\", quarter = [0, 1]).download_all().stitch().remove_outliers().flatten()\r\n",
    "\r\n",
    "    bls = lc.to_periodogram(\"bls\")\r\n",
    "    return [bls.period_at_max_power, bls.duration_at_max_power, bls.depth_at_max_power]\r\n",
    "\r\n",
    "# Retrieving all the important details version 2, so it works for all\r\n",
    "def getData2(id):\r\n",
    "    try: \r\n",
    "        lc = lk.search_lightcurve(f\"KIC {id}\")[:2].download_all().stitch().remove_outliers().flatten()\r\n",
    "    except: \r\n",
    "        try: \r\n",
    "            lc = lk.search_lightcurve(f\"EPIC {id}\")[:2].download_all().stitch().remove_outliers().flatten()\r\n",
    "        except: \r\n",
    "            lc = lk.search_lightcurve(f\"KOI {id}\")[:2].download_all().stitch().remove_outliers().flatten()\r\n",
    "\r\n",
    "    bls = lc.to_periodogram(\"bls\")\r\n",
    "    return [bls.period_at_max_power, bls.duration_at_max_power, bls.depth_at_max_power]"
   ],
   "outputs": [],
   "metadata": {}
  },
  {
   "cell_type": "code",
   "execution_count": 20,
   "source": [
    "for id in ids[:100]:\r\n",
    "    with open(\"data/testData.csv\", \"a\") as outfile:\r\n",
    "        # If data cannot download, basically causes error in 1st retriever function\r\n",
    "        if len(lk.search_lightcurve(f\"KIC {id}\", quarter = [0, 1])) != 0: continue # Ignore\r\n",
    "\r\n",
    "        # Attempt to get it again with the other function\r\n",
    "        try: print(id, *getData2(id), file=outfile, sep=\",\")\r\n",
    "        except: continue\r\n",
    "\r\n",
    "print(\"Done\")\r\n"
   ],
   "outputs": [
    {
     "output_type": "stream",
     "name": "stderr",
     "text": [
      "C:\\Users\\yuanx\\AppData\\Local\\Programs\\Python\\Python38\\lib\\site-packages\\lightkurve\\search.py:414: LightkurveWarning: Cannot download from an empty search result.\n",
      "  warnings.warn(\n",
      "Could not resolve EPIC 9532219 to a sky position.\n",
      "C:\\Users\\yuanx\\AppData\\Local\\Programs\\Python\\Python38\\lib\\site-packages\\lightkurve\\search.py:414: LightkurveWarning: Cannot download from an empty search result.\n",
      "  warnings.warn(\n",
      "`period` contains 187865 points.Periodogram is likely to be large, and slow to evaluate. Consider setting `frequency_factor` to a higher value.\n"
     ]
    }
   ],
   "metadata": {}
  },
  {
   "cell_type": "code",
   "execution_count": null,
   "source": [],
   "outputs": [],
   "metadata": {}
  }
 ],
 "metadata": {
  "interpreter": {
   "hash": "4141817a3220a511d0e1190d2d221bdc61c43b8cb7bbdb4b77cea7b78108a975"
  },
  "kernelspec": {
   "display_name": "Python 3.8.5 64-bit",
   "name": "python3"
  },
  "language_info": {
   "codemirror_mode": {
    "name": "ipython",
    "version": 3
   },
   "file_extension": ".py",
   "mimetype": "text/x-python",
   "name": "python",
   "nbconvert_exporter": "python",
   "pygments_lexer": "ipython3",
   "version": "3.8.5"
  }
 },
 "nbformat": 4,
 "nbformat_minor": 2
}