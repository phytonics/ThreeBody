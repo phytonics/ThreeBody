{
 "cells": [
  {
   "cell_type": "markdown",
   "metadata": {},
   "source": [
    "# The Analysis of several Binary Star Configurations to find the B-Spline Signal"
   ]
  },
  {
   "cell_type": "code",
   "execution_count": 1,
   "metadata": {},
   "outputs": [],
   "source": [
    "%load_ext autoreload\n",
    "%autoreload 2\n",
    "# to ensure kernel resets when files change around it"
   ]
  },
  {
   "cell_type": "code",
   "execution_count": 2,
   "metadata": {},
   "outputs": [
    {
     "name": "stderr",
     "output_type": "stream",
     "text": [
      "c:\\users\\prannaya\\appdata\\local\\programs\\python\\python37\\lib\\site-packages\\statsmodels\\tools\\_testing.py:19: FutureWarning: pandas.util.testing is deprecated. Use the functions in the public API at pandas.testing instead.\n",
      "  import pandas.util.testing as tm\n"
     ]
    },
    {
     "name": "stdout",
     "output_type": "stream",
     "text": [
      "C:\\Users\\Prannaya\\Documents\\GitHub\\ThreeBody\\notebooks\n",
      "C:\\Users\\Prannaya\\Documents\\GitHub\\ThreeBody\n"
     ]
    }
   ],
   "source": [
    "import numpy as np # main library for numeric calculations\n",
    "import pandas as pd # main library for data analysis\n",
    "import matplotlib.pyplot as plt # main library for data plotting\n",
    "import seaborn as sns # Another library for data plotting with more functions\n",
    "sns.set()\n",
    "\n",
    "import scipy as scp # STEM software\n",
    "from scipy import signal\n",
    "import scipy.interpolate as interpolate\n",
    "\n",
    "from glob import glob # check files\n",
    "from IPython.display import display, Markdown\n",
    "\n",
    "import statsmodels.api as sm\n",
    "import statsmodels.formula.api as smf\n",
    "import statsmodels.tsa.api as smt\n",
    "from statsmodels.tsa.api import ExponentialSmoothing, SimpleExpSmoothing, Holt\n",
    "\n",
    "import lightkurve as lk\n",
    "import astropy\n",
    "\n",
    "import sys, os\n",
    "\n",
    "file_path = os.getcwd()\n",
    "print(file_path)\n",
    "parent_dir = \"\\\\\".join(file_path.split(\"\\\\\")[:-1])\n",
    "print(parent_dir)\n",
    "\n",
    "sys.path.append(parent_dir)\n",
    "\n",
    "from kepler import *\n",
    "\n",
    "\"\"\"\n",
    "pd.set_option('display.max_rows', None)\n",
    "pd.set_option('display.max_columns', None)\n",
    "pd.set_option('display.width', None)\n",
    "pd.set_option('display.max_colwidth', -1)\"\"\"\n",
    "\n",
    "import warnings\n",
    "warnings.filterwarnings('ignore') # literally to ignore all the warnings that don't matter\n",
    "\n",
    "\n",
    "def printf(*args, sep=\" \", end=\"\\n\"):\n",
    "    string = sep.join([str(i) for i in args])+end\n",
    "    display(Markdown(string))\n"
   ]
  },
  {
   "cell_type": "code",
   "execution_count": 3,
   "metadata": {},
   "outputs": [
    {
     "name": "stdout",
     "output_type": "stream",
     "text": [
      "Requirement already satisfied: ipympl in c:\\users\\prannaya\\appdata\\local\\programs\\python\\python37\\lib\\site-packages (0.5.8)\n",
      "Requirement already satisfied: ipywidgets>=7.5.0 in c:\\users\\prannaya\\appdata\\local\\programs\\python\\python37\\lib\\site-packages (from ipympl) (7.5.1)\n",
      "Requirement already satisfied: ipykernel>=4.7 in c:\\users\\prannaya\\appdata\\local\\programs\\python\\python37\\lib\\site-packages (from ipympl) (5.3.0)\n",
      "Requirement already satisfied: matplotlib>=2.0.0 in c:\\users\\prannaya\\appdata\\roaming\\python\\python37\\site-packages (from ipympl) (3.4.2)\n",
      "Requirement already satisfied: ipython>=5.0.0 in c:\\users\\prannaya\\appdata\\local\\programs\\python\\python37\\lib\\site-packages (from ipykernel>=4.7->ipympl) (7.15.0)\n",
      "Requirement already satisfied: jupyter-client in c:\\users\\prannaya\\appdata\\local\\programs\\python\\python37\\lib\\site-packages (from ipykernel>=4.7->ipympl) (6.1.3)\n",
      "Requirement already satisfied: tornado>=4.2 in c:\\users\\prannaya\\appdata\\roaming\\python\\python37\\site-packages (from ipykernel>=4.7->ipympl) (6.1)\n",
      "Requirement already satisfied: traitlets>=4.1.0 in c:\\users\\prannaya\\appdata\\local\\programs\\python\\python37\\lib\\site-packages (from ipykernel>=4.7->ipympl) (4.3.2)\n",
      "Requirement already satisfied: colorama in c:\\users\\prannaya\\appdata\\local\\programs\\python\\python37\\lib\\site-packages (from ipython>=5.0.0->ipykernel>=4.7->ipympl) (0.4.3)\n",
      "Requirement already satisfied: setuptools>=18.5 in c:\\users\\prannaya\\appdata\\roaming\\python\\python37\\site-packages (from ipython>=5.0.0->ipykernel>=4.7->ipympl) (49.2.0)\n",
      "Requirement already satisfied: backcall in c:\\users\\prannaya\\appdata\\local\\programs\\python\\python37\\lib\\site-packages (from ipython>=5.0.0->ipykernel>=4.7->ipympl) (0.1.0)\n",
      "Requirement already satisfied: jedi>=0.10 in c:\\users\\prannaya\\appdata\\local\\programs\\python\\python37\\lib\\site-packages (from ipython>=5.0.0->ipykernel>=4.7->ipympl) (0.17.0)\n",
      "Requirement already satisfied: decorator in c:\\users\\prannaya\\appdata\\local\\programs\\python\\python37\\lib\\site-packages (from ipython>=5.0.0->ipykernel>=4.7->ipympl) (4.4.2)\n",
      "Requirement already satisfied: pickleshare in c:\\users\\prannaya\\appdata\\local\\programs\\python\\python37\\lib\\site-packages (from ipython>=5.0.0->ipykernel>=4.7->ipympl) (0.7.5)\n",
      "Requirement already satisfied: pygments in c:\\users\\prannaya\\appdata\\local\\programs\\python\\python37\\lib\\site-packages (from ipython>=5.0.0->ipykernel>=4.7->ipympl) (2.6.1)\n",
      "Requirement already satisfied: prompt-toolkit!=3.0.0,!=3.0.1,<3.1.0,>=2.0.0 in c:\\users\\prannaya\\appdata\\local\\programs\\python\\python37\\lib\\site-packages (from ipython>=5.0.0->ipykernel>=4.7->ipympl) (3.0.5)\n",
      "Requirement already satisfied: widgetsnbextension~=3.5.0 in c:\\users\\prannaya\\appdata\\local\\programs\\python\\python37\\lib\\site-packages (from ipywidgets>=7.5.0->ipympl) (3.5.1)\n",
      "Requirement already satisfied: nbformat>=4.2.0 in c:\\users\\prannaya\\appdata\\local\\programs\\python\\python37\\lib\\site-packages (from ipywidgets>=7.5.0->ipympl) (5.0.6)\n",
      "Requirement already satisfied: parso>=0.7.0 in c:\\users\\prannaya\\appdata\\local\\programs\\python\\python37\\lib\\site-packages (from jedi>=0.10->ipython>=5.0.0->ipykernel>=4.7->ipympl) (0.7.0)\n",
      "Requirement already satisfied: cycler>=0.10 in c:\\users\\prannaya\\appdata\\local\\programs\\python\\python37\\lib\\site-packages (from matplotlib>=2.0.0->ipympl) (0.10.0)\n",
      "Requirement already satisfied: pillow>=6.2.0 in c:\\users\\prannaya\\appdata\\roaming\\python\\python37\\site-packages (from matplotlib>=2.0.0->ipympl) (8.2.0)\n",
      "Requirement already satisfied: python-dateutil>=2.7 in c:\\users\\prannaya\\appdata\\local\\programs\\python\\python37\\lib\\site-packages (from matplotlib>=2.0.0->ipympl) (2.8.1)\n",
      "Requirement already satisfied: kiwisolver>=1.0.1 in c:\\users\\prannaya\\appdata\\local\\programs\\python\\python37\\lib\\site-packages (from matplotlib>=2.0.0->ipympl) (1.2.0)\n",
      "Requirement already satisfied: numpy>=1.16 in c:\\users\\prannaya\\appdata\\roaming\\python\\python37\\site-packages (from matplotlib>=2.0.0->ipympl) (1.20.3)\n",
      "Requirement already satisfied: pyparsing>=2.2.1 in c:\\users\\prannaya\\appdata\\local\\programs\\python\\python37\\lib\\site-packages (from matplotlib>=2.0.0->ipympl) (2.4.7)\n",
      "Requirement already satisfied: six in c:\\users\\prannaya\\appdata\\local\\programs\\python\\python37\\lib\\site-packages (from cycler>=0.10->matplotlib>=2.0.0->ipympl) (1.12.0)\n",
      "Requirement already satisfied: jupyter-core in c:\\users\\prannaya\\appdata\\local\\programs\\python\\python37\\lib\\site-packages (from nbformat>=4.2.0->ipywidgets>=7.5.0->ipympl) (4.6.3)\n",
      "Requirement already satisfied: ipython-genutils in c:\\users\\prannaya\\appdata\\local\\programs\\python\\python37\\lib\\site-packages (from nbformat>=4.2.0->ipywidgets>=7.5.0->ipympl) (0.2.0)\n",
      "Requirement already satisfied: jsonschema!=2.5.0,>=2.4 in c:\\users\\prannaya\\appdata\\local\\programs\\python\\python37\\lib\\site-packages (from nbformat>=4.2.0->ipywidgets>=7.5.0->ipympl) (3.2.0)\n",
      "Requirement already satisfied: pyrsistent>=0.14.0 in c:\\users\\prannaya\\appdata\\local\\programs\\python\\python37\\lib\\site-packages (from jsonschema!=2.5.0,>=2.4->nbformat>=4.2.0->ipywidgets>=7.5.0->ipympl) (0.16.0)\n",
      "Requirement already satisfied: attrs>=17.4.0 in c:\\users\\prannaya\\appdata\\local\\programs\\python\\python37\\lib\\site-packages (from jsonschema!=2.5.0,>=2.4->nbformat>=4.2.0->ipywidgets>=7.5.0->ipympl) (19.3.0)\n",
      "Requirement already satisfied: importlib-metadata in c:\\users\\prannaya\\appdata\\local\\programs\\python\\python37\\lib\\site-packages (from jsonschema!=2.5.0,>=2.4->nbformat>=4.2.0->ipywidgets>=7.5.0->ipympl) (1.7.0)\n",
      "Requirement already satisfied: wcwidth in c:\\users\\prannaya\\appdata\\local\\programs\\python\\python37\\lib\\site-packages (from prompt-toolkit!=3.0.0,!=3.0.1,<3.1.0,>=2.0.0->ipython>=5.0.0->ipykernel>=4.7->ipympl) (0.1.7)\n",
      "Requirement already satisfied: notebook>=4.4.1 in c:\\users\\prannaya\\appdata\\local\\programs\\python\\python37\\lib\\site-packages (from widgetsnbextension~=3.5.0->ipywidgets>=7.5.0->ipympl) (6.0.3)\n",
      "Requirement already satisfied: nbconvert in c:\\users\\prannaya\\appdata\\local\\programs\\python\\python37\\lib\\site-packages (from notebook>=4.4.1->widgetsnbextension~=3.5.0->ipywidgets>=7.5.0->ipympl) (5.6.1)\n",
      "Requirement already satisfied: Send2Trash in c:\\users\\prannaya\\appdata\\local\\programs\\python\\python37\\lib\\site-packages (from notebook>=4.4.1->widgetsnbextension~=3.5.0->ipywidgets>=7.5.0->ipympl) (1.5.0)\n",
      "Requirement already satisfied: pyzmq>=17 in c:\\users\\prannaya\\appdata\\local\\programs\\python\\python37\\lib\\site-packages (from notebook>=4.4.1->widgetsnbextension~=3.5.0->ipywidgets>=7.5.0->ipympl) (19.0.1)\n",
      "Requirement already satisfied: terminado>=0.8.1 in c:\\users\\prannaya\\appdata\\roaming\\python\\python37\\site-packages (from notebook>=4.4.1->widgetsnbextension~=3.5.0->ipywidgets>=7.5.0->ipympl) (0.10.1)\n",
      "Requirement already satisfied: prometheus-client in c:\\users\\prannaya\\appdata\\local\\programs\\python\\python37\\lib\\site-packages (from notebook>=4.4.1->widgetsnbextension~=3.5.0->ipywidgets>=7.5.0->ipympl) (0.8.0)\n",
      "Requirement already satisfied: jinja2 in c:\\users\\prannaya\\appdata\\local\\programs\\python\\python37\\lib\\site-packages (from notebook>=4.4.1->widgetsnbextension~=3.5.0->ipywidgets>=7.5.0->ipympl) (2.11.2)\n",
      "Requirement already satisfied: pywin32>=1.0 in c:\\users\\prannaya\\appdata\\local\\programs\\python\\python37\\lib\\site-packages (from jupyter-core->nbformat>=4.2.0->ipywidgets>=7.5.0->ipympl) (227)\n",
      "Requirement already satisfied: pywinpty>=1.1.0 in c:\\users\\prannaya\\appdata\\roaming\\python\\python37\\site-packages (from terminado>=0.8.1->notebook>=4.4.1->widgetsnbextension~=3.5.0->ipywidgets>=7.5.0->ipympl) (1.1.3)\n",
      "Requirement already satisfied: zipp>=0.5 in c:\\users\\prannaya\\appdata\\local\\programs\\python\\python37\\lib\\site-packages (from importlib-metadata->jsonschema!=2.5.0,>=2.4->nbformat>=4.2.0->ipywidgets>=7.5.0->ipympl) (0.6.0)\n",
      "Requirement already satisfied: more-itertools in c:\\users\\prannaya\\appdata\\local\\programs\\python\\python37\\lib\\site-packages (from zipp>=0.5->importlib-metadata->jsonschema!=2.5.0,>=2.4->nbformat>=4.2.0->ipywidgets>=7.5.0->ipympl) (8.3.0)\n",
      "Requirement already satisfied: MarkupSafe>=0.23 in c:\\users\\prannaya\\appdata\\local\\programs\\python\\python37\\lib\\site-packages (from jinja2->notebook>=4.4.1->widgetsnbextension~=3.5.0->ipywidgets>=7.5.0->ipympl) (1.1.1)\n",
      "Requirement already satisfied: mistune<2,>=0.8.1 in c:\\users\\prannaya\\appdata\\local\\programs\\python\\python37\\lib\\site-packages (from nbconvert->notebook>=4.4.1->widgetsnbextension~=3.5.0->ipywidgets>=7.5.0->ipympl) (0.8.4)\n",
      "Requirement already satisfied: pandocfilters>=1.4.1 in c:\\users\\prannaya\\appdata\\local\\programs\\python\\python37\\lib\\site-packages (from nbconvert->notebook>=4.4.1->widgetsnbextension~=3.5.0->ipywidgets>=7.5.0->ipympl) (1.4.2)\n",
      "Requirement already satisfied: bleach in c:\\users\\prannaya\\appdata\\local\\programs\\python\\python37\\lib\\site-packages (from nbconvert->notebook>=4.4.1->widgetsnbextension~=3.5.0->ipywidgets>=7.5.0->ipympl) (3.1.5)\n",
      "Requirement already satisfied: entrypoints>=0.2.2 in c:\\users\\prannaya\\appdata\\local\\programs\\python\\python37\\lib\\site-packages (from nbconvert->notebook>=4.4.1->widgetsnbextension~=3.5.0->ipywidgets>=7.5.0->ipympl) (0.3)\n",
      "Requirement already satisfied: testpath in c:\\users\\prannaya\\appdata\\local\\programs\\python\\python37\\lib\\site-packages (from nbconvert->notebook>=4.4.1->widgetsnbextension~=3.5.0->ipywidgets>=7.5.0->ipympl) (0.4.2)\n",
      "Requirement already satisfied: defusedxml in c:\\users\\prannaya\\appdata\\local\\programs\\python\\python37\\lib\\site-packages (from nbconvert->notebook>=4.4.1->widgetsnbextension~=3.5.0->ipywidgets>=7.5.0->ipympl) (0.6.0)\n",
      "Requirement already satisfied: packaging in c:\\users\\prannaya\\appdata\\local\\programs\\python\\python37\\lib\\site-packages (from bleach->nbconvert->notebook>=4.4.1->widgetsnbextension~=3.5.0->ipywidgets>=7.5.0->ipympl) (20.4)\n",
      "Requirement already satisfied: webencodings in c:\\users\\prannaya\\appdata\\local\\programs\\python\\python37\\lib\\site-packages (from bleach->nbconvert->notebook>=4.4.1->widgetsnbextension~=3.5.0->ipywidgets>=7.5.0->ipympl) (0.5.1)\n"
     ]
    },
    {
     "data": {
      "application/vnd.jupyter.widget-view+json": {
       "model_id": "7fe0c551d855492dad63d76095f0602b",
       "version_major": 2,
       "version_minor": 0
      },
      "text/plain": [
       "Canvas(toolbar=Toolbar(toolitems=[('Home', 'Reset original view', 'home', 'home'), ('Back', 'Back to previous …"
      ]
     },
     "metadata": {},
     "output_type": "display_data"
    }
   ],
   "source": [
    "# Enabling the `widget` backend.\n",
    "# This requires jupyter-matplotlib a.k.a. ipympl.\n",
    "# ipympl can be install via pip or conda.\n",
    "!pip install ipympl\n",
    "%matplotlib widget\n",
    "\n",
    "# Testing matplotlib interactions with a simple plot\n",
    "fig = plt.figure()\n",
    "fig.canvas.header_visible = False # Hide the Figure name at the top of the figure\n",
    "fig.canvas.toolbar_visible = True"
   ]
  },
  {
   "cell_type": "code",
   "execution_count": 4,
   "metadata": {},
   "outputs": [],
   "source": [
    "binarystars = pd.read_csv(\"../data/binarystars.csv\").rename(columns={\"KIC\": \"id\"}).set_index(\"id\")\n",
    "configs = pd.read_csv(\"../data/binaryconfigs.csv\")\n",
    "configs.columns = [\"id\", \"period\", \"duration\", \"depth\"]\n",
    "configs = configs.set_index(\"id\")"
   ]
  },
  {
   "cell_type": "markdown",
   "metadata": {},
   "source": [
    "### Kepler Eclipsing Binary Catalog"
   ]
  },
  {
   "cell_type": "code",
   "execution_count": 5,
   "metadata": {},
   "outputs": [
    {
     "data": {
      "text/html": [
       "<div>\n",
       "<style scoped>\n",
       "    .dataframe tbody tr th:only-of-type {\n",
       "        vertical-align: middle;\n",
       "    }\n",
       "\n",
       "    .dataframe tbody tr th {\n",
       "        vertical-align: top;\n",
       "    }\n",
       "\n",
       "    .dataframe thead th {\n",
       "        text-align: right;\n",
       "    }\n",
       "</style>\n",
       "<table border=\"1\" class=\"dataframe\">\n",
       "  <thead>\n",
       "    <tr style=\"text-align: right;\">\n",
       "      <th></th>\n",
       "      <th>period</th>\n",
       "      <th>period_err</th>\n",
       "      <th>bjd0</th>\n",
       "      <th>bjd0_err</th>\n",
       "      <th>morph</th>\n",
       "      <th>GLon</th>\n",
       "      <th>GLat</th>\n",
       "      <th>kmag</th>\n",
       "      <th>Teff</th>\n",
       "      <th>SC</th>\n",
       "    </tr>\n",
       "    <tr>\n",
       "      <th>id</th>\n",
       "      <th></th>\n",
       "      <th></th>\n",
       "      <th></th>\n",
       "      <th></th>\n",
       "      <th></th>\n",
       "      <th></th>\n",
       "      <th></th>\n",
       "      <th></th>\n",
       "      <th></th>\n",
       "      <th></th>\n",
       "    </tr>\n",
       "  </thead>\n",
       "  <tbody>\n",
       "    <tr>\n",
       "      <th>3863594</th>\n",
       "      <td>0.053268</td>\n",
       "      <td>0.0</td>\n",
       "      <td>55000.000000</td>\n",
       "      <td>0.004327</td>\n",
       "      <td>0.79</td>\n",
       "      <td>-1.0000</td>\n",
       "      <td>-1.0000</td>\n",
       "      <td>-1.000</td>\n",
       "      <td>-1.0</td>\n",
       "      <td>False</td>\n",
       "    </tr>\n",
       "    <tr>\n",
       "      <th>10417986</th>\n",
       "      <td>0.073731</td>\n",
       "      <td>0.0</td>\n",
       "      <td>55000.027476</td>\n",
       "      <td>0.004231</td>\n",
       "      <td>0.99</td>\n",
       "      <td>81.0390</td>\n",
       "      <td>11.0820</td>\n",
       "      <td>9.128</td>\n",
       "      <td>-1.0</td>\n",
       "      <td>True</td>\n",
       "    </tr>\n",
       "    <tr>\n",
       "      <th>8912468</th>\n",
       "      <td>0.094838</td>\n",
       "      <td>0.0</td>\n",
       "      <td>54953.576945</td>\n",
       "      <td>0.005326</td>\n",
       "      <td>0.98</td>\n",
       "      <td>80.1095</td>\n",
       "      <td>7.8882</td>\n",
       "      <td>11.751</td>\n",
       "      <td>6194.0</td>\n",
       "      <td>False</td>\n",
       "    </tr>\n",
       "    <tr>\n",
       "      <th>8758716</th>\n",
       "      <td>0.107205</td>\n",
       "      <td>0.0</td>\n",
       "      <td>54953.672989</td>\n",
       "      <td>0.006197</td>\n",
       "      <td>1.00</td>\n",
       "      <td>77.7478</td>\n",
       "      <td>11.6565</td>\n",
       "      <td>13.531</td>\n",
       "      <td>-1.0</td>\n",
       "      <td>False</td>\n",
       "    </tr>\n",
       "    <tr>\n",
       "      <th>10855535</th>\n",
       "      <td>0.112782</td>\n",
       "      <td>0.0</td>\n",
       "      <td>54964.629315</td>\n",
       "      <td>0.006374</td>\n",
       "      <td>0.99</td>\n",
       "      <td>79.3949</td>\n",
       "      <td>15.9212</td>\n",
       "      <td>13.870</td>\n",
       "      <td>7555.0</td>\n",
       "      <td>False</td>\n",
       "    </tr>\n",
       "    <tr>\n",
       "      <th>...</th>\n",
       "      <td>...</td>\n",
       "      <td>...</td>\n",
       "      <td>...</td>\n",
       "      <td>...</td>\n",
       "      <td>...</td>\n",
       "      <td>...</td>\n",
       "      <td>...</td>\n",
       "      <td>...</td>\n",
       "      <td>...</td>\n",
       "      <td>...</td>\n",
       "    </tr>\n",
       "    <tr>\n",
       "      <th>9408440</th>\n",
       "      <td>989.985000</td>\n",
       "      <td>-1.0</td>\n",
       "      <td>55346.365980</td>\n",
       "      <td>0.096130</td>\n",
       "      <td>0.00</td>\n",
       "      <td>78.5607</td>\n",
       "      <td>12.2615</td>\n",
       "      <td>13.199</td>\n",
       "      <td>5688.0</td>\n",
       "      <td>False</td>\n",
       "    </tr>\n",
       "    <tr>\n",
       "      <th>8054233</th>\n",
       "      <td>1058.000000</td>\n",
       "      <td>-1.0</td>\n",
       "      <td>54751.806288</td>\n",
       "      <td>0.968052</td>\n",
       "      <td>0.03</td>\n",
       "      <td>78.6142</td>\n",
       "      <td>7.7321</td>\n",
       "      <td>11.783</td>\n",
       "      <td>4733.0</td>\n",
       "      <td>False</td>\n",
       "    </tr>\n",
       "    <tr>\n",
       "      <th>7672940</th>\n",
       "      <td>1064.270000</td>\n",
       "      <td>-1.0</td>\n",
       "      <td>54977.092960</td>\n",
       "      <td>0.089646</td>\n",
       "      <td>0.00</td>\n",
       "      <td>74.5296</td>\n",
       "      <td>14.6136</td>\n",
       "      <td>12.328</td>\n",
       "      <td>-1.0</td>\n",
       "      <td>False</td>\n",
       "    </tr>\n",
       "    <tr>\n",
       "      <th>11961695</th>\n",
       "      <td>1082.815000</td>\n",
       "      <td>-1.0</td>\n",
       "      <td>54871.395674</td>\n",
       "      <td>0.211754</td>\n",
       "      <td>0.02</td>\n",
       "      <td>81.8628</td>\n",
       "      <td>15.9404</td>\n",
       "      <td>13.718</td>\n",
       "      <td>5768.0</td>\n",
       "      <td>False</td>\n",
       "    </tr>\n",
       "    <tr>\n",
       "      <th>4360072</th>\n",
       "      <td>1087.300000</td>\n",
       "      <td>-1.0</td>\n",
       "      <td>55165.611684</td>\n",
       "      <td>1.147790</td>\n",
       "      <td>0.05</td>\n",
       "      <td>71.5008</td>\n",
       "      <td>11.7046</td>\n",
       "      <td>11.159</td>\n",
       "      <td>4950.0</td>\n",
       "      <td>False</td>\n",
       "    </tr>\n",
       "  </tbody>\n",
       "</table>\n",
       "<p>2922 rows × 10 columns</p>\n",
       "</div>"
      ],
      "text/plain": [
       "               period  period_err          bjd0  bjd0_err  morph     GLon  \\\n",
       "id                                                                          \n",
       "3863594      0.053268         0.0  55000.000000  0.004327   0.79  -1.0000   \n",
       "10417986     0.073731         0.0  55000.027476  0.004231   0.99  81.0390   \n",
       "8912468      0.094838         0.0  54953.576945  0.005326   0.98  80.1095   \n",
       "8758716      0.107205         0.0  54953.672989  0.006197   1.00  77.7478   \n",
       "10855535     0.112782         0.0  54964.629315  0.006374   0.99  79.3949   \n",
       "...               ...         ...           ...       ...    ...      ...   \n",
       "9408440    989.985000        -1.0  55346.365980  0.096130   0.00  78.5607   \n",
       "8054233   1058.000000        -1.0  54751.806288  0.968052   0.03  78.6142   \n",
       "7672940   1064.270000        -1.0  54977.092960  0.089646   0.00  74.5296   \n",
       "11961695  1082.815000        -1.0  54871.395674  0.211754   0.02  81.8628   \n",
       "4360072   1087.300000        -1.0  55165.611684  1.147790   0.05  71.5008   \n",
       "\n",
       "             GLat    kmag    Teff     SC  \n",
       "id                                        \n",
       "3863594   -1.0000  -1.000    -1.0  False  \n",
       "10417986  11.0820   9.128    -1.0   True  \n",
       "8912468    7.8882  11.751  6194.0  False  \n",
       "8758716   11.6565  13.531    -1.0  False  \n",
       "10855535  15.9212  13.870  7555.0  False  \n",
       "...           ...     ...     ...    ...  \n",
       "9408440   12.2615  13.199  5688.0  False  \n",
       "8054233    7.7321  11.783  4733.0  False  \n",
       "7672940   14.6136  12.328    -1.0  False  \n",
       "11961695  15.9404  13.718  5768.0  False  \n",
       "4360072   11.7046  11.159  4950.0  False  \n",
       "\n",
       "[2922 rows x 10 columns]"
      ]
     },
     "execution_count": 5,
     "metadata": {},
     "output_type": "execute_result"
    }
   ],
   "source": [
    "binarystars"
   ]
  },
  {
   "cell_type": "code",
   "execution_count": 6,
   "metadata": {},
   "outputs": [
    {
     "data": {
      "text/html": [
       "<div>\n",
       "<style scoped>\n",
       "    .dataframe tbody tr th:only-of-type {\n",
       "        vertical-align: middle;\n",
       "    }\n",
       "\n",
       "    .dataframe tbody tr th {\n",
       "        vertical-align: top;\n",
       "    }\n",
       "\n",
       "    .dataframe thead th {\n",
       "        text-align: right;\n",
       "    }\n",
       "</style>\n",
       "<table border=\"1\" class=\"dataframe\">\n",
       "  <thead>\n",
       "    <tr style=\"text-align: right;\">\n",
       "      <th></th>\n",
       "      <th>period</th>\n",
       "      <th>duration</th>\n",
       "      <th>depth</th>\n",
       "    </tr>\n",
       "    <tr>\n",
       "      <th>id</th>\n",
       "      <th></th>\n",
       "      <th></th>\n",
       "      <th></th>\n",
       "    </tr>\n",
       "  </thead>\n",
       "  <tbody>\n",
       "    <tr>\n",
       "      <th>1295531</th>\n",
       "      <td>72815.186670</td>\n",
       "      <td>28512.0</td>\n",
       "      <td>0.007980</td>\n",
       "    </tr>\n",
       "    <tr>\n",
       "      <th>1572353</th>\n",
       "      <td>39557.400754</td>\n",
       "      <td>4320.0</td>\n",
       "      <td>0.047896</td>\n",
       "    </tr>\n",
       "    <tr>\n",
       "      <th>1573836</th>\n",
       "      <td>102536.652246</td>\n",
       "      <td>28512.0</td>\n",
       "      <td>0.000168</td>\n",
       "    </tr>\n",
       "    <tr>\n",
       "      <th>1868650</th>\n",
       "      <td>28628.333735</td>\n",
       "      <td>28512.0</td>\n",
       "      <td>0.000121</td>\n",
       "    </tr>\n",
       "    <tr>\n",
       "      <th>2012362</th>\n",
       "      <td>33343.846896</td>\n",
       "      <td>28512.0</td>\n",
       "      <td>0.011891</td>\n",
       "    </tr>\n",
       "    <tr>\n",
       "      <th>...</th>\n",
       "      <td>...</td>\n",
       "      <td>...</td>\n",
       "      <td>...</td>\n",
       "    </tr>\n",
       "    <tr>\n",
       "      <th>12508348</th>\n",
       "      <td>33115.084997</td>\n",
       "      <td>28512.0</td>\n",
       "      <td>0.002751</td>\n",
       "    </tr>\n",
       "    <tr>\n",
       "      <th>12554536</th>\n",
       "      <td>59151.892424</td>\n",
       "      <td>8640.0</td>\n",
       "      <td>0.227355</td>\n",
       "    </tr>\n",
       "    <tr>\n",
       "      <th>12598713</th>\n",
       "      <td>33328.499216</td>\n",
       "      <td>28512.0</td>\n",
       "      <td>0.011091</td>\n",
       "    </tr>\n",
       "    <tr>\n",
       "      <th>12599700</th>\n",
       "      <td>88040.845218</td>\n",
       "      <td>28512.0</td>\n",
       "      <td>0.038670</td>\n",
       "    </tr>\n",
       "    <tr>\n",
       "      <th>12785282</th>\n",
       "      <td>34046.564620</td>\n",
       "      <td>8640.0</td>\n",
       "      <td>0.084576</td>\n",
       "    </tr>\n",
       "  </tbody>\n",
       "</table>\n",
       "<p>1279 rows × 3 columns</p>\n",
       "</div>"
      ],
      "text/plain": [
       "                 period  duration     depth\n",
       "id                                         \n",
       "1295531    72815.186670   28512.0  0.007980\n",
       "1572353    39557.400754    4320.0  0.047896\n",
       "1573836   102536.652246   28512.0  0.000168\n",
       "1868650    28628.333735   28512.0  0.000121\n",
       "2012362    33343.846896   28512.0  0.011891\n",
       "...                 ...       ...       ...\n",
       "12508348   33115.084997   28512.0  0.002751\n",
       "12554536   59151.892424    8640.0  0.227355\n",
       "12598713   33328.499216   28512.0  0.011091\n",
       "12599700   88040.845218   28512.0  0.038670\n",
       "12785282   34046.564620    8640.0  0.084576\n",
       "\n",
       "[1279 rows x 3 columns]"
      ]
     },
     "execution_count": 6,
     "metadata": {},
     "output_type": "execute_result"
    }
   ],
   "source": [
    "def day2seconds(s):\n",
    "    if type(s) in [float, int]:\n",
    "        return s * 86400\n",
    "    return float(s[:-2]) * 86400\n",
    "\n",
    "configs[\"period\"] = configs.period.apply(day2seconds)\n",
    "configs[\"duration\"] = configs.duration.apply(day2seconds)\n",
    "configs = configs.dropna().sort_index()\n",
    "configs"
   ]
  },
  {
   "cell_type": "markdown",
   "metadata": {},
   "source": [
    "## EDA\n",
    "Exploratory Data Analysis"
   ]
  },
  {
   "cell_type": "markdown",
   "metadata": {},
   "source": [
    "### Constants"
   ]
  },
  {
   "cell_type": "code",
   "execution_count": 7,
   "metadata": {},
   "outputs": [],
   "source": [
    "n = len(configs)\n",
    "bins = int(np.sqrt(n))\n",
    "\n",
    "periods = configs.period\n",
    "durations = configs.duration\n",
    "depths = configs.depth\n",
    "\n",
    "percentiles = np.array([2.5, 25, 50, 75, 97.5])"
   ]
  },
  {
   "cell_type": "markdown",
   "metadata": {},
   "source": [
    "### Summary Statistics"
   ]
  },
  {
   "cell_type": "code",
   "execution_count": 8,
   "metadata": {},
   "outputs": [],
   "source": [
    "mu_period = periods.mean()\n",
    "sigma_period = periods.std()\n",
    "var_period = np.var(periods)\n",
    "ptiles_per = np.percentile(periods, percentiles)\n",
    "\n",
    "mu_duration = durations.mean()\n",
    "sigma_duration = durations.std()\n",
    "var_duration = np.var(durations)\n",
    "ptiles_dur = np.percentile(durations, percentiles)\n",
    "\n",
    "mu_depth = depths.mean()\n",
    "sigma_duration = depths.std()\n",
    "var_depth = np.var(depths)\n",
    "ptiles_dep = np.percentile(depths, percentiles)"
   ]
  },
  {
   "cell_type": "markdown",
   "metadata": {},
   "source": [
    "### Functions"
   ]
  },
  {
   "cell_type": "code",
   "execution_count": 9,
   "metadata": {},
   "outputs": [],
   "source": [
    "def ecdf(data):\n",
    "    \"\"\"Compute ECDF for a one-dimensional array of measurements.\"\"\"\n",
    "    # Number of data points: n\n",
    "    n = len(data)\n",
    "\n",
    "    # x-data for the ECDF: x\n",
    "    x = np.sort(data)\n",
    "\n",
    "    # y-data for the ECDF: y\n",
    "    y = np.arange(1, n+1) / n\n",
    "\n",
    "    return x, y\n",
    "\n",
    "def plot_hist(data, xlabel, ylabel=\"count\", bins=bins, ax=None, **kwargs):\n",
    "    if not ax:\n",
    "        fig = plt.figure(figsize=(16, 12))\n",
    "        ax = fig.add_subplot(111)\n",
    "    \n",
    "    ax.hist(data, bins=bins, **kwargs)\n",
    "    ax.set_xlabel(xlabel)\n",
    "    ax.set_ylabel(ylabel)\n",
    "    plt.show()\n",
    "\n",
    "    \n",
    "def plot_ecdf(data, xlabel, ptiles, ylabel=\"ECDF\", ax=None, marker=\".\", linestyle=\"none\", **kwargs):\n",
    "    if not ax:\n",
    "        fig = plt.figure(figsize=(16, 12))\n",
    "        ax = fig.add_subplot(111)\n",
    "        \n",
    "    # Retrive ECDF\n",
    "    x, y = ecdf(data)\n",
    "\n",
    "    # Generate plot\n",
    "    ax.plot(x, y, marker=marker, linestyle=linestyle, **kwargs)\n",
    "\n",
    "    # Label the axes\n",
    "    ax.set_xlabel(xlabel)\n",
    "    ax.set_ylabel(ylabel)\n",
    "    \n",
    "    ax.plot(ptiles, percentiles/100, marker='D', color='red',\n",
    "         linestyle=\"none\")\n",
    "\n",
    "    # Display the plot\n",
    "    plt.show()"
   ]
  },
  {
   "cell_type": "markdown",
   "metadata": {},
   "source": [
    "### Graphical EDA\n",
    "#### Histograms"
   ]
  },
  {
   "cell_type": "code",
   "execution_count": 10,
   "metadata": {},
   "outputs": [
    {
     "data": {
      "application/vnd.jupyter.widget-view+json": {
       "model_id": "090b7682b25240b396faed0139e54c53",
       "version_major": 2,
       "version_minor": 0
      },
      "text/plain": [
       "Canvas(toolbar=Toolbar(toolitems=[('Home', 'Reset original view', 'home', 'home'), ('Back', 'Back to previous …"
      ]
     },
     "metadata": {},
     "output_type": "display_data"
    }
   ],
   "source": [
    "plot_hist(periods, \"Period\")"
   ]
  },
  {
   "cell_type": "code",
   "execution_count": 11,
   "metadata": {},
   "outputs": [
    {
     "data": {
      "application/vnd.jupyter.widget-view+json": {
       "model_id": "7e2e3309bcdd4464b5233431a7a4fb65",
       "version_major": 2,
       "version_minor": 0
      },
      "text/plain": [
       "Canvas(toolbar=Toolbar(toolitems=[('Home', 'Reset original view', 'home', 'home'), ('Back', 'Back to previous …"
      ]
     },
     "metadata": {},
     "output_type": "display_data"
    }
   ],
   "source": [
    "plot_hist(durations, \"Duration\")"
   ]
  },
  {
   "cell_type": "code",
   "execution_count": 12,
   "metadata": {},
   "outputs": [
    {
     "data": {
      "application/vnd.jupyter.widget-view+json": {
       "model_id": "d9d9028f4f4245c7bd1383270e9eb539",
       "version_major": 2,
       "version_minor": 0
      },
      "text/plain": [
       "Canvas(toolbar=Toolbar(toolitems=[('Home', 'Reset original view', 'home', 'home'), ('Back', 'Back to previous …"
      ]
     },
     "metadata": {},
     "output_type": "display_data"
    }
   ],
   "source": [
    "plot_hist(depths, \"Depth\")"
   ]
  },
  {
   "cell_type": "markdown",
   "metadata": {},
   "source": [
    "#### ECDF"
   ]
  },
  {
   "cell_type": "code",
   "execution_count": 13,
   "metadata": {},
   "outputs": [
    {
     "data": {
      "application/vnd.jupyter.widget-view+json": {
       "model_id": "86cc633b3b0c4c0585f3ae84a14b86f0",
       "version_major": 2,
       "version_minor": 0
      },
      "text/plain": [
       "Canvas(toolbar=Toolbar(toolitems=[('Home', 'Reset original view', 'home', 'home'), ('Back', 'Back to previous …"
      ]
     },
     "metadata": {},
     "output_type": "display_data"
    }
   ],
   "source": [
    "plot_ecdf(periods, \"Period\", ptiles_per)"
   ]
  },
  {
   "cell_type": "code",
   "execution_count": 14,
   "metadata": {},
   "outputs": [
    {
     "data": {
      "application/vnd.jupyter.widget-view+json": {
       "model_id": "852b6bc385024389beccade2c1e06708",
       "version_major": 2,
       "version_minor": 0
      },
      "text/plain": [
       "Canvas(toolbar=Toolbar(toolitems=[('Home', 'Reset original view', 'home', 'home'), ('Back', 'Back to previous …"
      ]
     },
     "metadata": {},
     "output_type": "display_data"
    }
   ],
   "source": [
    "plot_ecdf(durations, \"Duration\", ptiles_dur)"
   ]
  },
  {
   "cell_type": "code",
   "execution_count": 15,
   "metadata": {},
   "outputs": [
    {
     "data": {
      "application/vnd.jupyter.widget-view+json": {
       "model_id": "b98630dfb0cb49bda856fbde64f8f9b6",
       "version_major": 2,
       "version_minor": 0
      },
      "text/plain": [
       "Canvas(toolbar=Toolbar(toolitems=[('Home', 'Reset original view', 'home', 'home'), ('Back', 'Back to previous …"
      ]
     },
     "metadata": {},
     "output_type": "display_data"
    }
   ],
   "source": [
    "plot_ecdf(depths, \"Depth\", ptiles_dep)"
   ]
  },
  {
   "cell_type": "markdown",
   "metadata": {},
   "source": [
    "### Quantitative EDA"
   ]
  },
  {
   "cell_type": "markdown",
   "metadata": {},
   "source": [
    "#### Covariance"
   ]
  },
  {
   "cell_type": "code",
   "execution_count": 16,
   "metadata": {},
   "outputs": [],
   "source": [
    "cov_perdur = np.cov(periods, durations)\n",
    "cov_perdep = np.cov(periods, depths)\n",
    "cov_durdep = np.cov(durations, depths)"
   ]
  },
  {
   "cell_type": "markdown",
   "metadata": {},
   "source": [
    "#### Correlation"
   ]
  },
  {
   "cell_type": "code",
   "execution_count": 17,
   "metadata": {},
   "outputs": [
    {
     "data": {
      "text/html": [
       "<div>\n",
       "<style scoped>\n",
       "    .dataframe tbody tr th:only-of-type {\n",
       "        vertical-align: middle;\n",
       "    }\n",
       "\n",
       "    .dataframe tbody tr th {\n",
       "        vertical-align: top;\n",
       "    }\n",
       "\n",
       "    .dataframe thead th {\n",
       "        text-align: right;\n",
       "    }\n",
       "</style>\n",
       "<table border=\"1\" class=\"dataframe\">\n",
       "  <thead>\n",
       "    <tr style=\"text-align: right;\">\n",
       "      <th></th>\n",
       "      <th>period</th>\n",
       "      <th>duration</th>\n",
       "      <th>depth</th>\n",
       "    </tr>\n",
       "  </thead>\n",
       "  <tbody>\n",
       "    <tr>\n",
       "      <th>period</th>\n",
       "      <td>1.000000</td>\n",
       "      <td>-0.202105</td>\n",
       "      <td>0.019205</td>\n",
       "    </tr>\n",
       "    <tr>\n",
       "      <th>duration</th>\n",
       "      <td>-0.202105</td>\n",
       "      <td>1.000000</td>\n",
       "      <td>-0.180927</td>\n",
       "    </tr>\n",
       "    <tr>\n",
       "      <th>depth</th>\n",
       "      <td>0.019205</td>\n",
       "      <td>-0.180927</td>\n",
       "      <td>1.000000</td>\n",
       "    </tr>\n",
       "  </tbody>\n",
       "</table>\n",
       "</div>"
      ],
      "text/plain": [
       "            period  duration     depth\n",
       "period    1.000000 -0.202105  0.019205\n",
       "duration -0.202105  1.000000 -0.180927\n",
       "depth     0.019205 -0.180927  1.000000"
      ]
     },
     "execution_count": 17,
     "metadata": {},
     "output_type": "execute_result"
    }
   ],
   "source": [
    "configs.corr()"
   ]
  },
  {
   "cell_type": "code",
   "execution_count": 18,
   "metadata": {},
   "outputs": [
    {
     "data": {
      "application/vnd.jupyter.widget-view+json": {
       "model_id": "6bf2b576783548b58710e5cc7b047001",
       "version_major": 2,
       "version_minor": 0
      },
      "text/plain": [
       "Canvas(toolbar=Toolbar(toolitems=[('Home', 'Reset original view', 'home', 'home'), ('Back', 'Back to previous …"
      ]
     },
     "metadata": {},
     "output_type": "display_data"
    }
   ],
   "source": [
    "plt.figure(figsize=(16, 12))\n",
    "heatmap = sns.heatmap(configs.corr(), vmin=-1, vmax=1, annot=True)\n",
    "heatmap.set_title('Correlation Heatmap', fontdict={'fontsize':18}, pad=12)\n",
    "plt.show()"
   ]
  },
  {
   "cell_type": "markdown",
   "metadata": {},
   "source": [
    "#### Pearson Coefficient"
   ]
  },
  {
   "cell_type": "code",
   "execution_count": 19,
   "metadata": {},
   "outputs": [],
   "source": [
    "def pearson_r(x, y):\n",
    "    \"\"\"Compute Pearson correlation coefficient between two arrays.\"\"\"\n",
    "    corr_mat = np.corrcoef(x, y)\n",
    "    return corr_mat[0,1]\n",
    "\n",
    "pearson_perdur = pearson_r(periods, durations)\n",
    "pearson_perdep = pearson_r(periods, depths)\n",
    "pearson_durdep = pearson_r(durations, depths)"
   ]
  },
  {
   "cell_type": "markdown",
   "metadata": {},
   "source": [
    "## Signal Processing"
   ]
  },
  {
   "cell_type": "code",
   "execution_count": 29,
   "metadata": {},
   "outputs": [],
   "source": [
    "def evaluateAndProcessData(x, y):\n",
    "    t, c, k = interpolate.splrep(x, y, s=0, k=4)\n",
    "    xx = np.linspace(x.min(), x.max(), 100)\n",
    "    spline = interpolate.BSpline(t, c, k, extrapolate=False)\n",
    "    \n",
    "    plt.figure(figsize=(16,6))\n",
    "    plt.plot(x, y, 'bo', label='Original points')\n",
    "    plt.plot(x, y)\n",
    "    plt.plot(xx, spline(xx), 'r', label='BSpline')\n",
    "    plt.grid()\n",
    "    plt.legend(loc='best')\n",
    "    plt.show()\n",
    "    \n",
    "# Retrieving all the important details\n",
    "def getData(id):\n",
    "    try:\n",
    "        return retrieveKeplerLightCurve(id)\n",
    "    except:\n",
    "        return None\n"
   ]
  },
  {
   "cell_type": "code",
   "execution_count": 31,
   "metadata": {},
   "outputs": [
    {
     "data": {
      "text/plain": [
       "7449844"
      ]
     },
     "execution_count": 31,
     "metadata": {},
     "output_type": "execute_result"
    }
   ],
   "source": [
    "ids = list(binaryconfigs.index)\n",
    "id2 = np.random.choice(ids)\n",
    "id2"
   ]
  },
  {
   "cell_type": "code",
   "execution_count": 32,
   "metadata": {},
   "outputs": [
    {
     "data": {
      "text/html": [
       "<i>KeplerLightCurve length=110406 LABEL=&quot;KIC 7449844&quot; QUARTER=17 AUTHOR=Kepler</i>\n",
       "<table id=\"table3085382718968\" class=\"table-striped table-bordered table-condensed\">\n",
       "<thead><tr><th>time</th><th>flux</th><th>flux_err</th><th>quality</th><th>timecorr</th><th>centroid_col</th><th>centroid_row</th><th>cadenceno</th><th>sap_flux</th><th>sap_flux_err</th><th>sap_bkg</th><th>sap_bkg_err</th><th>pdcsap_flux</th><th>pdcsap_flux_err</th><th>sap_quality</th><th>psf_centr1</th><th>psf_centr1_err</th><th>psf_centr2</th><th>psf_centr2_err</th><th>mom_centr1</th><th>mom_centr1_err</th><th>mom_centr2</th><th>mom_centr2_err</th><th>pos_corr1</th><th>pos_corr2</th></tr></thead>\n",
       "<thead><tr><th></th><th></th><th></th><th></th><th>d</th><th>pix</th><th>pix</th><th></th><th>electron / s</th><th>electron / s</th><th>electron / s</th><th>electron / s</th><th>electron / s</th><th>electron / s</th><th></th><th>pix</th><th>pix</th><th>pix</th><th>pix</th><th>pix</th><th>pix</th><th>pix</th><th>pix</th><th>pix</th><th>pix</th></tr></thead>\n",
       "<thead><tr><th>object</th><th>float32</th><th>float32</th><th>int32</th><th>float32</th><th>float64</th><th>float64</th><th>int32</th><th>float32</th><th>float32</th><th>float32</th><th>float32</th><th>float32</th><th>float32</th><th>int32</th><th>float64</th><th>float32</th><th>float64</th><th>float32</th><th>float64</th><th>float32</th><th>float64</th><th>float32</th><th>float32</th><th>float32</th></tr></thead>\n",
       "<tr><td>131.51226382373716</td><td>1.0061246e+00</td><td>1.2709832e-04</td><td>0</td><td>1.270004e-03</td><td>360.91046</td><td>511.40898</td><td>1105</td><td>5.0660051e+04</td><td>6.4205713e+00</td><td>1.1918115e+03</td><td>3.4365416e-01</td><td>5.3879867e+04</td><td>6.8063540e+00</td><td>0</td><td>nan</td><td>nan</td><td>nan</td><td>nan</td><td>360.91046</td><td>1.4274896e-04</td><td>511.40898</td><td>1.4618262e-04</td><td>-2.9109626e-03</td><td>-1.4209282e-02</td></tr>\n",
       "<tr><td>131.53269840010762</td><td>1.0067688e+00</td><td>1.2709244e-04</td><td>0</td><td>1.270880e-03</td><td>360.91083</td><td>511.40919</td><td>1106</td><td>5.0671379e+04</td><td>6.4210439e+00</td><td>1.1904001e+03</td><td>3.4367025e-01</td><td>5.3914363e+04</td><td>6.8060393e+00</td><td>0</td><td>nan</td><td>nan</td><td>nan</td><td>nan</td><td>360.91083</td><td>1.4284824e-04</td><td>511.40919</td><td>1.4614535e-04</td><td>-2.9087204e-03</td><td>-1.4233068e-02</td></tr>\n",
       "<tr><td>131.5531328764846</td><td>1.0066149e+00</td><td>1.2709836e-04</td><td>0</td><td>1.271756e-03</td><td>360.91068</td><td>511.40936</td><td>1107</td><td>5.0665672e+04</td><td>6.4208636e+00</td><td>1.1920410e+03</td><td>3.4352806e-01</td><td>5.3906125e+04</td><td>6.8063564e+00</td><td>0</td><td>nan</td><td>nan</td><td>nan</td><td>nan</td><td>360.91068</td><td>1.4272633e-04</td><td>511.40936</td><td>1.4619122e-04</td><td>-2.7791162e-03</td><td>-1.4089028e-02</td></tr>\n",
       "<tr><td>131.5735672526207</td><td>1.0070796e+00</td><td>1.2711562e-04</td><td>0</td><td>1.272633e-03</td><td>360.91074</td><td>511.40945</td><td>1108</td><td>5.0693184e+04</td><td>6.4221277e+00</td><td>1.1912972e+03</td><td>3.4384197e-01</td><td>5.3931008e+04</td><td>6.8072805e+00</td><td>0</td><td>nan</td><td>nan</td><td>nan</td><td>nan</td><td>360.91074</td><td>1.4264000e-04</td><td>511.40945</td><td>1.4608621e-04</td><td>-2.5506532e-03</td><td>-1.3908224e-02</td></tr>\n",
       "<tr><td>131.59400172888127</td><td>1.0077182e+00</td><td>1.2727438e-04</td><td>0</td><td>1.273509e-03</td><td>360.91031</td><td>511.40829</td><td>1109</td><td>5.0727152e+04</td><td>6.4237919e+00</td><td>1.1916511e+03</td><td>3.4402812e-01</td><td>5.3965207e+04</td><td>6.8157830e+00</td><td>0</td><td>nan</td><td>nan</td><td>nan</td><td>nan</td><td>360.91031</td><td>1.4257627e-04</td><td>511.40829</td><td>1.4599851e-04</td><td>-2.7189055e-03</td><td>-1.4636266e-02</td></tr>\n",
       "<tr><td>131.61443630502617</td><td>1.0082084e+00</td><td>1.2725357e-04</td><td>0</td><td>1.274385e-03</td><td>360.91091</td><td>511.40860</td><td>1110</td><td>5.0756348e+04</td><td>6.4252353e+00</td><td>1.1907670e+03</td><td>3.4384146e-01</td><td>5.3991457e+04</td><td>6.8146682e+00</td><td>0</td><td>nan</td><td>nan</td><td>nan</td><td>nan</td><td>360.91091</td><td>1.4246817e-04</td><td>511.40860</td><td>1.4591723e-04</td><td>-2.7469283e-03</td><td>-1.4556367e-02</td></tr>\n",
       "<tr><td>131.63487068105314</td><td>1.0081728e+00</td><td>1.2726043e-04</td><td>0</td><td>1.275261e-03</td><td>360.91062</td><td>511.40887</td><td>1111</td><td>5.0759992e+04</td><td>6.4253817e+00</td><td>1.1892471e+03</td><td>3.4389180e-01</td><td>5.3989551e+04</td><td>6.8150358e+00</td><td>0</td><td>nan</td><td>nan</td><td>nan</td><td>nan</td><td>360.91062</td><td>1.4245333e-04</td><td>511.40887</td><td>1.4590398e-04</td><td>-2.7854952e-03</td><td>-1.4465231e-02</td></tr>\n",
       "<tr><td>131.6553051570736</td><td>1.0084233e+00</td><td>1.2736068e-04</td><td>0</td><td>1.276137e-03</td><td>360.91022</td><td>511.40841</td><td>1112</td><td>5.0777312e+04</td><td>6.4261627e+00</td><td>1.1884214e+03</td><td>3.4382558e-01</td><td>5.4002965e+04</td><td>6.8204041e+00</td><td>0</td><td>nan</td><td>nan</td><td>nan</td><td>nan</td><td>360.91022</td><td>1.4243464e-04</td><td>511.40841</td><td>1.4584478e-04</td><td>-2.9709986e-03</td><td>-1.4714237e-02</td></tr>\n",
       "<tr><td>131.6757397331021</td><td>1.0087200e+00</td><td>1.2730181e-04</td><td>0</td><td>1.277013e-03</td><td>360.91057</td><td>511.40845</td><td>1113</td><td>5.0792375e+04</td><td>6.4269619e+00</td><td>1.1904655e+03</td><td>3.4388751e-01</td><td>5.4018855e+04</td><td>6.8172517e+00</td><td>0</td><td>nan</td><td>nan</td><td>nan</td><td>nan</td><td>360.91057</td><td>1.4238874e-04</td><td>511.40845</td><td>1.4581525e-04</td><td>-2.8304576e-03</td><td>-1.4628855e-02</td></tr>\n",
       "<tr><td>...</td><td>...</td><td>...</td><td>...</td><td>...</td><td>...</td><td>...</td><td>...</td><td>...</td><td>...</td><td>...</td><td>...</td><td>...</td><td>...</td><td>...</td><td>...</td><td>...</td><td>...</td><td>...</td><td>...</td><td>...</td><td>...</td><td>...</td><td>...</td><td>...</td></tr>\n",
       "<tr><td>1590.8173648187512</td><td>9.8775107e-01</td><td>1.2975240e-04</td><td>0</td><td>1.150988e-04</td><td>360.87159</td><td>511.42612</td><td>72522</td><td>4.4038047e+04</td><td>5.7890558e+00</td><td>7.7175879e+02</td><td>1.9996102e-01</td><td>5.1430129e+04</td><td>6.7559361e+00</td><td>0</td><td>nan</td><td>nan</td><td>nan</td><td>nan</td><td>360.87159</td><td>1.1741885e-04</td><td>511.42612</td><td>1.1755811e-04</td><td>1.9700204e-03</td><td>-9.0937996e-03</td></tr>\n",
       "<tr><td>1590.8377993818285</td><td>9.8568368e-01</td><td>1.2965403e-04</td><td>0</td><td>1.159618e-04</td><td>360.87153</td><td>511.42608</td><td>72523</td><td>4.3946738e+04</td><td>5.7841482e+00</td><td>7.7133942e+02</td><td>2.0000254e-01</td><td>5.1322484e+04</td><td>6.7508135e+00</td><td>0</td><td>nan</td><td>nan</td><td>nan</td><td>nan</td><td>360.87153</td><td>1.1763538e-04</td><td>511.42608</td><td>1.1777034e-04</td><td>2.0115031e-03</td><td>-9.1011478e-03</td></tr>\n",
       "<tr><td>1590.8582337449625</td><td>9.8863339e-01</td><td>1.2977885e-04</td><td>0</td><td>1.168250e-04</td><td>360.87164</td><td>511.42612</td><td>72524</td><td>4.4077668e+04</td><td>5.7912183e+00</td><td>7.7160101e+02</td><td>1.9992216e-01</td><td>5.1476070e+04</td><td>6.7573133e+00</td><td>0</td><td>nan</td><td>nan</td><td>nan</td><td>nan</td><td>360.87164</td><td>1.1732816e-04</td><td>511.42612</td><td>1.1746966e-04</td><td>2.0676993e-03</td><td>-9.0512708e-03</td></tr>\n",
       "<tr><td>1590.8786682081845</td><td>9.9562961e-01</td><td>1.3022628e-04</td><td>0</td><td>1.176882e-04</td><td>360.87157</td><td>511.42595</td><td>72525</td><td>4.4387961e+04</td><td>5.8078947e+00</td><td>7.7193866e+02</td><td>1.9993702e-01</td><td>5.1840348e+04</td><td>6.7806096e+00</td><td>0</td><td>nan</td><td>nan</td><td>nan</td><td>nan</td><td>360.87157</td><td>1.1659921e-04</td><td>511.42595</td><td>1.1675887e-04</td><td>1.7905234e-03</td><td>-9.1673443e-03</td></tr>\n",
       "<tr><td>1590.8991027714947</td><td>9.9647319e-01</td><td>1.3022328e-04</td><td>0</td><td>1.185515e-04</td><td>360.87183</td><td>511.42591</td><td>72526</td><td>4.4425508e+04</td><td>5.8098631e+00</td><td>7.7180005e+02</td><td>1.9988808e-01</td><td>5.1884273e+04</td><td>6.7804537e+00</td><td>0</td><td>nan</td><td>nan</td><td>nan</td><td>nan</td><td>360.87183</td><td>1.1651473e-04</td><td>511.42591</td><td>1.1669579e-04</td><td>1.9729526e-03</td><td>-9.1039436e-03</td></tr>\n",
       "<tr><td>1590.919537134847</td><td>9.9614507e-01</td><td>1.3024718e-04</td><td>0</td><td>1.194148e-04</td><td>360.87189</td><td>511.42621</td><td>72527</td><td>4.4409531e+04</td><td>5.8089347e+00</td><td>7.7113428e+02</td><td>1.9986583e-01</td><td>5.1867188e+04</td><td>6.7816978e+00</td><td>0</td><td>nan</td><td>nan</td><td>nan</td><td>nan</td><td>360.87189</td><td>1.1653979e-04</td><td>511.42621</td><td>1.1670835e-04</td><td>2.1305254e-03</td><td>-9.0180673e-03</td></tr>\n",
       "<tr><td>1590.9399716983025</td><td>9.9601752e-01</td><td>1.3023720e-04</td><td>0</td><td>1.202783e-04</td><td>360.87163</td><td>511.42571</td><td>72528</td><td>4.4406000e+04</td><td>5.8088427e+00</td><td>7.7153552e+02</td><td>1.9990687e-01</td><td>5.1860547e+04</td><td>6.7811785e+00</td><td>0</td><td>nan</td><td>nan</td><td>nan</td><td>nan</td><td>360.87163</td><td>1.1656262e-04</td><td>511.42571</td><td>1.1672176e-04</td><td>1.9190097e-03</td><td>-9.1585610e-03</td></tr>\n",
       "<tr><td>1590.960406161823</td><td>9.9598616e-01</td><td>1.3021298e-04</td><td>0</td><td>1.211418e-04</td><td>360.87169</td><td>511.42618</td><td>72529</td><td>4.4403965e+04</td><td>5.8087268e+00</td><td>7.7094910e+02</td><td>1.9989756e-01</td><td>5.1858914e+04</td><td>6.7799177e+00</td><td>0</td><td>nan</td><td>nan</td><td>nan</td><td>nan</td><td>360.87169</td><td>1.1655236e-04</td><td>511.42618</td><td>1.1672395e-04</td><td>2.0425210e-03</td><td>-9.0647172e-03</td></tr>\n",
       "<tr><td>1590.980840525408</td><td>9.9547130e-01</td><td>1.2869807e-04</td><td>0</td><td>1.220054e-04</td><td>360.86978</td><td>511.42510</td><td>72530</td><td>4.4384004e+04</td><td>5.8092628e+00</td><td>7.7129425e+02</td><td>1.9984603e-01</td><td>5.1832105e+04</td><td>6.7010388e+00</td><td>0</td><td>nan</td><td>nan</td><td>nan</td><td>nan</td><td>360.86978</td><td>1.1665838e-04</td><td>511.42510</td><td>1.1676132e-04</td><td>4.2247248e-04</td><td>-9.7279036e-03</td></tr>\n",
       "<tr><td>1591.001275089082</td><td>9.9596119e-01</td><td>1.3008881e-04</td><td>0</td><td>1.228691e-04</td><td>360.87081</td><td>511.42580</td><td>72531</td><td>4.4395691e+04</td><td>5.8082414e+00</td><td>7.7085175e+02</td><td>1.9999026e-01</td><td>5.1857613e+04</td><td>6.7734523e+00</td><td>0</td><td>nan</td><td>nan</td><td>nan</td><td>nan</td><td>360.87081</td><td>1.1657966e-04</td><td>511.42580</td><td>1.1671169e-04</td><td>1.5317239e-03</td><td>-9.2468923e-03</td></tr>\n",
       "</table>"
      ],
      "text/plain": [
       "<KeplerLightCurve length=110406 LABEL=\"KIC 7449844\" QUARTER=17 AUTHOR=Kepler>\n",
       "       time             flux      ...   pos_corr1      pos_corr2   \n",
       "                                  ...      pix            pix      \n",
       "      object          float32     ...    float32        float32    \n",
       "------------------ -------------- ... -------------- --------------\n",
       "131.51226382373716  1.0061246e+00 ... -2.9109626e-03 -1.4209282e-02\n",
       "131.53269840010762  1.0067688e+00 ... -2.9087204e-03 -1.4233068e-02\n",
       " 131.5531328764846  1.0066149e+00 ... -2.7791162e-03 -1.4089028e-02\n",
       " 131.5735672526207  1.0070796e+00 ... -2.5506532e-03 -1.3908224e-02\n",
       "131.59400172888127  1.0077182e+00 ... -2.7189055e-03 -1.4636266e-02\n",
       "131.61443630502617  1.0082084e+00 ... -2.7469283e-03 -1.4556367e-02\n",
       "131.63487068105314  1.0081728e+00 ... -2.7854952e-03 -1.4465231e-02\n",
       " 131.6553051570736  1.0084233e+00 ... -2.9709986e-03 -1.4714237e-02\n",
       " 131.6757397331021  1.0087200e+00 ... -2.8304576e-03 -1.4628855e-02\n",
       "               ...            ... ...            ...            ...\n",
       "1590.8173648187512  9.8775107e-01 ...  1.9700204e-03 -9.0937996e-03\n",
       "1590.8377993818285  9.8568368e-01 ...  2.0115031e-03 -9.1011478e-03\n",
       "1590.8582337449625  9.8863339e-01 ...  2.0676993e-03 -9.0512708e-03\n",
       "1590.8786682081845  9.9562961e-01 ...  1.7905234e-03 -9.1673443e-03\n",
       "1590.8991027714947  9.9647319e-01 ...  1.9729526e-03 -9.1039436e-03\n",
       " 1590.919537134847  9.9614507e-01 ...  2.1305254e-03 -9.0180673e-03\n",
       "1590.9399716983025  9.9601752e-01 ...  1.9190097e-03 -9.1585610e-03\n",
       " 1590.960406161823  9.9598616e-01 ...  2.0425210e-03 -9.0647172e-03\n",
       " 1590.980840525408  9.9547130e-01 ...  4.2247248e-04 -9.7279036e-03\n",
       " 1591.001275089082  9.9596119e-01 ...  1.5317239e-03 -9.2468923e-03"
      ]
     },
     "execution_count": 32,
     "metadata": {},
     "output_type": "execute_result"
    }
   ],
   "source": [
    "lc = getData(id2)\n",
    "lc"
   ]
  },
  {
   "cell_type": "code",
   "execution_count": 33,
   "metadata": {},
   "outputs": [
    {
     "data": {
      "application/vnd.jupyter.widget-view+json": {
       "model_id": "e98144e699fd4a9aaaace50e0d023520",
       "version_major": 2,
       "version_minor": 0
      },
      "text/plain": [
       "Canvas(toolbar=Toolbar(toolitems=[('Home', 'Reset original view', 'home', 'home'), ('Back', 'Back to previous …"
      ]
     },
     "metadata": {},
     "output_type": "display_data"
    }
   ],
   "source": [
    "plotKeplerLightCurve(lc)\n",
    "plt.show()"
   ]
  },
  {
   "cell_type": "code",
   "execution_count": 34,
   "metadata": {},
   "outputs": [
    {
     "data": {
      "application/vnd.jupyter.widget-view+json": {
       "model_id": "1c64a8fe5da04052a20bdedfc407fbc5",
       "version_major": 2,
       "version_minor": 0
      },
      "text/plain": [
       "Canvas(toolbar=Toolbar(toolitems=[('Home', 'Reset original view', 'home', 'home'), ('Back', 'Back to previous …"
      ]
     },
     "metadata": {},
     "output_type": "display_data"
    }
   ],
   "source": [
    "plotKeplerSAPLightCurve(lc)\n",
    "plt.show()"
   ]
  },
  {
   "cell_type": "code",
   "execution_count": 35,
   "metadata": {},
   "outputs": [
    {
     "data": {
      "application/vnd.jupyter.widget-view+json": {
       "model_id": "dc412c5f71144ce6b8f4f019651efd4c",
       "version_major": 2,
       "version_minor": 0
      },
      "text/plain": [
       "Canvas(toolbar=Toolbar(toolitems=[('Home', 'Reset original view', 'home', 'home'), ('Back', 'Back to previous …"
      ]
     },
     "metadata": {},
     "output_type": "display_data"
    }
   ],
   "source": [
    "plotKeplerPDCSAPLightCurve(lc)\n",
    "plt.show()"
   ]
  },
  {
   "cell_type": "code",
   "execution_count": 36,
   "metadata": {},
   "outputs": [
    {
     "data": {
      "text/plain": [
       "array([ 131.51226382,  131.5326984 ,  131.55313288, ..., 1590.96040616,\n",
       "       1590.98084053, 1591.00127509])"
      ]
     },
     "execution_count": 36,
     "metadata": {},
     "output_type": "execute_result"
    }
   ],
   "source": [
    "time = np.array(list(map(lambda time: time.value, list(lc.time))))\n",
    "time"
   ]
  },
  {
   "cell_type": "code",
   "execution_count": 41,
   "metadata": {},
   "outputs": [
    {
     "data": {
      "text/plain": [
       "array([1.0061246 , 1.0067688 , 1.0066149 , ..., 0.99598616, 0.9954713 ,\n",
       "       0.9959612 ], dtype=float32)"
      ]
     },
     "execution_count": 41,
     "metadata": {},
     "output_type": "execute_result"
    }
   ],
   "source": [
    "flux = np.array(list(map(lambda flux: flux.value, list(lc.flux))))\n",
    "flux"
   ]
  },
  {
   "cell_type": "code",
   "execution_count": 42,
   "metadata": {},
   "outputs": [
    {
     "ename": "ValueError",
     "evalue": "Error on input data",
     "output_type": "error",
     "traceback": [
      "\u001b[1;31m---------------------------------------------------------------------------\u001b[0m",
      "\u001b[1;31mValueError\u001b[0m                                Traceback (most recent call last)",
      "\u001b[1;32m<ipython-input-42-d0b1f8d85edd>\u001b[0m in \u001b[0;36m<module>\u001b[1;34m\u001b[0m\n\u001b[1;32m----> 1\u001b[1;33m \u001b[0mevaluateAndProcessData\u001b[0m\u001b[1;33m(\u001b[0m\u001b[0mtime\u001b[0m\u001b[1;33m,\u001b[0m \u001b[0mflux\u001b[0m\u001b[1;33m)\u001b[0m\u001b[1;33m\u001b[0m\u001b[1;33m\u001b[0m\u001b[0m\n\u001b[0m",
      "\u001b[1;32m<ipython-input-29-0a7049ba17a9>\u001b[0m in \u001b[0;36mevaluateAndProcessData\u001b[1;34m(x, y)\u001b[0m\n\u001b[0;32m      1\u001b[0m \u001b[1;32mdef\u001b[0m \u001b[0mevaluateAndProcessData\u001b[0m\u001b[1;33m(\u001b[0m\u001b[0mx\u001b[0m\u001b[1;33m,\u001b[0m \u001b[0my\u001b[0m\u001b[1;33m)\u001b[0m\u001b[1;33m:\u001b[0m\u001b[1;33m\u001b[0m\u001b[1;33m\u001b[0m\u001b[0m\n\u001b[1;32m----> 2\u001b[1;33m     \u001b[0mt\u001b[0m\u001b[1;33m,\u001b[0m \u001b[0mc\u001b[0m\u001b[1;33m,\u001b[0m \u001b[0mk\u001b[0m \u001b[1;33m=\u001b[0m \u001b[0minterpolate\u001b[0m\u001b[1;33m.\u001b[0m\u001b[0msplrep\u001b[0m\u001b[1;33m(\u001b[0m\u001b[0mx\u001b[0m\u001b[1;33m,\u001b[0m \u001b[0my\u001b[0m\u001b[1;33m,\u001b[0m \u001b[0ms\u001b[0m\u001b[1;33m=\u001b[0m\u001b[1;36m0\u001b[0m\u001b[1;33m,\u001b[0m \u001b[0mk\u001b[0m\u001b[1;33m=\u001b[0m\u001b[1;36m4\u001b[0m\u001b[1;33m)\u001b[0m\u001b[1;33m\u001b[0m\u001b[1;33m\u001b[0m\u001b[0m\n\u001b[0m\u001b[0;32m      3\u001b[0m     \u001b[0mxx\u001b[0m \u001b[1;33m=\u001b[0m \u001b[0mnp\u001b[0m\u001b[1;33m.\u001b[0m\u001b[0mlinspace\u001b[0m\u001b[1;33m(\u001b[0m\u001b[0mx\u001b[0m\u001b[1;33m.\u001b[0m\u001b[0mmin\u001b[0m\u001b[1;33m(\u001b[0m\u001b[1;33m)\u001b[0m\u001b[1;33m,\u001b[0m \u001b[0mx\u001b[0m\u001b[1;33m.\u001b[0m\u001b[0mmax\u001b[0m\u001b[1;33m(\u001b[0m\u001b[1;33m)\u001b[0m\u001b[1;33m,\u001b[0m \u001b[1;36m100\u001b[0m\u001b[1;33m)\u001b[0m\u001b[1;33m\u001b[0m\u001b[1;33m\u001b[0m\u001b[0m\n\u001b[0;32m      4\u001b[0m     \u001b[0mspline\u001b[0m \u001b[1;33m=\u001b[0m \u001b[0minterpolate\u001b[0m\u001b[1;33m.\u001b[0m\u001b[0mBSpline\u001b[0m\u001b[1;33m(\u001b[0m\u001b[0mt\u001b[0m\u001b[1;33m,\u001b[0m \u001b[0mc\u001b[0m\u001b[1;33m,\u001b[0m \u001b[0mk\u001b[0m\u001b[1;33m,\u001b[0m \u001b[0mextrapolate\u001b[0m\u001b[1;33m=\u001b[0m\u001b[1;32mFalse\u001b[0m\u001b[1;33m)\u001b[0m\u001b[1;33m\u001b[0m\u001b[1;33m\u001b[0m\u001b[0m\n\u001b[0;32m      5\u001b[0m \u001b[1;33m\u001b[0m\u001b[0m\n",
      "\u001b[1;32mc:\\users\\prannaya\\appdata\\local\\programs\\python\\python37\\lib\\site-packages\\scipy\\interpolate\\fitpack.py\u001b[0m in \u001b[0;36msplrep\u001b[1;34m(x, y, w, xb, xe, k, task, s, t, full_output, per, quiet)\u001b[0m\n\u001b[0;32m    287\u001b[0m \u001b[1;33m\u001b[0m\u001b[0m\n\u001b[0;32m    288\u001b[0m     \"\"\"\n\u001b[1;32m--> 289\u001b[1;33m     \u001b[0mres\u001b[0m \u001b[1;33m=\u001b[0m \u001b[0m_impl\u001b[0m\u001b[1;33m.\u001b[0m\u001b[0msplrep\u001b[0m\u001b[1;33m(\u001b[0m\u001b[0mx\u001b[0m\u001b[1;33m,\u001b[0m \u001b[0my\u001b[0m\u001b[1;33m,\u001b[0m \u001b[0mw\u001b[0m\u001b[1;33m,\u001b[0m \u001b[0mxb\u001b[0m\u001b[1;33m,\u001b[0m \u001b[0mxe\u001b[0m\u001b[1;33m,\u001b[0m \u001b[0mk\u001b[0m\u001b[1;33m,\u001b[0m \u001b[0mtask\u001b[0m\u001b[1;33m,\u001b[0m \u001b[0ms\u001b[0m\u001b[1;33m,\u001b[0m \u001b[0mt\u001b[0m\u001b[1;33m,\u001b[0m \u001b[0mfull_output\u001b[0m\u001b[1;33m,\u001b[0m \u001b[0mper\u001b[0m\u001b[1;33m,\u001b[0m \u001b[0mquiet\u001b[0m\u001b[1;33m)\u001b[0m\u001b[1;33m\u001b[0m\u001b[1;33m\u001b[0m\u001b[0m\n\u001b[0m\u001b[0;32m    290\u001b[0m     \u001b[1;32mreturn\u001b[0m \u001b[0mres\u001b[0m\u001b[1;33m\u001b[0m\u001b[1;33m\u001b[0m\u001b[0m\n\u001b[0;32m    291\u001b[0m \u001b[1;33m\u001b[0m\u001b[0m\n",
      "\u001b[1;32mc:\\users\\prannaya\\appdata\\local\\programs\\python\\python37\\lib\\site-packages\\scipy\\interpolate\\_fitpack_impl.py\u001b[0m in \u001b[0;36msplrep\u001b[1;34m(x, y, w, xb, xe, k, task, s, t, full_output, per, quiet)\u001b[0m\n\u001b[0;32m    513\u001b[0m         \u001b[1;32melse\u001b[0m\u001b[1;33m:\u001b[0m\u001b[1;33m\u001b[0m\u001b[1;33m\u001b[0m\u001b[0m\n\u001b[0;32m    514\u001b[0m             \u001b[1;32mtry\u001b[0m\u001b[1;33m:\u001b[0m\u001b[1;33m\u001b[0m\u001b[1;33m\u001b[0m\u001b[0m\n\u001b[1;32m--> 515\u001b[1;33m                 \u001b[1;32mraise\u001b[0m \u001b[0m_iermess\u001b[0m\u001b[1;33m[\u001b[0m\u001b[0mier\u001b[0m\u001b[1;33m]\u001b[0m\u001b[1;33m[\u001b[0m\u001b[1;36m1\u001b[0m\u001b[1;33m]\u001b[0m\u001b[1;33m(\u001b[0m\u001b[0m_iermess\u001b[0m\u001b[1;33m[\u001b[0m\u001b[0mier\u001b[0m\u001b[1;33m]\u001b[0m\u001b[1;33m[\u001b[0m\u001b[1;36m0\u001b[0m\u001b[1;33m]\u001b[0m\u001b[1;33m)\u001b[0m\u001b[1;33m\u001b[0m\u001b[1;33m\u001b[0m\u001b[0m\n\u001b[0m\u001b[0;32m    516\u001b[0m             \u001b[1;32mexcept\u001b[0m \u001b[0mKeyError\u001b[0m\u001b[1;33m:\u001b[0m\u001b[1;33m\u001b[0m\u001b[1;33m\u001b[0m\u001b[0m\n\u001b[0;32m    517\u001b[0m                 \u001b[1;32mraise\u001b[0m \u001b[0m_iermess\u001b[0m\u001b[1;33m[\u001b[0m\u001b[1;34m'unknown'\u001b[0m\u001b[1;33m]\u001b[0m\u001b[1;33m[\u001b[0m\u001b[1;36m1\u001b[0m\u001b[1;33m]\u001b[0m\u001b[1;33m(\u001b[0m\u001b[0m_iermess\u001b[0m\u001b[1;33m[\u001b[0m\u001b[1;34m'unknown'\u001b[0m\u001b[1;33m]\u001b[0m\u001b[1;33m[\u001b[0m\u001b[1;36m0\u001b[0m\u001b[1;33m]\u001b[0m\u001b[1;33m)\u001b[0m\u001b[1;33m\u001b[0m\u001b[1;33m\u001b[0m\u001b[0m\n",
      "\u001b[1;31mValueError\u001b[0m: Error on input data"
     ]
    }
   ],
   "source": [
    "evaluateAndProcessData(time, flux)"
   ]
  }
 ],
 "metadata": {
  "kernelspec": {
   "display_name": "Python 3",
   "language": "python",
   "name": "python3"
  },
  "language_info": {
   "codemirror_mode": {
    "name": "ipython",
    "version": 3
   },
   "file_extension": ".py",
   "mimetype": "text/x-python",
   "name": "python",
   "nbconvert_exporter": "python",
   "pygments_lexer": "ipython3",
   "version": "3.7.2"
  }
 },
 "nbformat": 4,
 "nbformat_minor": 4
}
