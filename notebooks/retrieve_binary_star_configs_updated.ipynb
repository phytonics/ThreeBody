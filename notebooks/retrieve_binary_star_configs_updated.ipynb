{
 "cells": [
  {
   "cell_type": "code",
   "execution_count": 1,
   "metadata": {},
   "outputs": [],
   "source": [
    "%load_ext autoreload\n",
    "%autoreload 2\n",
    "# to ensure kernel resets when files change around it"
   ]
  },
  {
   "cell_type": "code",
   "execution_count": 2,
   "metadata": {},
   "outputs": [],
   "source": [
    "import lightkurve as lk\n",
    "import pandas as pd # main library for data analysis\n",
    "\n",
    "import warnings\n",
    "warnings.filterwarnings('ignore') # literally to ignore all the warnings that don't matter"
   ]
  },
  {
   "cell_type": "code",
   "execution_count": 3,
   "metadata": {},
   "outputs": [],
   "source": [
    "#Gets all the ids\n",
    "\n",
    "df = pd.read_csv(\"../data/binarystars.csv\")\n",
    "ids = df.KIC"
   ]
  },
  {
   "cell_type": "code",
   "execution_count": 4,
   "metadata": {},
   "outputs": [],
   "source": [
    "# Retrieving all the important details version 2, so it works for all\n",
    "def getData(id):\n",
    "    try:\n",
    "        lc = lk.search_lightcurve(f\"KIC {id}\", mission=\"Kepler\")[2:].download_all().stitch().remove_outliers().flatten()\n",
    "        bls = lc.to_periodogram(\"bls\")\n",
    "        print(id, bls.period_at_max_power, bls.duration_at_max_power, bls.depth_at_max_power, sep=\",\")\n",
    "        return pd.Series([bls.period_at_max_power, bls.duration_at_max_power, bls.depth_at_max_power], \n",
    "                         index=[\"period\", \"duration\", \"depth\"])\n",
    "    except Exception as e:\n",
    "        print(id, e)\n",
    "        return pd.Series([None, None, None], index=[\"period\", \"duration\", \"depth\"])"
   ]
  },
  {
   "cell_type": "code",
   "execution_count": null,
   "metadata": {},
   "outputs": [
    {
     "name": "stdout",
     "output_type": "stream",
     "text": [
      "3863594 `period` contains 11519538 points.Periodogram is too large to evaluate. Consider setting `frequency_factor` to a higher value.\n",
      "10417986 `period` contains 12212179 points.Periodogram is too large to evaluate. Consider setting `frequency_factor` to a higher value.\n",
      "8912468 `period` contains 11519540 points.Periodogram is too large to evaluate. Consider setting `frequency_factor` to a higher value.\n",
      "8758716 `period` contains 11519543 points.Periodogram is too large to evaluate. Consider setting `frequency_factor` to a higher value.\n",
      "10855535 `period` contains 10098996 points.Periodogram is too large to evaluate. Consider setting `frequency_factor` to a higher value.\n",
      "9472174 Not recognized as a supported data product:\n",
      "C:\\Users\\Prannaya\\.lightkurve-cache\\mastDownload\\Kepler\\kplr009472174_lc_Q111111111111111111\\kplr009472174-2009166043257_llc.fits\n",
      "This file may be corrupt due to an interrupted download. Please remove it from your disk and try again.\n",
      "9612468 `period` contains 11519542 points.Periodogram is too large to evaluate. Consider setting `frequency_factor` to a higher value.\n",
      "6613627 `period` contains 11519540 points.Periodogram is too large to evaluate. Consider setting `frequency_factor` to a higher value.\n",
      "5302006 `period` contains 10098975 points.Periodogram is too large to evaluate. Consider setting `frequency_factor` to a higher value.\n",
      "9898401 `period` contains 10098985 points.Periodogram is too large to evaluate. Consider setting `frequency_factor` to a higher value.\n"
     ]
    }
   ],
   "source": [
    "ids.apply(getData).dropna().to_csv(\"..data/dataRetrieved.csv\")\n",
    "print(\"Done\")"
   ]
  }
 ],
 "metadata": {
  "interpreter": {
   "hash": "4141817a3220a511d0e1190d2d221bdc61c43b8cb7bbdb4b77cea7b78108a975"
  },
  "kernelspec": {
   "display_name": "Python 3",
   "language": "python",
   "name": "python3"
  },
  "language_info": {
   "codemirror_mode": {
    "name": "ipython",
    "version": 3
   },
   "file_extension": ".py",
   "mimetype": "text/x-python",
   "name": "python",
   "nbconvert_exporter": "python",
   "pygments_lexer": "ipython3",
   "version": "3.7.2"
  },
  "varInspector": {
   "cols": {
    "lenName": 16,
    "lenType": 16,
    "lenVar": 40
   },
   "kernels_config": {
    "python": {
     "delete_cmd_postfix": "",
     "delete_cmd_prefix": "del ",
     "library": "var_list.py",
     "varRefreshCmd": "print(var_dic_list())"
    },
    "r": {
     "delete_cmd_postfix": ") ",
     "delete_cmd_prefix": "rm(",
     "library": "var_list.r",
     "varRefreshCmd": "cat(var_dic_list()) "
    }
   },
   "types_to_exclude": [
    "module",
    "function",
    "builtin_function_or_method",
    "instance",
    "_Feature"
   ],
   "window_display": false
  }
 },
 "nbformat": 4,
 "nbformat_minor": 2
}
