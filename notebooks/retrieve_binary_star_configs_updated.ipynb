{
 "cells": [
  {
   "cell_type": "code",
   "execution_count": 1,
   "metadata": {},
   "outputs": [],
   "source": [
    "%load_ext autoreload\n",
    "%autoreload 2\n",
    "# to ensure kernel resets when files change around it"
   ]
  },
  {
   "cell_type": "code",
   "execution_count": 2,
   "metadata": {},
   "outputs": [],
   "source": [
    "import lightkurve as lk\n",
    "import pandas as pd # main library for data analysis\n",
    "\n",
    "import warnings\n",
    "warnings.filterwarnings('ignore') # literally to ignore all the warnings that don't matter"
   ]
  },
  {
   "cell_type": "code",
   "execution_count": 3,
   "metadata": {},
   "outputs": [],
   "source": [
    "#Gets all the ids\n",
    "\n",
    "df = pd.read_csv(\"../data/binarystars.csv\")\n",
    "ids = list(df.KIC)"
   ]
  },
  {
   "cell_type": "code",
   "execution_count": 4,
   "metadata": {},
   "outputs": [],
   "source": [
    "# Retrieving all the important details version 2, so it works for all\n",
    "def getData(id):\n",
    "    try:\n",
    "        lc = lk.search_lightcurve(f\"KIC {id}\", author=\"Kepler\")[0].download_all().stitch().remove_outliers().flatten()\n",
    "        bls = lc.to_periodogram(\"bls\")\n",
    "        return f\"{id},{bls.period_at_max_power},{bls.duration_at_max_power},{bls.depth_at_max_power}\\n\"\n",
    "    except:\n",
    "        return \"\""
   ]
  },
  {
   "cell_type": "code",
   "execution_count": null,
   "metadata": {},
   "outputs": [
    {
     "name": "stdout",
     "output_type": "stream",
     "text": [
      "3863594,0.35505686100624406 d,0.33 d,0.0015972479636609336\n",
      "10417986,0.3675223445256203 d,0.33 d,7.720736461351082e-05\n",
      "8912468,0.35911692017014907 d,0.33 d,0.0006275063632539374\n",
      "8758716,0.3748333532106521 d,0.33 d,0.00414288388830759\n",
      "10855535,0.3524738939424174 d,0.33 d,0.003043451433670437\n",
      "9472174,0.3353705233365813 d,0.33 d,0.004390439752497489\n",
      "9612468,0.35306092405176287 d,0.33 d,0.00016307646651894973\n",
      "6613627,0.3778397248484355 d,0.33 d,0.0018118913017305502\n",
      "5302006,0.37804545925306077 d,0.33 d,0.0008494595015134867\n",
      "9898401,0.3818468743823387 d,0.33 d,0.0006442839357439767\n",
      "7375612,0.35775327269675467 d,0.33 d,0.0027585097874880463\n",
      "5872696,0.43148330042170635 d,0.05 d,0.0021028382693491377\n",
      "7767774,0.37483326273466255 d,0.33 d,0.0006122256382287132\n",
      "12350008,0.3693223024120704 d,0.33 d,0.0005911557913805457\n",
      "10684673,0.3847842450893614 d,0.33 d,0.004204232603907484\n",
      "9532219,0.3963029974117737 d,0.33 d,0.019560562544622174\n",
      "6699679,0.4020241083162226 d,0.33 d,0.0012032985353989342\n",
      "6287172,0.4081193552961656 d,0.33 d,0.0007438489138592789\n",
      "11825204,0.35908288619613266 d,0.33 d,0.004497711499156\n",
      "4921906,0.42752809169882383 d,0.05 d,0.009030398888164863\n",
      "6387887,0.4338135247488449 d,0.33 d,0.08631903514519602\n",
      "8288741,0.43926317182632 d,0.25 d,0.00015803142768738482\n",
      "12055255,0.4418630399709615 d,0.05 d,0.03782894039001057\n",
      "11013201,0.35775317956531466 d,0.33 d,8.026632854306429e-05\n",
      "8108785,0.45765397795637164 d,0.05 d,0.1075080660162631\n",
      "1572353,0.4578402865096018 d,0.05 d,0.04789634626714514\n",
      "10288502,0.46028700590679356 d,0.05 d,0.007565108368218801\n",
      "10453521,0.44844719958463836 d,0.05 d,0.00041566342437979995\n",
      "9238207,0.4627396786031953 d,0.05 d,0.04998892424464586\n",
      "5166136,0.35087328048887484 d,0.33 d,0.006615465535613177\n",
      "8555795,0.35169941168655344 d,0.33 d,0.0008945421485678403\n",
      "6144827,0.3519205287153292 d,0.33 d,0.012211031173784762\n",
      "10030943,0.35505674801176 d,0.33 d,0.003152001136085802\n",
      "10965091,0.353753770097251 d,0.33 d,0.15638972506294896\n",
      "2715417,0.35448152313735265 d,0.33 d,0.033390223475673206\n",
      "11413213,0.35627743760774017 d,0.33 d,0.08411944550600384\n",
      "9077796,0.35753581626099545 d,0.33 d,0.014166930333803554\n",
      "6050116,0.3600059854042395 d,0.33 d,0.18013678596193516\n",
      "12458797,0.3620191686021708 d,0.33 d,0.04883506308997475\n",
      "6350020,0.3626865167822613 d,0.33 d,0.003588042720151636\n",
      "7198474,0.3633923446373343 d,0.33 d,0.0014679424598876825\n",
      "7546791,0.36374628204292425 d,0.33 d,0.025188454898575366\n",
      "7871200,0.36538432300487794 d,0.33 d,0.16581885900046034\n",
      "7959612,0.36488557149482276 d,0.33 d,0.13004441470370381\n",
      "3972629,0.36636309004148715 d,0.33 d,0.10246864153053027\n",
      "9345163,0.3678065254025266 d,0.33 d,0.20089076521518312\n",
      "8816790,0.36847186344617233 d,0.33 d,0.00015849067733033717\n",
      "12216817,0.37041238589400477 d,0.33 d,0.018875599323619197\n",
      "11494583,0.3725151978896051 d,0.33 d,0.06161539566740145\n",
      "4738426,0.37294890606024644 d,0.33 d,0.005209083555039487\n",
      "8122124,0.37413197771123696 d,0.33 d,0.010313042489946241\n",
      "9032671,0.3755804819500553 d,0.33 d,0.003324322255297163\n",
      "5960283,0.3744446540962771 d,0.33 d,0.012261693073175832\n",
      "9412114,0.37538955466395363 d,0.33 d,0.01211995540987394\n",
      "9004380,0.37544884145092644 d,0.33 d,0.009133128390923551\n"
     ]
    }
   ],
   "source": [
    "with open(\"../data/dataRetrieved.csv\", \"w+\") as file:\n",
    "    file.write(\"id,period,duration,depth\\n\")\n",
    "\n",
    "for id in ids:\n",
    "    with open(\"../data/dataRetrieved.csv\", \"a\") as file:\n",
    "        data = getData(id)\n",
    "        print(data, end=\"\")\n",
    "        file.write(data)\n",
    "\n",
    "print(\"Done\")"
   ]
  }
 ],
 "metadata": {
  "interpreter": {
   "hash": "4141817a3220a511d0e1190d2d221bdc61c43b8cb7bbdb4b77cea7b78108a975"
  },
  "kernelspec": {
   "display_name": "Python 3",
   "language": "python",
   "name": "python3"
  },
  "language_info": {
   "codemirror_mode": {
    "name": "ipython",
    "version": 3
   },
   "file_extension": ".py",
   "mimetype": "text/x-python",
   "name": "python",
   "nbconvert_exporter": "python",
   "pygments_lexer": "ipython3",
   "version": "3.7.2"
  },
  "varInspector": {
   "cols": {
    "lenName": 16,
    "lenType": 16,
    "lenVar": 40
   },
   "kernels_config": {
    "python": {
     "delete_cmd_postfix": "",
     "delete_cmd_prefix": "del ",
     "library": "var_list.py",
     "varRefreshCmd": "print(var_dic_list())"
    },
    "r": {
     "delete_cmd_postfix": ") ",
     "delete_cmd_prefix": "rm(",
     "library": "var_list.r",
     "varRefreshCmd": "cat(var_dic_list()) "
    }
   },
   "types_to_exclude": [
    "module",
    "function",
    "builtin_function_or_method",
    "instance",
    "_Feature"
   ],
   "window_display": false
  }
 },
 "nbformat": 4,
 "nbformat_minor": 2
}
